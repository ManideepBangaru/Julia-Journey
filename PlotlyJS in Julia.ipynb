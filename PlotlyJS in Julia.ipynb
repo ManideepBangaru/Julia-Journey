{
 "cells": [
  {
   "cell_type": "markdown",
   "metadata": {},
   "source": [
    "## API overview\n",
    "\n",
    "The PlotlyJS.jl API has two main layers:\n",
    "* Faithful plotly.js layer : makes it possible to do anything plotly.js can\n",
    "* Convenience, \"Julian\" layer : WIP attempt to make some things more natural in Julia"
   ]
  },
  {
   "cell_type": "code",
   "execution_count": 1,
   "metadata": {},
   "outputs": [
    {
     "data": {
      "text/html": [
       "    <script class='js-collapse-script'>\n",
       "        var curMatch =\n",
       "            window.location.href\n",
       "            .match(/(.*?)\\/notebooks\\/.*\\.ipynb/);\n",
       "\n",
       "        curMatch = curMatch ||\n",
       "            window.location.href\n",
       "            .match(/(.*?)\\/apps\\/.*\\.ipynb/);\n",
       "\n",
       "        if ( curMatch ) {\n",
       "            $('head').append('<base href=\"' + curMatch[1] + '/\">');\n",
       "        }\n",
       "    </script>\n"
      ],
      "text/plain": [
       "HTML{String}(\"    <script class='js-collapse-script'>\\n        var curMatch =\\n            window.location.href\\n            .match(/(.*?)\\\\/notebooks\\\\/.*\\\\.ipynb/);\\n\\n        curMatch = curMatch ||\\n            window.location.href\\n            .match(/(.*?)\\\\/apps\\\\/.*\\\\.ipynb/);\\n\\n        if ( curMatch ) {\\n            \\$('head').append('<base href=\\\"' + curMatch[1] + '/\\\">');\\n        }\\n    </script>\\n\")"
      ]
     },
     "metadata": {},
     "output_type": "display_data"
    },
    {
     "data": {
      "text/html": [
       "<script class='js-collapse-script' src='/assetserver/e00d84a8e984edaaba41ff3836097fe220c10ab1-assets/webio/dist/bundle.js'></script>"
      ],
      "text/plain": [
       "HTML{String}(\"<script class='js-collapse-script' src='/assetserver/e00d84a8e984edaaba41ff3836097fe220c10ab1-assets/webio/dist/bundle.js'></script>\")"
      ]
     },
     "metadata": {},
     "output_type": "display_data"
    },
    {
     "data": {
      "text/html": [
       "<script class='js-collapse-script' src='/assetserver/e00d84a8e984edaaba41ff3836097fe220c10ab1-assets/providers/ijulia_setup.js'></script>"
      ],
      "text/plain": [
       "HTML{String}(\"<script class='js-collapse-script' src='/assetserver/e00d84a8e984edaaba41ff3836097fe220c10ab1-assets/providers/ijulia_setup.js'></script>\")"
      ]
     },
     "metadata": {},
     "output_type": "display_data"
    },
    {
     "data": {
      "text/html": [
       "  <script class='js-collapse-script'>\n",
       "    $('.js-collapse-script').parent('.output_subarea').css('padding', '0');\n",
       "  </script>\n"
      ],
      "text/plain": [
       "HTML{String}(\"  <script class='js-collapse-script'>\\n    \\$('.js-collapse-script').parent('.output_subarea').css('padding', '0');\\n  </script>\\n\")"
      ]
     },
     "metadata": {},
     "output_type": "display_data"
    }
   ],
   "source": [
    "using PlotlyJS"
   ]
  },
  {
   "cell_type": "code",
   "execution_count": 3,
   "metadata": {},
   "outputs": [
    {
     "data": {
      "application/vnd.plotly.v1+json": {
       "data": [
        {
         "marker": {
          "symbol": "square"
         },
         "type": "scatter",
         "y": [
          1,
          4,
          9
         ]
        }
       ],
       "layout": {
        "margin": {
         "b": 50,
         "l": 50,
         "r": 50,
         "t": 60
        },
        "title": "x2"
       }
      },
      "text/html": [
       "<div class='display:none'></div><unsafe-script style='display:none'>\n",
       "WebIO.mount(this.previousSibling,{&quot;props&quot;:{},&quot;nodeType&quot;:&quot;Scope&quot;,&quot;type&quot;:&quot;node&quot;,&quot;instanceArgs&quot;:{&quot;imports&quot;:{&quot;data&quot;:[{&quot;name&quot;:&quot;Plotly&quot;,&quot;type&quot;:&quot;js&quot;,&quot;url&quot;:&quot;/assetserver/5311f9888b884b50e52f4a90fad64eb841288be8-plotly-latest.min.js&quot;},{&quot;name&quot;:null,&quot;type&quot;:&quot;js&quot;,&quot;url&quot;:&quot;/assetserver/5c351a91169f2a19a186af98699dd36a27fe8939-plotly_webio.bundle.js&quot;}],&quot;type&quot;:&quot;async_block&quot;},&quot;id&quot;:&quot;scope-3e5f3b15-5139-457e-a97e-78064fa3f673&quot;,&quot;handlers&quot;:{&quot;_toImage&quot;:[(function (options){return this.Plotly.toImage(this.plotElem,options).then((function (data){return WebIO.setval({&quot;name&quot;:&quot;image&quot;,&quot;scope&quot;:&quot;scope-3e5f3b15-5139-457e-a97e-78064fa3f673&quot;,&quot;id&quot;:&quot;ob_15&quot;,&quot;type&quot;:&quot;observable&quot;},data)}))})],&quot;__get_gd_contents&quot;:[(function (prop){prop==&quot;data&quot; ? (WebIO.setval({&quot;name&quot;:&quot;__gd_contents&quot;,&quot;scope&quot;:&quot;scope-3e5f3b15-5139-457e-a97e-78064fa3f673&quot;,&quot;id&quot;:&quot;ob_16&quot;,&quot;type&quot;:&quot;observable&quot;},this.plotElem.data)) : undefined; return prop==&quot;layout&quot; ? (WebIO.setval({&quot;name&quot;:&quot;__gd_contents&quot;,&quot;scope&quot;:&quot;scope-3e5f3b15-5139-457e-a97e-78064fa3f673&quot;,&quot;id&quot;:&quot;ob_16&quot;,&quot;type&quot;:&quot;observable&quot;},this.plotElem.layout)) : undefined})],&quot;_promises&quot;:{&quot;importsLoaded&quot;:[(function (Plotly){var gd=this.dom.querySelector(&quot;#plot-fb30a564-9745-431b-bcc5-87ec7cfb7465&quot;); this.plotElem=gd; this.Plotly=Plotly; (window.Blink!==undefined) ? (gd.style.width=&quot;100%&quot;, gd.style.height=&quot;100vh&quot;, gd.style.marginLeft=&quot;0%&quot;, gd.style.marginTop=&quot;0vh&quot;) : undefined; window.onresize=(function (){return Plotly.Plots.resize(gd)}); Plotly.newPlot(gd,[{&quot;y&quot;:[1.0,4.0,9.0],&quot;type&quot;:&quot;scatter&quot;,&quot;marker&quot;:{&quot;symbol&quot;:&quot;square&quot;}}],{&quot;margin&quot;:{&quot;l&quot;:50,&quot;b&quot;:50,&quot;r&quot;:50,&quot;t&quot;:60},&quot;title&quot;:&quot;x2&quot;},{}); gd.on(&quot;plotly_hover&quot;,(function (data){var filtered_data=WebIO.PlotlyCommands.filterEventData(gd,data,&quot;hover&quot;); return !(filtered_data.isnil) ? (WebIO.setval({&quot;name&quot;:&quot;hover&quot;,&quot;scope&quot;:&quot;scope-3e5f3b15-5139-457e-a97e-78064fa3f673&quot;,&quot;id&quot;:&quot;ob_11&quot;,&quot;type&quot;:&quot;observable&quot;},filtered_data.out)) : undefined})); gd.on(&quot;plotly_unhover&quot;,(function (){return WebIO.setval({&quot;name&quot;:&quot;hover&quot;,&quot;scope&quot;:&quot;scope-3e5f3b15-5139-457e-a97e-78064fa3f673&quot;,&quot;id&quot;:&quot;ob_11&quot;,&quot;type&quot;:&quot;observable&quot;},{})})); gd.on(&quot;plotly_selected&quot;,(function (data){var filtered_data=WebIO.PlotlyCommands.filterEventData(gd,data,&quot;selected&quot;); return !(filtered_data.isnil) ? (WebIO.setval({&quot;name&quot;:&quot;selected&quot;,&quot;scope&quot;:&quot;scope-3e5f3b15-5139-457e-a97e-78064fa3f673&quot;,&quot;id&quot;:&quot;ob_12&quot;,&quot;type&quot;:&quot;observable&quot;},filtered_data.out)) : undefined})); gd.on(&quot;plotly_deselect&quot;,(function (){return WebIO.setval({&quot;name&quot;:&quot;selected&quot;,&quot;scope&quot;:&quot;scope-3e5f3b15-5139-457e-a97e-78064fa3f673&quot;,&quot;id&quot;:&quot;ob_12&quot;,&quot;type&quot;:&quot;observable&quot;},{})})); gd.on(&quot;plotly_relayout&quot;,(function (data){var filtered_data=WebIO.PlotlyCommands.filterEventData(gd,data,&quot;relayout&quot;); return !(filtered_data.isnil) ? (WebIO.setval({&quot;name&quot;:&quot;relayout&quot;,&quot;scope&quot;:&quot;scope-3e5f3b15-5139-457e-a97e-78064fa3f673&quot;,&quot;id&quot;:&quot;ob_14&quot;,&quot;type&quot;:&quot;observable&quot;},filtered_data.out)) : undefined})); return gd.on(&quot;plotly_click&quot;,(function (data){var filtered_data=WebIO.PlotlyCommands.filterEventData(gd,data,&quot;click&quot;); return !(filtered_data.isnil) ? (WebIO.setval({&quot;name&quot;:&quot;click&quot;,&quot;scope&quot;:&quot;scope-3e5f3b15-5139-457e-a97e-78064fa3f673&quot;,&quot;id&quot;:&quot;ob_13&quot;,&quot;type&quot;:&quot;observable&quot;},filtered_data.out)) : undefined}))})]},&quot;_downloadImage&quot;:[(function (options){return this.Plotly.downloadImage(this.plotElem,options)})],&quot;_commands&quot;:[(function (args){var fn=args.shift(); var elem=this.plotElem; var Plotly=this.Plotly; args.unshift(elem); return Plotly[fn].apply(this,args)})]},&quot;systemjs_options&quot;:null,&quot;observables&quot;:{&quot;_toImage&quot;:{&quot;sync&quot;:false,&quot;id&quot;:&quot;ob_18&quot;,&quot;value&quot;:{}},&quot;hover&quot;:{&quot;sync&quot;:false,&quot;id&quot;:&quot;ob_11&quot;,&quot;value&quot;:{}},&quot;selected&quot;:{&quot;sync&quot;:false,&quot;id&quot;:&quot;ob_12&quot;,&quot;value&quot;:{}},&quot;__gd_contents&quot;:{&quot;sync&quot;:false,&quot;id&quot;:&quot;ob_16&quot;,&quot;value&quot;:{}},&quot;click&quot;:{&quot;sync&quot;:false,&quot;id&quot;:&quot;ob_13&quot;,&quot;value&quot;:{}},&quot;image&quot;:{&quot;sync&quot;:true,&quot;id&quot;:&quot;ob_15&quot;,&quot;value&quot;:&quot;&quot;},&quot;__get_gd_contents&quot;:{&quot;sync&quot;:false,&quot;id&quot;:&quot;ob_20&quot;,&quot;value&quot;:&quot;&quot;},&quot;_downloadImage&quot;:{&quot;sync&quot;:false,&quot;id&quot;:&quot;ob_19&quot;,&quot;value&quot;:{}},&quot;relayout&quot;:{&quot;sync&quot;:false,&quot;id&quot;:&quot;ob_14&quot;,&quot;value&quot;:{}},&quot;_commands&quot;:{&quot;sync&quot;:false,&quot;id&quot;:&quot;ob_17&quot;,&quot;value&quot;:[]}}},&quot;children&quot;:[{&quot;props&quot;:{&quot;id&quot;:&quot;plot-fb30a564-9745-431b-bcc5-87ec7cfb7465&quot;},&quot;nodeType&quot;:&quot;DOM&quot;,&quot;type&quot;:&quot;node&quot;,&quot;instanceArgs&quot;:{&quot;namespace&quot;:&quot;html&quot;,&quot;tag&quot;:&quot;div&quot;},&quot;children&quot;:[]}]})</unsafe-script>"
      ],
      "text/plain": [
       "data: [\n",
       "  \"scatter with fields marker, type, and y\"\n",
       "]\n",
       "\n",
       "layout: \"layout with fields margin and title\"\n",
       "\n"
      ]
     },
     "execution_count": 3,
     "metadata": {},
     "output_type": "execute_result"
    }
   ],
   "source": [
    "plot(scatter(y=[1.0, 4.0, 9.0], marker_symbol = \"square\"), \n",
    "     Layout(title = \"x2\"))"
   ]
  },
  {
   "cell_type": "code",
   "execution_count": 5,
   "metadata": {},
   "outputs": [
    {
     "data": {
      "text/plain": [
       "scatter with fields marker, type, and y\n"
      ]
     },
     "execution_count": 5,
     "metadata": {},
     "output_type": "execute_result"
    }
   ],
   "source": [
    "my_trace = scatter(y=[1.0, 4.0, 9.0], marker_symbol = \"square\")"
   ]
  },
  {
   "cell_type": "markdown",
   "metadata": {},
   "source": [
    "From the above command\n",
    "* Notice the syntax marker_symbol\n",
    "* This sets a nested json attribute {\"marker\":{\"symbol\":\"square\"}}\n",
    "* see the json"
   ]
  },
  {
   "cell_type": "code",
   "execution_count": 8,
   "metadata": {},
   "outputs": [
    {
     "name": "stdout",
     "output_type": "stream",
     "text": [
      "{\n",
      "  \"y\": [\n",
      "    1.0,\n",
      "    4.0,\n",
      "    9.0\n",
      "  ],\n",
      "  \"type\": \"scatter\",\n",
      "  \"marker\": {\n",
      "    \"symbol\": \"square\"\n",
      "  }\n",
      "}\n"
     ]
    }
   ],
   "source": [
    "print(json(my_trace,2))"
   ]
  },
  {
   "cell_type": "code",
   "execution_count": 10,
   "metadata": {},
   "outputs": [
    {
     "data": {
      "text/plain": [
       "bar with fields name, type, x, and y\n"
      ]
     },
     "execution_count": 10,
     "metadata": {},
     "output_type": "execute_result"
    }
   ],
   "source": [
    "# nesting works at more than one level\n",
    "trace1 = scatter(y=rand(10), marker_color = \"red\",\n",
    "         marker_line_width = 2.0)\n",
    "trace2 = contour(x = 1:5, y = 1:10, z = randn(5,10))\n",
    "trace3 = bar(x = 1:10, y = rand(1:10,10), name = \"mybar\")"
   ]
  },
  {
   "cell_type": "code",
   "execution_count": 11,
   "metadata": {},
   "outputs": [
    {
     "name": "stdout",
     "output_type": "stream",
     "text": [
      "{\n",
      "  \"y\": [\n",
      "    0.10312341246730017,\n",
      "    0.30217782120661574,\n",
      "    0.12504739108496965,\n",
      "    0.4711072092145847,\n",
      "    0.7245285722994435,\n",
      "    0.3461550730447822,\n",
      "    0.6163315523306336,\n",
      "    0.32631155963346536,\n",
      "    0.6866560535469974,\n",
      "    0.23706443024736013\n",
      "  ],\n",
      "  \"type\": \"scatter\",\n",
      "  \"marker\": {\n",
      "    \"color\": \"red\",\n",
      "    \"line\": {\n",
      "      \"width\": 2.0\n",
      "    }\n",
      "  }\n",
      "}\n"
     ]
    }
   ],
   "source": [
    "print(json(trace1,2))"
   ]
  },
  {
   "cell_type": "code",
   "execution_count": 12,
   "metadata": {},
   "outputs": [
    {
     "name": "stdout",
     "output_type": "stream",
     "text": [
      "{\n",
      "  \"y\": [\n",
      "    1,\n",
      "    2,\n",
      "    3,\n",
      "    4,\n",
      "    5,\n",
      "    6,\n",
      "    7,\n",
      "    8,\n",
      "    9,\n",
      "    10\n",
      "  ],\n",
      "  \"type\": \"contour\",\n",
      "  \"z\": [\n",
      "    [\n",
      "      -0.60387258952816,\n",
      "      -0.14249540022397073,\n",
      "      0.374292504909802,\n",
      "      -1.227964827308657,\n",
      "      0.16751439958985123\n",
      "    ],\n",
      "    [\n",
      "      -0.8528264210243262,\n",
      "      -0.7422611442078108,\n",
      "      -1.1632711699137561,\n",
      "      0.22548146610599337,\n",
      "      -0.05145710428919385\n",
      "    ],\n",
      "    [\n",
      "      -0.7186844248810536,\n",
      "      0.9340786338868579,\n",
      "      -0.29344902975780146,\n",
      "      -0.21502957347711477,\n",
      "      1.660495957378989\n",
      "    ],\n",
      "    [\n",
      "      0.2521587608505123,\n",
      "      1.0401621276512758,\n",
      "      -0.4918347684569608,\n",
      "      0.5411997149704798,\n",
      "      1.1571849405295673\n",
      "    ],\n",
      "    [\n",
      "      -0.3206497876911393,\n",
      "      -0.39659717820327756,\n",
      "      -0.4964872770040617,\n",
      "      -0.14091819354597743,\n",
      "      1.6904137715542205\n",
      "    ],\n",
      "    [\n",
      "      0.005629001151232281,\n",
      "      1.8461604092302148,\n",
      "      -1.1347444416090373,\n",
      "      -0.4163979841355098,\n",
      "      0.1799756825368749\n",
      "    ],\n",
      "    [\n",
      "      -2.1636532181410577,\n",
      "      -0.4741588728456747,\n",
      "      1.1302760939006264,\n",
      "      -1.1487853264616787,\n",
      "      -0.10910324006117066\n",
      "    ],\n",
      "    [\n",
      "      -2.3138157823702836,\n",
      "      1.0569716249395609,\n",
      "      0.9556224522024638,\n",
      "      0.4578945668746302,\n",
      "      -0.7479443362628069\n",
      "    ],\n",
      "    [\n",
      "      1.004623871532673,\n",
      "      0.19446740191909087,\n",
      "      -1.2098828227451868,\n",
      "      0.7627093716194795,\n",
      "      1.0684751850726952\n",
      "    ],\n",
      "    [\n",
      "      0.8233727256946186,\n",
      "      2.2286821544399773,\n",
      "      -0.4975728003173,\n",
      "      1.325363460347599,\n",
      "      0.42409589818304383\n",
      "    ]\n",
      "  ],\n",
      "  \"x\": [\n",
      "    1,\n",
      "    2,\n",
      "    3,\n",
      "    4,\n",
      "    5\n",
      "  ]\n",
      "}\n"
     ]
    }
   ],
   "source": [
    "print(json(trace2,2))"
   ]
  },
  {
   "cell_type": "code",
   "execution_count": 13,
   "metadata": {},
   "outputs": [
    {
     "name": "stdout",
     "output_type": "stream",
     "text": [
      "{\n",
      "  \"y\": [\n",
      "    1,\n",
      "    3,\n",
      "    8,\n",
      "    8,\n",
      "    5,\n",
      "    7,\n",
      "    5,\n",
      "    3,\n",
      "    1,\n",
      "    2\n",
      "  ],\n",
      "  \"type\": \"bar\",\n",
      "  \"name\": \"mybar\",\n",
      "  \"x\": [\n",
      "    1,\n",
      "    2,\n",
      "    3,\n",
      "    4,\n",
      "    5,\n",
      "    6,\n",
      "    7,\n",
      "    8,\n",
      "    9,\n",
      "    10\n",
      "  ]\n",
      "}\n"
     ]
    }
   ],
   "source": [
    "print(json(trace3,2))"
   ]
  },
  {
   "cell_type": "markdown",
   "metadata": {},
   "source": [
    "### To obtain the types of traces available refer to the [link!](https://www.google.com/url?sa=t&rct=j&q=&esrc=s&source=web&cd=&cad=rja&uact=8&ved=2ahUKEwieot-ezq7tAhUOSX0KHXE2DyMQFjAAegQIARAD&url=https%3A%2F%2Fplotly.com%2Fjavascript%2F&usg=AOvVaw2xZjMyOYpS2Sb49HOEtl79)"
   ]
  },
  {
   "cell_type": "markdown",
   "metadata": {},
   "source": [
    "### Build a layout by constructing Layout object :"
   ]
  },
  {
   "cell_type": "code",
   "execution_count": 17,
   "metadata": {},
   "outputs": [
    {
     "data": {
      "text/plain": [
       "layout with fields margin, title, xaxis, and yaxis\n"
      ]
     },
     "execution_count": 17,
     "metadata": {},
     "output_type": "execute_result"
    }
   ],
   "source": [
    "layout = Layout(xaxis = attr(range = [0,10],\n",
    "                             title = \"assets\"),\n",
    "                yaxis_title = \"consumption\",\n",
    "                title = \"Plot\")"
   ]
  },
  {
   "cell_type": "markdown",
   "metadata": {},
   "source": [
    "In the above code, you can also use **xaxis_range = [0,10]** and **xaxis_title = \"assets\"** instead of **attr**\n",
    "whenever there are more parameter, it is good to enclose them in **attr**"
   ]
  },
  {
   "cell_type": "code",
   "execution_count": 18,
   "metadata": {},
   "outputs": [
    {
     "name": "stdout",
     "output_type": "stream",
     "text": [
      "{\n",
      "  \"xaxis\": {\n",
      "    \"range\": [\n",
      "      0,\n",
      "      10\n",
      "    ],\n",
      "    \"title\": \"assets\"\n",
      "  },\n",
      "  \"margin\": {\n",
      "    \"l\": 50,\n",
      "    \"b\": 50,\n",
      "    \"r\": 50,\n",
      "    \"t\": 60\n",
      "  },\n",
      "  \"yaxis\": {\n",
      "    \"title\": \"consumption\"\n",
      "  },\n",
      "  \"title\": \"Plot\"\n",
      "}\n"
     ]
    }
   ],
   "source": [
    "print(json(layout,2))"
   ]
  },
  {
   "cell_type": "markdown",
   "metadata": {},
   "source": [
    "To actually display a plot, we tie one or more traces together with a layotu by calling the plot function:"
   ]
  },
  {
   "cell_type": "code",
   "execution_count": 19,
   "metadata": {},
   "outputs": [
    {
     "data": {
      "application/vnd.plotly.v1+json": {
       "data": [
        {
         "marker": {
          "color": "red",
          "line": {
           "width": 2
          }
         },
         "type": "scatter",
         "y": [
          0.10312341246730017,
          0.30217782120661574,
          0.12504739108496965,
          0.4711072092145847,
          0.7245285722994435,
          0.3461550730447822,
          0.6163315523306336,
          0.32631155963346536,
          0.6866560535469974,
          0.23706443024736013
         ]
        }
       ],
       "layout": {
        "margin": {
         "b": 50,
         "l": 50,
         "r": 50,
         "t": 60
        },
        "title": "Plot",
        "xaxis": {
         "range": [
          0,
          10
         ],
         "title": "assets"
        },
        "yaxis": {
         "title": "consumption"
        }
       }
      },
      "text/html": [
       "<div class='display:none'></div><unsafe-script style='display:none'>\n",
       "WebIO.mount(this.previousSibling,{&quot;props&quot;:{},&quot;nodeType&quot;:&quot;Scope&quot;,&quot;type&quot;:&quot;node&quot;,&quot;instanceArgs&quot;:{&quot;imports&quot;:{&quot;data&quot;:[{&quot;name&quot;:&quot;Plotly&quot;,&quot;type&quot;:&quot;js&quot;,&quot;url&quot;:&quot;/assetserver/5311f9888b884b50e52f4a90fad64eb841288be8-plotly-latest.min.js&quot;},{&quot;name&quot;:null,&quot;type&quot;:&quot;js&quot;,&quot;url&quot;:&quot;/assetserver/5c351a91169f2a19a186af98699dd36a27fe8939-plotly_webio.bundle.js&quot;}],&quot;type&quot;:&quot;async_block&quot;},&quot;id&quot;:&quot;scope-c1e7589f-0032-474d-ba5d-0a7e7104f0fe&quot;,&quot;handlers&quot;:{&quot;_toImage&quot;:[(function (options){return this.Plotly.toImage(this.plotElem,options).then((function (data){return WebIO.setval({&quot;name&quot;:&quot;image&quot;,&quot;scope&quot;:&quot;scope-c1e7589f-0032-474d-ba5d-0a7e7104f0fe&quot;,&quot;id&quot;:&quot;ob_45&quot;,&quot;type&quot;:&quot;observable&quot;},data)}))})],&quot;__get_gd_contents&quot;:[(function (prop){prop==&quot;data&quot; ? (WebIO.setval({&quot;name&quot;:&quot;__gd_contents&quot;,&quot;scope&quot;:&quot;scope-c1e7589f-0032-474d-ba5d-0a7e7104f0fe&quot;,&quot;id&quot;:&quot;ob_46&quot;,&quot;type&quot;:&quot;observable&quot;},this.plotElem.data)) : undefined; return prop==&quot;layout&quot; ? (WebIO.setval({&quot;name&quot;:&quot;__gd_contents&quot;,&quot;scope&quot;:&quot;scope-c1e7589f-0032-474d-ba5d-0a7e7104f0fe&quot;,&quot;id&quot;:&quot;ob_46&quot;,&quot;type&quot;:&quot;observable&quot;},this.plotElem.layout)) : undefined})],&quot;_promises&quot;:{&quot;importsLoaded&quot;:[(function (Plotly){var gd=this.dom.querySelector(&quot;#plot-55fdd224-e940-49fc-aec7-613ee86804fb&quot;); this.plotElem=gd; this.Plotly=Plotly; (window.Blink!==undefined) ? (gd.style.width=&quot;100%&quot;, gd.style.height=&quot;100vh&quot;, gd.style.marginLeft=&quot;0%&quot;, gd.style.marginTop=&quot;0vh&quot;) : undefined; window.onresize=(function (){return Plotly.Plots.resize(gd)}); Plotly.newPlot(gd,[{&quot;y&quot;:[0.10312341246730017,0.30217782120661574,0.12504739108496965,0.4711072092145847,0.7245285722994435,0.3461550730447822,0.6163315523306336,0.32631155963346536,0.6866560535469974,0.23706443024736013],&quot;type&quot;:&quot;scatter&quot;,&quot;marker&quot;:{&quot;color&quot;:&quot;red&quot;,&quot;line&quot;:{&quot;width&quot;:2.0}}}],{&quot;xaxis&quot;:{&quot;range&quot;:[0,10],&quot;title&quot;:&quot;assets&quot;},&quot;margin&quot;:{&quot;l&quot;:50,&quot;b&quot;:50,&quot;r&quot;:50,&quot;t&quot;:60},&quot;yaxis&quot;:{&quot;title&quot;:&quot;consumption&quot;},&quot;title&quot;:&quot;Plot&quot;},{}); gd.on(&quot;plotly_hover&quot;,(function (data){var filtered_data=WebIO.PlotlyCommands.filterEventData(gd,data,&quot;hover&quot;); return !(filtered_data.isnil) ? (WebIO.setval({&quot;name&quot;:&quot;hover&quot;,&quot;scope&quot;:&quot;scope-c1e7589f-0032-474d-ba5d-0a7e7104f0fe&quot;,&quot;id&quot;:&quot;ob_41&quot;,&quot;type&quot;:&quot;observable&quot;},filtered_data.out)) : undefined})); gd.on(&quot;plotly_unhover&quot;,(function (){return WebIO.setval({&quot;name&quot;:&quot;hover&quot;,&quot;scope&quot;:&quot;scope-c1e7589f-0032-474d-ba5d-0a7e7104f0fe&quot;,&quot;id&quot;:&quot;ob_41&quot;,&quot;type&quot;:&quot;observable&quot;},{})})); gd.on(&quot;plotly_selected&quot;,(function (data){var filtered_data=WebIO.PlotlyCommands.filterEventData(gd,data,&quot;selected&quot;); return !(filtered_data.isnil) ? (WebIO.setval({&quot;name&quot;:&quot;selected&quot;,&quot;scope&quot;:&quot;scope-c1e7589f-0032-474d-ba5d-0a7e7104f0fe&quot;,&quot;id&quot;:&quot;ob_42&quot;,&quot;type&quot;:&quot;observable&quot;},filtered_data.out)) : undefined})); gd.on(&quot;plotly_deselect&quot;,(function (){return WebIO.setval({&quot;name&quot;:&quot;selected&quot;,&quot;scope&quot;:&quot;scope-c1e7589f-0032-474d-ba5d-0a7e7104f0fe&quot;,&quot;id&quot;:&quot;ob_42&quot;,&quot;type&quot;:&quot;observable&quot;},{})})); gd.on(&quot;plotly_relayout&quot;,(function (data){var filtered_data=WebIO.PlotlyCommands.filterEventData(gd,data,&quot;relayout&quot;); return !(filtered_data.isnil) ? (WebIO.setval({&quot;name&quot;:&quot;relayout&quot;,&quot;scope&quot;:&quot;scope-c1e7589f-0032-474d-ba5d-0a7e7104f0fe&quot;,&quot;id&quot;:&quot;ob_44&quot;,&quot;type&quot;:&quot;observable&quot;},filtered_data.out)) : undefined})); return gd.on(&quot;plotly_click&quot;,(function (data){var filtered_data=WebIO.PlotlyCommands.filterEventData(gd,data,&quot;click&quot;); return !(filtered_data.isnil) ? (WebIO.setval({&quot;name&quot;:&quot;click&quot;,&quot;scope&quot;:&quot;scope-c1e7589f-0032-474d-ba5d-0a7e7104f0fe&quot;,&quot;id&quot;:&quot;ob_43&quot;,&quot;type&quot;:&quot;observable&quot;},filtered_data.out)) : undefined}))})]},&quot;_downloadImage&quot;:[(function (options){return this.Plotly.downloadImage(this.plotElem,options)})],&quot;_commands&quot;:[(function (args){var fn=args.shift(); var elem=this.plotElem; var Plotly=this.Plotly; args.unshift(elem); return Plotly[fn].apply(this,args)})]},&quot;systemjs_options&quot;:null,&quot;observables&quot;:{&quot;_toImage&quot;:{&quot;sync&quot;:false,&quot;id&quot;:&quot;ob_48&quot;,&quot;value&quot;:{}},&quot;hover&quot;:{&quot;sync&quot;:false,&quot;id&quot;:&quot;ob_41&quot;,&quot;value&quot;:{}},&quot;selected&quot;:{&quot;sync&quot;:false,&quot;id&quot;:&quot;ob_42&quot;,&quot;value&quot;:{}},&quot;__gd_contents&quot;:{&quot;sync&quot;:false,&quot;id&quot;:&quot;ob_46&quot;,&quot;value&quot;:{}},&quot;click&quot;:{&quot;sync&quot;:false,&quot;id&quot;:&quot;ob_43&quot;,&quot;value&quot;:{}},&quot;image&quot;:{&quot;sync&quot;:true,&quot;id&quot;:&quot;ob_45&quot;,&quot;value&quot;:&quot;&quot;},&quot;__get_gd_contents&quot;:{&quot;sync&quot;:false,&quot;id&quot;:&quot;ob_50&quot;,&quot;value&quot;:&quot;&quot;},&quot;_downloadImage&quot;:{&quot;sync&quot;:false,&quot;id&quot;:&quot;ob_49&quot;,&quot;value&quot;:{}},&quot;relayout&quot;:{&quot;sync&quot;:false,&quot;id&quot;:&quot;ob_44&quot;,&quot;value&quot;:{}},&quot;_commands&quot;:{&quot;sync&quot;:false,&quot;id&quot;:&quot;ob_47&quot;,&quot;value&quot;:[]}}},&quot;children&quot;:[{&quot;props&quot;:{&quot;id&quot;:&quot;plot-55fdd224-e940-49fc-aec7-613ee86804fb&quot;},&quot;nodeType&quot;:&quot;DOM&quot;,&quot;type&quot;:&quot;node&quot;,&quot;instanceArgs&quot;:{&quot;namespace&quot;:&quot;html&quot;,&quot;tag&quot;:&quot;div&quot;},&quot;children&quot;:[]}]})</unsafe-script>"
      ],
      "text/plain": [
       "data: [\n",
       "  \"scatter with fields marker, type, and y\"\n",
       "]\n",
       "\n",
       "layout: \"layout with fields margin, title, xaxis, and yaxis\"\n",
       "\n"
      ]
     },
     "execution_count": 19,
     "metadata": {},
     "output_type": "execute_result"
    }
   ],
   "source": [
    "plot(trace1, layout)"
   ]
  },
  {
   "cell_type": "code",
   "execution_count": 24,
   "metadata": {},
   "outputs": [
    {
     "data": {
      "application/vnd.plotly.v1+json": {
       "data": [
        {
         "type": "contour",
         "x": [
          1,
          2,
          3,
          4,
          5
         ],
         "y": [
          1,
          2,
          3,
          4,
          5,
          6,
          7,
          8,
          9,
          10
         ],
         "z": [
          [
           -0.60387258952816,
           -0.14249540022397073,
           0.374292504909802,
           -1.227964827308657,
           0.16751439958985123
          ],
          [
           -0.8528264210243262,
           -0.7422611442078108,
           -1.1632711699137561,
           0.22548146610599337,
           -0.05145710428919385
          ],
          [
           -0.7186844248810536,
           0.9340786338868579,
           -0.29344902975780146,
           -0.21502957347711477,
           1.660495957378989
          ],
          [
           0.2521587608505123,
           1.0401621276512758,
           -0.4918347684569608,
           0.5411997149704798,
           1.1571849405295673
          ],
          [
           -0.3206497876911393,
           -0.39659717820327756,
           -0.4964872770040617,
           -0.14091819354597743,
           1.6904137715542205
          ],
          [
           0.005629001151232281,
           1.8461604092302148,
           -1.1347444416090373,
           -0.4163979841355098,
           0.1799756825368749
          ],
          [
           -2.1636532181410577,
           -0.4741588728456747,
           1.1302760939006264,
           -1.1487853264616787,
           -0.10910324006117066
          ],
          [
           -2.3138157823702836,
           1.0569716249395609,
           0.9556224522024638,
           0.4578945668746302,
           -0.7479443362628069
          ],
          [
           1.004623871532673,
           0.19446740191909087,
           -1.2098828227451868,
           0.7627093716194795,
           1.0684751850726952
          ],
          [
           0.8233727256946186,
           2.2286821544399773,
           -0.4975728003173,
           1.325363460347599,
           0.42409589818304383
          ]
         ]
        }
       ],
       "layout": {
        "margin": {
         "b": 50,
         "l": 50,
         "r": 50,
         "t": 60
        },
        "title": "Plot",
        "xaxis": {
         "range": [
          0,
          10
         ],
         "title": "assets"
        },
        "yaxis": {
         "title": "consumption"
        }
       }
      },
      "text/html": [
       "<div class='display:none'></div><unsafe-script style='display:none'>\n",
       "WebIO.mount(this.previousSibling,{&quot;props&quot;:{},&quot;nodeType&quot;:&quot;Scope&quot;,&quot;type&quot;:&quot;node&quot;,&quot;instanceArgs&quot;:{&quot;imports&quot;:{&quot;data&quot;:[{&quot;name&quot;:&quot;Plotly&quot;,&quot;type&quot;:&quot;js&quot;,&quot;url&quot;:&quot;/assetserver/5311f9888b884b50e52f4a90fad64eb841288be8-plotly-latest.min.js&quot;},{&quot;name&quot;:null,&quot;type&quot;:&quot;js&quot;,&quot;url&quot;:&quot;/assetserver/5c351a91169f2a19a186af98699dd36a27fe8939-plotly_webio.bundle.js&quot;}],&quot;type&quot;:&quot;async_block&quot;},&quot;id&quot;:&quot;scope-36604984-76fe-4e3c-be02-ef75ee138ecf&quot;,&quot;handlers&quot;:{&quot;_toImage&quot;:[(function (options){return this.Plotly.toImage(this.plotElem,options).then((function (data){return WebIO.setval({&quot;name&quot;:&quot;image&quot;,&quot;scope&quot;:&quot;scope-36604984-76fe-4e3c-be02-ef75ee138ecf&quot;,&quot;id&quot;:&quot;ob_85&quot;,&quot;type&quot;:&quot;observable&quot;},data)}))})],&quot;__get_gd_contents&quot;:[(function (prop){prop==&quot;data&quot; ? (WebIO.setval({&quot;name&quot;:&quot;__gd_contents&quot;,&quot;scope&quot;:&quot;scope-36604984-76fe-4e3c-be02-ef75ee138ecf&quot;,&quot;id&quot;:&quot;ob_86&quot;,&quot;type&quot;:&quot;observable&quot;},this.plotElem.data)) : undefined; return prop==&quot;layout&quot; ? (WebIO.setval({&quot;name&quot;:&quot;__gd_contents&quot;,&quot;scope&quot;:&quot;scope-36604984-76fe-4e3c-be02-ef75ee138ecf&quot;,&quot;id&quot;:&quot;ob_86&quot;,&quot;type&quot;:&quot;observable&quot;},this.plotElem.layout)) : undefined})],&quot;_promises&quot;:{&quot;importsLoaded&quot;:[(function (Plotly){var gd=this.dom.querySelector(&quot;#plot-40fba743-a44e-42ea-92e1-b1b618f7301d&quot;); this.plotElem=gd; this.Plotly=Plotly; (window.Blink!==undefined) ? (gd.style.width=&quot;100%&quot;, gd.style.height=&quot;100vh&quot;, gd.style.marginLeft=&quot;0%&quot;, gd.style.marginTop=&quot;0vh&quot;) : undefined; window.onresize=(function (){return Plotly.Plots.resize(gd)}); Plotly.newPlot(gd,[{&quot;y&quot;:[1,2,3,4,5,6,7,8,9,10],&quot;type&quot;:&quot;contour&quot;,&quot;z&quot;:[[-0.60387258952816,-0.14249540022397073,0.374292504909802,-1.227964827308657,0.16751439958985123],[-0.8528264210243262,-0.7422611442078108,-1.1632711699137561,0.22548146610599337,-0.05145710428919385],[-0.7186844248810536,0.9340786338868579,-0.29344902975780146,-0.21502957347711477,1.660495957378989],[0.2521587608505123,1.0401621276512758,-0.4918347684569608,0.5411997149704798,1.1571849405295673],[-0.3206497876911393,-0.39659717820327756,-0.4964872770040617,-0.14091819354597743,1.6904137715542205],[0.005629001151232281,1.8461604092302148,-1.1347444416090373,-0.4163979841355098,0.1799756825368749],[-2.1636532181410577,-0.4741588728456747,1.1302760939006264,-1.1487853264616787,-0.10910324006117066],[-2.3138157823702836,1.0569716249395609,0.9556224522024638,0.4578945668746302,-0.7479443362628069],[1.004623871532673,0.19446740191909087,-1.2098828227451868,0.7627093716194795,1.0684751850726952],[0.8233727256946186,2.2286821544399773,-0.4975728003173,1.325363460347599,0.42409589818304383]],&quot;x&quot;:[1,2,3,4,5]}],{&quot;xaxis&quot;:{&quot;range&quot;:[0,10],&quot;title&quot;:&quot;assets&quot;},&quot;margin&quot;:{&quot;l&quot;:50,&quot;b&quot;:50,&quot;r&quot;:50,&quot;t&quot;:60},&quot;yaxis&quot;:{&quot;title&quot;:&quot;consumption&quot;},&quot;title&quot;:&quot;Plot&quot;},{}); gd.on(&quot;plotly_hover&quot;,(function (data){var filtered_data=WebIO.PlotlyCommands.filterEventData(gd,data,&quot;hover&quot;); return !(filtered_data.isnil) ? (WebIO.setval({&quot;name&quot;:&quot;hover&quot;,&quot;scope&quot;:&quot;scope-36604984-76fe-4e3c-be02-ef75ee138ecf&quot;,&quot;id&quot;:&quot;ob_81&quot;,&quot;type&quot;:&quot;observable&quot;},filtered_data.out)) : undefined})); gd.on(&quot;plotly_unhover&quot;,(function (){return WebIO.setval({&quot;name&quot;:&quot;hover&quot;,&quot;scope&quot;:&quot;scope-36604984-76fe-4e3c-be02-ef75ee138ecf&quot;,&quot;id&quot;:&quot;ob_81&quot;,&quot;type&quot;:&quot;observable&quot;},{})})); gd.on(&quot;plotly_selected&quot;,(function (data){var filtered_data=WebIO.PlotlyCommands.filterEventData(gd,data,&quot;selected&quot;); return !(filtered_data.isnil) ? (WebIO.setval({&quot;name&quot;:&quot;selected&quot;,&quot;scope&quot;:&quot;scope-36604984-76fe-4e3c-be02-ef75ee138ecf&quot;,&quot;id&quot;:&quot;ob_82&quot;,&quot;type&quot;:&quot;observable&quot;},filtered_data.out)) : undefined})); gd.on(&quot;plotly_deselect&quot;,(function (){return WebIO.setval({&quot;name&quot;:&quot;selected&quot;,&quot;scope&quot;:&quot;scope-36604984-76fe-4e3c-be02-ef75ee138ecf&quot;,&quot;id&quot;:&quot;ob_82&quot;,&quot;type&quot;:&quot;observable&quot;},{})})); gd.on(&quot;plotly_relayout&quot;,(function (data){var filtered_data=WebIO.PlotlyCommands.filterEventData(gd,data,&quot;relayout&quot;); return !(filtered_data.isnil) ? (WebIO.setval({&quot;name&quot;:&quot;relayout&quot;,&quot;scope&quot;:&quot;scope-36604984-76fe-4e3c-be02-ef75ee138ecf&quot;,&quot;id&quot;:&quot;ob_84&quot;,&quot;type&quot;:&quot;observable&quot;},filtered_data.out)) : undefined})); return gd.on(&quot;plotly_click&quot;,(function (data){var filtered_data=WebIO.PlotlyCommands.filterEventData(gd,data,&quot;click&quot;); return !(filtered_data.isnil) ? (WebIO.setval({&quot;name&quot;:&quot;click&quot;,&quot;scope&quot;:&quot;scope-36604984-76fe-4e3c-be02-ef75ee138ecf&quot;,&quot;id&quot;:&quot;ob_83&quot;,&quot;type&quot;:&quot;observable&quot;},filtered_data.out)) : undefined}))})]},&quot;_downloadImage&quot;:[(function (options){return this.Plotly.downloadImage(this.plotElem,options)})],&quot;_commands&quot;:[(function (args){var fn=args.shift(); var elem=this.plotElem; var Plotly=this.Plotly; args.unshift(elem); return Plotly[fn].apply(this,args)})]},&quot;systemjs_options&quot;:null,&quot;observables&quot;:{&quot;_toImage&quot;:{&quot;sync&quot;:false,&quot;id&quot;:&quot;ob_88&quot;,&quot;value&quot;:{}},&quot;hover&quot;:{&quot;sync&quot;:false,&quot;id&quot;:&quot;ob_81&quot;,&quot;value&quot;:{}},&quot;selected&quot;:{&quot;sync&quot;:false,&quot;id&quot;:&quot;ob_82&quot;,&quot;value&quot;:{}},&quot;__gd_contents&quot;:{&quot;sync&quot;:false,&quot;id&quot;:&quot;ob_86&quot;,&quot;value&quot;:{}},&quot;click&quot;:{&quot;sync&quot;:false,&quot;id&quot;:&quot;ob_83&quot;,&quot;value&quot;:{}},&quot;image&quot;:{&quot;sync&quot;:true,&quot;id&quot;:&quot;ob_85&quot;,&quot;value&quot;:&quot;&quot;},&quot;__get_gd_contents&quot;:{&quot;sync&quot;:false,&quot;id&quot;:&quot;ob_90&quot;,&quot;value&quot;:&quot;&quot;},&quot;_downloadImage&quot;:{&quot;sync&quot;:false,&quot;id&quot;:&quot;ob_89&quot;,&quot;value&quot;:{}},&quot;relayout&quot;:{&quot;sync&quot;:false,&quot;id&quot;:&quot;ob_84&quot;,&quot;value&quot;:{}},&quot;_commands&quot;:{&quot;sync&quot;:false,&quot;id&quot;:&quot;ob_87&quot;,&quot;value&quot;:[]}}},&quot;children&quot;:[{&quot;props&quot;:{&quot;id&quot;:&quot;plot-40fba743-a44e-42ea-92e1-b1b618f7301d&quot;},&quot;nodeType&quot;:&quot;DOM&quot;,&quot;type&quot;:&quot;node&quot;,&quot;instanceArgs&quot;:{&quot;namespace&quot;:&quot;html&quot;,&quot;tag&quot;:&quot;div&quot;},&quot;children&quot;:[]}]})</unsafe-script>"
      ],
      "text/plain": [
       "data: [\n",
       "  \"contour with fields type, x, y, and z\"\n",
       "]\n",
       "\n",
       "layout: \"layout with fields margin, title, xaxis, and yaxis\"\n",
       "\n"
      ]
     },
     "execution_count": 24,
     "metadata": {},
     "output_type": "execute_result"
    }
   ],
   "source": [
    "plot(trace2,layout)"
   ]
  },
  {
   "cell_type": "code",
   "execution_count": 22,
   "metadata": {},
   "outputs": [
    {
     "data": {
      "application/vnd.plotly.v1+json": {
       "data": [
        {
         "name": "mybar",
         "type": "bar",
         "x": [
          1,
          2,
          3,
          4,
          5,
          6,
          7,
          8,
          9,
          10
         ],
         "y": [
          1,
          3,
          8,
          8,
          5,
          7,
          5,
          3,
          1,
          2
         ]
        }
       ],
       "layout": {
        "margin": {
         "b": 50,
         "l": 50,
         "r": 50,
         "t": 60
        },
        "title": "Plot",
        "xaxis": {
         "range": [
          0,
          10
         ],
         "title": "assets"
        },
        "yaxis": {
         "title": "consumption"
        }
       }
      },
      "text/html": [
       "<div class='display:none'></div><unsafe-script style='display:none'>\n",
       "WebIO.mount(this.previousSibling,{&quot;props&quot;:{},&quot;nodeType&quot;:&quot;Scope&quot;,&quot;type&quot;:&quot;node&quot;,&quot;instanceArgs&quot;:{&quot;imports&quot;:{&quot;data&quot;:[{&quot;name&quot;:&quot;Plotly&quot;,&quot;type&quot;:&quot;js&quot;,&quot;url&quot;:&quot;/assetserver/5311f9888b884b50e52f4a90fad64eb841288be8-plotly-latest.min.js&quot;},{&quot;name&quot;:null,&quot;type&quot;:&quot;js&quot;,&quot;url&quot;:&quot;/assetserver/5c351a91169f2a19a186af98699dd36a27fe8939-plotly_webio.bundle.js&quot;}],&quot;type&quot;:&quot;async_block&quot;},&quot;id&quot;:&quot;scope-eae14881-1266-471b-8bd5-347023447867&quot;,&quot;handlers&quot;:{&quot;_toImage&quot;:[(function (options){return this.Plotly.toImage(this.plotElem,options).then((function (data){return WebIO.setval({&quot;name&quot;:&quot;image&quot;,&quot;scope&quot;:&quot;scope-eae14881-1266-471b-8bd5-347023447867&quot;,&quot;id&quot;:&quot;ob_75&quot;,&quot;type&quot;:&quot;observable&quot;},data)}))})],&quot;__get_gd_contents&quot;:[(function (prop){prop==&quot;data&quot; ? (WebIO.setval({&quot;name&quot;:&quot;__gd_contents&quot;,&quot;scope&quot;:&quot;scope-eae14881-1266-471b-8bd5-347023447867&quot;,&quot;id&quot;:&quot;ob_76&quot;,&quot;type&quot;:&quot;observable&quot;},this.plotElem.data)) : undefined; return prop==&quot;layout&quot; ? (WebIO.setval({&quot;name&quot;:&quot;__gd_contents&quot;,&quot;scope&quot;:&quot;scope-eae14881-1266-471b-8bd5-347023447867&quot;,&quot;id&quot;:&quot;ob_76&quot;,&quot;type&quot;:&quot;observable&quot;},this.plotElem.layout)) : undefined})],&quot;_promises&quot;:{&quot;importsLoaded&quot;:[(function (Plotly){var gd=this.dom.querySelector(&quot;#plot-8c4416bd-e07f-4c1c-a35d-c6d00b4fc399&quot;); this.plotElem=gd; this.Plotly=Plotly; (window.Blink!==undefined) ? (gd.style.width=&quot;100%&quot;, gd.style.height=&quot;100vh&quot;, gd.style.marginLeft=&quot;0%&quot;, gd.style.marginTop=&quot;0vh&quot;) : undefined; window.onresize=(function (){return Plotly.Plots.resize(gd)}); Plotly.newPlot(gd,[{&quot;y&quot;:[1,3,8,8,5,7,5,3,1,2],&quot;type&quot;:&quot;bar&quot;,&quot;name&quot;:&quot;mybar&quot;,&quot;x&quot;:[1,2,3,4,5,6,7,8,9,10]}],{&quot;xaxis&quot;:{&quot;range&quot;:[0,10],&quot;title&quot;:&quot;assets&quot;},&quot;margin&quot;:{&quot;l&quot;:50,&quot;b&quot;:50,&quot;r&quot;:50,&quot;t&quot;:60},&quot;yaxis&quot;:{&quot;title&quot;:&quot;consumption&quot;},&quot;title&quot;:&quot;Plot&quot;},{}); gd.on(&quot;plotly_hover&quot;,(function (data){var filtered_data=WebIO.PlotlyCommands.filterEventData(gd,data,&quot;hover&quot;); return !(filtered_data.isnil) ? (WebIO.setval({&quot;name&quot;:&quot;hover&quot;,&quot;scope&quot;:&quot;scope-eae14881-1266-471b-8bd5-347023447867&quot;,&quot;id&quot;:&quot;ob_71&quot;,&quot;type&quot;:&quot;observable&quot;},filtered_data.out)) : undefined})); gd.on(&quot;plotly_unhover&quot;,(function (){return WebIO.setval({&quot;name&quot;:&quot;hover&quot;,&quot;scope&quot;:&quot;scope-eae14881-1266-471b-8bd5-347023447867&quot;,&quot;id&quot;:&quot;ob_71&quot;,&quot;type&quot;:&quot;observable&quot;},{})})); gd.on(&quot;plotly_selected&quot;,(function (data){var filtered_data=WebIO.PlotlyCommands.filterEventData(gd,data,&quot;selected&quot;); return !(filtered_data.isnil) ? (WebIO.setval({&quot;name&quot;:&quot;selected&quot;,&quot;scope&quot;:&quot;scope-eae14881-1266-471b-8bd5-347023447867&quot;,&quot;id&quot;:&quot;ob_72&quot;,&quot;type&quot;:&quot;observable&quot;},filtered_data.out)) : undefined})); gd.on(&quot;plotly_deselect&quot;,(function (){return WebIO.setval({&quot;name&quot;:&quot;selected&quot;,&quot;scope&quot;:&quot;scope-eae14881-1266-471b-8bd5-347023447867&quot;,&quot;id&quot;:&quot;ob_72&quot;,&quot;type&quot;:&quot;observable&quot;},{})})); gd.on(&quot;plotly_relayout&quot;,(function (data){var filtered_data=WebIO.PlotlyCommands.filterEventData(gd,data,&quot;relayout&quot;); return !(filtered_data.isnil) ? (WebIO.setval({&quot;name&quot;:&quot;relayout&quot;,&quot;scope&quot;:&quot;scope-eae14881-1266-471b-8bd5-347023447867&quot;,&quot;id&quot;:&quot;ob_74&quot;,&quot;type&quot;:&quot;observable&quot;},filtered_data.out)) : undefined})); return gd.on(&quot;plotly_click&quot;,(function (data){var filtered_data=WebIO.PlotlyCommands.filterEventData(gd,data,&quot;click&quot;); return !(filtered_data.isnil) ? (WebIO.setval({&quot;name&quot;:&quot;click&quot;,&quot;scope&quot;:&quot;scope-eae14881-1266-471b-8bd5-347023447867&quot;,&quot;id&quot;:&quot;ob_73&quot;,&quot;type&quot;:&quot;observable&quot;},filtered_data.out)) : undefined}))})]},&quot;_downloadImage&quot;:[(function (options){return this.Plotly.downloadImage(this.plotElem,options)})],&quot;_commands&quot;:[(function (args){var fn=args.shift(); var elem=this.plotElem; var Plotly=this.Plotly; args.unshift(elem); return Plotly[fn].apply(this,args)})]},&quot;systemjs_options&quot;:null,&quot;observables&quot;:{&quot;_toImage&quot;:{&quot;sync&quot;:false,&quot;id&quot;:&quot;ob_78&quot;,&quot;value&quot;:{}},&quot;hover&quot;:{&quot;sync&quot;:false,&quot;id&quot;:&quot;ob_71&quot;,&quot;value&quot;:{}},&quot;selected&quot;:{&quot;sync&quot;:false,&quot;id&quot;:&quot;ob_72&quot;,&quot;value&quot;:{}},&quot;__gd_contents&quot;:{&quot;sync&quot;:false,&quot;id&quot;:&quot;ob_76&quot;,&quot;value&quot;:{}},&quot;click&quot;:{&quot;sync&quot;:false,&quot;id&quot;:&quot;ob_73&quot;,&quot;value&quot;:{}},&quot;image&quot;:{&quot;sync&quot;:true,&quot;id&quot;:&quot;ob_75&quot;,&quot;value&quot;:&quot;&quot;},&quot;__get_gd_contents&quot;:{&quot;sync&quot;:false,&quot;id&quot;:&quot;ob_80&quot;,&quot;value&quot;:&quot;&quot;},&quot;_downloadImage&quot;:{&quot;sync&quot;:false,&quot;id&quot;:&quot;ob_79&quot;,&quot;value&quot;:{}},&quot;relayout&quot;:{&quot;sync&quot;:false,&quot;id&quot;:&quot;ob_74&quot;,&quot;value&quot;:{}},&quot;_commands&quot;:{&quot;sync&quot;:false,&quot;id&quot;:&quot;ob_77&quot;,&quot;value&quot;:[]}}},&quot;children&quot;:[{&quot;props&quot;:{&quot;id&quot;:&quot;plot-8c4416bd-e07f-4c1c-a35d-c6d00b4fc399&quot;},&quot;nodeType&quot;:&quot;DOM&quot;,&quot;type&quot;:&quot;node&quot;,&quot;instanceArgs&quot;:{&quot;namespace&quot;:&quot;html&quot;,&quot;tag&quot;:&quot;div&quot;},&quot;children&quot;:[]}]})</unsafe-script>"
      ],
      "text/plain": [
       "data: [\n",
       "  \"bar with fields name, type, x, and y\"\n",
       "]\n",
       "\n",
       "layout: \"layout with fields margin, title, xaxis, and yaxis\"\n",
       "\n"
      ]
     },
     "execution_count": 22,
     "metadata": {},
     "output_type": "execute_result"
    }
   ],
   "source": [
    "plot(trace3,layout)"
   ]
  },
  {
   "cell_type": "markdown",
   "metadata": {},
   "source": [
    "### Convenience API"
   ]
  },
  {
   "cell_type": "markdown",
   "metadata": {},
   "source": [
    "The plot function has as a number of other mehtods that try to make is a bit easier to construct simple plots\\\n",
    "(remember multiple dispatch?:) )"
   ]
  },
  {
   "cell_type": "code",
   "execution_count": 23,
   "metadata": {},
   "outputs": [
    {
     "data": {
      "text/html": [
       "# 1 method for generic function <b>plot</b>:<ul><li> plot(args...; <i>options, kwargs...</i>) in PlotlyJS at <a href=\"file:///Users/manideepbangaru/.julia/packages/PlotlyJS/CEJyh/src/display.jl\" target=\"_blank\">/Users/manideepbangaru/.julia/packages/PlotlyJS/CEJyh/src/display.jl:140</a></li> </ul>"
      ],
      "text/plain": [
       "# 1 method for generic function \"plot\":\n",
       "[1] plot(args...; options, kwargs...) in PlotlyJS at /Users/manideepbangaru/.julia/packages/PlotlyJS/CEJyh/src/display.jl:140"
      ]
     },
     "execution_count": 23,
     "metadata": {},
     "output_type": "execute_result"
    }
   ],
   "source": [
    "methods(plot)"
   ]
  },
  {
   "cell_type": "markdown",
   "metadata": {},
   "source": [
    "### Let's see a few of them"
   ]
  },
  {
   "cell_type": "code",
   "execution_count": 41,
   "metadata": {},
   "outputs": [],
   "source": [
    "x = LinRange(-5, 5, 50)\n",
    "y1 = sin.(x)\n",
    "y2 = cos.(x);"
   ]
  },
  {
   "cell_type": "code",
   "execution_count": 42,
   "metadata": {},
   "outputs": [
    {
     "data": {
      "application/vnd.plotly.v1+json": {
       "data": [
        {
         "type": "scatter",
         "x": [
          -5,
          -4.795918367346939,
          -4.591836734693878,
          -4.387755102040817,
          -4.183673469387756,
          -3.9795918367346936,
          -3.775510204081632,
          -3.571428571428572,
          -3.36734693877551,
          -3.163265306122449,
          -2.959183673469388,
          -2.7551020408163263,
          -2.551020408163265,
          -2.3469387755102034,
          -2.1428571428571432,
          -1.9387755102040813,
          -1.734693877551021,
          -1.5306122448979593,
          -1.326530612244898,
          -1.122448979591837,
          -0.9183673469387754,
          -0.714285714285714,
          -0.510204081632653,
          -0.3061224489795915,
          -0.1020408163265305,
          0.1020408163265305,
          0.3061224489795924,
          0.5102040816326525,
          0.7142857142857135,
          0.9183673469387754,
          1.122448979591837,
          1.3265306122448983,
          1.5306122448979584,
          1.7346938775510203,
          1.9387755102040813,
          2.1428571428571432,
          2.3469387755102042,
          2.5510204081632644,
          2.7551020408163263,
          2.959183673469388,
          3.163265306122449,
          3.36734693877551,
          3.571428571428571,
          3.775510204081632,
          3.9795918367346936,
          4.183673469387756,
          4.387755102040817,
          4.591836734693878,
          4.795918367346939,
          5
         ],
         "y": [
          0.9589242746631385,
          0.9965134486493629,
          0.9927423739155603,
          0.947767568759746,
          0.8634557105758882,
          0.7433061594872825,
          0.5923057175520053,
          0.4167216517535003,
          0.22384157134836102,
          0.02167095595104761,
          -0.1813991115603852,
          -0.37694021658576476,
          -0.5568364337958327,
          -0.7136211782712538,
          -0.8407871057952501,
          -0.9330561999012777,
          -0.9865988357241925,
          -0.9991927284190055,
          -0.9703151689997849,
          -0.901164719354105,
          -0.7946114659823771,
          -0.6550778971785184,
          -0.488355347839557,
          -0.3013636303546202,
          -0.10186382808314005,
          0.10186382808314005,
          0.30136363035462105,
          0.4883553478395566,
          0.655077897178518,
          0.7946114659823771,
          0.901164719354105,
          0.970315168999785,
          0.9991927284190054,
          0.9865988357241925,
          0.9330561999012777,
          0.8407871057952501,
          0.7136211782712533,
          0.556836433795833,
          0.37694021658576476,
          0.1813991115603852,
          -0.02167095595104761,
          -0.22384157134836102,
          -0.41672165175349946,
          -0.5923057175520053,
          -0.7433061594872825,
          -0.8634557105758882,
          -0.947767568759746,
          -0.9927423739155603,
          -0.9965134486493629,
          -0.9589242746631385
         ]
        }
       ],
       "layout": {
        "margin": {
         "b": 50,
         "l": 50,
         "r": 50,
         "t": 60
        }
       }
      },
      "text/html": [
       "<div class='display:none'></div><unsafe-script style='display:none'>\n",
       "WebIO.mount(this.previousSibling,{&quot;props&quot;:{},&quot;nodeType&quot;:&quot;Scope&quot;,&quot;type&quot;:&quot;node&quot;,&quot;instanceArgs&quot;:{&quot;imports&quot;:{&quot;data&quot;:[{&quot;name&quot;:&quot;Plotly&quot;,&quot;type&quot;:&quot;js&quot;,&quot;url&quot;:&quot;/assetserver/5311f9888b884b50e52f4a90fad64eb841288be8-plotly-latest.min.js&quot;},{&quot;name&quot;:null,&quot;type&quot;:&quot;js&quot;,&quot;url&quot;:&quot;/assetserver/5c351a91169f2a19a186af98699dd36a27fe8939-plotly_webio.bundle.js&quot;}],&quot;type&quot;:&quot;async_block&quot;},&quot;id&quot;:&quot;scope-3b7b5466-b047-48cb-bb59-0d19636ea3fe&quot;,&quot;handlers&quot;:{&quot;_toImage&quot;:[(function (options){return this.Plotly.toImage(this.plotElem,options).then((function (data){return WebIO.setval({&quot;name&quot;:&quot;image&quot;,&quot;scope&quot;:&quot;scope-3b7b5466-b047-48cb-bb59-0d19636ea3fe&quot;,&quot;id&quot;:&quot;ob_95&quot;,&quot;type&quot;:&quot;observable&quot;},data)}))})],&quot;__get_gd_contents&quot;:[(function (prop){prop==&quot;data&quot; ? (WebIO.setval({&quot;name&quot;:&quot;__gd_contents&quot;,&quot;scope&quot;:&quot;scope-3b7b5466-b047-48cb-bb59-0d19636ea3fe&quot;,&quot;id&quot;:&quot;ob_96&quot;,&quot;type&quot;:&quot;observable&quot;},this.plotElem.data)) : undefined; return prop==&quot;layout&quot; ? (WebIO.setval({&quot;name&quot;:&quot;__gd_contents&quot;,&quot;scope&quot;:&quot;scope-3b7b5466-b047-48cb-bb59-0d19636ea3fe&quot;,&quot;id&quot;:&quot;ob_96&quot;,&quot;type&quot;:&quot;observable&quot;},this.plotElem.layout)) : undefined})],&quot;_promises&quot;:{&quot;importsLoaded&quot;:[(function (Plotly){var gd=this.dom.querySelector(&quot;#plot-c81dd9f8-7876-4c5e-916b-580464c4a7c5&quot;); this.plotElem=gd; this.Plotly=Plotly; (window.Blink!==undefined) ? (gd.style.width=&quot;100%&quot;, gd.style.height=&quot;100vh&quot;, gd.style.marginLeft=&quot;0%&quot;, gd.style.marginTop=&quot;0vh&quot;) : undefined; window.onresize=(function (){return Plotly.Plots.resize(gd)}); Plotly.newPlot(gd,[{&quot;y&quot;:[0.9589242746631385,0.9965134486493629,0.9927423739155603,0.947767568759746,0.8634557105758882,0.7433061594872825,0.5923057175520053,0.4167216517535003,0.22384157134836102,0.02167095595104761,-0.1813991115603852,-0.37694021658576476,-0.5568364337958327,-0.7136211782712538,-0.8407871057952501,-0.9330561999012777,-0.9865988357241925,-0.9991927284190055,-0.9703151689997849,-0.901164719354105,-0.7946114659823771,-0.6550778971785184,-0.488355347839557,-0.3013636303546202,-0.10186382808314005,0.10186382808314005,0.30136363035462105,0.4883553478395566,0.655077897178518,0.7946114659823771,0.901164719354105,0.970315168999785,0.9991927284190054,0.9865988357241925,0.9330561999012777,0.8407871057952501,0.7136211782712533,0.556836433795833,0.37694021658576476,0.1813991115603852,-0.02167095595104761,-0.22384157134836102,-0.41672165175349946,-0.5923057175520053,-0.7433061594872825,-0.8634557105758882,-0.947767568759746,-0.9927423739155603,-0.9965134486493629,-0.9589242746631385],&quot;type&quot;:&quot;scatter&quot;,&quot;x&quot;:[-5.0,-4.795918367346939,-4.591836734693878,-4.387755102040817,-4.183673469387756,-3.9795918367346936,-3.775510204081632,-3.571428571428572,-3.36734693877551,-3.163265306122449,-2.959183673469388,-2.7551020408163263,-2.551020408163265,-2.3469387755102034,-2.1428571428571432,-1.9387755102040813,-1.734693877551021,-1.5306122448979593,-1.326530612244898,-1.122448979591837,-0.9183673469387754,-0.714285714285714,-0.510204081632653,-0.3061224489795915,-0.1020408163265305,0.1020408163265305,0.3061224489795924,0.5102040816326525,0.7142857142857135,0.9183673469387754,1.122448979591837,1.3265306122448983,1.5306122448979584,1.7346938775510203,1.9387755102040813,2.1428571428571432,2.3469387755102042,2.5510204081632644,2.7551020408163263,2.959183673469388,3.163265306122449,3.36734693877551,3.571428571428571,3.775510204081632,3.9795918367346936,4.183673469387756,4.387755102040817,4.591836734693878,4.795918367346939,5.0]}],{&quot;margin&quot;:{&quot;l&quot;:50,&quot;b&quot;:50,&quot;r&quot;:50,&quot;t&quot;:60}},{}); gd.on(&quot;plotly_hover&quot;,(function (data){var filtered_data=WebIO.PlotlyCommands.filterEventData(gd,data,&quot;hover&quot;); return !(filtered_data.isnil) ? (WebIO.setval({&quot;name&quot;:&quot;hover&quot;,&quot;scope&quot;:&quot;scope-3b7b5466-b047-48cb-bb59-0d19636ea3fe&quot;,&quot;id&quot;:&quot;ob_91&quot;,&quot;type&quot;:&quot;observable&quot;},filtered_data.out)) : undefined})); gd.on(&quot;plotly_unhover&quot;,(function (){return WebIO.setval({&quot;name&quot;:&quot;hover&quot;,&quot;scope&quot;:&quot;scope-3b7b5466-b047-48cb-bb59-0d19636ea3fe&quot;,&quot;id&quot;:&quot;ob_91&quot;,&quot;type&quot;:&quot;observable&quot;},{})})); gd.on(&quot;plotly_selected&quot;,(function (data){var filtered_data=WebIO.PlotlyCommands.filterEventData(gd,data,&quot;selected&quot;); return !(filtered_data.isnil) ? (WebIO.setval({&quot;name&quot;:&quot;selected&quot;,&quot;scope&quot;:&quot;scope-3b7b5466-b047-48cb-bb59-0d19636ea3fe&quot;,&quot;id&quot;:&quot;ob_92&quot;,&quot;type&quot;:&quot;observable&quot;},filtered_data.out)) : undefined})); gd.on(&quot;plotly_deselect&quot;,(function (){return WebIO.setval({&quot;name&quot;:&quot;selected&quot;,&quot;scope&quot;:&quot;scope-3b7b5466-b047-48cb-bb59-0d19636ea3fe&quot;,&quot;id&quot;:&quot;ob_92&quot;,&quot;type&quot;:&quot;observable&quot;},{})})); gd.on(&quot;plotly_relayout&quot;,(function (data){var filtered_data=WebIO.PlotlyCommands.filterEventData(gd,data,&quot;relayout&quot;); return !(filtered_data.isnil) ? (WebIO.setval({&quot;name&quot;:&quot;relayout&quot;,&quot;scope&quot;:&quot;scope-3b7b5466-b047-48cb-bb59-0d19636ea3fe&quot;,&quot;id&quot;:&quot;ob_94&quot;,&quot;type&quot;:&quot;observable&quot;},filtered_data.out)) : undefined})); return gd.on(&quot;plotly_click&quot;,(function (data){var filtered_data=WebIO.PlotlyCommands.filterEventData(gd,data,&quot;click&quot;); return !(filtered_data.isnil) ? (WebIO.setval({&quot;name&quot;:&quot;click&quot;,&quot;scope&quot;:&quot;scope-3b7b5466-b047-48cb-bb59-0d19636ea3fe&quot;,&quot;id&quot;:&quot;ob_93&quot;,&quot;type&quot;:&quot;observable&quot;},filtered_data.out)) : undefined}))})]},&quot;_downloadImage&quot;:[(function (options){return this.Plotly.downloadImage(this.plotElem,options)})],&quot;_commands&quot;:[(function (args){var fn=args.shift(); var elem=this.plotElem; var Plotly=this.Plotly; args.unshift(elem); return Plotly[fn].apply(this,args)})]},&quot;systemjs_options&quot;:null,&quot;observables&quot;:{&quot;_toImage&quot;:{&quot;sync&quot;:false,&quot;id&quot;:&quot;ob_98&quot;,&quot;value&quot;:{}},&quot;hover&quot;:{&quot;sync&quot;:false,&quot;id&quot;:&quot;ob_91&quot;,&quot;value&quot;:{}},&quot;selected&quot;:{&quot;sync&quot;:false,&quot;id&quot;:&quot;ob_92&quot;,&quot;value&quot;:{}},&quot;__gd_contents&quot;:{&quot;sync&quot;:false,&quot;id&quot;:&quot;ob_96&quot;,&quot;value&quot;:{}},&quot;click&quot;:{&quot;sync&quot;:false,&quot;id&quot;:&quot;ob_93&quot;,&quot;value&quot;:{}},&quot;image&quot;:{&quot;sync&quot;:true,&quot;id&quot;:&quot;ob_95&quot;,&quot;value&quot;:&quot;&quot;},&quot;__get_gd_contents&quot;:{&quot;sync&quot;:false,&quot;id&quot;:&quot;ob_100&quot;,&quot;value&quot;:&quot;&quot;},&quot;_downloadImage&quot;:{&quot;sync&quot;:false,&quot;id&quot;:&quot;ob_99&quot;,&quot;value&quot;:{}},&quot;relayout&quot;:{&quot;sync&quot;:false,&quot;id&quot;:&quot;ob_94&quot;,&quot;value&quot;:{}},&quot;_commands&quot;:{&quot;sync&quot;:false,&quot;id&quot;:&quot;ob_97&quot;,&quot;value&quot;:[]}}},&quot;children&quot;:[{&quot;props&quot;:{&quot;id&quot;:&quot;plot-c81dd9f8-7876-4c5e-916b-580464c4a7c5&quot;},&quot;nodeType&quot;:&quot;DOM&quot;,&quot;type&quot;:&quot;node&quot;,&quot;instanceArgs&quot;:{&quot;namespace&quot;:&quot;html&quot;,&quot;tag&quot;:&quot;div&quot;},&quot;children&quot;:[]}]})</unsafe-script>"
      ],
      "text/plain": [
       "data: [\n",
       "  \"scatter with fields type, x, and y\"\n",
       "]\n",
       "\n",
       "layout: \"layout with field margin\"\n",
       "\n"
      ]
     },
     "execution_count": 42,
     "metadata": {},
     "output_type": "execute_result"
    }
   ],
   "source": [
    "plot(x,y1)"
   ]
  },
  {
   "cell_type": "code",
   "execution_count": 44,
   "metadata": {},
   "outputs": [
    {
     "data": {
      "application/vnd.plotly.v1+json": {
       "data": [
        {
         "marker": {
          "color": "red"
         },
         "mode": "markers",
         "type": "scatter",
         "x": [
          1,
          2,
          3,
          4,
          5,
          6,
          7,
          8,
          9,
          10,
          11,
          12,
          13,
          14,
          15,
          16,
          17,
          18,
          19,
          20,
          21,
          22,
          23,
          24,
          25,
          26,
          27,
          28,
          29,
          30,
          31,
          32,
          33,
          34,
          35,
          36,
          37,
          38,
          39,
          40,
          41,
          42,
          43,
          44,
          45,
          46,
          47,
          48,
          49,
          50
         ],
         "y": [
          0.9589242746631385,
          0.9965134486493629,
          0.9927423739155603,
          0.947767568759746,
          0.8634557105758882,
          0.7433061594872825,
          0.5923057175520053,
          0.4167216517535003,
          0.22384157134836102,
          0.02167095595104761,
          -0.1813991115603852,
          -0.37694021658576476,
          -0.5568364337958327,
          -0.7136211782712538,
          -0.8407871057952501,
          -0.9330561999012777,
          -0.9865988357241925,
          -0.9991927284190055,
          -0.9703151689997849,
          -0.901164719354105,
          -0.7946114659823771,
          -0.6550778971785184,
          -0.488355347839557,
          -0.3013636303546202,
          -0.10186382808314005,
          0.10186382808314005,
          0.30136363035462105,
          0.4883553478395566,
          0.655077897178518,
          0.7946114659823771,
          0.901164719354105,
          0.970315168999785,
          0.9991927284190054,
          0.9865988357241925,
          0.9330561999012777,
          0.8407871057952501,
          0.7136211782712533,
          0.556836433795833,
          0.37694021658576476,
          0.1813991115603852,
          -0.02167095595104761,
          -0.22384157134836102,
          -0.41672165175349946,
          -0.5923057175520053,
          -0.7433061594872825,
          -0.8634557105758882,
          -0.947767568759746,
          -0.9927423739155603,
          -0.9965134486493629,
          -0.9589242746631385
         ]
        }
       ],
       "layout": {
        "margin": {
         "b": 50,
         "l": 50,
         "r": 50,
         "t": 60
        }
       }
      },
      "text/html": [
       "<div class='display:none'></div><unsafe-script style='display:none'>\n",
       "WebIO.mount(this.previousSibling,{&quot;props&quot;:{},&quot;nodeType&quot;:&quot;Scope&quot;,&quot;type&quot;:&quot;node&quot;,&quot;instanceArgs&quot;:{&quot;imports&quot;:{&quot;data&quot;:[{&quot;name&quot;:&quot;Plotly&quot;,&quot;type&quot;:&quot;js&quot;,&quot;url&quot;:&quot;/assetserver/5311f9888b884b50e52f4a90fad64eb841288be8-plotly-latest.min.js&quot;},{&quot;name&quot;:null,&quot;type&quot;:&quot;js&quot;,&quot;url&quot;:&quot;/assetserver/5c351a91169f2a19a186af98699dd36a27fe8939-plotly_webio.bundle.js&quot;}],&quot;type&quot;:&quot;async_block&quot;},&quot;id&quot;:&quot;scope-d1d84c4f-fb0b-4444-9ae2-64730bad76ba&quot;,&quot;handlers&quot;:{&quot;_toImage&quot;:[(function (options){return this.Plotly.toImage(this.plotElem,options).then((function (data){return WebIO.setval({&quot;name&quot;:&quot;image&quot;,&quot;scope&quot;:&quot;scope-d1d84c4f-fb0b-4444-9ae2-64730bad76ba&quot;,&quot;id&quot;:&quot;ob_115&quot;,&quot;type&quot;:&quot;observable&quot;},data)}))})],&quot;__get_gd_contents&quot;:[(function (prop){prop==&quot;data&quot; ? (WebIO.setval({&quot;name&quot;:&quot;__gd_contents&quot;,&quot;scope&quot;:&quot;scope-d1d84c4f-fb0b-4444-9ae2-64730bad76ba&quot;,&quot;id&quot;:&quot;ob_116&quot;,&quot;type&quot;:&quot;observable&quot;},this.plotElem.data)) : undefined; return prop==&quot;layout&quot; ? (WebIO.setval({&quot;name&quot;:&quot;__gd_contents&quot;,&quot;scope&quot;:&quot;scope-d1d84c4f-fb0b-4444-9ae2-64730bad76ba&quot;,&quot;id&quot;:&quot;ob_116&quot;,&quot;type&quot;:&quot;observable&quot;},this.plotElem.layout)) : undefined})],&quot;_promises&quot;:{&quot;importsLoaded&quot;:[(function (Plotly){var gd=this.dom.querySelector(&quot;#plot-008f53fa-0b0c-4e82-bc06-510a03ab41fe&quot;); this.plotElem=gd; this.Plotly=Plotly; (window.Blink!==undefined) ? (gd.style.width=&quot;100%&quot;, gd.style.height=&quot;100vh&quot;, gd.style.marginLeft=&quot;0%&quot;, gd.style.marginTop=&quot;0vh&quot;) : undefined; window.onresize=(function (){return Plotly.Plots.resize(gd)}); Plotly.newPlot(gd,[{&quot;marker&quot;:{&quot;color&quot;:&quot;red&quot;},&quot;mode&quot;:&quot;markers&quot;,&quot;y&quot;:[0.9589242746631385,0.9965134486493629,0.9927423739155603,0.947767568759746,0.8634557105758882,0.7433061594872825,0.5923057175520053,0.4167216517535003,0.22384157134836102,0.02167095595104761,-0.1813991115603852,-0.37694021658576476,-0.5568364337958327,-0.7136211782712538,-0.8407871057952501,-0.9330561999012777,-0.9865988357241925,-0.9991927284190055,-0.9703151689997849,-0.901164719354105,-0.7946114659823771,-0.6550778971785184,-0.488355347839557,-0.3013636303546202,-0.10186382808314005,0.10186382808314005,0.30136363035462105,0.4883553478395566,0.655077897178518,0.7946114659823771,0.901164719354105,0.970315168999785,0.9991927284190054,0.9865988357241925,0.9330561999012777,0.8407871057952501,0.7136211782712533,0.556836433795833,0.37694021658576476,0.1813991115603852,-0.02167095595104761,-0.22384157134836102,-0.41672165175349946,-0.5923057175520053,-0.7433061594872825,-0.8634557105758882,-0.947767568759746,-0.9927423739155603,-0.9965134486493629,-0.9589242746631385],&quot;type&quot;:&quot;scatter&quot;,&quot;x&quot;:[1,2,3,4,5,6,7,8,9,10,11,12,13,14,15,16,17,18,19,20,21,22,23,24,25,26,27,28,29,30,31,32,33,34,35,36,37,38,39,40,41,42,43,44,45,46,47,48,49,50]}],{&quot;margin&quot;:{&quot;l&quot;:50,&quot;b&quot;:50,&quot;r&quot;:50,&quot;t&quot;:60}},{}); gd.on(&quot;plotly_hover&quot;,(function (data){var filtered_data=WebIO.PlotlyCommands.filterEventData(gd,data,&quot;hover&quot;); return !(filtered_data.isnil) ? (WebIO.setval({&quot;name&quot;:&quot;hover&quot;,&quot;scope&quot;:&quot;scope-d1d84c4f-fb0b-4444-9ae2-64730bad76ba&quot;,&quot;id&quot;:&quot;ob_111&quot;,&quot;type&quot;:&quot;observable&quot;},filtered_data.out)) : undefined})); gd.on(&quot;plotly_unhover&quot;,(function (){return WebIO.setval({&quot;name&quot;:&quot;hover&quot;,&quot;scope&quot;:&quot;scope-d1d84c4f-fb0b-4444-9ae2-64730bad76ba&quot;,&quot;id&quot;:&quot;ob_111&quot;,&quot;type&quot;:&quot;observable&quot;},{})})); gd.on(&quot;plotly_selected&quot;,(function (data){var filtered_data=WebIO.PlotlyCommands.filterEventData(gd,data,&quot;selected&quot;); return !(filtered_data.isnil) ? (WebIO.setval({&quot;name&quot;:&quot;selected&quot;,&quot;scope&quot;:&quot;scope-d1d84c4f-fb0b-4444-9ae2-64730bad76ba&quot;,&quot;id&quot;:&quot;ob_112&quot;,&quot;type&quot;:&quot;observable&quot;},filtered_data.out)) : undefined})); gd.on(&quot;plotly_deselect&quot;,(function (){return WebIO.setval({&quot;name&quot;:&quot;selected&quot;,&quot;scope&quot;:&quot;scope-d1d84c4f-fb0b-4444-9ae2-64730bad76ba&quot;,&quot;id&quot;:&quot;ob_112&quot;,&quot;type&quot;:&quot;observable&quot;},{})})); gd.on(&quot;plotly_relayout&quot;,(function (data){var filtered_data=WebIO.PlotlyCommands.filterEventData(gd,data,&quot;relayout&quot;); return !(filtered_data.isnil) ? (WebIO.setval({&quot;name&quot;:&quot;relayout&quot;,&quot;scope&quot;:&quot;scope-d1d84c4f-fb0b-4444-9ae2-64730bad76ba&quot;,&quot;id&quot;:&quot;ob_114&quot;,&quot;type&quot;:&quot;observable&quot;},filtered_data.out)) : undefined})); return gd.on(&quot;plotly_click&quot;,(function (data){var filtered_data=WebIO.PlotlyCommands.filterEventData(gd,data,&quot;click&quot;); return !(filtered_data.isnil) ? (WebIO.setval({&quot;name&quot;:&quot;click&quot;,&quot;scope&quot;:&quot;scope-d1d84c4f-fb0b-4444-9ae2-64730bad76ba&quot;,&quot;id&quot;:&quot;ob_113&quot;,&quot;type&quot;:&quot;observable&quot;},filtered_data.out)) : undefined}))})]},&quot;_downloadImage&quot;:[(function (options){return this.Plotly.downloadImage(this.plotElem,options)})],&quot;_commands&quot;:[(function (args){var fn=args.shift(); var elem=this.plotElem; var Plotly=this.Plotly; args.unshift(elem); return Plotly[fn].apply(this,args)})]},&quot;systemjs_options&quot;:null,&quot;observables&quot;:{&quot;_toImage&quot;:{&quot;sync&quot;:false,&quot;id&quot;:&quot;ob_118&quot;,&quot;value&quot;:{}},&quot;hover&quot;:{&quot;sync&quot;:false,&quot;id&quot;:&quot;ob_111&quot;,&quot;value&quot;:{}},&quot;selected&quot;:{&quot;sync&quot;:false,&quot;id&quot;:&quot;ob_112&quot;,&quot;value&quot;:{}},&quot;__gd_contents&quot;:{&quot;sync&quot;:false,&quot;id&quot;:&quot;ob_116&quot;,&quot;value&quot;:{}},&quot;click&quot;:{&quot;sync&quot;:false,&quot;id&quot;:&quot;ob_113&quot;,&quot;value&quot;:{}},&quot;image&quot;:{&quot;sync&quot;:true,&quot;id&quot;:&quot;ob_115&quot;,&quot;value&quot;:&quot;&quot;},&quot;__get_gd_contents&quot;:{&quot;sync&quot;:false,&quot;id&quot;:&quot;ob_120&quot;,&quot;value&quot;:&quot;&quot;},&quot;_downloadImage&quot;:{&quot;sync&quot;:false,&quot;id&quot;:&quot;ob_119&quot;,&quot;value&quot;:{}},&quot;relayout&quot;:{&quot;sync&quot;:false,&quot;id&quot;:&quot;ob_114&quot;,&quot;value&quot;:{}},&quot;_commands&quot;:{&quot;sync&quot;:false,&quot;id&quot;:&quot;ob_117&quot;,&quot;value&quot;:[]}}},&quot;children&quot;:[{&quot;props&quot;:{&quot;id&quot;:&quot;plot-008f53fa-0b0c-4e82-bc06-510a03ab41fe&quot;},&quot;nodeType&quot;:&quot;DOM&quot;,&quot;type&quot;:&quot;node&quot;,&quot;instanceArgs&quot;:{&quot;namespace&quot;:&quot;html&quot;,&quot;tag&quot;:&quot;div&quot;},&quot;children&quot;:[]}]})</unsafe-script>"
      ],
      "text/plain": [
       "data: [\n",
       "  \"scatter with fields marker, mode, type, x, and y\"\n",
       "]\n",
       "\n",
       "layout: \"layout with field margin\"\n",
       "\n"
      ]
     },
     "execution_count": 44,
     "metadata": {},
     "output_type": "execute_result"
    }
   ],
   "source": [
    "# x optional and set attributes with keywords\n",
    "plot(y1, marker_color = \"red\",mode = \"markers\")"
   ]
  },
  {
   "cell_type": "code",
   "execution_count": 46,
   "metadata": {},
   "outputs": [
    {
     "data": {
      "application/vnd.plotly.v1+json": {
       "data": [
        {
         "type": "bar",
         "x": [
          -5,
          -4.795918367346939,
          -4.591836734693878,
          -4.387755102040817,
          -4.183673469387756,
          -3.9795918367346936,
          -3.775510204081632,
          -3.571428571428572,
          -3.36734693877551,
          -3.163265306122449,
          -2.959183673469388,
          -2.7551020408163263,
          -2.551020408163265,
          -2.3469387755102034,
          -2.1428571428571432,
          -1.9387755102040813,
          -1.734693877551021,
          -1.5306122448979593,
          -1.326530612244898,
          -1.122448979591837,
          -0.9183673469387754,
          -0.714285714285714,
          -0.510204081632653,
          -0.3061224489795915,
          -0.1020408163265305,
          0.1020408163265305,
          0.3061224489795924,
          0.5102040816326525,
          0.7142857142857135,
          0.9183673469387754,
          1.122448979591837,
          1.3265306122448983,
          1.5306122448979584,
          1.7346938775510203,
          1.9387755102040813,
          2.1428571428571432,
          2.3469387755102042,
          2.5510204081632644,
          2.7551020408163263,
          2.959183673469388,
          3.163265306122449,
          3.36734693877551,
          3.571428571428571,
          3.775510204081632,
          3.9795918367346936,
          4.183673469387756,
          4.387755102040817,
          4.591836734693878,
          4.795918367346939,
          5
         ],
         "y": [
          0.9589242746631385,
          0.9965134486493629,
          0.9927423739155603,
          0.947767568759746,
          0.8634557105758882,
          0.7433061594872825,
          0.5923057175520053,
          0.4167216517535003,
          0.22384157134836102,
          0.02167095595104761,
          -0.1813991115603852,
          -0.37694021658576476,
          -0.5568364337958327,
          -0.7136211782712538,
          -0.8407871057952501,
          -0.9330561999012777,
          -0.9865988357241925,
          -0.9991927284190055,
          -0.9703151689997849,
          -0.901164719354105,
          -0.7946114659823771,
          -0.6550778971785184,
          -0.488355347839557,
          -0.3013636303546202,
          -0.10186382808314005,
          0.10186382808314005,
          0.30136363035462105,
          0.4883553478395566,
          0.655077897178518,
          0.7946114659823771,
          0.901164719354105,
          0.970315168999785,
          0.9991927284190054,
          0.9865988357241925,
          0.9330561999012777,
          0.8407871057952501,
          0.7136211782712533,
          0.556836433795833,
          0.37694021658576476,
          0.1813991115603852,
          -0.02167095595104761,
          -0.22384157134836102,
          -0.41672165175349946,
          -0.5923057175520053,
          -0.7433061594872825,
          -0.8634557105758882,
          -0.947767568759746,
          -0.9927423739155603,
          -0.9965134486493629,
          -0.9589242746631385
         ]
        },
        {
         "type": "bar",
         "x": [
          -5,
          -4.795918367346939,
          -4.591836734693878,
          -4.387755102040817,
          -4.183673469387756,
          -3.9795918367346936,
          -3.775510204081632,
          -3.571428571428572,
          -3.36734693877551,
          -3.163265306122449,
          -2.959183673469388,
          -2.7551020408163263,
          -2.551020408163265,
          -2.3469387755102034,
          -2.1428571428571432,
          -1.9387755102040813,
          -1.734693877551021,
          -1.5306122448979593,
          -1.326530612244898,
          -1.122448979591837,
          -0.9183673469387754,
          -0.714285714285714,
          -0.510204081632653,
          -0.3061224489795915,
          -0.1020408163265305,
          0.1020408163265305,
          0.3061224489795924,
          0.5102040816326525,
          0.7142857142857135,
          0.9183673469387754,
          1.122448979591837,
          1.3265306122448983,
          1.5306122448979584,
          1.7346938775510203,
          1.9387755102040813,
          2.1428571428571432,
          2.3469387755102042,
          2.5510204081632644,
          2.7551020408163263,
          2.959183673469388,
          3.163265306122449,
          3.36734693877551,
          3.571428571428571,
          3.775510204081632,
          3.9795918367346936,
          4.183673469387756,
          4.387755102040817,
          4.591836734693878,
          4.795918367346939,
          5
         ],
         "y": [
          0.28366218546322625,
          0.08343228788037427,
          -0.12026046329736924,
          -0.3189618090104836,
          -0.5044246582730546,
          -0.6689513833368359,
          -0.8057133094067667,
          -0.9090341385007685,
          -0.9746255439584459,
          -0.9997651572585272,
          -0.9834095598096975,
          -0.9262375899952867,
          -0.8306221680147594,
          -0.7005318079307659,
          -0.5413659046600985,
          -0.3597306323150515,
          -0.1631647552251035,
          0.04017326815910727,
          0.24184390174019046,
          0.4334768143643176,
          0.6071182900632608,
          0.7555613467006967,
          0.8726448614622705,
          0.9535092879985406,
          0.9947983516915619,
          0.9947983516915619,
          0.9535092879985403,
          0.8726448614622707,
          0.7555613467006971,
          0.6071182900632608,
          0.4334768143643176,
          0.24184390174019024,
          0.040173268159108155,
          -0.16316475522510288,
          -0.3597306323150515,
          -0.5413659046600985,
          -0.7005318079307664,
          -0.8306221680147592,
          -0.9262375899952867,
          -0.9834095598096975,
          -0.9997651572585272,
          -0.9746255439584459,
          -0.9090341385007689,
          -0.8057133094067667,
          -0.6689513833368359,
          -0.5044246582730546,
          -0.3189618090104836,
          -0.12026046329736924,
          0.08343228788037427,
          0.28366218546322625
         ]
        }
       ],
       "layout": {
        "margin": {
         "b": 50,
         "l": 50,
         "r": 50,
         "t": 60
        }
       }
      },
      "text/html": [
       "<div class='display:none'></div><unsafe-script style='display:none'>\n",
       "WebIO.mount(this.previousSibling,{&quot;props&quot;:{},&quot;nodeType&quot;:&quot;Scope&quot;,&quot;type&quot;:&quot;node&quot;,&quot;instanceArgs&quot;:{&quot;imports&quot;:{&quot;data&quot;:[{&quot;name&quot;:&quot;Plotly&quot;,&quot;type&quot;:&quot;js&quot;,&quot;url&quot;:&quot;/assetserver/5311f9888b884b50e52f4a90fad64eb841288be8-plotly-latest.min.js&quot;},{&quot;name&quot;:null,&quot;type&quot;:&quot;js&quot;,&quot;url&quot;:&quot;/assetserver/5c351a91169f2a19a186af98699dd36a27fe8939-plotly_webio.bundle.js&quot;}],&quot;type&quot;:&quot;async_block&quot;},&quot;id&quot;:&quot;scope-ba0b5f99-3871-4734-bb7e-7e93ea2da779&quot;,&quot;handlers&quot;:{&quot;_toImage&quot;:[(function (options){return this.Plotly.toImage(this.plotElem,options).then((function (data){return WebIO.setval({&quot;name&quot;:&quot;image&quot;,&quot;scope&quot;:&quot;scope-ba0b5f99-3871-4734-bb7e-7e93ea2da779&quot;,&quot;id&quot;:&quot;ob_135&quot;,&quot;type&quot;:&quot;observable&quot;},data)}))})],&quot;__get_gd_contents&quot;:[(function (prop){prop==&quot;data&quot; ? (WebIO.setval({&quot;name&quot;:&quot;__gd_contents&quot;,&quot;scope&quot;:&quot;scope-ba0b5f99-3871-4734-bb7e-7e93ea2da779&quot;,&quot;id&quot;:&quot;ob_136&quot;,&quot;type&quot;:&quot;observable&quot;},this.plotElem.data)) : undefined; return prop==&quot;layout&quot; ? (WebIO.setval({&quot;name&quot;:&quot;__gd_contents&quot;,&quot;scope&quot;:&quot;scope-ba0b5f99-3871-4734-bb7e-7e93ea2da779&quot;,&quot;id&quot;:&quot;ob_136&quot;,&quot;type&quot;:&quot;observable&quot;},this.plotElem.layout)) : undefined})],&quot;_promises&quot;:{&quot;importsLoaded&quot;:[(function (Plotly){var gd=this.dom.querySelector(&quot;#plot-b137492d-8c21-4a68-8d6a-fc479c903342&quot;); this.plotElem=gd; this.Plotly=Plotly; (window.Blink!==undefined) ? (gd.style.width=&quot;100%&quot;, gd.style.height=&quot;100vh&quot;, gd.style.marginLeft=&quot;0%&quot;, gd.style.marginTop=&quot;0vh&quot;) : undefined; window.onresize=(function (){return Plotly.Plots.resize(gd)}); Plotly.newPlot(gd,[{&quot;y&quot;:[0.9589242746631385,0.9965134486493629,0.9927423739155603,0.947767568759746,0.8634557105758882,0.7433061594872825,0.5923057175520053,0.4167216517535003,0.22384157134836102,0.02167095595104761,-0.1813991115603852,-0.37694021658576476,-0.5568364337958327,-0.7136211782712538,-0.8407871057952501,-0.9330561999012777,-0.9865988357241925,-0.9991927284190055,-0.9703151689997849,-0.901164719354105,-0.7946114659823771,-0.6550778971785184,-0.488355347839557,-0.3013636303546202,-0.10186382808314005,0.10186382808314005,0.30136363035462105,0.4883553478395566,0.655077897178518,0.7946114659823771,0.901164719354105,0.970315168999785,0.9991927284190054,0.9865988357241925,0.9330561999012777,0.8407871057952501,0.7136211782712533,0.556836433795833,0.37694021658576476,0.1813991115603852,-0.02167095595104761,-0.22384157134836102,-0.41672165175349946,-0.5923057175520053,-0.7433061594872825,-0.8634557105758882,-0.947767568759746,-0.9927423739155603,-0.9965134486493629,-0.9589242746631385],&quot;type&quot;:&quot;bar&quot;,&quot;x&quot;:[-5.0,-4.795918367346939,-4.591836734693878,-4.387755102040817,-4.183673469387756,-3.9795918367346936,-3.775510204081632,-3.571428571428572,-3.36734693877551,-3.163265306122449,-2.959183673469388,-2.7551020408163263,-2.551020408163265,-2.3469387755102034,-2.1428571428571432,-1.9387755102040813,-1.734693877551021,-1.5306122448979593,-1.326530612244898,-1.122448979591837,-0.9183673469387754,-0.714285714285714,-0.510204081632653,-0.3061224489795915,-0.1020408163265305,0.1020408163265305,0.3061224489795924,0.5102040816326525,0.7142857142857135,0.9183673469387754,1.122448979591837,1.3265306122448983,1.5306122448979584,1.7346938775510203,1.9387755102040813,2.1428571428571432,2.3469387755102042,2.5510204081632644,2.7551020408163263,2.959183673469388,3.163265306122449,3.36734693877551,3.571428571428571,3.775510204081632,3.9795918367346936,4.183673469387756,4.387755102040817,4.591836734693878,4.795918367346939,5.0]},{&quot;y&quot;:[0.28366218546322625,0.08343228788037427,-0.12026046329736924,-0.3189618090104836,-0.5044246582730546,-0.6689513833368359,-0.8057133094067667,-0.9090341385007685,-0.9746255439584459,-0.9997651572585272,-0.9834095598096975,-0.9262375899952867,-0.8306221680147594,-0.7005318079307659,-0.5413659046600985,-0.3597306323150515,-0.1631647552251035,0.04017326815910727,0.24184390174019046,0.4334768143643176,0.6071182900632608,0.7555613467006967,0.8726448614622705,0.9535092879985406,0.9947983516915619,0.9947983516915619,0.9535092879985403,0.8726448614622707,0.7555613467006971,0.6071182900632608,0.4334768143643176,0.24184390174019024,0.040173268159108155,-0.16316475522510288,-0.3597306323150515,-0.5413659046600985,-0.7005318079307664,-0.8306221680147592,-0.9262375899952867,-0.9834095598096975,-0.9997651572585272,-0.9746255439584459,-0.9090341385007689,-0.8057133094067667,-0.6689513833368359,-0.5044246582730546,-0.3189618090104836,-0.12026046329736924,0.08343228788037427,0.28366218546322625],&quot;type&quot;:&quot;bar&quot;,&quot;x&quot;:[-5.0,-4.795918367346939,-4.591836734693878,-4.387755102040817,-4.183673469387756,-3.9795918367346936,-3.775510204081632,-3.571428571428572,-3.36734693877551,-3.163265306122449,-2.959183673469388,-2.7551020408163263,-2.551020408163265,-2.3469387755102034,-2.1428571428571432,-1.9387755102040813,-1.734693877551021,-1.5306122448979593,-1.326530612244898,-1.122448979591837,-0.9183673469387754,-0.714285714285714,-0.510204081632653,-0.3061224489795915,-0.1020408163265305,0.1020408163265305,0.3061224489795924,0.5102040816326525,0.7142857142857135,0.9183673469387754,1.122448979591837,1.3265306122448983,1.5306122448979584,1.7346938775510203,1.9387755102040813,2.1428571428571432,2.3469387755102042,2.5510204081632644,2.7551020408163263,2.959183673469388,3.163265306122449,3.36734693877551,3.571428571428571,3.775510204081632,3.9795918367346936,4.183673469387756,4.387755102040817,4.591836734693878,4.795918367346939,5.0]}],{&quot;margin&quot;:{&quot;l&quot;:50,&quot;b&quot;:50,&quot;r&quot;:50,&quot;t&quot;:60}},{}); gd.on(&quot;plotly_hover&quot;,(function (data){var filtered_data=WebIO.PlotlyCommands.filterEventData(gd,data,&quot;hover&quot;); return !(filtered_data.isnil) ? (WebIO.setval({&quot;name&quot;:&quot;hover&quot;,&quot;scope&quot;:&quot;scope-ba0b5f99-3871-4734-bb7e-7e93ea2da779&quot;,&quot;id&quot;:&quot;ob_131&quot;,&quot;type&quot;:&quot;observable&quot;},filtered_data.out)) : undefined})); gd.on(&quot;plotly_unhover&quot;,(function (){return WebIO.setval({&quot;name&quot;:&quot;hover&quot;,&quot;scope&quot;:&quot;scope-ba0b5f99-3871-4734-bb7e-7e93ea2da779&quot;,&quot;id&quot;:&quot;ob_131&quot;,&quot;type&quot;:&quot;observable&quot;},{})})); gd.on(&quot;plotly_selected&quot;,(function (data){var filtered_data=WebIO.PlotlyCommands.filterEventData(gd,data,&quot;selected&quot;); return !(filtered_data.isnil) ? (WebIO.setval({&quot;name&quot;:&quot;selected&quot;,&quot;scope&quot;:&quot;scope-ba0b5f99-3871-4734-bb7e-7e93ea2da779&quot;,&quot;id&quot;:&quot;ob_132&quot;,&quot;type&quot;:&quot;observable&quot;},filtered_data.out)) : undefined})); gd.on(&quot;plotly_deselect&quot;,(function (){return WebIO.setval({&quot;name&quot;:&quot;selected&quot;,&quot;scope&quot;:&quot;scope-ba0b5f99-3871-4734-bb7e-7e93ea2da779&quot;,&quot;id&quot;:&quot;ob_132&quot;,&quot;type&quot;:&quot;observable&quot;},{})})); gd.on(&quot;plotly_relayout&quot;,(function (data){var filtered_data=WebIO.PlotlyCommands.filterEventData(gd,data,&quot;relayout&quot;); return !(filtered_data.isnil) ? (WebIO.setval({&quot;name&quot;:&quot;relayout&quot;,&quot;scope&quot;:&quot;scope-ba0b5f99-3871-4734-bb7e-7e93ea2da779&quot;,&quot;id&quot;:&quot;ob_134&quot;,&quot;type&quot;:&quot;observable&quot;},filtered_data.out)) : undefined})); return gd.on(&quot;plotly_click&quot;,(function (data){var filtered_data=WebIO.PlotlyCommands.filterEventData(gd,data,&quot;click&quot;); return !(filtered_data.isnil) ? (WebIO.setval({&quot;name&quot;:&quot;click&quot;,&quot;scope&quot;:&quot;scope-ba0b5f99-3871-4734-bb7e-7e93ea2da779&quot;,&quot;id&quot;:&quot;ob_133&quot;,&quot;type&quot;:&quot;observable&quot;},filtered_data.out)) : undefined}))})]},&quot;_downloadImage&quot;:[(function (options){return this.Plotly.downloadImage(this.plotElem,options)})],&quot;_commands&quot;:[(function (args){var fn=args.shift(); var elem=this.plotElem; var Plotly=this.Plotly; args.unshift(elem); return Plotly[fn].apply(this,args)})]},&quot;systemjs_options&quot;:null,&quot;observables&quot;:{&quot;_toImage&quot;:{&quot;sync&quot;:false,&quot;id&quot;:&quot;ob_138&quot;,&quot;value&quot;:{}},&quot;hover&quot;:{&quot;sync&quot;:false,&quot;id&quot;:&quot;ob_131&quot;,&quot;value&quot;:{}},&quot;selected&quot;:{&quot;sync&quot;:false,&quot;id&quot;:&quot;ob_132&quot;,&quot;value&quot;:{}},&quot;__gd_contents&quot;:{&quot;sync&quot;:false,&quot;id&quot;:&quot;ob_136&quot;,&quot;value&quot;:{}},&quot;click&quot;:{&quot;sync&quot;:false,&quot;id&quot;:&quot;ob_133&quot;,&quot;value&quot;:{}},&quot;image&quot;:{&quot;sync&quot;:true,&quot;id&quot;:&quot;ob_135&quot;,&quot;value&quot;:&quot;&quot;},&quot;__get_gd_contents&quot;:{&quot;sync&quot;:false,&quot;id&quot;:&quot;ob_140&quot;,&quot;value&quot;:&quot;&quot;},&quot;_downloadImage&quot;:{&quot;sync&quot;:false,&quot;id&quot;:&quot;ob_139&quot;,&quot;value&quot;:{}},&quot;relayout&quot;:{&quot;sync&quot;:false,&quot;id&quot;:&quot;ob_134&quot;,&quot;value&quot;:{}},&quot;_commands&quot;:{&quot;sync&quot;:false,&quot;id&quot;:&quot;ob_137&quot;,&quot;value&quot;:[]}}},&quot;children&quot;:[{&quot;props&quot;:{&quot;id&quot;:&quot;plot-b137492d-8c21-4a68-8d6a-fc479c903342&quot;},&quot;nodeType&quot;:&quot;DOM&quot;,&quot;type&quot;:&quot;node&quot;,&quot;instanceArgs&quot;:{&quot;namespace&quot;:&quot;html&quot;,&quot;tag&quot;:&quot;div&quot;},&quot;children&quot;:[]}]})</unsafe-script>"
      ],
      "text/plain": [
       "data: [\n",
       "  \"bar with fields type, x, and y\",\n",
       "  \"bar with fields type, x, and y\"\n",
       "]\n",
       "\n",
       "layout: \"layout with field margin\"\n",
       "\n"
      ]
     },
     "execution_count": 46,
     "metadata": {},
     "output_type": "execute_result"
    }
   ],
   "source": [
    "# columns become traces\n",
    "plot(x, [y1 y2], kind = \"bar\")"
   ]
  },
  {
   "cell_type": "code",
   "execution_count": 47,
   "metadata": {},
   "outputs": [
    {
     "data": {
      "application/vnd.plotly.v1+json": {
       "data": [
        {
         "type": "bar",
         "x": [
          -5,
          -4.795918367346939,
          -4.591836734693878,
          -4.387755102040817,
          -4.183673469387756,
          -3.9795918367346936,
          -3.775510204081632,
          -3.571428571428572,
          -3.36734693877551,
          -3.163265306122449,
          -2.959183673469388,
          -2.7551020408163263,
          -2.551020408163265,
          -2.3469387755102034,
          -2.1428571428571432,
          -1.9387755102040813,
          -1.734693877551021,
          -1.5306122448979593,
          -1.326530612244898,
          -1.122448979591837,
          -0.9183673469387754,
          -0.714285714285714,
          -0.510204081632653,
          -0.3061224489795915,
          -0.1020408163265305,
          0.1020408163265305,
          0.3061224489795924,
          0.5102040816326525,
          0.7142857142857135,
          0.9183673469387754,
          1.122448979591837,
          1.3265306122448983,
          1.5306122448979584,
          1.7346938775510203,
          1.9387755102040813,
          2.1428571428571432,
          2.3469387755102042,
          2.5510204081632644,
          2.7551020408163263,
          2.959183673469388,
          3.163265306122449,
          3.36734693877551,
          3.571428571428571,
          3.775510204081632,
          3.9795918367346936,
          4.183673469387756,
          4.387755102040817,
          4.591836734693878,
          4.795918367346939,
          5
         ],
         "y": [
          0.9589242746631385,
          0.9965134486493629,
          0.9927423739155603,
          0.947767568759746,
          0.8634557105758882,
          0.7433061594872825,
          0.5923057175520053,
          0.4167216517535003,
          0.22384157134836102,
          0.02167095595104761,
          -0.1813991115603852,
          -0.37694021658576476,
          -0.5568364337958327,
          -0.7136211782712538,
          -0.8407871057952501,
          -0.9330561999012777,
          -0.9865988357241925,
          -0.9991927284190055,
          -0.9703151689997849,
          -0.901164719354105,
          -0.7946114659823771,
          -0.6550778971785184,
          -0.488355347839557,
          -0.3013636303546202,
          -0.10186382808314005,
          0.10186382808314005,
          0.30136363035462105,
          0.4883553478395566,
          0.655077897178518,
          0.7946114659823771,
          0.901164719354105,
          0.970315168999785,
          0.9991927284190054,
          0.9865988357241925,
          0.9330561999012777,
          0.8407871057952501,
          0.7136211782712533,
          0.556836433795833,
          0.37694021658576476,
          0.1813991115603852,
          -0.02167095595104761,
          -0.22384157134836102,
          -0.41672165175349946,
          -0.5923057175520053,
          -0.7433061594872825,
          -0.8634557105758882,
          -0.947767568759746,
          -0.9927423739155603,
          -0.9965134486493629,
          -0.9589242746631385
         ]
        },
        {
         "type": "bar",
         "x": [
          -5,
          -4.795918367346939,
          -4.591836734693878,
          -4.387755102040817,
          -4.183673469387756,
          -3.9795918367346936,
          -3.775510204081632,
          -3.571428571428572,
          -3.36734693877551,
          -3.163265306122449,
          -2.959183673469388,
          -2.7551020408163263,
          -2.551020408163265,
          -2.3469387755102034,
          -2.1428571428571432,
          -1.9387755102040813,
          -1.734693877551021,
          -1.5306122448979593,
          -1.326530612244898,
          -1.122448979591837,
          -0.9183673469387754,
          -0.714285714285714,
          -0.510204081632653,
          -0.3061224489795915,
          -0.1020408163265305,
          0.1020408163265305,
          0.3061224489795924,
          0.5102040816326525,
          0.7142857142857135,
          0.9183673469387754,
          1.122448979591837,
          1.3265306122448983,
          1.5306122448979584,
          1.7346938775510203,
          1.9387755102040813,
          2.1428571428571432,
          2.3469387755102042,
          2.5510204081632644,
          2.7551020408163263,
          2.959183673469388,
          3.163265306122449,
          3.36734693877551,
          3.571428571428571,
          3.775510204081632,
          3.9795918367346936,
          4.183673469387756,
          4.387755102040817,
          4.591836734693878,
          4.795918367346939,
          5
         ],
         "y": [
          0.28366218546322625,
          0.08343228788037427,
          -0.12026046329736924,
          -0.3189618090104836,
          -0.5044246582730546,
          -0.6689513833368359,
          -0.8057133094067667,
          -0.9090341385007685,
          -0.9746255439584459,
          -0.9997651572585272,
          -0.9834095598096975,
          -0.9262375899952867,
          -0.8306221680147594,
          -0.7005318079307659,
          -0.5413659046600985,
          -0.3597306323150515,
          -0.1631647552251035,
          0.04017326815910727,
          0.24184390174019046,
          0.4334768143643176,
          0.6071182900632608,
          0.7555613467006967,
          0.8726448614622705,
          0.9535092879985406,
          0.9947983516915619,
          0.9947983516915619,
          0.9535092879985403,
          0.8726448614622707,
          0.7555613467006971,
          0.6071182900632608,
          0.4334768143643176,
          0.24184390174019024,
          0.040173268159108155,
          -0.16316475522510288,
          -0.3597306323150515,
          -0.5413659046600985,
          -0.7005318079307664,
          -0.8306221680147592,
          -0.9262375899952867,
          -0.9834095598096975,
          -0.9997651572585272,
          -0.9746255439584459,
          -0.9090341385007689,
          -0.8057133094067667,
          -0.6689513833368359,
          -0.5044246582730546,
          -0.3189618090104836,
          -0.12026046329736924,
          0.08343228788037427,
          0.28366218546322625
         ]
        }
       ],
       "layout": {
        "margin": {
         "b": 50,
         "l": 50,
         "r": 50,
         "t": 60
        },
        "title": "My sinusoids"
       }
      },
      "text/html": [
       "<div class='display:none'></div><unsafe-script style='display:none'>\n",
       "WebIO.mount(this.previousSibling,{&quot;props&quot;:{},&quot;nodeType&quot;:&quot;Scope&quot;,&quot;type&quot;:&quot;node&quot;,&quot;instanceArgs&quot;:{&quot;imports&quot;:{&quot;data&quot;:[{&quot;name&quot;:&quot;Plotly&quot;,&quot;type&quot;:&quot;js&quot;,&quot;url&quot;:&quot;/assetserver/5311f9888b884b50e52f4a90fad64eb841288be8-plotly-latest.min.js&quot;},{&quot;name&quot;:null,&quot;type&quot;:&quot;js&quot;,&quot;url&quot;:&quot;/assetserver/5c351a91169f2a19a186af98699dd36a27fe8939-plotly_webio.bundle.js&quot;}],&quot;type&quot;:&quot;async_block&quot;},&quot;id&quot;:&quot;scope-8b421282-a7fc-4e67-90b7-d4b8fb15bf5b&quot;,&quot;handlers&quot;:{&quot;_toImage&quot;:[(function (options){return this.Plotly.toImage(this.plotElem,options).then((function (data){return WebIO.setval({&quot;name&quot;:&quot;image&quot;,&quot;scope&quot;:&quot;scope-8b421282-a7fc-4e67-90b7-d4b8fb15bf5b&quot;,&quot;id&quot;:&quot;ob_145&quot;,&quot;type&quot;:&quot;observable&quot;},data)}))})],&quot;__get_gd_contents&quot;:[(function (prop){prop==&quot;data&quot; ? (WebIO.setval({&quot;name&quot;:&quot;__gd_contents&quot;,&quot;scope&quot;:&quot;scope-8b421282-a7fc-4e67-90b7-d4b8fb15bf5b&quot;,&quot;id&quot;:&quot;ob_146&quot;,&quot;type&quot;:&quot;observable&quot;},this.plotElem.data)) : undefined; return prop==&quot;layout&quot; ? (WebIO.setval({&quot;name&quot;:&quot;__gd_contents&quot;,&quot;scope&quot;:&quot;scope-8b421282-a7fc-4e67-90b7-d4b8fb15bf5b&quot;,&quot;id&quot;:&quot;ob_146&quot;,&quot;type&quot;:&quot;observable&quot;},this.plotElem.layout)) : undefined})],&quot;_promises&quot;:{&quot;importsLoaded&quot;:[(function (Plotly){var gd=this.dom.querySelector(&quot;#plot-64d0cb62-08fb-4594-8eb3-d70eea7f33ba&quot;); this.plotElem=gd; this.Plotly=Plotly; (window.Blink!==undefined) ? (gd.style.width=&quot;100%&quot;, gd.style.height=&quot;100vh&quot;, gd.style.marginLeft=&quot;0%&quot;, gd.style.marginTop=&quot;0vh&quot;) : undefined; window.onresize=(function (){return Plotly.Plots.resize(gd)}); Plotly.newPlot(gd,[{&quot;y&quot;:[0.9589242746631385,0.9965134486493629,0.9927423739155603,0.947767568759746,0.8634557105758882,0.7433061594872825,0.5923057175520053,0.4167216517535003,0.22384157134836102,0.02167095595104761,-0.1813991115603852,-0.37694021658576476,-0.5568364337958327,-0.7136211782712538,-0.8407871057952501,-0.9330561999012777,-0.9865988357241925,-0.9991927284190055,-0.9703151689997849,-0.901164719354105,-0.7946114659823771,-0.6550778971785184,-0.488355347839557,-0.3013636303546202,-0.10186382808314005,0.10186382808314005,0.30136363035462105,0.4883553478395566,0.655077897178518,0.7946114659823771,0.901164719354105,0.970315168999785,0.9991927284190054,0.9865988357241925,0.9330561999012777,0.8407871057952501,0.7136211782712533,0.556836433795833,0.37694021658576476,0.1813991115603852,-0.02167095595104761,-0.22384157134836102,-0.41672165175349946,-0.5923057175520053,-0.7433061594872825,-0.8634557105758882,-0.947767568759746,-0.9927423739155603,-0.9965134486493629,-0.9589242746631385],&quot;type&quot;:&quot;bar&quot;,&quot;x&quot;:[-5.0,-4.795918367346939,-4.591836734693878,-4.387755102040817,-4.183673469387756,-3.9795918367346936,-3.775510204081632,-3.571428571428572,-3.36734693877551,-3.163265306122449,-2.959183673469388,-2.7551020408163263,-2.551020408163265,-2.3469387755102034,-2.1428571428571432,-1.9387755102040813,-1.734693877551021,-1.5306122448979593,-1.326530612244898,-1.122448979591837,-0.9183673469387754,-0.714285714285714,-0.510204081632653,-0.3061224489795915,-0.1020408163265305,0.1020408163265305,0.3061224489795924,0.5102040816326525,0.7142857142857135,0.9183673469387754,1.122448979591837,1.3265306122448983,1.5306122448979584,1.7346938775510203,1.9387755102040813,2.1428571428571432,2.3469387755102042,2.5510204081632644,2.7551020408163263,2.959183673469388,3.163265306122449,3.36734693877551,3.571428571428571,3.775510204081632,3.9795918367346936,4.183673469387756,4.387755102040817,4.591836734693878,4.795918367346939,5.0]},{&quot;y&quot;:[0.28366218546322625,0.08343228788037427,-0.12026046329736924,-0.3189618090104836,-0.5044246582730546,-0.6689513833368359,-0.8057133094067667,-0.9090341385007685,-0.9746255439584459,-0.9997651572585272,-0.9834095598096975,-0.9262375899952867,-0.8306221680147594,-0.7005318079307659,-0.5413659046600985,-0.3597306323150515,-0.1631647552251035,0.04017326815910727,0.24184390174019046,0.4334768143643176,0.6071182900632608,0.7555613467006967,0.8726448614622705,0.9535092879985406,0.9947983516915619,0.9947983516915619,0.9535092879985403,0.8726448614622707,0.7555613467006971,0.6071182900632608,0.4334768143643176,0.24184390174019024,0.040173268159108155,-0.16316475522510288,-0.3597306323150515,-0.5413659046600985,-0.7005318079307664,-0.8306221680147592,-0.9262375899952867,-0.9834095598096975,-0.9997651572585272,-0.9746255439584459,-0.9090341385007689,-0.8057133094067667,-0.6689513833368359,-0.5044246582730546,-0.3189618090104836,-0.12026046329736924,0.08343228788037427,0.28366218546322625],&quot;type&quot;:&quot;bar&quot;,&quot;x&quot;:[-5.0,-4.795918367346939,-4.591836734693878,-4.387755102040817,-4.183673469387756,-3.9795918367346936,-3.775510204081632,-3.571428571428572,-3.36734693877551,-3.163265306122449,-2.959183673469388,-2.7551020408163263,-2.551020408163265,-2.3469387755102034,-2.1428571428571432,-1.9387755102040813,-1.734693877551021,-1.5306122448979593,-1.326530612244898,-1.122448979591837,-0.9183673469387754,-0.714285714285714,-0.510204081632653,-0.3061224489795915,-0.1020408163265305,0.1020408163265305,0.3061224489795924,0.5102040816326525,0.7142857142857135,0.9183673469387754,1.122448979591837,1.3265306122448983,1.5306122448979584,1.7346938775510203,1.9387755102040813,2.1428571428571432,2.3469387755102042,2.5510204081632644,2.7551020408163263,2.959183673469388,3.163265306122449,3.36734693877551,3.571428571428571,3.775510204081632,3.9795918367346936,4.183673469387756,4.387755102040817,4.591836734693878,4.795918367346939,5.0]}],{&quot;margin&quot;:{&quot;l&quot;:50,&quot;b&quot;:50,&quot;r&quot;:50,&quot;t&quot;:60},&quot;title&quot;:&quot;My sinusoids&quot;},{}); gd.on(&quot;plotly_hover&quot;,(function (data){var filtered_data=WebIO.PlotlyCommands.filterEventData(gd,data,&quot;hover&quot;); return !(filtered_data.isnil) ? (WebIO.setval({&quot;name&quot;:&quot;hover&quot;,&quot;scope&quot;:&quot;scope-8b421282-a7fc-4e67-90b7-d4b8fb15bf5b&quot;,&quot;id&quot;:&quot;ob_141&quot;,&quot;type&quot;:&quot;observable&quot;},filtered_data.out)) : undefined})); gd.on(&quot;plotly_unhover&quot;,(function (){return WebIO.setval({&quot;name&quot;:&quot;hover&quot;,&quot;scope&quot;:&quot;scope-8b421282-a7fc-4e67-90b7-d4b8fb15bf5b&quot;,&quot;id&quot;:&quot;ob_141&quot;,&quot;type&quot;:&quot;observable&quot;},{})})); gd.on(&quot;plotly_selected&quot;,(function (data){var filtered_data=WebIO.PlotlyCommands.filterEventData(gd,data,&quot;selected&quot;); return !(filtered_data.isnil) ? (WebIO.setval({&quot;name&quot;:&quot;selected&quot;,&quot;scope&quot;:&quot;scope-8b421282-a7fc-4e67-90b7-d4b8fb15bf5b&quot;,&quot;id&quot;:&quot;ob_142&quot;,&quot;type&quot;:&quot;observable&quot;},filtered_data.out)) : undefined})); gd.on(&quot;plotly_deselect&quot;,(function (){return WebIO.setval({&quot;name&quot;:&quot;selected&quot;,&quot;scope&quot;:&quot;scope-8b421282-a7fc-4e67-90b7-d4b8fb15bf5b&quot;,&quot;id&quot;:&quot;ob_142&quot;,&quot;type&quot;:&quot;observable&quot;},{})})); gd.on(&quot;plotly_relayout&quot;,(function (data){var filtered_data=WebIO.PlotlyCommands.filterEventData(gd,data,&quot;relayout&quot;); return !(filtered_data.isnil) ? (WebIO.setval({&quot;name&quot;:&quot;relayout&quot;,&quot;scope&quot;:&quot;scope-8b421282-a7fc-4e67-90b7-d4b8fb15bf5b&quot;,&quot;id&quot;:&quot;ob_144&quot;,&quot;type&quot;:&quot;observable&quot;},filtered_data.out)) : undefined})); return gd.on(&quot;plotly_click&quot;,(function (data){var filtered_data=WebIO.PlotlyCommands.filterEventData(gd,data,&quot;click&quot;); return !(filtered_data.isnil) ? (WebIO.setval({&quot;name&quot;:&quot;click&quot;,&quot;scope&quot;:&quot;scope-8b421282-a7fc-4e67-90b7-d4b8fb15bf5b&quot;,&quot;id&quot;:&quot;ob_143&quot;,&quot;type&quot;:&quot;observable&quot;},filtered_data.out)) : undefined}))})]},&quot;_downloadImage&quot;:[(function (options){return this.Plotly.downloadImage(this.plotElem,options)})],&quot;_commands&quot;:[(function (args){var fn=args.shift(); var elem=this.plotElem; var Plotly=this.Plotly; args.unshift(elem); return Plotly[fn].apply(this,args)})]},&quot;systemjs_options&quot;:null,&quot;observables&quot;:{&quot;_toImage&quot;:{&quot;sync&quot;:false,&quot;id&quot;:&quot;ob_148&quot;,&quot;value&quot;:{}},&quot;hover&quot;:{&quot;sync&quot;:false,&quot;id&quot;:&quot;ob_141&quot;,&quot;value&quot;:{}},&quot;selected&quot;:{&quot;sync&quot;:false,&quot;id&quot;:&quot;ob_142&quot;,&quot;value&quot;:{}},&quot;__gd_contents&quot;:{&quot;sync&quot;:false,&quot;id&quot;:&quot;ob_146&quot;,&quot;value&quot;:{}},&quot;click&quot;:{&quot;sync&quot;:false,&quot;id&quot;:&quot;ob_143&quot;,&quot;value&quot;:{}},&quot;image&quot;:{&quot;sync&quot;:true,&quot;id&quot;:&quot;ob_145&quot;,&quot;value&quot;:&quot;&quot;},&quot;__get_gd_contents&quot;:{&quot;sync&quot;:false,&quot;id&quot;:&quot;ob_150&quot;,&quot;value&quot;:&quot;&quot;},&quot;_downloadImage&quot;:{&quot;sync&quot;:false,&quot;id&quot;:&quot;ob_149&quot;,&quot;value&quot;:{}},&quot;relayout&quot;:{&quot;sync&quot;:false,&quot;id&quot;:&quot;ob_144&quot;,&quot;value&quot;:{}},&quot;_commands&quot;:{&quot;sync&quot;:false,&quot;id&quot;:&quot;ob_147&quot;,&quot;value&quot;:[]}}},&quot;children&quot;:[{&quot;props&quot;:{&quot;id&quot;:&quot;plot-64d0cb62-08fb-4594-8eb3-d70eea7f33ba&quot;},&quot;nodeType&quot;:&quot;DOM&quot;,&quot;type&quot;:&quot;node&quot;,&quot;instanceArgs&quot;:{&quot;namespace&quot;:&quot;html&quot;,&quot;tag&quot;:&quot;div&quot;},&quot;children&quot;:[]}]})</unsafe-script>"
      ],
      "text/plain": [
       "data: [\n",
       "  \"bar with fields type, x, and y\",\n",
       "  \"bar with fields type, x, and y\"\n",
       "]\n",
       "\n",
       "layout: \"layout with fields margin and title\"\n",
       "\n"
      ]
     },
     "execution_count": 47,
     "metadata": {},
     "output_type": "execute_result"
    }
   ],
   "source": [
    "plot(x, [y1 y2], kind = \"bar\", Layout(title = \"My sinusoids\"))"
   ]
  },
  {
   "cell_type": "markdown",
   "metadata": {},
   "source": [
    "### Sub Plots"
   ]
  },
  {
   "cell_type": "markdown",
   "metadata": {},
   "source": [
    "* Declarative APIs for subplots can be verbose\n",
    "* PlotlyJS.jl tries to make this easier for you\n",
    "* Suppose you have to create 4 plots using plot:\n",
    "    * p1 = plot(...)\n",
    "    * p2 = plot(...)\n",
    "    * p3 = plot(...)\n",
    "    * p4 = plot(...)\n",
    "* You can combine them into subplots using familiar (h | v | hv) cat syntax :\n",
    "\n",
    "* [p1 p2] # 1 row 2 cols\n",
    "* [p1 p2 p3] # 1 row 3 cols\n",
    "* [p1, p2] # 2 rows 1 col\n",
    "* [p1 p2; p3 p4] # 2 rows 2 cols"
   ]
  },
  {
   "cell_type": "markdown",
   "metadata": {},
   "source": [
    "### Example"
   ]
  },
  {
   "cell_type": "code",
   "execution_count": 60,
   "metadata": {},
   "outputs": [],
   "source": [
    "rand_plot(n) = plot(scatter(x = collect(1:n),y=randn(n)))\n",
    "p1, p2, p3, p4 = [rand_plot(i) for i in [10, 20, 30, 40]];"
   ]
  },
  {
   "cell_type": "code",
   "execution_count": 59,
   "metadata": {},
   "outputs": [
    {
     "data": {
      "application/vnd.plotly.v1+json": {
       "data": [
        {
         "type": "scatter",
         "x": [
          1,
          2,
          3,
          4,
          5,
          6,
          7,
          8,
          9,
          10
         ],
         "xaxis": "x1",
         "y": [
          0.485288636162515,
          0.03865214557179552,
          -1.343796460866648,
          -0.13325182623664997,
          -0.555427195014334,
          -0.6283883587691518,
          1.5175383586140228,
          -0.5855746126038144,
          1.0995947925906506,
          -1.0119747591522865
         ],
         "yaxis": "y1"
        },
        {
         "type": "scatter",
         "x": [
          1,
          2,
          3,
          4,
          5,
          6,
          7,
          8,
          9,
          10,
          11,
          12,
          13,
          14,
          15,
          16,
          17,
          18,
          19,
          20
         ],
         "xaxis": "x2",
         "y": [
          -0.552257194378919,
          0.9378378595618354,
          -0.535982352627765,
          -0.31558769470609804,
          0.28995769361612816,
          0.0567071345377118,
          -0.342349856211481,
          -1.0135871903945979,
          0.8146116221959678,
          -0.2433296420421104,
          0.7344917936933486,
          0.24562676510322537,
          -0.3751601077593715,
          0.5505692850619601,
          1.295810235141696,
          -0.5612654921817676,
          -0.8346740696889549,
          0.6028925454295918,
          1.3659970596491344,
          -2.4040949298577985
         ],
         "yaxis": "y2"
        }
       ],
       "layout": {
        "margin": {
         "b": 50,
         "l": 50,
         "r": 50,
         "t": 60
        },
        "xaxis1": {
         "anchor": "y1",
         "domain": [
          0,
          0.45
         ]
        },
        "xaxis2": {
         "anchor": "y2",
         "domain": [
          0.55,
          1
         ]
        },
        "yaxis1": {
         "anchor": "x1",
         "domain": [
          0,
          1
         ]
        },
        "yaxis2": {
         "anchor": "x2",
         "domain": [
          0,
          1
         ]
        }
       }
      },
      "text/html": [
       "<div class='display:none'></div><unsafe-script style='display:none'>\n",
       "WebIO.mount(this.previousSibling,{&quot;props&quot;:{},&quot;nodeType&quot;:&quot;Scope&quot;,&quot;type&quot;:&quot;node&quot;,&quot;instanceArgs&quot;:{&quot;imports&quot;:{&quot;data&quot;:[{&quot;name&quot;:&quot;Plotly&quot;,&quot;type&quot;:&quot;js&quot;,&quot;url&quot;:&quot;/assetserver/5311f9888b884b50e52f4a90fad64eb841288be8-plotly-latest.min.js&quot;},{&quot;name&quot;:null,&quot;type&quot;:&quot;js&quot;,&quot;url&quot;:&quot;/assetserver/5c351a91169f2a19a186af98699dd36a27fe8939-plotly_webio.bundle.js&quot;}],&quot;type&quot;:&quot;async_block&quot;},&quot;id&quot;:&quot;scope-1707340e-0eae-45a4-a590-2a4a1f255589&quot;,&quot;handlers&quot;:{&quot;_toImage&quot;:[(function (options){return this.Plotly.toImage(this.plotElem,options).then((function (data){return WebIO.setval({&quot;name&quot;:&quot;image&quot;,&quot;scope&quot;:&quot;scope-1707340e-0eae-45a4-a590-2a4a1f255589&quot;,&quot;id&quot;:&quot;ob_315&quot;,&quot;type&quot;:&quot;observable&quot;},data)}))})],&quot;__get_gd_contents&quot;:[(function (prop){prop==&quot;data&quot; ? (WebIO.setval({&quot;name&quot;:&quot;__gd_contents&quot;,&quot;scope&quot;:&quot;scope-1707340e-0eae-45a4-a590-2a4a1f255589&quot;,&quot;id&quot;:&quot;ob_316&quot;,&quot;type&quot;:&quot;observable&quot;},this.plotElem.data)) : undefined; return prop==&quot;layout&quot; ? (WebIO.setval({&quot;name&quot;:&quot;__gd_contents&quot;,&quot;scope&quot;:&quot;scope-1707340e-0eae-45a4-a590-2a4a1f255589&quot;,&quot;id&quot;:&quot;ob_316&quot;,&quot;type&quot;:&quot;observable&quot;},this.plotElem.layout)) : undefined})],&quot;_promises&quot;:{&quot;importsLoaded&quot;:[(function (Plotly){var gd=this.dom.querySelector(&quot;#plot-3e5e9c76-fc31-41df-a639-6c46cca47107&quot;); this.plotElem=gd; this.Plotly=Plotly; (window.Blink!==undefined) ? (gd.style.width=&quot;100%&quot;, gd.style.height=&quot;100vh&quot;, gd.style.marginLeft=&quot;0%&quot;, gd.style.marginTop=&quot;0vh&quot;) : undefined; window.onresize=(function (){return Plotly.Plots.resize(gd)}); Plotly.newPlot(gd,[{&quot;xaxis&quot;:&quot;x1&quot;,&quot;y&quot;:[0.485288636162515,0.03865214557179552,-1.343796460866648,-0.13325182623664997,-0.555427195014334,-0.6283883587691518,1.5175383586140228,-0.5855746126038144,1.0995947925906506,-1.0119747591522865],&quot;type&quot;:&quot;scatter&quot;,&quot;yaxis&quot;:&quot;y1&quot;,&quot;x&quot;:[1,2,3,4,5,6,7,8,9,10]},{&quot;xaxis&quot;:&quot;x2&quot;,&quot;y&quot;:[-0.552257194378919,0.9378378595618354,-0.535982352627765,-0.31558769470609804,0.28995769361612816,0.0567071345377118,-0.342349856211481,-1.0135871903945979,0.8146116221959678,-0.2433296420421104,0.7344917936933486,0.24562676510322537,-0.3751601077593715,0.5505692850619601,1.295810235141696,-0.5612654921817676,-0.8346740696889549,0.6028925454295918,1.3659970596491344,-2.4040949298577985],&quot;type&quot;:&quot;scatter&quot;,&quot;yaxis&quot;:&quot;y2&quot;,&quot;x&quot;:[1,2,3,4,5,6,7,8,9,10,11,12,13,14,15,16,17,18,19,20]}],{&quot;xaxis1&quot;:{&quot;domain&quot;:[0.0,0.45],&quot;anchor&quot;:&quot;y1&quot;},&quot;yaxis1&quot;:{&quot;domain&quot;:[0.0,1.0],&quot;anchor&quot;:&quot;x1&quot;},&quot;xaxis2&quot;:{&quot;domain&quot;:[0.55,1.0],&quot;anchor&quot;:&quot;y2&quot;},&quot;margin&quot;:{&quot;l&quot;:50,&quot;b&quot;:50,&quot;r&quot;:50,&quot;t&quot;:60},&quot;yaxis2&quot;:{&quot;domain&quot;:[0.0,1.0],&quot;anchor&quot;:&quot;x2&quot;}},{&quot;showLink&quot;:false}); gd.on(&quot;plotly_hover&quot;,(function (data){var filtered_data=WebIO.PlotlyCommands.filterEventData(gd,data,&quot;hover&quot;); return !(filtered_data.isnil) ? (WebIO.setval({&quot;name&quot;:&quot;hover&quot;,&quot;scope&quot;:&quot;scope-1707340e-0eae-45a4-a590-2a4a1f255589&quot;,&quot;id&quot;:&quot;ob_311&quot;,&quot;type&quot;:&quot;observable&quot;},filtered_data.out)) : undefined})); gd.on(&quot;plotly_unhover&quot;,(function (){return WebIO.setval({&quot;name&quot;:&quot;hover&quot;,&quot;scope&quot;:&quot;scope-1707340e-0eae-45a4-a590-2a4a1f255589&quot;,&quot;id&quot;:&quot;ob_311&quot;,&quot;type&quot;:&quot;observable&quot;},{})})); gd.on(&quot;plotly_selected&quot;,(function (data){var filtered_data=WebIO.PlotlyCommands.filterEventData(gd,data,&quot;selected&quot;); return !(filtered_data.isnil) ? (WebIO.setval({&quot;name&quot;:&quot;selected&quot;,&quot;scope&quot;:&quot;scope-1707340e-0eae-45a4-a590-2a4a1f255589&quot;,&quot;id&quot;:&quot;ob_312&quot;,&quot;type&quot;:&quot;observable&quot;},filtered_data.out)) : undefined})); gd.on(&quot;plotly_deselect&quot;,(function (){return WebIO.setval({&quot;name&quot;:&quot;selected&quot;,&quot;scope&quot;:&quot;scope-1707340e-0eae-45a4-a590-2a4a1f255589&quot;,&quot;id&quot;:&quot;ob_312&quot;,&quot;type&quot;:&quot;observable&quot;},{})})); gd.on(&quot;plotly_relayout&quot;,(function (data){var filtered_data=WebIO.PlotlyCommands.filterEventData(gd,data,&quot;relayout&quot;); return !(filtered_data.isnil) ? (WebIO.setval({&quot;name&quot;:&quot;relayout&quot;,&quot;scope&quot;:&quot;scope-1707340e-0eae-45a4-a590-2a4a1f255589&quot;,&quot;id&quot;:&quot;ob_314&quot;,&quot;type&quot;:&quot;observable&quot;},filtered_data.out)) : undefined})); return gd.on(&quot;plotly_click&quot;,(function (data){var filtered_data=WebIO.PlotlyCommands.filterEventData(gd,data,&quot;click&quot;); return !(filtered_data.isnil) ? (WebIO.setval({&quot;name&quot;:&quot;click&quot;,&quot;scope&quot;:&quot;scope-1707340e-0eae-45a4-a590-2a4a1f255589&quot;,&quot;id&quot;:&quot;ob_313&quot;,&quot;type&quot;:&quot;observable&quot;},filtered_data.out)) : undefined}))})]},&quot;_downloadImage&quot;:[(function (options){return this.Plotly.downloadImage(this.plotElem,options)})],&quot;_commands&quot;:[(function (args){var fn=args.shift(); var elem=this.plotElem; var Plotly=this.Plotly; args.unshift(elem); return Plotly[fn].apply(this,args)})]},&quot;systemjs_options&quot;:null,&quot;observables&quot;:{&quot;_toImage&quot;:{&quot;sync&quot;:false,&quot;id&quot;:&quot;ob_318&quot;,&quot;value&quot;:{}},&quot;hover&quot;:{&quot;sync&quot;:false,&quot;id&quot;:&quot;ob_311&quot;,&quot;value&quot;:{}},&quot;selected&quot;:{&quot;sync&quot;:false,&quot;id&quot;:&quot;ob_312&quot;,&quot;value&quot;:{}},&quot;__gd_contents&quot;:{&quot;sync&quot;:false,&quot;id&quot;:&quot;ob_316&quot;,&quot;value&quot;:{}},&quot;click&quot;:{&quot;sync&quot;:false,&quot;id&quot;:&quot;ob_313&quot;,&quot;value&quot;:{}},&quot;image&quot;:{&quot;sync&quot;:true,&quot;id&quot;:&quot;ob_315&quot;,&quot;value&quot;:&quot;&quot;},&quot;__get_gd_contents&quot;:{&quot;sync&quot;:false,&quot;id&quot;:&quot;ob_320&quot;,&quot;value&quot;:&quot;&quot;},&quot;_downloadImage&quot;:{&quot;sync&quot;:false,&quot;id&quot;:&quot;ob_319&quot;,&quot;value&quot;:{}},&quot;relayout&quot;:{&quot;sync&quot;:false,&quot;id&quot;:&quot;ob_314&quot;,&quot;value&quot;:{}},&quot;_commands&quot;:{&quot;sync&quot;:false,&quot;id&quot;:&quot;ob_317&quot;,&quot;value&quot;:[]}}},&quot;children&quot;:[{&quot;props&quot;:{&quot;id&quot;:&quot;plot-3e5e9c76-fc31-41df-a639-6c46cca47107&quot;},&quot;nodeType&quot;:&quot;DOM&quot;,&quot;type&quot;:&quot;node&quot;,&quot;instanceArgs&quot;:{&quot;namespace&quot;:&quot;html&quot;,&quot;tag&quot;:&quot;div&quot;},&quot;children&quot;:[]}]})</unsafe-script>"
      ],
      "text/plain": [
       "data: [\n",
       "  \"scatter with fields type, x, xaxis, y, and yaxis\",\n",
       "  \"scatter with fields type, x, xaxis, y, and yaxis\"\n",
       "]\n",
       "\n",
       "layout: \"layout with fields margin, xaxis1, xaxis2, yaxis1, and yaxis2\"\n",
       "\n"
      ]
     },
     "execution_count": 59,
     "metadata": {},
     "output_type": "execute_result"
    }
   ],
   "source": [
    "# 2 columns and 1 row\n",
    "[p1 p2]"
   ]
  },
  {
   "cell_type": "code",
   "execution_count": 61,
   "metadata": {},
   "outputs": [
    {
     "data": {
      "application/vnd.plotly.v1+json": {
       "data": [
        {
         "type": "scatter",
         "x": [
          1,
          2,
          3,
          4,
          5,
          6,
          7,
          8,
          9,
          10
         ],
         "xaxis": "x1",
         "y": [
          2.3656874863852777,
          -0.2769851472164619,
          1.071433669467667,
          -1.346971442080223,
          1.3160214751370227,
          -0.005604653006298781,
          0.47887711961970114,
          -0.5434573790621631,
          1.5831465877453537,
          -1.237913053609002
         ],
         "yaxis": "y1"
        },
        {
         "type": "scatter",
         "x": [
          1,
          2,
          3,
          4,
          5,
          6,
          7,
          8,
          9,
          10,
          11,
          12,
          13,
          14,
          15,
          16,
          17,
          18,
          19,
          20
         ],
         "xaxis": "x2",
         "y": [
          -1.922239101279223,
          -1.102885603187014,
          -1.7037165893355768,
          0.6793720722745699,
          -1.1149387249546097,
          -1.1801665886711525,
          0.4458002538790576,
          0.7245385022154905,
          -2.5651992461383357,
          -2.429702619412832,
          -1.529507781512832,
          1.6686133749067296,
          1.551321111643412,
          -1.981361672252932,
          -0.5644405074846673,
          -1.709649673399525,
          -0.3751764602743135,
          -0.6378273413278639,
          0.059853290058453364,
          -0.3936207660301304
         ],
         "yaxis": "y2"
        },
        {
         "type": "scatter",
         "x": [
          1,
          2,
          3,
          4,
          5,
          6,
          7,
          8,
          9,
          10,
          11,
          12,
          13,
          14,
          15,
          16,
          17,
          18,
          19,
          20,
          21,
          22,
          23,
          24,
          25,
          26,
          27,
          28,
          29,
          30
         ],
         "xaxis": "x3",
         "y": [
          -0.06250240708539744,
          -0.8089652613460396,
          -1.6827108104230128,
          -0.2557874511104888,
          -1.8445072852343773,
          -2.5926885140215172,
          -1.440225341643325,
          0.24886618529201524,
          2.4418825613531303,
          1.5101972461435131,
          1.0759444691241995,
          0.44118129288466496,
          0.6776549741916201,
          0.9375232770429545,
          -0.24691865355415682,
          0.2385282636517103,
          -0.8791651540122131,
          1.0256490287129263,
          0.7504978935708347,
          -0.4056276347128118,
          1.6258148105752352,
          1.457400406302816,
          -1.2270652782852614,
          1.541440195382541,
          -0.19426609778563084,
          0.10729212529035406,
          -0.578687312921562,
          -0.5406816242989985,
          0.8841635875167981,
          0.2380498759975031
         ],
         "yaxis": "y3"
        }
       ],
       "layout": {
        "margin": {
         "b": 50,
         "l": 50,
         "r": 50,
         "t": 60
        },
        "xaxis1": {
         "anchor": "y1",
         "domain": [
          0,
          0.2888888888888889
         ]
        },
        "xaxis2": {
         "anchor": "y2",
         "domain": [
          0.35555555555555557,
          0.6444444444444445
         ]
        },
        "xaxis3": {
         "anchor": "y3",
         "domain": [
          0.7111111111111111,
          1
         ]
        },
        "yaxis1": {
         "anchor": "x1",
         "domain": [
          0,
          1
         ]
        },
        "yaxis2": {
         "anchor": "x2",
         "domain": [
          0,
          1
         ]
        },
        "yaxis3": {
         "anchor": "x3",
         "domain": [
          0,
          1
         ]
        }
       }
      },
      "text/html": [
       "<div class='display:none'></div><unsafe-script style='display:none'>\n",
       "WebIO.mount(this.previousSibling,{&quot;props&quot;:{},&quot;nodeType&quot;:&quot;Scope&quot;,&quot;type&quot;:&quot;node&quot;,&quot;instanceArgs&quot;:{&quot;imports&quot;:{&quot;data&quot;:[{&quot;name&quot;:&quot;Plotly&quot;,&quot;type&quot;:&quot;js&quot;,&quot;url&quot;:&quot;/assetserver/5311f9888b884b50e52f4a90fad64eb841288be8-plotly-latest.min.js&quot;},{&quot;name&quot;:null,&quot;type&quot;:&quot;js&quot;,&quot;url&quot;:&quot;/assetserver/5c351a91169f2a19a186af98699dd36a27fe8939-plotly_webio.bundle.js&quot;}],&quot;type&quot;:&quot;async_block&quot;},&quot;id&quot;:&quot;scope-35a1a360-7402-4238-b75e-de44de321c3c&quot;,&quot;handlers&quot;:{&quot;_toImage&quot;:[(function (options){return this.Plotly.toImage(this.plotElem,options).then((function (data){return WebIO.setval({&quot;name&quot;:&quot;image&quot;,&quot;scope&quot;:&quot;scope-35a1a360-7402-4238-b75e-de44de321c3c&quot;,&quot;id&quot;:&quot;ob_365&quot;,&quot;type&quot;:&quot;observable&quot;},data)}))})],&quot;__get_gd_contents&quot;:[(function (prop){prop==&quot;data&quot; ? (WebIO.setval({&quot;name&quot;:&quot;__gd_contents&quot;,&quot;scope&quot;:&quot;scope-35a1a360-7402-4238-b75e-de44de321c3c&quot;,&quot;id&quot;:&quot;ob_366&quot;,&quot;type&quot;:&quot;observable&quot;},this.plotElem.data)) : undefined; return prop==&quot;layout&quot; ? (WebIO.setval({&quot;name&quot;:&quot;__gd_contents&quot;,&quot;scope&quot;:&quot;scope-35a1a360-7402-4238-b75e-de44de321c3c&quot;,&quot;id&quot;:&quot;ob_366&quot;,&quot;type&quot;:&quot;observable&quot;},this.plotElem.layout)) : undefined})],&quot;_promises&quot;:{&quot;importsLoaded&quot;:[(function (Plotly){var gd=this.dom.querySelector(&quot;#plot-7c74a464-bc23-40c0-815b-d2cda76c21e4&quot;); this.plotElem=gd; this.Plotly=Plotly; (window.Blink!==undefined) ? (gd.style.width=&quot;100%&quot;, gd.style.height=&quot;100vh&quot;, gd.style.marginLeft=&quot;0%&quot;, gd.style.marginTop=&quot;0vh&quot;) : undefined; window.onresize=(function (){return Plotly.Plots.resize(gd)}); Plotly.newPlot(gd,[{&quot;xaxis&quot;:&quot;x1&quot;,&quot;y&quot;:[2.3656874863852777,-0.2769851472164619,1.071433669467667,-1.346971442080223,1.3160214751370227,-0.005604653006298781,0.47887711961970114,-0.5434573790621631,1.5831465877453537,-1.237913053609002],&quot;type&quot;:&quot;scatter&quot;,&quot;yaxis&quot;:&quot;y1&quot;,&quot;x&quot;:[1,2,3,4,5,6,7,8,9,10]},{&quot;xaxis&quot;:&quot;x2&quot;,&quot;y&quot;:[-1.922239101279223,-1.102885603187014,-1.7037165893355768,0.6793720722745699,-1.1149387249546097,-1.1801665886711525,0.4458002538790576,0.7245385022154905,-2.5651992461383357,-2.429702619412832,-1.529507781512832,1.6686133749067296,1.551321111643412,-1.981361672252932,-0.5644405074846673,-1.709649673399525,-0.3751764602743135,-0.6378273413278639,0.059853290058453364,-0.3936207660301304],&quot;type&quot;:&quot;scatter&quot;,&quot;yaxis&quot;:&quot;y2&quot;,&quot;x&quot;:[1,2,3,4,5,6,7,8,9,10,11,12,13,14,15,16,17,18,19,20]},{&quot;xaxis&quot;:&quot;x3&quot;,&quot;y&quot;:[-0.06250240708539744,-0.8089652613460396,-1.6827108104230128,-0.2557874511104888,-1.8445072852343773,-2.5926885140215172,-1.440225341643325,0.24886618529201524,2.4418825613531303,1.5101972461435131,1.0759444691241995,0.44118129288466496,0.6776549741916201,0.9375232770429545,-0.24691865355415682,0.2385282636517103,-0.8791651540122131,1.0256490287129263,0.7504978935708347,-0.4056276347128118,1.6258148105752352,1.457400406302816,-1.2270652782852614,1.541440195382541,-0.19426609778563084,0.10729212529035406,-0.578687312921562,-0.5406816242989985,0.8841635875167981,0.2380498759975031],&quot;type&quot;:&quot;scatter&quot;,&quot;yaxis&quot;:&quot;y3&quot;,&quot;x&quot;:[1,2,3,4,5,6,7,8,9,10,11,12,13,14,15,16,17,18,19,20,21,22,23,24,25,26,27,28,29,30]}],{&quot;xaxis1&quot;:{&quot;domain&quot;:[0.0,0.2888888888888889],&quot;anchor&quot;:&quot;y1&quot;},&quot;yaxis1&quot;:{&quot;domain&quot;:[0.0,1.0],&quot;anchor&quot;:&quot;x1&quot;},&quot;xaxis2&quot;:{&quot;domain&quot;:[0.35555555555555557,0.6444444444444445],&quot;anchor&quot;:&quot;y2&quot;},&quot;yaxis3&quot;:{&quot;domain&quot;:[0.0,1.0],&quot;anchor&quot;:&quot;x3&quot;},&quot;margin&quot;:{&quot;l&quot;:50,&quot;b&quot;:50,&quot;r&quot;:50,&quot;t&quot;:60},&quot;yaxis2&quot;:{&quot;domain&quot;:[0.0,1.0],&quot;anchor&quot;:&quot;x2&quot;},&quot;xaxis3&quot;:{&quot;domain&quot;:[0.7111111111111111,1.0],&quot;anchor&quot;:&quot;y3&quot;}},{&quot;showLink&quot;:false}); gd.on(&quot;plotly_hover&quot;,(function (data){var filtered_data=WebIO.PlotlyCommands.filterEventData(gd,data,&quot;hover&quot;); return !(filtered_data.isnil) ? (WebIO.setval({&quot;name&quot;:&quot;hover&quot;,&quot;scope&quot;:&quot;scope-35a1a360-7402-4238-b75e-de44de321c3c&quot;,&quot;id&quot;:&quot;ob_361&quot;,&quot;type&quot;:&quot;observable&quot;},filtered_data.out)) : undefined})); gd.on(&quot;plotly_unhover&quot;,(function (){return WebIO.setval({&quot;name&quot;:&quot;hover&quot;,&quot;scope&quot;:&quot;scope-35a1a360-7402-4238-b75e-de44de321c3c&quot;,&quot;id&quot;:&quot;ob_361&quot;,&quot;type&quot;:&quot;observable&quot;},{})})); gd.on(&quot;plotly_selected&quot;,(function (data){var filtered_data=WebIO.PlotlyCommands.filterEventData(gd,data,&quot;selected&quot;); return !(filtered_data.isnil) ? (WebIO.setval({&quot;name&quot;:&quot;selected&quot;,&quot;scope&quot;:&quot;scope-35a1a360-7402-4238-b75e-de44de321c3c&quot;,&quot;id&quot;:&quot;ob_362&quot;,&quot;type&quot;:&quot;observable&quot;},filtered_data.out)) : undefined})); gd.on(&quot;plotly_deselect&quot;,(function (){return WebIO.setval({&quot;name&quot;:&quot;selected&quot;,&quot;scope&quot;:&quot;scope-35a1a360-7402-4238-b75e-de44de321c3c&quot;,&quot;id&quot;:&quot;ob_362&quot;,&quot;type&quot;:&quot;observable&quot;},{})})); gd.on(&quot;plotly_relayout&quot;,(function (data){var filtered_data=WebIO.PlotlyCommands.filterEventData(gd,data,&quot;relayout&quot;); return !(filtered_data.isnil) ? (WebIO.setval({&quot;name&quot;:&quot;relayout&quot;,&quot;scope&quot;:&quot;scope-35a1a360-7402-4238-b75e-de44de321c3c&quot;,&quot;id&quot;:&quot;ob_364&quot;,&quot;type&quot;:&quot;observable&quot;},filtered_data.out)) : undefined})); return gd.on(&quot;plotly_click&quot;,(function (data){var filtered_data=WebIO.PlotlyCommands.filterEventData(gd,data,&quot;click&quot;); return !(filtered_data.isnil) ? (WebIO.setval({&quot;name&quot;:&quot;click&quot;,&quot;scope&quot;:&quot;scope-35a1a360-7402-4238-b75e-de44de321c3c&quot;,&quot;id&quot;:&quot;ob_363&quot;,&quot;type&quot;:&quot;observable&quot;},filtered_data.out)) : undefined}))})]},&quot;_downloadImage&quot;:[(function (options){return this.Plotly.downloadImage(this.plotElem,options)})],&quot;_commands&quot;:[(function (args){var fn=args.shift(); var elem=this.plotElem; var Plotly=this.Plotly; args.unshift(elem); return Plotly[fn].apply(this,args)})]},&quot;systemjs_options&quot;:null,&quot;observables&quot;:{&quot;_toImage&quot;:{&quot;sync&quot;:false,&quot;id&quot;:&quot;ob_368&quot;,&quot;value&quot;:{}},&quot;hover&quot;:{&quot;sync&quot;:false,&quot;id&quot;:&quot;ob_361&quot;,&quot;value&quot;:{}},&quot;selected&quot;:{&quot;sync&quot;:false,&quot;id&quot;:&quot;ob_362&quot;,&quot;value&quot;:{}},&quot;__gd_contents&quot;:{&quot;sync&quot;:false,&quot;id&quot;:&quot;ob_366&quot;,&quot;value&quot;:{}},&quot;click&quot;:{&quot;sync&quot;:false,&quot;id&quot;:&quot;ob_363&quot;,&quot;value&quot;:{}},&quot;image&quot;:{&quot;sync&quot;:true,&quot;id&quot;:&quot;ob_365&quot;,&quot;value&quot;:&quot;&quot;},&quot;__get_gd_contents&quot;:{&quot;sync&quot;:false,&quot;id&quot;:&quot;ob_370&quot;,&quot;value&quot;:&quot;&quot;},&quot;_downloadImage&quot;:{&quot;sync&quot;:false,&quot;id&quot;:&quot;ob_369&quot;,&quot;value&quot;:{}},&quot;relayout&quot;:{&quot;sync&quot;:false,&quot;id&quot;:&quot;ob_364&quot;,&quot;value&quot;:{}},&quot;_commands&quot;:{&quot;sync&quot;:false,&quot;id&quot;:&quot;ob_367&quot;,&quot;value&quot;:[]}}},&quot;children&quot;:[{&quot;props&quot;:{&quot;id&quot;:&quot;plot-7c74a464-bc23-40c0-815b-d2cda76c21e4&quot;},&quot;nodeType&quot;:&quot;DOM&quot;,&quot;type&quot;:&quot;node&quot;,&quot;instanceArgs&quot;:{&quot;namespace&quot;:&quot;html&quot;,&quot;tag&quot;:&quot;div&quot;},&quot;children&quot;:[]}]})</unsafe-script>"
      ],
      "text/plain": [
       "data: [\n",
       "  \"scatter with fields type, x, xaxis, y, and yaxis\",\n",
       "  \"scatter with fields type, x, xaxis, y, and yaxis\",\n",
       "  \"scatter with fields type, x, xaxis, y, and yaxis\"\n",
       "]\n",
       "\n",
       "layout: \"layout with fields margin, xaxis1, xaxis2, xaxis3, yaxis1, yaxis2, and yaxis3\"\n",
       "\n"
      ]
     },
     "execution_count": 61,
     "metadata": {},
     "output_type": "execute_result"
    }
   ],
   "source": [
    "# 3 columns and 1 row\n",
    "[p1 p2 p3]"
   ]
  },
  {
   "cell_type": "code",
   "execution_count": 62,
   "metadata": {},
   "outputs": [
    {
     "data": {
      "application/vnd.plotly.v1+json": {
       "data": [
        {
         "type": "scatter",
         "x": [
          1,
          2,
          3,
          4,
          5,
          6,
          7,
          8,
          9,
          10
         ],
         "xaxis": "x1",
         "y": [
          2.3656874863852777,
          -0.2769851472164619,
          1.071433669467667,
          -1.346971442080223,
          1.3160214751370227,
          -0.005604653006298781,
          0.47887711961970114,
          -0.5434573790621631,
          1.5831465877453537,
          -1.237913053609002
         ],
         "yaxis": "y1"
        },
        {
         "type": "scatter",
         "x": [
          1,
          2,
          3,
          4,
          5,
          6,
          7,
          8,
          9,
          10,
          11,
          12,
          13,
          14,
          15,
          16,
          17,
          18,
          19,
          20
         ],
         "xaxis": "x2",
         "y": [
          -1.922239101279223,
          -1.102885603187014,
          -1.7037165893355768,
          0.6793720722745699,
          -1.1149387249546097,
          -1.1801665886711525,
          0.4458002538790576,
          0.7245385022154905,
          -2.5651992461383357,
          -2.429702619412832,
          -1.529507781512832,
          1.6686133749067296,
          1.551321111643412,
          -1.981361672252932,
          -0.5644405074846673,
          -1.709649673399525,
          -0.3751764602743135,
          -0.6378273413278639,
          0.059853290058453364,
          -0.3936207660301304
         ],
         "yaxis": "y2"
        }
       ],
       "layout": {
        "margin": {
         "b": 50,
         "l": 50,
         "r": 50,
         "t": 60
        },
        "xaxis1": {
         "anchor": "y1",
         "domain": [
          0,
          1
         ]
        },
        "xaxis2": {
         "anchor": "y2",
         "domain": [
          0,
          1
         ]
        },
        "yaxis1": {
         "anchor": "x1",
         "domain": [
          0.575,
          1
         ]
        },
        "yaxis2": {
         "anchor": "x2",
         "domain": [
          5.551115123125783e-17,
          0.42500000000000004
         ]
        }
       }
      },
      "text/html": [
       "<div class='display:none'></div><unsafe-script style='display:none'>\n",
       "WebIO.mount(this.previousSibling,{&quot;props&quot;:{},&quot;nodeType&quot;:&quot;Scope&quot;,&quot;type&quot;:&quot;node&quot;,&quot;instanceArgs&quot;:{&quot;imports&quot;:{&quot;data&quot;:[{&quot;name&quot;:&quot;Plotly&quot;,&quot;type&quot;:&quot;js&quot;,&quot;url&quot;:&quot;/assetserver/5311f9888b884b50e52f4a90fad64eb841288be8-plotly-latest.min.js&quot;},{&quot;name&quot;:null,&quot;type&quot;:&quot;js&quot;,&quot;url&quot;:&quot;/assetserver/5c351a91169f2a19a186af98699dd36a27fe8939-plotly_webio.bundle.js&quot;}],&quot;type&quot;:&quot;async_block&quot;},&quot;id&quot;:&quot;scope-0e95794e-6c80-4a1c-aab2-b0f50ce78cf1&quot;,&quot;handlers&quot;:{&quot;_toImage&quot;:[(function (options){return this.Plotly.toImage(this.plotElem,options).then((function (data){return WebIO.setval({&quot;name&quot;:&quot;image&quot;,&quot;scope&quot;:&quot;scope-0e95794e-6c80-4a1c-aab2-b0f50ce78cf1&quot;,&quot;id&quot;:&quot;ob_375&quot;,&quot;type&quot;:&quot;observable&quot;},data)}))})],&quot;__get_gd_contents&quot;:[(function (prop){prop==&quot;data&quot; ? (WebIO.setval({&quot;name&quot;:&quot;__gd_contents&quot;,&quot;scope&quot;:&quot;scope-0e95794e-6c80-4a1c-aab2-b0f50ce78cf1&quot;,&quot;id&quot;:&quot;ob_376&quot;,&quot;type&quot;:&quot;observable&quot;},this.plotElem.data)) : undefined; return prop==&quot;layout&quot; ? (WebIO.setval({&quot;name&quot;:&quot;__gd_contents&quot;,&quot;scope&quot;:&quot;scope-0e95794e-6c80-4a1c-aab2-b0f50ce78cf1&quot;,&quot;id&quot;:&quot;ob_376&quot;,&quot;type&quot;:&quot;observable&quot;},this.plotElem.layout)) : undefined})],&quot;_promises&quot;:{&quot;importsLoaded&quot;:[(function (Plotly){var gd=this.dom.querySelector(&quot;#plot-7938bbd7-d489-44b4-826c-d8c5f82fbd2e&quot;); this.plotElem=gd; this.Plotly=Plotly; (window.Blink!==undefined) ? (gd.style.width=&quot;100%&quot;, gd.style.height=&quot;100vh&quot;, gd.style.marginLeft=&quot;0%&quot;, gd.style.marginTop=&quot;0vh&quot;) : undefined; window.onresize=(function (){return Plotly.Plots.resize(gd)}); Plotly.newPlot(gd,[{&quot;xaxis&quot;:&quot;x1&quot;,&quot;y&quot;:[2.3656874863852777,-0.2769851472164619,1.071433669467667,-1.346971442080223,1.3160214751370227,-0.005604653006298781,0.47887711961970114,-0.5434573790621631,1.5831465877453537,-1.237913053609002],&quot;type&quot;:&quot;scatter&quot;,&quot;yaxis&quot;:&quot;y1&quot;,&quot;x&quot;:[1,2,3,4,5,6,7,8,9,10]},{&quot;xaxis&quot;:&quot;x2&quot;,&quot;y&quot;:[-1.922239101279223,-1.102885603187014,-1.7037165893355768,0.6793720722745699,-1.1149387249546097,-1.1801665886711525,0.4458002538790576,0.7245385022154905,-2.5651992461383357,-2.429702619412832,-1.529507781512832,1.6686133749067296,1.551321111643412,-1.981361672252932,-0.5644405074846673,-1.709649673399525,-0.3751764602743135,-0.6378273413278639,0.059853290058453364,-0.3936207660301304],&quot;type&quot;:&quot;scatter&quot;,&quot;yaxis&quot;:&quot;y2&quot;,&quot;x&quot;:[1,2,3,4,5,6,7,8,9,10,11,12,13,14,15,16,17,18,19,20]}],{&quot;xaxis1&quot;:{&quot;domain&quot;:[0.0,1.0],&quot;anchor&quot;:&quot;y1&quot;},&quot;yaxis1&quot;:{&quot;domain&quot;:[0.575,1.0],&quot;anchor&quot;:&quot;x1&quot;},&quot;xaxis2&quot;:{&quot;domain&quot;:[0.0,1.0],&quot;anchor&quot;:&quot;y2&quot;},&quot;margin&quot;:{&quot;l&quot;:50,&quot;b&quot;:50,&quot;r&quot;:50,&quot;t&quot;:60},&quot;yaxis2&quot;:{&quot;domain&quot;:[5.551115123125783e-17,0.42500000000000004],&quot;anchor&quot;:&quot;x2&quot;}},{&quot;showLink&quot;:false}); gd.on(&quot;plotly_hover&quot;,(function (data){var filtered_data=WebIO.PlotlyCommands.filterEventData(gd,data,&quot;hover&quot;); return !(filtered_data.isnil) ? (WebIO.setval({&quot;name&quot;:&quot;hover&quot;,&quot;scope&quot;:&quot;scope-0e95794e-6c80-4a1c-aab2-b0f50ce78cf1&quot;,&quot;id&quot;:&quot;ob_371&quot;,&quot;type&quot;:&quot;observable&quot;},filtered_data.out)) : undefined})); gd.on(&quot;plotly_unhover&quot;,(function (){return WebIO.setval({&quot;name&quot;:&quot;hover&quot;,&quot;scope&quot;:&quot;scope-0e95794e-6c80-4a1c-aab2-b0f50ce78cf1&quot;,&quot;id&quot;:&quot;ob_371&quot;,&quot;type&quot;:&quot;observable&quot;},{})})); gd.on(&quot;plotly_selected&quot;,(function (data){var filtered_data=WebIO.PlotlyCommands.filterEventData(gd,data,&quot;selected&quot;); return !(filtered_data.isnil) ? (WebIO.setval({&quot;name&quot;:&quot;selected&quot;,&quot;scope&quot;:&quot;scope-0e95794e-6c80-4a1c-aab2-b0f50ce78cf1&quot;,&quot;id&quot;:&quot;ob_372&quot;,&quot;type&quot;:&quot;observable&quot;},filtered_data.out)) : undefined})); gd.on(&quot;plotly_deselect&quot;,(function (){return WebIO.setval({&quot;name&quot;:&quot;selected&quot;,&quot;scope&quot;:&quot;scope-0e95794e-6c80-4a1c-aab2-b0f50ce78cf1&quot;,&quot;id&quot;:&quot;ob_372&quot;,&quot;type&quot;:&quot;observable&quot;},{})})); gd.on(&quot;plotly_relayout&quot;,(function (data){var filtered_data=WebIO.PlotlyCommands.filterEventData(gd,data,&quot;relayout&quot;); return !(filtered_data.isnil) ? (WebIO.setval({&quot;name&quot;:&quot;relayout&quot;,&quot;scope&quot;:&quot;scope-0e95794e-6c80-4a1c-aab2-b0f50ce78cf1&quot;,&quot;id&quot;:&quot;ob_374&quot;,&quot;type&quot;:&quot;observable&quot;},filtered_data.out)) : undefined})); return gd.on(&quot;plotly_click&quot;,(function (data){var filtered_data=WebIO.PlotlyCommands.filterEventData(gd,data,&quot;click&quot;); return !(filtered_data.isnil) ? (WebIO.setval({&quot;name&quot;:&quot;click&quot;,&quot;scope&quot;:&quot;scope-0e95794e-6c80-4a1c-aab2-b0f50ce78cf1&quot;,&quot;id&quot;:&quot;ob_373&quot;,&quot;type&quot;:&quot;observable&quot;},filtered_data.out)) : undefined}))})]},&quot;_downloadImage&quot;:[(function (options){return this.Plotly.downloadImage(this.plotElem,options)})],&quot;_commands&quot;:[(function (args){var fn=args.shift(); var elem=this.plotElem; var Plotly=this.Plotly; args.unshift(elem); return Plotly[fn].apply(this,args)})]},&quot;systemjs_options&quot;:null,&quot;observables&quot;:{&quot;_toImage&quot;:{&quot;sync&quot;:false,&quot;id&quot;:&quot;ob_378&quot;,&quot;value&quot;:{}},&quot;hover&quot;:{&quot;sync&quot;:false,&quot;id&quot;:&quot;ob_371&quot;,&quot;value&quot;:{}},&quot;selected&quot;:{&quot;sync&quot;:false,&quot;id&quot;:&quot;ob_372&quot;,&quot;value&quot;:{}},&quot;__gd_contents&quot;:{&quot;sync&quot;:false,&quot;id&quot;:&quot;ob_376&quot;,&quot;value&quot;:{}},&quot;click&quot;:{&quot;sync&quot;:false,&quot;id&quot;:&quot;ob_373&quot;,&quot;value&quot;:{}},&quot;image&quot;:{&quot;sync&quot;:true,&quot;id&quot;:&quot;ob_375&quot;,&quot;value&quot;:&quot;&quot;},&quot;__get_gd_contents&quot;:{&quot;sync&quot;:false,&quot;id&quot;:&quot;ob_380&quot;,&quot;value&quot;:&quot;&quot;},&quot;_downloadImage&quot;:{&quot;sync&quot;:false,&quot;id&quot;:&quot;ob_379&quot;,&quot;value&quot;:{}},&quot;relayout&quot;:{&quot;sync&quot;:false,&quot;id&quot;:&quot;ob_374&quot;,&quot;value&quot;:{}},&quot;_commands&quot;:{&quot;sync&quot;:false,&quot;id&quot;:&quot;ob_377&quot;,&quot;value&quot;:[]}}},&quot;children&quot;:[{&quot;props&quot;:{&quot;id&quot;:&quot;plot-7938bbd7-d489-44b4-826c-d8c5f82fbd2e&quot;},&quot;nodeType&quot;:&quot;DOM&quot;,&quot;type&quot;:&quot;node&quot;,&quot;instanceArgs&quot;:{&quot;namespace&quot;:&quot;html&quot;,&quot;tag&quot;:&quot;div&quot;},&quot;children&quot;:[]}]})</unsafe-script>"
      ],
      "text/plain": [
       "data: [\n",
       "  \"scatter with fields type, x, xaxis, y, and yaxis\",\n",
       "  \"scatter with fields type, x, xaxis, y, and yaxis\"\n",
       "]\n",
       "\n",
       "layout: \"layout with fields margin, xaxis1, xaxis2, yaxis1, and yaxis2\"\n",
       "\n"
      ]
     },
     "execution_count": 62,
     "metadata": {},
     "output_type": "execute_result"
    }
   ],
   "source": [
    "# 2 rows and 1 column\n",
    "[p1 , p2]"
   ]
  },
  {
   "cell_type": "code",
   "execution_count": 65,
   "metadata": {},
   "outputs": [
    {
     "data": {
      "application/vnd.plotly.v1+json": {
       "data": [
        {
         "type": "scatter",
         "x": [
          1,
          2,
          3,
          4,
          5,
          6,
          7,
          8,
          9,
          10
         ],
         "xaxis": "x1",
         "y": [
          2.3656874863852777,
          -0.2769851472164619,
          1.071433669467667,
          -1.346971442080223,
          1.3160214751370227,
          -0.005604653006298781,
          0.47887711961970114,
          -0.5434573790621631,
          1.5831465877453537,
          -1.237913053609002
         ],
         "yaxis": "y1"
        },
        {
         "type": "scatter",
         "x": [
          1,
          2,
          3,
          4,
          5,
          6,
          7,
          8,
          9,
          10,
          11,
          12,
          13,
          14,
          15,
          16,
          17,
          18,
          19,
          20
         ],
         "xaxis": "x2",
         "y": [
          -1.922239101279223,
          -1.102885603187014,
          -1.7037165893355768,
          0.6793720722745699,
          -1.1149387249546097,
          -1.1801665886711525,
          0.4458002538790576,
          0.7245385022154905,
          -2.5651992461383357,
          -2.429702619412832,
          -1.529507781512832,
          1.6686133749067296,
          1.551321111643412,
          -1.981361672252932,
          -0.5644405074846673,
          -1.709649673399525,
          -0.3751764602743135,
          -0.6378273413278639,
          0.059853290058453364,
          -0.3936207660301304
         ],
         "yaxis": "y2"
        },
        {
         "type": "scatter",
         "x": [
          1,
          2,
          3,
          4,
          5,
          6,
          7,
          8,
          9,
          10,
          11,
          12,
          13,
          14,
          15,
          16,
          17,
          18,
          19,
          20,
          21,
          22,
          23,
          24,
          25,
          26,
          27,
          28,
          29,
          30
         ],
         "xaxis": "x3",
         "y": [
          -0.06250240708539744,
          -0.8089652613460396,
          -1.6827108104230128,
          -0.2557874511104888,
          -1.8445072852343773,
          -2.5926885140215172,
          -1.440225341643325,
          0.24886618529201524,
          2.4418825613531303,
          1.5101972461435131,
          1.0759444691241995,
          0.44118129288466496,
          0.6776549741916201,
          0.9375232770429545,
          -0.24691865355415682,
          0.2385282636517103,
          -0.8791651540122131,
          1.0256490287129263,
          0.7504978935708347,
          -0.4056276347128118,
          1.6258148105752352,
          1.457400406302816,
          -1.2270652782852614,
          1.541440195382541,
          -0.19426609778563084,
          0.10729212529035406,
          -0.578687312921562,
          -0.5406816242989985,
          0.8841635875167981,
          0.2380498759975031
         ],
         "yaxis": "y3"
        },
        {
         "type": "scatter",
         "x": [
          1,
          2,
          3,
          4,
          5,
          6,
          7,
          8,
          9,
          10,
          11,
          12,
          13,
          14,
          15,
          16,
          17,
          18,
          19,
          20,
          21,
          22,
          23,
          24,
          25,
          26,
          27,
          28,
          29,
          30,
          31,
          32,
          33,
          34,
          35,
          36,
          37,
          38,
          39,
          40
         ],
         "xaxis": "x4",
         "y": [
          0.3274580140173217,
          1.952553432332674,
          -0.07914381935957786,
          -1.8192901981266032,
          0.24896291462991257,
          -0.5055950274229055,
          1.2024957872312214,
          -0.5036118777470892,
          -0.9657043791601658,
          2.4034369528503596,
          0.41054616515758185,
          0.5278909961601463,
          0.9237535464388562,
          0.761165135924562,
          -0.5072093310768986,
          -1.046113477892376,
          -2.3257528140945003,
          -0.48926054166644845,
          0.08705348522600624,
          1.0004235458804034,
          0.9092893270226385,
          -0.39806773626150954,
          -0.6299005609757945,
          -3.571873259898326,
          0.11792776251505864,
          1.0194555567339534,
          -0.8181511619180143,
          -0.36680151478427003,
          -1.3144398715177898,
          0.1588806727266484,
          0.811270627045604,
          -0.29730924207168413,
          0.9266398985480869,
          0.6659183181973408,
          1.1418568861786271,
          -0.3735248522845811,
          0.22495684167966212,
          1.3003590585206408,
          1.6148393699578782,
          0.9443780435105501
         ],
         "yaxis": "y4"
        }
       ],
       "layout": {
        "margin": {
         "b": 50,
         "l": 50,
         "r": 50,
         "t": 60
        },
        "xaxis1": {
         "anchor": "y1",
         "domain": [
          0,
          0.45
         ]
        },
        "xaxis2": {
         "anchor": "y2",
         "domain": [
          0.55,
          1
         ]
        },
        "xaxis3": {
         "anchor": "y3",
         "domain": [
          0,
          0.45
         ]
        },
        "xaxis4": {
         "anchor": "y4",
         "domain": [
          0.55,
          1
         ]
        },
        "yaxis1": {
         "anchor": "x1",
         "domain": [
          0.575,
          1
         ]
        },
        "yaxis2": {
         "anchor": "x2",
         "domain": [
          0.575,
          1
         ]
        },
        "yaxis3": {
         "anchor": "x3",
         "domain": [
          5.551115123125783e-17,
          0.42500000000000004
         ]
        },
        "yaxis4": {
         "anchor": "x4",
         "domain": [
          5.551115123125783e-17,
          0.42500000000000004
         ]
        }
       }
      },
      "text/html": [
       "<div class='display:none'></div><unsafe-script style='display:none'>\n",
       "WebIO.mount(this.previousSibling,{&quot;props&quot;:{},&quot;nodeType&quot;:&quot;Scope&quot;,&quot;type&quot;:&quot;node&quot;,&quot;instanceArgs&quot;:{&quot;imports&quot;:{&quot;data&quot;:[{&quot;name&quot;:&quot;Plotly&quot;,&quot;type&quot;:&quot;js&quot;,&quot;url&quot;:&quot;/assetserver/5311f9888b884b50e52f4a90fad64eb841288be8-plotly-latest.min.js&quot;},{&quot;name&quot;:null,&quot;type&quot;:&quot;js&quot;,&quot;url&quot;:&quot;/assetserver/5c351a91169f2a19a186af98699dd36a27fe8939-plotly_webio.bundle.js&quot;}],&quot;type&quot;:&quot;async_block&quot;},&quot;id&quot;:&quot;scope-5e534bf1-4309-4a1f-bdd3-0f68f57d49d9&quot;,&quot;handlers&quot;:{&quot;_toImage&quot;:[(function (options){return this.Plotly.toImage(this.plotElem,options).then((function (data){return WebIO.setval({&quot;name&quot;:&quot;image&quot;,&quot;scope&quot;:&quot;scope-5e534bf1-4309-4a1f-bdd3-0f68f57d49d9&quot;,&quot;id&quot;:&quot;ob_385&quot;,&quot;type&quot;:&quot;observable&quot;},data)}))})],&quot;__get_gd_contents&quot;:[(function (prop){prop==&quot;data&quot; ? (WebIO.setval({&quot;name&quot;:&quot;__gd_contents&quot;,&quot;scope&quot;:&quot;scope-5e534bf1-4309-4a1f-bdd3-0f68f57d49d9&quot;,&quot;id&quot;:&quot;ob_386&quot;,&quot;type&quot;:&quot;observable&quot;},this.plotElem.data)) : undefined; return prop==&quot;layout&quot; ? (WebIO.setval({&quot;name&quot;:&quot;__gd_contents&quot;,&quot;scope&quot;:&quot;scope-5e534bf1-4309-4a1f-bdd3-0f68f57d49d9&quot;,&quot;id&quot;:&quot;ob_386&quot;,&quot;type&quot;:&quot;observable&quot;},this.plotElem.layout)) : undefined})],&quot;_promises&quot;:{&quot;importsLoaded&quot;:[(function (Plotly){var gd=this.dom.querySelector(&quot;#plot-cb93b2c3-354d-4ae1-8b2c-08add902d645&quot;); this.plotElem=gd; this.Plotly=Plotly; (window.Blink!==undefined) ? (gd.style.width=&quot;100%&quot;, gd.style.height=&quot;100vh&quot;, gd.style.marginLeft=&quot;0%&quot;, gd.style.marginTop=&quot;0vh&quot;) : undefined; window.onresize=(function (){return Plotly.Plots.resize(gd)}); Plotly.newPlot(gd,[{&quot;xaxis&quot;:&quot;x1&quot;,&quot;y&quot;:[2.3656874863852777,-0.2769851472164619,1.071433669467667,-1.346971442080223,1.3160214751370227,-0.005604653006298781,0.47887711961970114,-0.5434573790621631,1.5831465877453537,-1.237913053609002],&quot;type&quot;:&quot;scatter&quot;,&quot;yaxis&quot;:&quot;y1&quot;,&quot;x&quot;:[1,2,3,4,5,6,7,8,9,10]},{&quot;xaxis&quot;:&quot;x2&quot;,&quot;y&quot;:[-1.922239101279223,-1.102885603187014,-1.7037165893355768,0.6793720722745699,-1.1149387249546097,-1.1801665886711525,0.4458002538790576,0.7245385022154905,-2.5651992461383357,-2.429702619412832,-1.529507781512832,1.6686133749067296,1.551321111643412,-1.981361672252932,-0.5644405074846673,-1.709649673399525,-0.3751764602743135,-0.6378273413278639,0.059853290058453364,-0.3936207660301304],&quot;type&quot;:&quot;scatter&quot;,&quot;yaxis&quot;:&quot;y2&quot;,&quot;x&quot;:[1,2,3,4,5,6,7,8,9,10,11,12,13,14,15,16,17,18,19,20]},{&quot;xaxis&quot;:&quot;x3&quot;,&quot;y&quot;:[-0.06250240708539744,-0.8089652613460396,-1.6827108104230128,-0.2557874511104888,-1.8445072852343773,-2.5926885140215172,-1.440225341643325,0.24886618529201524,2.4418825613531303,1.5101972461435131,1.0759444691241995,0.44118129288466496,0.6776549741916201,0.9375232770429545,-0.24691865355415682,0.2385282636517103,-0.8791651540122131,1.0256490287129263,0.7504978935708347,-0.4056276347128118,1.6258148105752352,1.457400406302816,-1.2270652782852614,1.541440195382541,-0.19426609778563084,0.10729212529035406,-0.578687312921562,-0.5406816242989985,0.8841635875167981,0.2380498759975031],&quot;type&quot;:&quot;scatter&quot;,&quot;yaxis&quot;:&quot;y3&quot;,&quot;x&quot;:[1,2,3,4,5,6,7,8,9,10,11,12,13,14,15,16,17,18,19,20,21,22,23,24,25,26,27,28,29,30]},{&quot;xaxis&quot;:&quot;x4&quot;,&quot;y&quot;:[0.3274580140173217,1.952553432332674,-0.07914381935957786,-1.8192901981266032,0.24896291462991257,-0.5055950274229055,1.2024957872312214,-0.5036118777470892,-0.9657043791601658,2.4034369528503596,0.41054616515758185,0.5278909961601463,0.9237535464388562,0.761165135924562,-0.5072093310768986,-1.046113477892376,-2.3257528140945003,-0.48926054166644845,0.08705348522600624,1.0004235458804034,0.9092893270226385,-0.39806773626150954,-0.6299005609757945,-3.571873259898326,0.11792776251505864,1.0194555567339534,-0.8181511619180143,-0.36680151478427003,-1.3144398715177898,0.1588806727266484,0.811270627045604,-0.29730924207168413,0.9266398985480869,0.6659183181973408,1.1418568861786271,-0.3735248522845811,0.22495684167966212,1.3003590585206408,1.6148393699578782,0.9443780435105501],&quot;type&quot;:&quot;scatter&quot;,&quot;yaxis&quot;:&quot;y4&quot;,&quot;x&quot;:[1,2,3,4,5,6,7,8,9,10,11,12,13,14,15,16,17,18,19,20,21,22,23,24,25,26,27,28,29,30,31,32,33,34,35,36,37,38,39,40]}],{&quot;xaxis1&quot;:{&quot;domain&quot;:[0.0,0.45],&quot;anchor&quot;:&quot;y1&quot;},&quot;yaxis1&quot;:{&quot;domain&quot;:[0.575,1.0],&quot;anchor&quot;:&quot;x1&quot;},&quot;yaxis3&quot;:{&quot;domain&quot;:[5.551115123125783e-17,0.42500000000000004],&quot;anchor&quot;:&quot;x3&quot;},&quot;xaxis2&quot;:{&quot;domain&quot;:[0.55,1.0],&quot;anchor&quot;:&quot;y2&quot;},&quot;margin&quot;:{&quot;l&quot;:50,&quot;b&quot;:50,&quot;r&quot;:50,&quot;t&quot;:60},&quot;xaxis3&quot;:{&quot;domain&quot;:[0.0,0.45],&quot;anchor&quot;:&quot;y3&quot;},&quot;yaxis2&quot;:{&quot;domain&quot;:[0.575,1.0],&quot;anchor&quot;:&quot;x2&quot;},&quot;xaxis4&quot;:{&quot;domain&quot;:[0.55,1.0],&quot;anchor&quot;:&quot;y4&quot;},&quot;yaxis4&quot;:{&quot;domain&quot;:[5.551115123125783e-17,0.42500000000000004],&quot;anchor&quot;:&quot;x4&quot;}},{&quot;showLink&quot;:false}); gd.on(&quot;plotly_hover&quot;,(function (data){var filtered_data=WebIO.PlotlyCommands.filterEventData(gd,data,&quot;hover&quot;); return !(filtered_data.isnil) ? (WebIO.setval({&quot;name&quot;:&quot;hover&quot;,&quot;scope&quot;:&quot;scope-5e534bf1-4309-4a1f-bdd3-0f68f57d49d9&quot;,&quot;id&quot;:&quot;ob_381&quot;,&quot;type&quot;:&quot;observable&quot;},filtered_data.out)) : undefined})); gd.on(&quot;plotly_unhover&quot;,(function (){return WebIO.setval({&quot;name&quot;:&quot;hover&quot;,&quot;scope&quot;:&quot;scope-5e534bf1-4309-4a1f-bdd3-0f68f57d49d9&quot;,&quot;id&quot;:&quot;ob_381&quot;,&quot;type&quot;:&quot;observable&quot;},{})})); gd.on(&quot;plotly_selected&quot;,(function (data){var filtered_data=WebIO.PlotlyCommands.filterEventData(gd,data,&quot;selected&quot;); return !(filtered_data.isnil) ? (WebIO.setval({&quot;name&quot;:&quot;selected&quot;,&quot;scope&quot;:&quot;scope-5e534bf1-4309-4a1f-bdd3-0f68f57d49d9&quot;,&quot;id&quot;:&quot;ob_382&quot;,&quot;type&quot;:&quot;observable&quot;},filtered_data.out)) : undefined})); gd.on(&quot;plotly_deselect&quot;,(function (){return WebIO.setval({&quot;name&quot;:&quot;selected&quot;,&quot;scope&quot;:&quot;scope-5e534bf1-4309-4a1f-bdd3-0f68f57d49d9&quot;,&quot;id&quot;:&quot;ob_382&quot;,&quot;type&quot;:&quot;observable&quot;},{})})); gd.on(&quot;plotly_relayout&quot;,(function (data){var filtered_data=WebIO.PlotlyCommands.filterEventData(gd,data,&quot;relayout&quot;); return !(filtered_data.isnil) ? (WebIO.setval({&quot;name&quot;:&quot;relayout&quot;,&quot;scope&quot;:&quot;scope-5e534bf1-4309-4a1f-bdd3-0f68f57d49d9&quot;,&quot;id&quot;:&quot;ob_384&quot;,&quot;type&quot;:&quot;observable&quot;},filtered_data.out)) : undefined})); return gd.on(&quot;plotly_click&quot;,(function (data){var filtered_data=WebIO.PlotlyCommands.filterEventData(gd,data,&quot;click&quot;); return !(filtered_data.isnil) ? (WebIO.setval({&quot;name&quot;:&quot;click&quot;,&quot;scope&quot;:&quot;scope-5e534bf1-4309-4a1f-bdd3-0f68f57d49d9&quot;,&quot;id&quot;:&quot;ob_383&quot;,&quot;type&quot;:&quot;observable&quot;},filtered_data.out)) : undefined}))})]},&quot;_downloadImage&quot;:[(function (options){return this.Plotly.downloadImage(this.plotElem,options)})],&quot;_commands&quot;:[(function (args){var fn=args.shift(); var elem=this.plotElem; var Plotly=this.Plotly; args.unshift(elem); return Plotly[fn].apply(this,args)})]},&quot;systemjs_options&quot;:null,&quot;observables&quot;:{&quot;_toImage&quot;:{&quot;sync&quot;:false,&quot;id&quot;:&quot;ob_388&quot;,&quot;value&quot;:{}},&quot;hover&quot;:{&quot;sync&quot;:false,&quot;id&quot;:&quot;ob_381&quot;,&quot;value&quot;:{}},&quot;selected&quot;:{&quot;sync&quot;:false,&quot;id&quot;:&quot;ob_382&quot;,&quot;value&quot;:{}},&quot;__gd_contents&quot;:{&quot;sync&quot;:false,&quot;id&quot;:&quot;ob_386&quot;,&quot;value&quot;:{}},&quot;click&quot;:{&quot;sync&quot;:false,&quot;id&quot;:&quot;ob_383&quot;,&quot;value&quot;:{}},&quot;image&quot;:{&quot;sync&quot;:true,&quot;id&quot;:&quot;ob_385&quot;,&quot;value&quot;:&quot;&quot;},&quot;__get_gd_contents&quot;:{&quot;sync&quot;:false,&quot;id&quot;:&quot;ob_390&quot;,&quot;value&quot;:&quot;&quot;},&quot;_downloadImage&quot;:{&quot;sync&quot;:false,&quot;id&quot;:&quot;ob_389&quot;,&quot;value&quot;:{}},&quot;relayout&quot;:{&quot;sync&quot;:false,&quot;id&quot;:&quot;ob_384&quot;,&quot;value&quot;:{}},&quot;_commands&quot;:{&quot;sync&quot;:false,&quot;id&quot;:&quot;ob_387&quot;,&quot;value&quot;:[]}}},&quot;children&quot;:[{&quot;props&quot;:{&quot;id&quot;:&quot;plot-cb93b2c3-354d-4ae1-8b2c-08add902d645&quot;},&quot;nodeType&quot;:&quot;DOM&quot;,&quot;type&quot;:&quot;node&quot;,&quot;instanceArgs&quot;:{&quot;namespace&quot;:&quot;html&quot;,&quot;tag&quot;:&quot;div&quot;},&quot;children&quot;:[]}]})</unsafe-script>"
      ],
      "text/plain": [
       "data: [\n",
       "  \"scatter with fields type, x, xaxis, y, and yaxis\",\n",
       "  \"scatter with fields type, x, xaxis, y, and yaxis\",\n",
       "  \"scatter with fields type, x, xaxis, y, and yaxis\",\n",
       "  \"scatter with fields type, x, xaxis, y, and yaxis\"\n",
       "]\n",
       "\n",
       "layout: \"layout with fields margin, xaxis1, xaxis2, xaxis3, xaxis4, yaxis1, yaxis2, yaxis3, and yaxis4\"\n",
       "\n"
      ]
     },
     "execution_count": 65,
     "metadata": {},
     "output_type": "execute_result"
    }
   ],
   "source": [
    "# 2 rows and 2 columns\n",
    "[p1 p2 ; p3 p4]"
   ]
  },
  {
   "cell_type": "markdown",
   "metadata": {},
   "source": [
    "### We can inspect the json to see what we've been saved from"
   ]
  },
  {
   "cell_type": "code",
   "execution_count": 72,
   "metadata": {},
   "outputs": [
    {
     "name": "stdout",
     "output_type": "stream",
     "text": [
      "{\n",
      "  \"layout\": {\n",
      "    \"xaxis1\": {\n",
      "      \"domain\": [\n",
      "        0.0,\n",
      "        0.45\n",
      "      ],\n",
      "      \"anchor\": \"y1\"\n",
      "    },\n",
      "    \"yaxis1\": {\n",
      "      \"domain\": [\n",
      "        0.575,\n",
      "        1.0\n",
      "      ],\n",
      "      \"anchor\": \"x1\"\n",
      "    },\n",
      "    \"yaxis3\": {\n",
      "      \"domain\": [\n",
      "        5.551115123125783e-17,\n",
      "        0.42500000000000004\n",
      "      ],\n",
      "      \"anchor\": \"x3\"\n",
      "    },\n",
      "    \"xaxis2\": {\n",
      "      \"domain\": [\n",
      "        0.55,\n",
      "        1.0\n",
      "      ],\n",
      "      \"anchor\": \"y2\"\n",
      "    },\n",
      "    \"margin\": {\n",
      "      \"l\": 50,\n",
      "      \"b\": 50,\n",
      "      \"r\": 50,\n",
      "      \"t\": 60\n",
      "    },\n",
      "    \"xaxis3\": {\n",
      "      \"domain\": [\n",
      "        0.0,\n",
      "        0.45\n",
      "      ],\n",
      "      \"anchor\": \"y3\"\n",
      "    },\n",
      "    \"yaxis2\": {\n",
      "      \"domain\": [\n",
      "        0.575,\n",
      "        1.0\n",
      "      ],\n",
      "      \"anchor\": \"x2\"\n",
      "    },\n",
      "    \"xaxis4\": {\n",
      "      \"domain\": [\n",
      "        0.55,\n",
      "        1.0\n",
      "      ],\n",
      "      \"anchor\": \"y4\"\n",
      "    },\n",
      "    \"yaxis4\": {\n",
      "      \"domain\": [\n",
      "        5.551115123125783e-17,\n",
      "        0.42500000000000004\n",
      "      ],\n",
      "      \"anchor\": \"x4\"\n",
      "    }\n",
      "  },\n",
      "  \"data\": [\n",
      "    {\n",
      "      \"xaxis\": \"x1\",\n",
      "      \"y\": [\n",
      "        2.3656874863852777,\n",
      "        -0.2769851472164619,\n",
      "        1.071433669467667,\n",
      "        -1.346971442080223,\n",
      "        1.3160214751370227,\n",
      "        -0.005604653006298781,\n",
      "        0.47887711961970114,\n",
      "        -0.5434573790621631,\n",
      "        1.5831465877453537,\n",
      "        -1.237913053609002\n",
      "      ],\n",
      "      \"type\": \"scatter\",\n",
      "      \"yaxis\": \"y1\",\n",
      "      \"x\": [\n",
      "        1,\n",
      "        2,\n",
      "        3,\n",
      "        4,\n",
      "        5,\n",
      "        6,\n",
      "        7,\n",
      "        8,\n",
      "        9,\n",
      "        10\n",
      "      ]\n",
      "    },\n",
      "    {\n",
      "      \"xaxis\": \"x2\",\n",
      "      \"y\": [\n",
      "        -1.922239101279223,\n",
      "        -1.102885603187014,\n",
      "        -1.7037165893355768,\n",
      "        0.6793720722745699,\n",
      "        -1.1149387249546097,\n",
      "        -1.1801665886711525,\n",
      "        0.4458002538790576,\n",
      "        0.7245385022154905,\n",
      "        -2.5651992461383357,\n",
      "        -2.429702619412832,\n",
      "        -1.529507781512832,\n",
      "        1.6686133749067296,\n",
      "        1.551321111643412,\n",
      "        -1.981361672252932,\n",
      "        -0.5644405074846673,\n",
      "        -1.709649673399525,\n",
      "        -0.3751764602743135,\n",
      "        -0.6378273413278639,\n",
      "        0.059853290058453364,\n",
      "        -0.3936207660301304\n",
      "      ],\n",
      "      \"type\": \"scatter\",\n",
      "      \"yaxis\": \"y2\",\n",
      "      \"x\": [\n",
      "        1,\n",
      "        2,\n",
      "        3,\n",
      "        4,\n",
      "        5,\n",
      "        6,\n",
      "        7,\n",
      "        8,\n",
      "        9,\n",
      "        10,\n",
      "        11,\n",
      "        12,\n",
      "        13,\n",
      "        14,\n",
      "        15,\n",
      "        16,\n",
      "        17,\n",
      "        18,\n",
      "        19,\n",
      "        20\n",
      "      ]\n",
      "    },\n",
      "    {\n",
      "      \"xaxis\": \"x3\",\n",
      "      \"y\": [\n",
      "        -0.06250240708539744,\n",
      "        -0.8089652613460396,\n",
      "        -1.6827108104230128,\n",
      "        -0.2557874511104888,\n",
      "        -1.8445072852343773,\n",
      "        -2.5926885140215172,\n",
      "        -1.440225341643325,\n",
      "        0.24886618529201524,\n",
      "        2.4418825613531303,\n",
      "        1.5101972461435131,\n",
      "        1.0759444691241995,\n",
      "        0.44118129288466496,\n",
      "        0.6776549741916201,\n",
      "        0.9375232770429545,\n",
      "        -0.24691865355415682,\n",
      "        0.2385282636517103,\n",
      "        -0.8791651540122131,\n",
      "        1.0256490287129263,\n",
      "        0.7504978935708347,\n",
      "        -0.4056276347128118,\n",
      "        1.6258148105752352,\n",
      "        1.457400406302816,\n",
      "        -1.2270652782852614,\n",
      "        1.541440195382541,\n",
      "        -0.19426609778563084,\n",
      "        0.10729212529035406,\n",
      "        -0.578687312921562,\n",
      "        -0.5406816242989985,\n",
      "        0.8841635875167981,\n",
      "        0.2380498759975031\n",
      "      ],\n",
      "      \"type\": \"scatter\",\n",
      "      \"yaxis\": \"y3\",\n",
      "      \"x\": [\n",
      "        1,\n",
      "        2,\n",
      "        3,\n",
      "        4,\n",
      "        5,\n",
      "        6,\n",
      "        7,\n",
      "        8,\n",
      "        9,\n",
      "        10,\n",
      "        11,\n",
      "        12,\n",
      "        13,\n",
      "        14,\n",
      "        15,\n",
      "        16,\n",
      "        17,\n",
      "        18,\n",
      "        19,\n",
      "        20,\n",
      "        21,\n",
      "        22,\n",
      "        23,\n",
      "        24,\n",
      "        25,\n",
      "        26,\n",
      "        27,\n",
      "        28,\n",
      "        29,\n",
      "        30\n",
      "      ]\n",
      "    },\n",
      "    {\n",
      "      \"xaxis\": \"x4\",\n",
      "      \"y\": [\n",
      "        0.3274580140173217,\n",
      "        1.952553432332674,\n",
      "        -0.07914381935957786,\n",
      "        -1.8192901981266032,\n",
      "        0.24896291462991257,\n",
      "        -0.5055950274229055,\n",
      "        1.2024957872312214,\n",
      "        -0.5036118777470892,\n",
      "        -0.9657043791601658,\n",
      "        2.4034369528503596,\n",
      "        0.41054616515758185,\n",
      "        0.5278909961601463,\n",
      "        0.9237535464388562,\n",
      "        0.761165135924562,\n",
      "        -0.5072093310768986,\n",
      "        -1.046113477892376,\n",
      "        -2.3257528140945003,\n",
      "        -0.48926054166644845,\n",
      "        0.08705348522600624,\n",
      "        1.0004235458804034,\n",
      "        0.9092893270226385,\n",
      "        -0.39806773626150954,\n",
      "        -0.6299005609757945,\n",
      "        -3.571873259898326,\n",
      "        0.11792776251505864,\n",
      "        1.0194555567339534,\n",
      "        -0.8181511619180143,\n",
      "        -0.36680151478427003,\n",
      "        -1.3144398715177898,\n",
      "        0.1588806727266484,\n",
      "        0.811270627045604,\n",
      "        -0.29730924207168413,\n",
      "        0.9266398985480869,\n",
      "        0.6659183181973408,\n",
      "        1.1418568861786271,\n",
      "        -0.3735248522845811,\n",
      "        0.22495684167966212,\n",
      "        1.3003590585206408,\n",
      "        1.6148393699578782,\n",
      "        0.9443780435105501\n",
      "      ],\n",
      "      \"type\": \"scatter\",\n",
      "      \"yaxis\": \"y4\",\n",
      "      \"x\": [\n",
      "        1,\n",
      "        2,\n",
      "        3,\n",
      "        4,\n",
      "        5,\n",
      "        6,\n",
      "        7,\n",
      "        8,\n",
      "        9,\n",
      "        10,\n",
      "        11,\n",
      "        12,\n",
      "        13,\n",
      "        14,\n",
      "        15,\n",
      "        16,\n",
      "        17,\n",
      "        18,\n",
      "        19,\n",
      "        20,\n",
      "        21,\n",
      "        22,\n",
      "        23,\n",
      "        24,\n",
      "        25,\n",
      "        26,\n",
      "        27,\n",
      "        28,\n",
      "        29,\n",
      "        30,\n",
      "        31,\n",
      "        32,\n",
      "        33,\n",
      "        34,\n",
      "        35,\n",
      "        36,\n",
      "        37,\n",
      "        38,\n",
      "        39,\n",
      "        40\n",
      "      ]\n",
      "    }\n",
      "  ]\n",
      "}\n"
     ]
    }
   ],
   "source": [
    "p = [p1 p2; p3 p4]\n",
    "print(json(p,2))"
   ]
  },
  {
   "cell_type": "markdown",
   "metadata": {},
   "source": [
    "### plotly.js api function\n",
    "* plotlyjs.jl also exposes all plotly.js API functions to pure julia\n",
    "* Let us see some examples"
   ]
  },
  {
   "cell_type": "code",
   "execution_count": 81,
   "metadata": {},
   "outputs": [
    {
     "data": {
      "application/vnd.plotly.v1+json": {
       "data": [
        {
         "type": "scatter",
         "x": [
          1,
          2,
          3,
          4,
          5,
          6,
          7,
          8,
          9,
          10
         ],
         "y": [
          0.651123069018789,
          1.2360795611158688,
          1.0062998146953808,
          0.04337964465517299,
          -0.320123144635917,
          0.5682484932160923,
          -0.6771043742411038,
          0.5889414230355158,
          1.3971424552394662,
          -0.15166175628646555
         ]
        }
       ],
       "layout": {
        "margin": {
         "b": 50,
         "l": 50,
         "r": 50,
         "t": 60
        }
       }
      },
      "text/html": [
       "<div class='display:none'></div><unsafe-script style='display:none'>\n",
       "WebIO.mount(this.previousSibling,{&quot;props&quot;:{},&quot;nodeType&quot;:&quot;Scope&quot;,&quot;type&quot;:&quot;node&quot;,&quot;instanceArgs&quot;:{&quot;imports&quot;:{&quot;data&quot;:[{&quot;name&quot;:&quot;Plotly&quot;,&quot;type&quot;:&quot;js&quot;,&quot;url&quot;:&quot;/assetserver/5311f9888b884b50e52f4a90fad64eb841288be8-plotly-latest.min.js&quot;},{&quot;name&quot;:null,&quot;type&quot;:&quot;js&quot;,&quot;url&quot;:&quot;/assetserver/5c351a91169f2a19a186af98699dd36a27fe8939-plotly_webio.bundle.js&quot;}],&quot;type&quot;:&quot;async_block&quot;},&quot;id&quot;:&quot;scope-cd7ea045-6760-4b5a-9d46-7ae266915f58&quot;,&quot;handlers&quot;:{&quot;_toImage&quot;:[(function (options){return this.Plotly.toImage(this.plotElem,options).then((function (data){return WebIO.setval({&quot;name&quot;:&quot;image&quot;,&quot;scope&quot;:&quot;scope-cd7ea045-6760-4b5a-9d46-7ae266915f58&quot;,&quot;id&quot;:&quot;ob_455&quot;,&quot;type&quot;:&quot;observable&quot;},data)}))})],&quot;__get_gd_contents&quot;:[(function (prop){prop==&quot;data&quot; ? (WebIO.setval({&quot;name&quot;:&quot;__gd_contents&quot;,&quot;scope&quot;:&quot;scope-cd7ea045-6760-4b5a-9d46-7ae266915f58&quot;,&quot;id&quot;:&quot;ob_456&quot;,&quot;type&quot;:&quot;observable&quot;},this.plotElem.data)) : undefined; return prop==&quot;layout&quot; ? (WebIO.setval({&quot;name&quot;:&quot;__gd_contents&quot;,&quot;scope&quot;:&quot;scope-cd7ea045-6760-4b5a-9d46-7ae266915f58&quot;,&quot;id&quot;:&quot;ob_456&quot;,&quot;type&quot;:&quot;observable&quot;},this.plotElem.layout)) : undefined})],&quot;_promises&quot;:{&quot;importsLoaded&quot;:[(function (Plotly){var gd=this.dom.querySelector(&quot;#plot-af1757d1-dbec-46d4-ba6d-4ffb7f3925eb&quot;); this.plotElem=gd; this.Plotly=Plotly; (window.Blink!==undefined) ? (gd.style.width=&quot;100%&quot;, gd.style.height=&quot;100vh&quot;, gd.style.marginLeft=&quot;0%&quot;, gd.style.marginTop=&quot;0vh&quot;) : undefined; window.onresize=(function (){return Plotly.Plots.resize(gd)}); Plotly.newPlot(gd,[{&quot;y&quot;:[0.651123069018789,1.2360795611158688,1.0062998146953808,0.04337964465517299,-0.320123144635917,0.5682484932160923,-0.6771043742411038,0.5889414230355158,1.3971424552394662,-0.15166175628646555],&quot;type&quot;:&quot;scatter&quot;,&quot;x&quot;:[1,2,3,4,5,6,7,8,9,10]}],{&quot;margin&quot;:{&quot;l&quot;:50,&quot;b&quot;:50,&quot;r&quot;:50,&quot;t&quot;:60}},{}); gd.on(&quot;plotly_hover&quot;,(function (data){var filtered_data=WebIO.PlotlyCommands.filterEventData(gd,data,&quot;hover&quot;); return !(filtered_data.isnil) ? (WebIO.setval({&quot;name&quot;:&quot;hover&quot;,&quot;scope&quot;:&quot;scope-cd7ea045-6760-4b5a-9d46-7ae266915f58&quot;,&quot;id&quot;:&quot;ob_451&quot;,&quot;type&quot;:&quot;observable&quot;},filtered_data.out)) : undefined})); gd.on(&quot;plotly_unhover&quot;,(function (){return WebIO.setval({&quot;name&quot;:&quot;hover&quot;,&quot;scope&quot;:&quot;scope-cd7ea045-6760-4b5a-9d46-7ae266915f58&quot;,&quot;id&quot;:&quot;ob_451&quot;,&quot;type&quot;:&quot;observable&quot;},{})})); gd.on(&quot;plotly_selected&quot;,(function (data){var filtered_data=WebIO.PlotlyCommands.filterEventData(gd,data,&quot;selected&quot;); return !(filtered_data.isnil) ? (WebIO.setval({&quot;name&quot;:&quot;selected&quot;,&quot;scope&quot;:&quot;scope-cd7ea045-6760-4b5a-9d46-7ae266915f58&quot;,&quot;id&quot;:&quot;ob_452&quot;,&quot;type&quot;:&quot;observable&quot;},filtered_data.out)) : undefined})); gd.on(&quot;plotly_deselect&quot;,(function (){return WebIO.setval({&quot;name&quot;:&quot;selected&quot;,&quot;scope&quot;:&quot;scope-cd7ea045-6760-4b5a-9d46-7ae266915f58&quot;,&quot;id&quot;:&quot;ob_452&quot;,&quot;type&quot;:&quot;observable&quot;},{})})); gd.on(&quot;plotly_relayout&quot;,(function (data){var filtered_data=WebIO.PlotlyCommands.filterEventData(gd,data,&quot;relayout&quot;); return !(filtered_data.isnil) ? (WebIO.setval({&quot;name&quot;:&quot;relayout&quot;,&quot;scope&quot;:&quot;scope-cd7ea045-6760-4b5a-9d46-7ae266915f58&quot;,&quot;id&quot;:&quot;ob_454&quot;,&quot;type&quot;:&quot;observable&quot;},filtered_data.out)) : undefined})); return gd.on(&quot;plotly_click&quot;,(function (data){var filtered_data=WebIO.PlotlyCommands.filterEventData(gd,data,&quot;click&quot;); return !(filtered_data.isnil) ? (WebIO.setval({&quot;name&quot;:&quot;click&quot;,&quot;scope&quot;:&quot;scope-cd7ea045-6760-4b5a-9d46-7ae266915f58&quot;,&quot;id&quot;:&quot;ob_453&quot;,&quot;type&quot;:&quot;observable&quot;},filtered_data.out)) : undefined}))})]},&quot;_downloadImage&quot;:[(function (options){return this.Plotly.downloadImage(this.plotElem,options)})],&quot;_commands&quot;:[(function (args){var fn=args.shift(); var elem=this.plotElem; var Plotly=this.Plotly; args.unshift(elem); return Plotly[fn].apply(this,args)})]},&quot;systemjs_options&quot;:null,&quot;observables&quot;:{&quot;_toImage&quot;:{&quot;sync&quot;:false,&quot;id&quot;:&quot;ob_458&quot;,&quot;value&quot;:{}},&quot;hover&quot;:{&quot;sync&quot;:false,&quot;id&quot;:&quot;ob_451&quot;,&quot;value&quot;:{}},&quot;selected&quot;:{&quot;sync&quot;:false,&quot;id&quot;:&quot;ob_452&quot;,&quot;value&quot;:{}},&quot;__gd_contents&quot;:{&quot;sync&quot;:false,&quot;id&quot;:&quot;ob_456&quot;,&quot;value&quot;:{}},&quot;click&quot;:{&quot;sync&quot;:false,&quot;id&quot;:&quot;ob_453&quot;,&quot;value&quot;:{}},&quot;image&quot;:{&quot;sync&quot;:true,&quot;id&quot;:&quot;ob_455&quot;,&quot;value&quot;:&quot;&quot;},&quot;__get_gd_contents&quot;:{&quot;sync&quot;:false,&quot;id&quot;:&quot;ob_460&quot;,&quot;value&quot;:&quot;&quot;},&quot;_downloadImage&quot;:{&quot;sync&quot;:false,&quot;id&quot;:&quot;ob_459&quot;,&quot;value&quot;:{}},&quot;relayout&quot;:{&quot;sync&quot;:false,&quot;id&quot;:&quot;ob_454&quot;,&quot;value&quot;:{}},&quot;_commands&quot;:{&quot;sync&quot;:false,&quot;id&quot;:&quot;ob_457&quot;,&quot;value&quot;:[]}}},&quot;children&quot;:[{&quot;props&quot;:{&quot;id&quot;:&quot;plot-af1757d1-dbec-46d4-ba6d-4ffb7f3925eb&quot;},&quot;nodeType&quot;:&quot;DOM&quot;,&quot;type&quot;:&quot;node&quot;,&quot;instanceArgs&quot;:{&quot;namespace&quot;:&quot;html&quot;,&quot;tag&quot;:&quot;div&quot;},&quot;children&quot;:[]}]})</unsafe-script>"
      ],
      "text/plain": [
       "data: [\n",
       "  \"scatter with fields type, x, and y\"\n",
       "]\n",
       "\n",
       "layout: \"layout with field margin\"\n",
       "\n"
      ]
     },
     "execution_count": 81,
     "metadata": {},
     "output_type": "execute_result"
    }
   ],
   "source": [
    "myplot = rand_plot(10)"
   ]
  },
  {
   "cell_type": "code",
   "execution_count": 82,
   "metadata": {},
   "outputs": [],
   "source": [
    "restyle!(myplot, marker_color=\"ForestGreen\")"
   ]
  },
  {
   "cell_type": "code",
   "execution_count": 83,
   "metadata": {},
   "outputs": [],
   "source": [
    "relayout!(myplot,title = \"This is my title\")"
   ]
  },
  {
   "cell_type": "code",
   "execution_count": 84,
   "metadata": {},
   "outputs": [],
   "source": [
    "addtraces!(myplot,trace1)"
   ]
  },
  {
   "cell_type": "code",
   "execution_count": 85,
   "metadata": {},
   "outputs": [],
   "source": [
    "prependtraces!(myplot, 1, x=[[0.1, 0.2, 0.3, 1]], y=[rand(4)])"
   ]
  },
  {
   "cell_type": "code",
   "execution_count": 86,
   "metadata": {},
   "outputs": [],
   "source": [
    "deletetraces!(myplot, 2)"
   ]
  }
 ],
 "metadata": {
  "kernelspec": {
   "display_name": "Julia 1.5.2",
   "language": "julia",
   "name": "julia-1.5"
  },
  "language_info": {
   "file_extension": ".jl",
   "mimetype": "application/julia",
   "name": "julia",
   "version": "1.5.2"
  }
 },
 "nbformat": 4,
 "nbformat_minor": 4
}
