{
 "cells": [
  {
   "cell_type": "markdown",
   "metadata": {},
   "source": [
    "## API overview\n",
    "\n",
    "The PlotlyJS.jl API has two main layers:\n",
    "* Faithful plotly.js layer : makes it possible to do anything plotly.js can\n",
    "* Convenience, \"Julian\" layer : WIP attempt to make some things more natural in Julia"
   ]
  },
  {
   "cell_type": "code",
   "execution_count": null,
   "metadata": {},
   "outputs": [],
   "source": [
    "using PlotlyJS"
   ]
  },
  {
   "cell_type": "code",
   "execution_count": null,
   "metadata": {},
   "outputs": [],
   "source": [
    "plot(scatter(y=[1.0, 4.0, 9.0], marker_symbol = \"square\"), \n",
    "     Layout(title = \"x2\"))"
   ]
  },
  {
   "cell_type": "code",
   "execution_count": null,
   "metadata": {},
   "outputs": [],
   "source": [
    "my_trace = scatter(y=[1.0, 4.0, 9.0], marker_symbol = \"square\") gith"
   ]
  },
  {
   "cell_type": "markdown",
   "metadata": {},
   "source": [
    "From the above command\n",
    "* Notice the syntax marker_symbol\n",
    "* This sets a nested json attribute {\"marker\":{\"symbol\":\"square\"}}\n",
    "* see the json"
   ]
  },
  {
   "cell_type": "code",
   "execution_count": null,
   "metadata": {},
   "outputs": [],
   "source": [
    "print(json(my_trace,2))"
   ]
  },
  {
   "cell_type": "code",
   "execution_count": null,
   "metadata": {},
   "outputs": [],
   "source": [
    "# nesting works at more than one level\n",
    "trace1 = scatter(y=rand(10), marker_color = \"red\",\n",
    "         marker_line_width = 2.0)\n",
    "trace2 = contour(x = 1:5, y = 1:10, z = randn(5,10))\n",
    "trace3 = bar(x = 1:10, y = rand(1:10,10), name = \"mybar\")"
   ]
  },
  {
   "cell_type": "code",
   "execution_count": null,
   "metadata": {},
   "outputs": [],
   "source": [
    "print(json(trace1,2))"
   ]
  },
  {
   "cell_type": "code",
   "execution_count": null,
   "metadata": {},
   "outputs": [],
   "source": [
    "print(json(trace2,2))"
   ]
  },
  {
   "cell_type": "code",
   "execution_count": null,
   "metadata": {},
   "outputs": [],
   "source": [
    "print(json(trace3,2))"
   ]
  },
  {
   "cell_type": "markdown",
   "metadata": {},
   "source": [
    "### To obtain the types of traces available refer to the [link!](https://www.google.com/url?sa=t&rct=j&q=&esrc=s&source=web&cd=&cad=rja&uact=8&ved=2ahUKEwieot-ezq7tAhUOSX0KHXE2DyMQFjAAegQIARAD&url=https%3A%2F%2Fplotly.com%2Fjavascript%2F&usg=AOvVaw2xZjMyOYpS2Sb49HOEtl79)"
   ]
  },
  {
   "cell_type": "markdown",
   "metadata": {},
   "source": [
    "### Build a layout by constructing Layout object :"
   ]
  },
  {
   "cell_type": "code",
   "execution_count": null,
   "metadata": {},
   "outputs": [],
   "source": [
    "layout = Layout(xaxis = attr(range = [0,10],\n",
    "                             title = \"assets\"),\n",
    "                yaxis_title = \"consumption\",\n",
    "                title = \"Plot\")"
   ]
  },
  {
   "cell_type": "markdown",
   "metadata": {},
   "source": [
    "In the above code, you can also use **xaxis_range = [0,10]** and **xaxis_title = \"assets\"** instead of **attr**\n",
    "whenever there are more parameter, it is good to enclose them in **attr**"
   ]
  },
  {
   "cell_type": "code",
   "execution_count": null,
   "metadata": {},
   "outputs": [],
   "source": [
    "print(json(layout,2))"
   ]
  },
  {
   "cell_type": "markdown",
   "metadata": {},
   "source": [
    "To actually display a plot, we tie one or more traces together with a layotu by calling the plot function:"
   ]
  },
  {
   "cell_type": "code",
   "execution_count": null,
   "metadata": {},
   "outputs": [],
   "source": [
    "plot(trace1, layout)"
   ]
  },
  {
   "cell_type": "code",
   "execution_count": null,
   "metadata": {},
   "outputs": [],
   "source": [
    "plot(trace2,layout)"
   ]
  },
  {
   "cell_type": "code",
   "execution_count": null,
   "metadata": {},
   "outputs": [],
   "source": [
    "plot(trace3,layout)"
   ]
  },
  {
   "cell_type": "markdown",
   "metadata": {},
   "source": [
    "### Convenience API"
   ]
  },
  {
   "cell_type": "markdown",
   "metadata": {},
   "source": [
    "The plot function has as a number of other mehtods that try to make is a bit easier to construct simple plots\\\n",
    "(remember multiple dispatch?:) )"
   ]
  },
  {
   "cell_type": "code",
   "execution_count": null,
   "metadata": {},
   "outputs": [],
   "source": [
    "methods(plot)"
   ]
  },
  {
   "cell_type": "markdown",
   "metadata": {},
   "source": [
    "### Let's see a few of them"
   ]
  },
  {
   "cell_type": "code",
   "execution_count": null,
   "metadata": {},
   "outputs": [],
   "source": [
    "x = LinRange(-5, 5, 50)\n",
    "y1 = sin.(x)\n",
    "y2 = cos.(x);"
   ]
  },
  {
   "cell_type": "code",
   "execution_count": null,
   "metadata": {},
   "outputs": [],
   "source": [
    "plot(x,y1)"
   ]
  },
  {
   "cell_type": "code",
   "execution_count": null,
   "metadata": {},
   "outputs": [],
   "source": [
    "# x optional and set attributes with keywords\n",
    "plot(y1, marker_color = \"red\",mode = \"markers\")"
   ]
  },
  {
   "cell_type": "code",
   "execution_count": null,
   "metadata": {},
   "outputs": [],
   "source": [
    "# columns become traces\n",
    "plot(x, [y1 y2], kind = \"bar\")"
   ]
  },
  {
   "cell_type": "code",
   "execution_count": null,
   "metadata": {},
   "outputs": [],
   "source": [
    "plot(x, [y1 y2], kind = \"bar\", Layout(title = \"My sinusoids\"))"
   ]
  },
  {
   "cell_type": "markdown",
   "metadata": {},
   "source": [
    "### Sub Plots"
   ]
  },
  {
   "cell_type": "markdown",
   "metadata": {},
   "source": [
    "* Declarative APIs for subplots can be verbose\n",
    "* PlotlyJS.jl tries to make this easier for you\n",
    "* Suppose you have to create 4 plots using plot:\n",
    "    * p1 = plot(...)\n",
    "    * p2 = plot(...)\n",
    "    * p3 = plot(...)\n",
    "    * p4 = plot(...)\n",
    "* You can combine them into subplots using familiar (h | v | hv) cat syntax :\n",
    "\n",
    "* [p1 p2] # 1 row 2 cols\n",
    "* [p1 p2 p3] # 1 row 3 cols\n",
    "* [p1, p2] # 2 rows 1 col\n",
    "* [p1 p2; p3 p4] # 2 rows 2 cols"
   ]
  },
  {
   "cell_type": "markdown",
   "metadata": {},
   "source": [
    "### Example"
   ]
  },
  {
   "cell_type": "code",
   "execution_count": null,
   "metadata": {},
   "outputs": [],
   "source": [
    "rand_plot(n) = plot(scatter(x = collect(1:n),y=randn(n)))\n",
    "p1, p2, p3, p4 = [rand_plot(i) for i in [10, 20, 30, 40]];"
   ]
  },
  {
   "cell_type": "code",
   "execution_count": null,
   "metadata": {},
   "outputs": [],
   "source": [
    "# 2 columns and 1 row\n",
    "[p1 p2]"
   ]
  },
  {
   "cell_type": "code",
   "execution_count": null,
   "metadata": {},
   "outputs": [],
   "source": [
    "# 3 columns and 1 row\n",
    "[p1 p2 p3]"
   ]
  },
  {
   "cell_type": "code",
   "execution_count": null,
   "metadata": {},
   "outputs": [],
   "source": [
    "# 2 rows and 1 column\n",
    "[p1 , p2]"
   ]
  },
  {
   "cell_type": "code",
   "execution_count": null,
   "metadata": {},
   "outputs": [],
   "source": [
    "# 2 rows and 2 columns\n",
    "[p1 p2 ; p3 p4]"
   ]
  },
  {
   "cell_type": "markdown",
   "metadata": {},
   "source": [
    "### We can inspect the json to see what we've been saved from"
   ]
  },
  {
   "cell_type": "code",
   "execution_count": null,
   "metadata": {},
   "outputs": [],
   "source": [
    "p = [p1 p2; p3 p4]\n",
    "print(json(p,2))"
   ]
  },
  {
   "cell_type": "markdown",
   "metadata": {},
   "source": [
    "### plotly.js api function\n",
    "* plotlyjs.jl also exposes all plotly.js API functions to pure julia\n",
    "* Let us see some examples"
   ]
  },
  {
   "cell_type": "code",
   "execution_count": null,
   "metadata": {},
   "outputs": [],
   "source": [
    "myplot = rand_plot(10)"
   ]
  },
  {
   "cell_type": "code",
   "execution_count": null,
   "metadata": {},
   "outputs": [],
   "source": [
    "restyle!(myplot, marker_color=\"ForestGreen\")"
   ]
  },
  {
   "cell_type": "code",
   "execution_count": null,
   "metadata": {},
   "outputs": [],
   "source": [
    "relayout!(myplot,title = \"This is my title\")"
   ]
  },
  {
   "cell_type": "code",
   "execution_count": null,
   "metadata": {},
   "outputs": [],
   "source": [
    "addtraces!(myplot,trace1)"
   ]
  },
  {
   "cell_type": "code",
   "execution_count": null,
   "metadata": {},
   "outputs": [],
   "source": [
    "prependtraces!(myplot, 1, x=[[0.1, 0.2, 0.3, 1]], y=[rand(4)])"
   ]
  },
  {
   "cell_type": "code",
   "execution_count": null,
   "metadata": {},
   "outputs": [],
   "source": [
    "deletetraces!(myplot, 2)"
   ]
  }
 ],
 "metadata": {
  "kernelspec": {
   "display_name": "Julia 1.5.2",
   "language": "julia",
   "name": "julia-1.5"
  },
  "language_info": {
   "file_extension": ".jl",
   "mimetype": "application/julia",
   "name": "julia",
   "version": "1.5.2"
  }
 },
 "nbformat": 4,
 "nbformat_minor": 4
}
