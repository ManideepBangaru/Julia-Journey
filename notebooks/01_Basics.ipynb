{
 "cells": [
  {
   "cell_type": "markdown",
   "metadata": {},
   "source": [
    "# Julia-2 🤝\n",
    "\n",
    "**Title :** $\\text{Basics}$\\\n",
    "**Author :** $\\textit{Manideep Bangaru}$ 👨🏻‍💻\n",
    "\n",
    "$\\small \\text{on 11/12/2020}$"
   ]
  },
  {
   "cell_type": "markdown",
   "metadata": {},
   "source": [
    "# Strings"
   ]
  },
  {
   "cell_type": "code",
   "execution_count": 2,
   "metadata": {},
   "outputs": [
    {
     "data": {
      "text/plain": [
       "\"I am a String\""
      ]
     },
     "metadata": {},
     "output_type": "display_data"
    }
   ],
   "source": [
    "s1 = \"I am a String\""
   ]
  },
  {
   "cell_type": "code",
   "execution_count": 3,
   "metadata": {
    "scrolled": true
   },
   "outputs": [
    {
     "data": {
      "text/plain": [
       "\" I see that to use \\\"single\\\" string we should follow this syntax \""
      ]
     },
     "metadata": {},
     "output_type": "display_data"
    }
   ],
   "source": [
    "s2 = \"\"\" I see that to use \"single\" string we should follow this syntax \"\"\""
   ]
  },
  {
   "cell_type": "code",
   "execution_count": 4,
   "metadata": {},
   "outputs": [
    {
     "data": {
      "text/plain": [
       "String"
      ]
     },
     "metadata": {},
     "output_type": "display_data"
    }
   ],
   "source": [
    "typeof(\"A\")"
   ]
  },
  {
   "cell_type": "code",
   "execution_count": 8,
   "metadata": {
    "scrolled": true
   },
   "outputs": [
    {
     "data": {
      "text/plain": [
       "Char"
      ]
     },
     "metadata": {},
     "output_type": "display_data"
    }
   ],
   "source": [
    "typeof('A')"
   ]
  },
  {
   "cell_type": "code",
   "execution_count": 10,
   "metadata": {},
   "outputs": [
    {
     "data": {
      "text/plain": [
       "10"
      ]
     },
     "metadata": {},
     "output_type": "display_data"
    }
   ],
   "source": [
    "name = \"Manideep\"\n",
    "num_fingers = 10\n",
    "num_toes = 10"
   ]
  },
  {
   "cell_type": "code",
   "execution_count": 11,
   "metadata": {},
   "outputs": [
    {
     "name": "stdout",
     "output_type": "stream",
     "text": [
      "Hello my name is Manideep.\n"
     ]
    }
   ],
   "source": [
    "println(\"Hello my name is $name.\")"
   ]
  },
  {
   "cell_type": "code",
   "execution_count": 12,
   "metadata": {},
   "outputs": [
    {
     "name": "stdout",
     "output_type": "stream",
     "text": [
      "My name is Manideep and I have 10 fingers and 10 toes. That is 20 in total\n"
     ]
    }
   ],
   "source": [
    "println(\"My name is $name and I have $num_fingers fingers and $num_toes toes. That is $(num_fingers+num_toes) in total\")"
   ]
  },
  {
   "cell_type": "markdown",
   "metadata": {},
   "source": [
    "### String Concatenation"
   ]
  },
  {
   "cell_type": "code",
   "execution_count": 13,
   "metadata": {},
   "outputs": [
    {
     "data": {
      "text/plain": [
       "\"How many cats are too many cats?\""
      ]
     },
     "metadata": {},
     "output_type": "display_data"
    }
   ],
   "source": [
    "string(\"How many cats\",\" are too many cats?\")"
   ]
  },
  {
   "cell_type": "code",
   "execution_count": 14,
   "metadata": {},
   "outputs": [
    {
     "data": {
      "text/plain": [
       "\"I don't know but 10 are too few.\""
      ]
     },
     "metadata": {},
     "output_type": "display_data"
    }
   ],
   "source": [
    "string(\"I don't know but \",10,\" are too few.\")"
   ]
  },
  {
   "cell_type": "code",
   "execution_count": 15,
   "metadata": {},
   "outputs": [],
   "source": [
    "s3 = \"How many cats\";\n",
    "s4 = \" are too many cats?\";"
   ]
  },
  {
   "cell_type": "code",
   "execution_count": 16,
   "metadata": {},
   "outputs": [
    {
     "data": {
      "text/plain": [
       "\"How many cats are too many cats?\""
      ]
     },
     "metadata": {},
     "output_type": "display_data"
    }
   ],
   "source": [
    "s3 * s4"
   ]
  },
  {
   "cell_type": "code",
   "execution_count": 17,
   "metadata": {},
   "outputs": [],
   "source": [
    "s3 = \"How many cats\";\n",
    "s4 = \" are too many cats?\";\n",
    "s5 = 20;"
   ]
  },
  {
   "cell_type": "code",
   "execution_count": 18,
   "metadata": {},
   "outputs": [
    {
     "ename": "MethodError",
     "evalue": "MethodError: no method matching *(::String, ::Int64)\nClosest candidates are:\n  *(::Any, ::Any, !Matched::Any, !Matched::Any...) at operators.jl:529\n  *(!Matched::Complex{Bool}, ::Real) at complex.jl:309\n  *(!Matched::Missing, ::Number) at missing.jl:115\n  ...",
     "output_type": "error",
     "traceback": [
      "MethodError: no method matching *(::String, ::Int64)\n",
      "Closest candidates are:\n",
      "  *(::Any, ::Any, !Matched::Any, !Matched::Any...) at operators.jl:529\n",
      "  *(!Matched::Complex{Bool}, ::Real) at complex.jl:309\n",
      "  *(!Matched::Missing, ::Number) at missing.jl:115\n",
      "  ...\n",
      "\n",
      "Stacktrace:\n",
      " [1] *(::String, ::String, ::Int64) at ./operators.jl:529\n",
      " [2] top-level scope at /home/amanideepb/learnings/Julia-Journey/notebooks/01_Basics.ipynb:1"
     ]
    }
   ],
   "source": [
    "s3 * s4 * s5"
   ]
  },
  {
   "cell_type": "code",
   "execution_count": 19,
   "metadata": {},
   "outputs": [
    {
     "data": {
      "text/plain": [
       "\"How many cats are too many cats?\""
      ]
     },
     "metadata": {},
     "output_type": "display_data"
    }
   ],
   "source": [
    "\"$s3$s4\""
   ]
  },
  {
   "cell_type": "code",
   "execution_count": 20,
   "metadata": {},
   "outputs": [
    {
     "data": {
      "text/plain": [
       "\"How many cats are too many cats? 20\""
      ]
     },
     "metadata": {},
     "output_type": "display_data"
    }
   ],
   "source": [
    "string(\"$s3$s4 \",string(s5))"
   ]
  },
  {
   "cell_type": "code",
   "execution_count": 21,
   "metadata": {},
   "outputs": [
    {
     "data": {
      "text/plain": [
       "20.0"
      ]
     },
     "metadata": {},
     "output_type": "display_data"
    }
   ],
   "source": [
    "float(s5)"
   ]
  },
  {
   "cell_type": "code",
   "execution_count": 22,
   "metadata": {},
   "outputs": [
    {
     "data": {
      "text/plain": [
       "\"20\""
      ]
     },
     "metadata": {},
     "output_type": "display_data"
    }
   ],
   "source": [
    "string(s5)"
   ]
  },
  {
   "cell_type": "markdown",
   "metadata": {},
   "source": [
    "# Data Structures"
   ]
  },
  {
   "cell_type": "markdown",
   "metadata": {},
   "source": [
    "There are three types\n",
    "\n",
    "1. Dictionaries\n",
    "2. tuples\n",
    "3. Arrays"
   ]
  },
  {
   "cell_type": "markdown",
   "metadata": {},
   "source": [
    "### Dictionaries"
   ]
  },
  {
   "cell_type": "code",
   "execution_count": 23,
   "metadata": {},
   "outputs": [
    {
     "data": {
      "text/plain": [
       "Dict{String,Int64} with 2 entries:\n",
       "  \"Manideep\" => 7416228029\n",
       "  \"Manoj\"    => 7396203052"
      ]
     },
     "metadata": {},
     "output_type": "display_data"
    }
   ],
   "source": [
    "my_phonebook = Dict(\"Manideep\" => 7416228029,\"Manoj\" => 7396203052)"
   ]
  },
  {
   "cell_type": "code",
   "execution_count": 24,
   "metadata": {},
   "outputs": [
    {
     "data": {
      "text/plain": [
       "7345228490"
      ]
     },
     "metadata": {},
     "output_type": "display_data"
    }
   ],
   "source": [
    "my_phonebook[\"Ram\"] = 7345228490"
   ]
  },
  {
   "cell_type": "code",
   "execution_count": 25,
   "metadata": {},
   "outputs": [
    {
     "data": {
      "text/plain": [
       "Dict{String,Int64} with 3 entries:\n",
       "  \"Ram\"      => 7345228490\n",
       "  \"Manideep\" => 7416228029\n",
       "  \"Manoj\"    => 7396203052"
      ]
     },
     "metadata": {},
     "output_type": "display_data"
    }
   ],
   "source": [
    "my_phonebook"
   ]
  },
  {
   "cell_type": "code",
   "execution_count": 26,
   "metadata": {},
   "outputs": [
    {
     "data": {
      "text/plain": [
       "7396203052"
      ]
     },
     "metadata": {},
     "output_type": "display_data"
    }
   ],
   "source": [
    "my_phonebook[\"Manoj\"]"
   ]
  },
  {
   "cell_type": "code",
   "execution_count": 27,
   "metadata": {},
   "outputs": [
    {
     "data": {
      "text/plain": [
       "7345228490"
      ]
     },
     "metadata": {},
     "output_type": "display_data"
    }
   ],
   "source": [
    "pop!(my_phonebook,\"Ram\")"
   ]
  },
  {
   "cell_type": "code",
   "execution_count": 28,
   "metadata": {},
   "outputs": [
    {
     "data": {
      "text/plain": [
       "Dict{String,Int64} with 2 entries:\n",
       "  \"Manideep\" => 7416228029\n",
       "  \"Manoj\"    => 7396203052"
      ]
     },
     "metadata": {},
     "output_type": "display_data"
    }
   ],
   "source": [
    "my_phonebook"
   ]
  },
  {
   "cell_type": "code",
   "execution_count": 29,
   "metadata": {},
   "outputs": [
    {
     "ename": "KeyError",
     "evalue": "KeyError: key 1 not found",
     "output_type": "error",
     "traceback": [
      "KeyError: key 1 not found\n",
      "\n",
      "Stacktrace:\n",
      " [1] getindex(::Dict{String,Int64}, ::Int64) at ./dict.jl:477\n",
      " [2] top-level scope at /home/amanideepb/learnings/Julia-Journey/notebooks/01_Basics.ipynb:1"
     ]
    }
   ],
   "source": [
    "my_phonebook[1] # won't work in Julia"
   ]
  },
  {
   "cell_type": "code",
   "execution_count": 30,
   "metadata": {},
   "outputs": [
    {
     "data": {
      "text/plain": [
       "Base.KeySet for a Dict{String,Int64} with 2 entries. Keys:\n",
       "  \"Manideep\"\n",
       "  \"Manoj\""
      ]
     },
     "metadata": {},
     "output_type": "display_data"
    }
   ],
   "source": [
    "# displaying keys of a dictionary in Julia\n",
    "keys(my_phonebook)"
   ]
  },
  {
   "cell_type": "markdown",
   "metadata": {},
   "source": [
    "### Tuples"
   ]
  },
  {
   "cell_type": "code",
   "execution_count": 31,
   "metadata": {},
   "outputs": [
    {
     "data": {
      "text/plain": [
       "(\"Penguins\", \"Cats\", \"Dogs\")"
      ]
     },
     "metadata": {},
     "output_type": "display_data"
    }
   ],
   "source": [
    "myFavouriteAnimals = (\"Penguins\",\"Cats\",\"Dogs\")"
   ]
  },
  {
   "cell_type": "code",
   "execution_count": 32,
   "metadata": {},
   "outputs": [
    {
     "data": {
      "text/plain": [
       "\"Penguins\""
      ]
     },
     "metadata": {},
     "output_type": "display_data"
    }
   ],
   "source": [
    "myFavouriteAnimals[1]"
   ]
  },
  {
   "cell_type": "code",
   "execution_count": 33,
   "metadata": {},
   "outputs": [
    {
     "ename": "MethodError",
     "evalue": "MethodError: no method matching setindex!(::Tuple{String,String,String}, ::String, ::Int64)",
     "output_type": "error",
     "traceback": [
      "MethodError: no method matching setindex!(::Tuple{String,String,String}, ::String, ::Int64)\n",
      "\n",
      "Stacktrace:\n",
      " [1] top-level scope at /home/amanideepb/learnings/Julia-Journey/notebooks/01_Basics.ipynb:1"
     ]
    }
   ],
   "source": [
    "myFavouriteAnimals[1] = \"Monkey\" # can't update as sets are immutable"
   ]
  },
  {
   "cell_type": "code",
   "execution_count": 34,
   "metadata": {},
   "outputs": [
    {
     "ename": "MethodError",
     "evalue": "MethodError: no method matching pop!(::Tuple{String,String,String})\nClosest candidates are:\n  pop!(!Matched::BitArray{1}) at bitarray.jl:814\n  pop!(!Matched::BitSet) at bitset.jl:277\n  pop!(!Matched::BitSet, !Matched::Integer) at bitset.jl:280\n  ...",
     "output_type": "error",
     "traceback": [
      "MethodError: no method matching pop!(::Tuple{String,String,String})\n",
      "Closest candidates are:\n",
      "  pop!(!Matched::BitArray{1}) at bitarray.jl:814\n",
      "  pop!(!Matched::BitSet) at bitset.jl:277\n",
      "  pop!(!Matched::BitSet, !Matched::Integer) at bitset.jl:280\n",
      "  ...\n",
      "\n",
      "Stacktrace:\n",
      " [1] top-level scope at /home/amanideepb/learnings/Julia-Journey/notebooks/01_Basics.ipynb:1"
     ]
    }
   ],
   "source": [
    "pop!(myFavouriteAnimals)"
   ]
  },
  {
   "cell_type": "markdown",
   "metadata": {},
   "source": [
    "### Arrays"
   ]
  },
  {
   "cell_type": "code",
   "execution_count": 35,
   "metadata": {},
   "outputs": [
    {
     "data": {
      "text/plain": [
       "4-element Array{String,1}:\n",
       " \"Ram\"\n",
       " \"Shiva\"\n",
       " \"Abhi\"\n",
       " \"Arjun\""
      ]
     },
     "metadata": {},
     "output_type": "display_data"
    }
   ],
   "source": [
    "myFriends = [\"Ram\",\"Shiva\",\"Abhi\",\"Arjun\"]"
   ]
  },
  {
   "cell_type": "code",
   "execution_count": 36,
   "metadata": {},
   "outputs": [
    {
     "data": {
      "text/plain": [
       "5-element Array{Int64,1}:\n",
       " 1\n",
       " 2\n",
       " 3\n",
       " 4\n",
       " 5"
      ]
     },
     "metadata": {},
     "output_type": "display_data"
    }
   ],
   "source": [
    "fibonacci = [1,2,3,4,5]"
   ]
  },
  {
   "cell_type": "code",
   "execution_count": 37,
   "metadata": {},
   "outputs": [
    {
     "data": {
      "text/plain": [
       "7-element Array{Any,1}:\n",
       " 1\n",
       "  \"Myself\"\n",
       " 2\n",
       " 3\n",
       " 4\n",
       "  'F'\n",
       "  \"Forget\""
      ]
     },
     "metadata": {},
     "output_type": "display_data"
    }
   ],
   "source": [
    "mix = [1,\"Myself\",2,3,4,'F',\"Forget\"]"
   ]
  },
  {
   "cell_type": "code",
   "execution_count": 38,
   "metadata": {},
   "outputs": [
    {
     "data": {
      "text/plain": [
       "'F': ASCII/Unicode U+0046 (category Lu: Letter, uppercase)"
      ]
     },
     "metadata": {},
     "output_type": "display_data"
    }
   ],
   "source": [
    "mix[6]"
   ]
  },
  {
   "cell_type": "code",
   "execution_count": 39,
   "metadata": {},
   "outputs": [
    {
     "data": {
      "text/plain": [
       "8-element Array{Any,1}:\n",
       " 1\n",
       "  \"Myself\"\n",
       " 2\n",
       " 3\n",
       " 4\n",
       "  'F'\n",
       "  \"Forget\"\n",
       "  \"New element\""
      ]
     },
     "metadata": {},
     "output_type": "display_data"
    }
   ],
   "source": [
    "push!(mix,\"New element\")"
   ]
  },
  {
   "cell_type": "code",
   "execution_count": 40,
   "metadata": {},
   "outputs": [
    {
     "ename": "MethodError",
     "evalue": "MethodError: no method matching pop!(::Array{Any,1}, ::String)\nClosest candidates are:\n  pop!(!Matched::Base.EnvDict, ::AbstractString) at env.jl:83\n  pop!(!Matched::Base.EnvDict, ::AbstractString, !Matched::Any) at env.jl:84\n  pop!(::Array{T,1} where T) at array.jl:1125\n  ...",
     "output_type": "error",
     "traceback": [
      "MethodError: no method matching pop!(::Array{Any,1}, ::String)\n",
      "Closest candidates are:\n",
      "  pop!(!Matched::Base.EnvDict, ::AbstractString) at env.jl:83\n",
      "  pop!(!Matched::Base.EnvDict, ::AbstractString, !Matched::Any) at env.jl:84\n",
      "  pop!(::Array{T,1} where T) at array.jl:1125\n",
      "  ...\n",
      "\n",
      "Stacktrace:\n",
      " [1] top-level scope at /home/amanideepb/learnings/Julia-Journey/notebooks/01_Basics.ipynb:1"
     ]
    }
   ],
   "source": [
    "pop!(mix,\"Myself\")"
   ]
  },
  {
   "cell_type": "code",
   "execution_count": 41,
   "metadata": {},
   "outputs": [
    {
     "data": {
      "text/plain": [
       "8-element Array{Any,1}:\n",
       " 1\n",
       "  \"Myself\"\n",
       " 2\n",
       " 3\n",
       " 4\n",
       "  'F'\n",
       "  \"Forget\"\n",
       "  \"New element\""
      ]
     },
     "metadata": {},
     "output_type": "display_data"
    }
   ],
   "source": [
    "mix"
   ]
  },
  {
   "cell_type": "code",
   "execution_count": 42,
   "metadata": {},
   "outputs": [
    {
     "data": {
      "text/plain": [
       "\"New element\""
      ]
     },
     "metadata": {},
     "output_type": "display_data"
    }
   ],
   "source": [
    "pop!(mix)"
   ]
  },
  {
   "cell_type": "code",
   "execution_count": 43,
   "metadata": {},
   "outputs": [
    {
     "data": {
      "text/plain": [
       "7-element Array{Any,1}:\n",
       " 1\n",
       "  \"Myself\"\n",
       " 2\n",
       " 3\n",
       " 4\n",
       "  'F'\n",
       "  \"Forget\""
      ]
     },
     "metadata": {},
     "output_type": "display_data"
    }
   ],
   "source": [
    "mix"
   ]
  },
  {
   "cell_type": "markdown",
   "metadata": {},
   "source": [
    "## Generate random matrices"
   ]
  },
  {
   "cell_type": "code",
   "execution_count": 45,
   "metadata": {},
   "outputs": [
    {
     "data": {
      "text/plain": [
       "4×3 Array{Float64,2}:\n",
       " 0.711062  0.251729   0.57702\n",
       " 0.54635   0.0820369  0.915919\n",
       " 0.851629  0.602184   0.233012\n",
       " 0.208807  0.400485   0.165473"
      ]
     },
     "metadata": {},
     "output_type": "display_data"
    }
   ],
   "source": [
    "rand(4,3)"
   ]
  },
  {
   "cell_type": "code",
   "execution_count": 46,
   "metadata": {},
   "outputs": [
    {
     "data": {
      "text/plain": [
       "4×3×2 Array{Float64,3}:\n",
       "[:, :, 1] =\n",
       " 0.851753   0.185527   0.675956\n",
       " 0.116748   0.0133788  0.453835\n",
       " 0.0944673  0.0789188  0.0595367\n",
       " 0.81307    0.615892   0.524165\n",
       "\n",
       "[:, :, 2] =\n",
       " 0.448229   0.0720821  0.61093\n",
       " 0.374389   0.436849   0.459149\n",
       " 0.0350897  0.667244   0.144597\n",
       " 0.902301   0.597121   0.745692"
      ]
     },
     "metadata": {},
     "output_type": "display_data"
    }
   ],
   "source": [
    "rand(4,3,2)"
   ]
  },
  {
   "cell_type": "code",
   "execution_count": 47,
   "metadata": {},
   "outputs": [
    {
     "data": {
      "text/plain": [
       "2×3×3 Array{Float64,3}:\n",
       "[:, :, 1] =\n",
       " 0.0612678  0.671624  0.880039\n",
       " 0.442274   0.664917  0.826912\n",
       "\n",
       "[:, :, 2] =\n",
       " 0.556842  0.319127  0.36651\n",
       " 0.707947  0.83699   0.429724\n",
       "\n",
       "[:, :, 3] =\n",
       " 0.477509  0.745101   0.267645\n",
       " 0.499242  0.0600594  0.93818"
      ]
     },
     "metadata": {},
     "output_type": "display_data"
    }
   ],
   "source": [
    "rand(2,3,3)"
   ]
  },
  {
   "cell_type": "code",
   "execution_count": 48,
   "metadata": {},
   "outputs": [
    {
     "data": {
      "text/plain": [
       "3-element Array{Float64,1}:\n",
       " -0.7234678220017278\n",
       "  0.7748847834947363\n",
       "  0.042379734855221216"
      ]
     },
     "metadata": {},
     "output_type": "display_data"
    }
   ],
   "source": [
    "randn(3) # normally distributed random numbers"
   ]
  },
  {
   "cell_type": "code",
   "execution_count": 49,
   "metadata": {},
   "outputs": [
    {
     "data": {
      "text/plain": [
       "3-element Array{Float64,1}:\n",
       " 0.5525692409213463\n",
       " 0.4541009241657137\n",
       " 0.18306095640839581"
      ]
     },
     "metadata": {},
     "output_type": "display_data"
    }
   ],
   "source": [
    "rand(3)"
   ]
  },
  {
   "cell_type": "code",
   "execution_count": 52,
   "metadata": {},
   "outputs": [
    {
     "data": {
      "text/plain": [
       "10-element Array{Int64,1}:\n",
       " 42\n",
       " 18\n",
       "  7\n",
       " 58\n",
       " 69\n",
       "  7\n",
       " 29\n",
       " 98\n",
       " 46\n",
       " 66"
      ]
     },
     "metadata": {},
     "output_type": "display_data"
    }
   ],
   "source": [
    "rand(1:100,10)"
   ]
  },
  {
   "cell_type": "code",
   "execution_count": 53,
   "metadata": {},
   "outputs": [
    {
     "data": {
      "text/plain": [
       "10×2 Array{Int64,2}:\n",
       " 95  73\n",
       " 72  62\n",
       " 85  70\n",
       " 85  40\n",
       " 10  87\n",
       " 50  75\n",
       " 47  17\n",
       " 24  34\n",
       " 67  75\n",
       " 37   4"
      ]
     },
     "metadata": {},
     "output_type": "display_data"
    }
   ],
   "source": [
    "rand(1:100,10,2)"
   ]
  },
  {
   "cell_type": "code",
   "execution_count": 58,
   "metadata": {},
   "outputs": [
    {
     "data": {
      "text/plain": [
       "10×2 Array{Int64,2}:\n",
       "   7  96\n",
       "  46  57\n",
       "  96  11\n",
       "  92  21\n",
       "  86  54\n",
       "  94  80\n",
       "  78  76\n",
       " 100  18\n",
       "  61   6\n",
       "  18  69"
      ]
     },
     "metadata": {},
     "output_type": "display_data"
    }
   ],
   "source": [
    "vall = rand(1:100,10,2)"
   ]
  }
 ],
 "metadata": {
  "kernelspec": {
   "display_name": "Julia 1.5.2",
   "language": "julia",
   "name": "julia-1.5"
  },
  "language_info": {
   "file_extension": ".jl",
   "mimetype": "application/julia",
   "name": "julia",
   "version": "1.5.2"
  }
 },
 "nbformat": 4,
 "nbformat_minor": 2
}
