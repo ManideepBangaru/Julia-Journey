{
 "cells": [
  {
   "cell_type": "markdown",
   "metadata": {},
   "source": [
    "## API overview\n",
    "\n",
    "The PlotlyJS.jl API has two main layers:\n",
    "* Faithful plotly.js layer : makes it possible to do anything plotly.js can\n",
    "* Convenience, \"Julian\" layer : WIP attempt to make some things more natural in Julia"
   ]
  },
  {
   "cell_type": "code",
   "execution_count": 1,
   "metadata": {},
   "outputs": [
    {
     "data": {
      "text/html": [
       "    <script class='js-collapse-script'>\n",
       "        var curMatch =\n",
       "            window.location.href\n",
       "            .match(/(.*?)\\/notebooks\\/.*\\.ipynb/);\n",
       "\n",
       "        curMatch = curMatch ||\n",
       "            window.location.href\n",
       "            .match(/(.*?)\\/apps\\/.*\\.ipynb/);\n",
       "\n",
       "        if ( curMatch ) {\n",
       "            $('head').append('<base href=\"' + curMatch[1] + '/\">');\n",
       "        }\n",
       "    </script>\n"
      ],
      "text/plain": [
       "HTML{String}(\"    <script class='js-collapse-script'>\\n        var curMatch =\\n            window.location.href\\n            .match(/(.*?)\\\\/notebooks\\\\/.*\\\\.ipynb/);\\n\\n        curMatch = curMatch ||\\n            window.location.href\\n            .match(/(.*?)\\\\/apps\\\\/.*\\\\.ipynb/);\\n\\n        if ( curMatch ) {\\n            \\$('head').append('<base href=\\\"' + curMatch[1] + '/\\\">');\\n        }\\n    </script>\\n\")"
      ]
     },
     "metadata": {},
     "output_type": "display_data"
    },
    {
     "data": {
      "text/html": [
       "<script class='js-collapse-script' src='/assetserver/e00d84a8e984edaaba41ff3836097fe220c10ab1-assets/webio/dist/bundle.js'></script>"
      ],
      "text/plain": [
       "HTML{String}(\"<script class='js-collapse-script' src='/assetserver/e00d84a8e984edaaba41ff3836097fe220c10ab1-assets/webio/dist/bundle.js'></script>\")"
      ]
     },
     "metadata": {},
     "output_type": "display_data"
    },
    {
     "data": {
      "text/html": [
       "<script class='js-collapse-script' src='/assetserver/e00d84a8e984edaaba41ff3836097fe220c10ab1-assets/providers/ijulia_setup.js'></script>"
      ],
      "text/plain": [
       "HTML{String}(\"<script class='js-collapse-script' src='/assetserver/e00d84a8e984edaaba41ff3836097fe220c10ab1-assets/providers/ijulia_setup.js'></script>\")"
      ]
     },
     "metadata": {},
     "output_type": "display_data"
    },
    {
     "data": {
      "text/html": [
       "  <script class='js-collapse-script'>\n",
       "    $('.js-collapse-script').parent('.output_subarea').css('padding', '0');\n",
       "  </script>\n"
      ],
      "text/plain": [
       "HTML{String}(\"  <script class='js-collapse-script'>\\n    \\$('.js-collapse-script').parent('.output_subarea').css('padding', '0');\\n  </script>\\n\")"
      ]
     },
     "metadata": {},
     "output_type": "display_data"
    }
   ],
   "source": [
    "using PlotlyJS"
   ]
  },
  {
   "cell_type": "code",
   "execution_count": 2,
   "metadata": {},
   "outputs": [
    {
     "data": {
      "application/vnd.plotly.v1+json": {
       "data": [
        {
         "marker": {
          "symbol": "square"
         },
         "type": "scatter",
         "y": [
          1,
          4,
          9
         ]
        }
       ],
       "layout": {
        "margin": {
         "b": 50,
         "l": 50,
         "r": 50,
         "t": 60
        },
        "title": "x2"
       }
      },
      "text/html": [
       "<div class='display:none'></div><unsafe-script style='display:none'>\n",
       "WebIO.mount(this.previousSibling,{&quot;props&quot;:{},&quot;nodeType&quot;:&quot;Scope&quot;,&quot;type&quot;:&quot;node&quot;,&quot;instanceArgs&quot;:{&quot;imports&quot;:{&quot;data&quot;:[{&quot;name&quot;:&quot;Plotly&quot;,&quot;type&quot;:&quot;js&quot;,&quot;url&quot;:&quot;/assetserver/5311f9888b884b50e52f4a90fad64eb841288be8-plotly-latest.min.js&quot;},{&quot;name&quot;:null,&quot;type&quot;:&quot;js&quot;,&quot;url&quot;:&quot;/assetserver/5c351a91169f2a19a186af98699dd36a27fe8939-plotly_webio.bundle.js&quot;}],&quot;type&quot;:&quot;async_block&quot;},&quot;id&quot;:&quot;scope-db4937af-784e-4de5-af9f-1678f9bcf316&quot;,&quot;handlers&quot;:{&quot;_toImage&quot;:[(function (options){return this.Plotly.toImage(this.plotElem,options).then((function (data){return WebIO.setval({&quot;name&quot;:&quot;image&quot;,&quot;scope&quot;:&quot;scope-db4937af-784e-4de5-af9f-1678f9bcf316&quot;,&quot;id&quot;:&quot;ob_05&quot;,&quot;type&quot;:&quot;observable&quot;},data)}))})],&quot;__get_gd_contents&quot;:[(function (prop){prop==&quot;data&quot; ? (WebIO.setval({&quot;name&quot;:&quot;__gd_contents&quot;,&quot;scope&quot;:&quot;scope-db4937af-784e-4de5-af9f-1678f9bcf316&quot;,&quot;id&quot;:&quot;ob_06&quot;,&quot;type&quot;:&quot;observable&quot;},this.plotElem.data)) : undefined; return prop==&quot;layout&quot; ? (WebIO.setval({&quot;name&quot;:&quot;__gd_contents&quot;,&quot;scope&quot;:&quot;scope-db4937af-784e-4de5-af9f-1678f9bcf316&quot;,&quot;id&quot;:&quot;ob_06&quot;,&quot;type&quot;:&quot;observable&quot;},this.plotElem.layout)) : undefined})],&quot;_promises&quot;:{&quot;importsLoaded&quot;:[(function (Plotly){var gd=this.dom.querySelector(&quot;#plot-31170dde-5d72-47b1-9b90-739649661528&quot;); this.plotElem=gd; this.Plotly=Plotly; (window.Blink!==undefined) ? (gd.style.width=&quot;100%&quot;, gd.style.height=&quot;100vh&quot;, gd.style.marginLeft=&quot;0%&quot;, gd.style.marginTop=&quot;0vh&quot;) : undefined; window.onresize=(function (){return Plotly.Plots.resize(gd)}); Plotly.newPlot(gd,[{&quot;y&quot;:[1.0,4.0,9.0],&quot;type&quot;:&quot;scatter&quot;,&quot;marker&quot;:{&quot;symbol&quot;:&quot;square&quot;}}],{&quot;margin&quot;:{&quot;l&quot;:50,&quot;b&quot;:50,&quot;r&quot;:50,&quot;t&quot;:60},&quot;title&quot;:&quot;x2&quot;},{}); gd.on(&quot;plotly_hover&quot;,(function (data){var filtered_data=WebIO.PlotlyCommands.filterEventData(gd,data,&quot;hover&quot;); return !(filtered_data.isnil) ? (WebIO.setval({&quot;name&quot;:&quot;hover&quot;,&quot;scope&quot;:&quot;scope-db4937af-784e-4de5-af9f-1678f9bcf316&quot;,&quot;id&quot;:&quot;ob_01&quot;,&quot;type&quot;:&quot;observable&quot;},filtered_data.out)) : undefined})); gd.on(&quot;plotly_unhover&quot;,(function (){return WebIO.setval({&quot;name&quot;:&quot;hover&quot;,&quot;scope&quot;:&quot;scope-db4937af-784e-4de5-af9f-1678f9bcf316&quot;,&quot;id&quot;:&quot;ob_01&quot;,&quot;type&quot;:&quot;observable&quot;},{})})); gd.on(&quot;plotly_selected&quot;,(function (data){var filtered_data=WebIO.PlotlyCommands.filterEventData(gd,data,&quot;selected&quot;); return !(filtered_data.isnil) ? (WebIO.setval({&quot;name&quot;:&quot;selected&quot;,&quot;scope&quot;:&quot;scope-db4937af-784e-4de5-af9f-1678f9bcf316&quot;,&quot;id&quot;:&quot;ob_02&quot;,&quot;type&quot;:&quot;observable&quot;},filtered_data.out)) : undefined})); gd.on(&quot;plotly_deselect&quot;,(function (){return WebIO.setval({&quot;name&quot;:&quot;selected&quot;,&quot;scope&quot;:&quot;scope-db4937af-784e-4de5-af9f-1678f9bcf316&quot;,&quot;id&quot;:&quot;ob_02&quot;,&quot;type&quot;:&quot;observable&quot;},{})})); gd.on(&quot;plotly_relayout&quot;,(function (data){var filtered_data=WebIO.PlotlyCommands.filterEventData(gd,data,&quot;relayout&quot;); return !(filtered_data.isnil) ? (WebIO.setval({&quot;name&quot;:&quot;relayout&quot;,&quot;scope&quot;:&quot;scope-db4937af-784e-4de5-af9f-1678f9bcf316&quot;,&quot;id&quot;:&quot;ob_04&quot;,&quot;type&quot;:&quot;observable&quot;},filtered_data.out)) : undefined})); return gd.on(&quot;plotly_click&quot;,(function (data){var filtered_data=WebIO.PlotlyCommands.filterEventData(gd,data,&quot;click&quot;); return !(filtered_data.isnil) ? (WebIO.setval({&quot;name&quot;:&quot;click&quot;,&quot;scope&quot;:&quot;scope-db4937af-784e-4de5-af9f-1678f9bcf316&quot;,&quot;id&quot;:&quot;ob_03&quot;,&quot;type&quot;:&quot;observable&quot;},filtered_data.out)) : undefined}))})]},&quot;_downloadImage&quot;:[(function (options){return this.Plotly.downloadImage(this.plotElem,options)})],&quot;_commands&quot;:[(function (args){var fn=args.shift(); var elem=this.plotElem; var Plotly=this.Plotly; args.unshift(elem); return Plotly[fn].apply(this,args)})]},&quot;systemjs_options&quot;:null,&quot;observables&quot;:{&quot;_toImage&quot;:{&quot;sync&quot;:false,&quot;id&quot;:&quot;ob_08&quot;,&quot;value&quot;:{}},&quot;hover&quot;:{&quot;sync&quot;:false,&quot;id&quot;:&quot;ob_01&quot;,&quot;value&quot;:{}},&quot;selected&quot;:{&quot;sync&quot;:false,&quot;id&quot;:&quot;ob_02&quot;,&quot;value&quot;:{}},&quot;__gd_contents&quot;:{&quot;sync&quot;:false,&quot;id&quot;:&quot;ob_06&quot;,&quot;value&quot;:{}},&quot;click&quot;:{&quot;sync&quot;:false,&quot;id&quot;:&quot;ob_03&quot;,&quot;value&quot;:{}},&quot;image&quot;:{&quot;sync&quot;:true,&quot;id&quot;:&quot;ob_05&quot;,&quot;value&quot;:&quot;&quot;},&quot;__get_gd_contents&quot;:{&quot;sync&quot;:false,&quot;id&quot;:&quot;ob_10&quot;,&quot;value&quot;:&quot;&quot;},&quot;_downloadImage&quot;:{&quot;sync&quot;:false,&quot;id&quot;:&quot;ob_09&quot;,&quot;value&quot;:{}},&quot;relayout&quot;:{&quot;sync&quot;:false,&quot;id&quot;:&quot;ob_04&quot;,&quot;value&quot;:{}},&quot;_commands&quot;:{&quot;sync&quot;:false,&quot;id&quot;:&quot;ob_07&quot;,&quot;value&quot;:[]}}},&quot;children&quot;:[{&quot;props&quot;:{&quot;id&quot;:&quot;plot-31170dde-5d72-47b1-9b90-739649661528&quot;},&quot;nodeType&quot;:&quot;DOM&quot;,&quot;type&quot;:&quot;node&quot;,&quot;instanceArgs&quot;:{&quot;namespace&quot;:&quot;html&quot;,&quot;tag&quot;:&quot;div&quot;},&quot;children&quot;:[]}]})</unsafe-script>"
      ],
      "text/plain": [
       "data: [\n",
       "  \"scatter with fields marker, type, and y\"\n",
       "]\n",
       "\n",
       "layout: \"layout with fields margin and title\"\n",
       "\n"
      ]
     },
     "execution_count": 2,
     "metadata": {},
     "output_type": "execute_result"
    }
   ],
   "source": [
    "plot(scatter(y=[1.0, 4.0, 9.0], marker_symbol = \"square\"), \n",
    "     Layout(title = \"x2\"))"
   ]
  },
  {
   "cell_type": "code",
   "execution_count": 3,
   "metadata": {},
   "outputs": [
    {
     "data": {
      "text/plain": [
       "scatter with fields marker, type, and y\n"
      ]
     },
     "execution_count": 3,
     "metadata": {},
     "output_type": "execute_result"
    }
   ],
   "source": [
    "my_trace = scatter(y=[1.0, 4.0, 9.0], marker_symbol = \"square\")"
   ]
  },
  {
   "cell_type": "markdown",
   "metadata": {},
   "source": [
    "From the above command\n",
    "* Notice the syntax marker_symbol\n",
    "* This sets a nested json attribute {\"marker\":{\"symbol\":\"square\"}}\n",
    "* see the json"
   ]
  },
  {
   "cell_type": "code",
   "execution_count": 4,
   "metadata": {},
   "outputs": [
    {
     "name": "stdout",
     "output_type": "stream",
     "text": [
      "{\n",
      "  \"y\": [\n",
      "    1.0,\n",
      "    4.0,\n",
      "    9.0\n",
      "  ],\n",
      "  \"type\": \"scatter\",\n",
      "  \"marker\": {\n",
      "    \"symbol\": \"square\"\n",
      "  }\n",
      "}\n"
     ]
    }
   ],
   "source": [
    "print(json(my_trace,2))"
   ]
  },
  {
   "cell_type": "code",
   "execution_count": 5,
   "metadata": {},
   "outputs": [
    {
     "data": {
      "text/plain": [
       "bar with fields name, type, x, and y\n"
      ]
     },
     "execution_count": 5,
     "metadata": {},
     "output_type": "execute_result"
    }
   ],
   "source": [
    "# nesting works at more than one level\n",
    "trace1 = scatter(y=rand(10), marker_color = \"red\",\n",
    "         marker_line_width = 2.0)\n",
    "trace2 = contour(x = 1:5, y = 1:10, z = randn(5,10))\n",
    "trace3 = bar(x = 1:10, y = rand(1:10,10), name = \"mybar\")"
   ]
  },
  {
   "cell_type": "code",
   "execution_count": 6,
   "metadata": {},
   "outputs": [
    {
     "name": "stdout",
     "output_type": "stream",
     "text": [
      "{\n",
      "  \"y\": [\n",
      "    0.420326793401419,\n",
      "    0.665480612217842,\n",
      "    0.137636711675178,\n",
      "    0.9816428897054996,\n",
      "    0.5660304362127886,\n",
      "    0.6514821057782063,\n",
      "    0.6381784297783664,\n",
      "    0.21892159355470953,\n",
      "    0.4666545058661531,\n",
      "    0.24797251464501735\n",
      "  ],\n",
      "  \"type\": \"scatter\",\n",
      "  \"marker\": {\n",
      "    \"color\": \"red\",\n",
      "    \"line\": {\n",
      "      \"width\": 2.0\n",
      "    }\n",
      "  }\n",
      "}\n"
     ]
    }
   ],
   "source": [
    "print(json(trace1,2))"
   ]
  },
  {
   "cell_type": "code",
   "execution_count": 7,
   "metadata": {},
   "outputs": [
    {
     "name": "stdout",
     "output_type": "stream",
     "text": [
      "{\n",
      "  \"y\": [\n",
      "    1,\n",
      "    2,\n",
      "    3,\n",
      "    4,\n",
      "    5,\n",
      "    6,\n",
      "    7,\n",
      "    8,\n",
      "    9,\n",
      "    10\n",
      "  ],\n",
      "  \"type\": \"contour\",\n",
      "  \"z\": [\n",
      "    [\n",
      "      -0.03319336253626984,\n",
      "      -0.043059534532271675,\n",
      "      1.2851404277043967,\n",
      "      0.7626244715363725,\n",
      "      -0.2292168965902344\n",
      "    ],\n",
      "    [\n",
      "      1.7423466995101697,\n",
      "      1.622765819066123,\n",
      "      0.9641444227046232,\n",
      "      0.83164679378708,\n",
      "      -0.22743013817840285\n",
      "    ],\n",
      "    [\n",
      "      0.4907940909955221,\n",
      "      -0.37695862062400254,\n",
      "      0.3294574790241463,\n",
      "      1.7479360137762041,\n",
      "      -0.5014270006002273\n",
      "    ],\n",
      "    [\n",
      "      -0.8123052003931883,\n",
      "      1.120683896205845,\n",
      "      0.28949896606480047,\n",
      "      -0.808774095691332,\n",
      "      -0.5414210349723494\n",
      "    ],\n",
      "    [\n",
      "      0.17012365659180187,\n",
      "      1.5384402903524776,\n",
      "      -1.6002345249896703,\n",
      "      0.2326614779854948,\n",
      "      -0.862467756355371\n",
      "    ],\n",
      "    [\n",
      "      -1.4274967818736661,\n",
      "      0.11320999941167292,\n",
      "      1.5319300803464928,\n",
      "      -1.102214416757039,\n",
      "      -1.1589500390790488\n",
      "    ],\n",
      "    [\n",
      "      -1.448959655839619,\n",
      "      -0.3283632711959331,\n",
      "      -0.6519515222461102,\n",
      "      0.4385939861910868,\n",
      "      -0.37083747716708837\n",
      "    ],\n",
      "    [\n",
      "      -1.600138759807489,\n",
      "      -1.0746581652316656,\n",
      "      0.8017163027455425,\n",
      "      1.26113770764503,\n",
      "      -0.9261469391611503\n",
      "    ],\n",
      "    [\n",
      "      -1.8471966882344497,\n",
      "      -1.025708372152376,\n",
      "      -0.16301265800278,\n",
      "      0.3473114892649088,\n",
      "      -0.4813575560434056\n",
      "    ],\n",
      "    [\n",
      "      0.4660276938829937,\n",
      "      0.8203450093588066,\n",
      "      -0.7676962704673777,\n",
      "      -1.059883680689229,\n",
      "      -0.19093435255447624\n",
      "    ]\n",
      "  ],\n",
      "  \"x\": [\n",
      "    1,\n",
      "    2,\n",
      "    3,\n",
      "    4,\n",
      "    5\n",
      "  ]\n",
      "}\n"
     ]
    }
   ],
   "source": [
    "print(json(trace2,2))"
   ]
  },
  {
   "cell_type": "code",
   "execution_count": 8,
   "metadata": {},
   "outputs": [
    {
     "name": "stdout",
     "output_type": "stream",
     "text": [
      "{\n",
      "  \"y\": [\n",
      "    7,\n",
      "    7,\n",
      "    6,\n",
      "    9,\n",
      "    5,\n",
      "    1,\n",
      "    10,\n",
      "    4,\n",
      "    6,\n",
      "    3\n",
      "  ],\n",
      "  \"type\": \"bar\",\n",
      "  \"name\": \"mybar\",\n",
      "  \"x\": [\n",
      "    1,\n",
      "    2,\n",
      "    3,\n",
      "    4,\n",
      "    5,\n",
      "    6,\n",
      "    7,\n",
      "    8,\n",
      "    9,\n",
      "    10\n",
      "  ]\n",
      "}\n"
     ]
    }
   ],
   "source": [
    "print(json(trace3,2))"
   ]
  },
  {
   "cell_type": "markdown",
   "metadata": {},
   "source": [
    "### To obtain the types of traces available refer to the [link!](https://www.google.com/url?sa=t&rct=j&q=&esrc=s&source=web&cd=&cad=rja&uact=8&ved=2ahUKEwieot-ezq7tAhUOSX0KHXE2DyMQFjAAegQIARAD&url=https%3A%2F%2Fplotly.com%2Fjavascript%2F&usg=AOvVaw2xZjMyOYpS2Sb49HOEtl79)"
   ]
  },
  {
   "cell_type": "markdown",
   "metadata": {},
   "source": [
    "### Build a layout by constructing Layout object :"
   ]
  },
  {
   "cell_type": "code",
   "execution_count": 9,
   "metadata": {},
   "outputs": [
    {
     "data": {
      "text/plain": [
       "layout with fields margin, title, xaxis, and yaxis\n"
      ]
     },
     "execution_count": 9,
     "metadata": {},
     "output_type": "execute_result"
    }
   ],
   "source": [
    "layout = Layout(xaxis = attr(range = [0,10],\n",
    "                             title = \"assets\"),\n",
    "                yaxis_title = \"consumption\",\n",
    "                title = \"Plot\")"
   ]
  },
  {
   "cell_type": "markdown",
   "metadata": {},
   "source": [
    "In the above code, you can also use **xaxis_range = [0,10]** and **xaxis_title = \"assets\"** instead of **attr**\n",
    "whenever there are more parameter, it is good to enclose them in **attr**"
   ]
  },
  {
   "cell_type": "code",
   "execution_count": 10,
   "metadata": {},
   "outputs": [
    {
     "name": "stdout",
     "output_type": "stream",
     "text": [
      "{\n",
      "  \"xaxis\": {\n",
      "    \"range\": [\n",
      "      0,\n",
      "      10\n",
      "    ],\n",
      "    \"title\": \"assets\"\n",
      "  },\n",
      "  \"margin\": {\n",
      "    \"l\": 50,\n",
      "    \"b\": 50,\n",
      "    \"r\": 50,\n",
      "    \"t\": 60\n",
      "  },\n",
      "  \"yaxis\": {\n",
      "    \"title\": \"consumption\"\n",
      "  },\n",
      "  \"title\": \"Plot\"\n",
      "}\n"
     ]
    }
   ],
   "source": [
    "print(json(layout,2))"
   ]
  },
  {
   "cell_type": "markdown",
   "metadata": {},
   "source": [
    "To actually display a plot, we tie one or more traces together with a layotu by calling the plot function:"
   ]
  },
  {
   "cell_type": "code",
   "execution_count": 11,
   "metadata": {},
   "outputs": [
    {
     "data": {
      "application/vnd.plotly.v1+json": {
       "data": [
        {
         "marker": {
          "color": "red",
          "line": {
           "width": 2
          }
         },
         "type": "scatter",
         "y": [
          0.420326793401419,
          0.665480612217842,
          0.137636711675178,
          0.9816428897054996,
          0.5660304362127886,
          0.6514821057782063,
          0.6381784297783664,
          0.21892159355470953,
          0.4666545058661531,
          0.24797251464501735
         ]
        }
       ],
       "layout": {
        "margin": {
         "b": 50,
         "l": 50,
         "r": 50,
         "t": 60
        },
        "title": "Plot",
        "xaxis": {
         "range": [
          0,
          10
         ],
         "title": "assets"
        },
        "yaxis": {
         "title": "consumption"
        }
       }
      },
      "text/html": [
       "<div class='display:none'></div><unsafe-script style='display:none'>\n",
       "WebIO.mount(this.previousSibling,{&quot;props&quot;:{},&quot;nodeType&quot;:&quot;Scope&quot;,&quot;type&quot;:&quot;node&quot;,&quot;instanceArgs&quot;:{&quot;imports&quot;:{&quot;data&quot;:[{&quot;name&quot;:&quot;Plotly&quot;,&quot;type&quot;:&quot;js&quot;,&quot;url&quot;:&quot;/assetserver/5311f9888b884b50e52f4a90fad64eb841288be8-plotly-latest.min.js&quot;},{&quot;name&quot;:null,&quot;type&quot;:&quot;js&quot;,&quot;url&quot;:&quot;/assetserver/5c351a91169f2a19a186af98699dd36a27fe8939-plotly_webio.bundle.js&quot;}],&quot;type&quot;:&quot;async_block&quot;},&quot;id&quot;:&quot;scope-3e5f3b15-5139-457e-a97e-78064fa3f673&quot;,&quot;handlers&quot;:{&quot;_toImage&quot;:[(function (options){return this.Plotly.toImage(this.plotElem,options).then((function (data){return WebIO.setval({&quot;name&quot;:&quot;image&quot;,&quot;scope&quot;:&quot;scope-3e5f3b15-5139-457e-a97e-78064fa3f673&quot;,&quot;id&quot;:&quot;ob_15&quot;,&quot;type&quot;:&quot;observable&quot;},data)}))})],&quot;__get_gd_contents&quot;:[(function (prop){prop==&quot;data&quot; ? (WebIO.setval({&quot;name&quot;:&quot;__gd_contents&quot;,&quot;scope&quot;:&quot;scope-3e5f3b15-5139-457e-a97e-78064fa3f673&quot;,&quot;id&quot;:&quot;ob_16&quot;,&quot;type&quot;:&quot;observable&quot;},this.plotElem.data)) : undefined; return prop==&quot;layout&quot; ? (WebIO.setval({&quot;name&quot;:&quot;__gd_contents&quot;,&quot;scope&quot;:&quot;scope-3e5f3b15-5139-457e-a97e-78064fa3f673&quot;,&quot;id&quot;:&quot;ob_16&quot;,&quot;type&quot;:&quot;observable&quot;},this.plotElem.layout)) : undefined})],&quot;_promises&quot;:{&quot;importsLoaded&quot;:[(function (Plotly){var gd=this.dom.querySelector(&quot;#plot-6912d163-8e8d-45a1-886b-8872aa9f9896&quot;); this.plotElem=gd; this.Plotly=Plotly; (window.Blink!==undefined) ? (gd.style.width=&quot;100%&quot;, gd.style.height=&quot;100vh&quot;, gd.style.marginLeft=&quot;0%&quot;, gd.style.marginTop=&quot;0vh&quot;) : undefined; window.onresize=(function (){return Plotly.Plots.resize(gd)}); Plotly.newPlot(gd,[{&quot;y&quot;:[0.420326793401419,0.665480612217842,0.137636711675178,0.9816428897054996,0.5660304362127886,0.6514821057782063,0.6381784297783664,0.21892159355470953,0.4666545058661531,0.24797251464501735],&quot;type&quot;:&quot;scatter&quot;,&quot;marker&quot;:{&quot;color&quot;:&quot;red&quot;,&quot;line&quot;:{&quot;width&quot;:2.0}}}],{&quot;xaxis&quot;:{&quot;range&quot;:[0,10],&quot;title&quot;:&quot;assets&quot;},&quot;margin&quot;:{&quot;l&quot;:50,&quot;b&quot;:50,&quot;r&quot;:50,&quot;t&quot;:60},&quot;yaxis&quot;:{&quot;title&quot;:&quot;consumption&quot;},&quot;title&quot;:&quot;Plot&quot;},{}); gd.on(&quot;plotly_hover&quot;,(function (data){var filtered_data=WebIO.PlotlyCommands.filterEventData(gd,data,&quot;hover&quot;); return !(filtered_data.isnil) ? (WebIO.setval({&quot;name&quot;:&quot;hover&quot;,&quot;scope&quot;:&quot;scope-3e5f3b15-5139-457e-a97e-78064fa3f673&quot;,&quot;id&quot;:&quot;ob_11&quot;,&quot;type&quot;:&quot;observable&quot;},filtered_data.out)) : undefined})); gd.on(&quot;plotly_unhover&quot;,(function (){return WebIO.setval({&quot;name&quot;:&quot;hover&quot;,&quot;scope&quot;:&quot;scope-3e5f3b15-5139-457e-a97e-78064fa3f673&quot;,&quot;id&quot;:&quot;ob_11&quot;,&quot;type&quot;:&quot;observable&quot;},{})})); gd.on(&quot;plotly_selected&quot;,(function (data){var filtered_data=WebIO.PlotlyCommands.filterEventData(gd,data,&quot;selected&quot;); return !(filtered_data.isnil) ? (WebIO.setval({&quot;name&quot;:&quot;selected&quot;,&quot;scope&quot;:&quot;scope-3e5f3b15-5139-457e-a97e-78064fa3f673&quot;,&quot;id&quot;:&quot;ob_12&quot;,&quot;type&quot;:&quot;observable&quot;},filtered_data.out)) : undefined})); gd.on(&quot;plotly_deselect&quot;,(function (){return WebIO.setval({&quot;name&quot;:&quot;selected&quot;,&quot;scope&quot;:&quot;scope-3e5f3b15-5139-457e-a97e-78064fa3f673&quot;,&quot;id&quot;:&quot;ob_12&quot;,&quot;type&quot;:&quot;observable&quot;},{})})); gd.on(&quot;plotly_relayout&quot;,(function (data){var filtered_data=WebIO.PlotlyCommands.filterEventData(gd,data,&quot;relayout&quot;); return !(filtered_data.isnil) ? (WebIO.setval({&quot;name&quot;:&quot;relayout&quot;,&quot;scope&quot;:&quot;scope-3e5f3b15-5139-457e-a97e-78064fa3f673&quot;,&quot;id&quot;:&quot;ob_14&quot;,&quot;type&quot;:&quot;observable&quot;},filtered_data.out)) : undefined})); return gd.on(&quot;plotly_click&quot;,(function (data){var filtered_data=WebIO.PlotlyCommands.filterEventData(gd,data,&quot;click&quot;); return !(filtered_data.isnil) ? (WebIO.setval({&quot;name&quot;:&quot;click&quot;,&quot;scope&quot;:&quot;scope-3e5f3b15-5139-457e-a97e-78064fa3f673&quot;,&quot;id&quot;:&quot;ob_13&quot;,&quot;type&quot;:&quot;observable&quot;},filtered_data.out)) : undefined}))})]},&quot;_downloadImage&quot;:[(function (options){return this.Plotly.downloadImage(this.plotElem,options)})],&quot;_commands&quot;:[(function (args){var fn=args.shift(); var elem=this.plotElem; var Plotly=this.Plotly; args.unshift(elem); return Plotly[fn].apply(this,args)})]},&quot;systemjs_options&quot;:null,&quot;observables&quot;:{&quot;_toImage&quot;:{&quot;sync&quot;:false,&quot;id&quot;:&quot;ob_18&quot;,&quot;value&quot;:{}},&quot;hover&quot;:{&quot;sync&quot;:false,&quot;id&quot;:&quot;ob_11&quot;,&quot;value&quot;:{}},&quot;selected&quot;:{&quot;sync&quot;:false,&quot;id&quot;:&quot;ob_12&quot;,&quot;value&quot;:{}},&quot;__gd_contents&quot;:{&quot;sync&quot;:false,&quot;id&quot;:&quot;ob_16&quot;,&quot;value&quot;:{}},&quot;click&quot;:{&quot;sync&quot;:false,&quot;id&quot;:&quot;ob_13&quot;,&quot;value&quot;:{}},&quot;image&quot;:{&quot;sync&quot;:true,&quot;id&quot;:&quot;ob_15&quot;,&quot;value&quot;:&quot;&quot;},&quot;__get_gd_contents&quot;:{&quot;sync&quot;:false,&quot;id&quot;:&quot;ob_20&quot;,&quot;value&quot;:&quot;&quot;},&quot;_downloadImage&quot;:{&quot;sync&quot;:false,&quot;id&quot;:&quot;ob_19&quot;,&quot;value&quot;:{}},&quot;relayout&quot;:{&quot;sync&quot;:false,&quot;id&quot;:&quot;ob_14&quot;,&quot;value&quot;:{}},&quot;_commands&quot;:{&quot;sync&quot;:false,&quot;id&quot;:&quot;ob_17&quot;,&quot;value&quot;:[]}}},&quot;children&quot;:[{&quot;props&quot;:{&quot;id&quot;:&quot;plot-6912d163-8e8d-45a1-886b-8872aa9f9896&quot;},&quot;nodeType&quot;:&quot;DOM&quot;,&quot;type&quot;:&quot;node&quot;,&quot;instanceArgs&quot;:{&quot;namespace&quot;:&quot;html&quot;,&quot;tag&quot;:&quot;div&quot;},&quot;children&quot;:[]}]})</unsafe-script>"
      ],
      "text/plain": [
       "data: [\n",
       "  \"scatter with fields marker, type, and y\"\n",
       "]\n",
       "\n",
       "layout: \"layout with fields margin, title, xaxis, and yaxis\"\n",
       "\n"
      ]
     },
     "execution_count": 11,
     "metadata": {},
     "output_type": "execute_result"
    }
   ],
   "source": [
    "plot(trace1, layout)"
   ]
  },
  {
   "cell_type": "code",
   "execution_count": 12,
   "metadata": {},
   "outputs": [
    {
     "data": {
      "application/vnd.plotly.v1+json": {
       "data": [
        {
         "type": "contour",
         "x": [
          1,
          2,
          3,
          4,
          5
         ],
         "y": [
          1,
          2,
          3,
          4,
          5,
          6,
          7,
          8,
          9,
          10
         ],
         "z": [
          [
           -0.03319336253626984,
           -0.043059534532271675,
           1.2851404277043967,
           0.7626244715363725,
           -0.2292168965902344
          ],
          [
           1.7423466995101697,
           1.622765819066123,
           0.9641444227046232,
           0.83164679378708,
           -0.22743013817840285
          ],
          [
           0.4907940909955221,
           -0.37695862062400254,
           0.3294574790241463,
           1.7479360137762041,
           -0.5014270006002273
          ],
          [
           -0.8123052003931883,
           1.120683896205845,
           0.28949896606480047,
           -0.808774095691332,
           -0.5414210349723494
          ],
          [
           0.17012365659180187,
           1.5384402903524776,
           -1.6002345249896703,
           0.2326614779854948,
           -0.862467756355371
          ],
          [
           -1.4274967818736661,
           0.11320999941167292,
           1.5319300803464928,
           -1.102214416757039,
           -1.1589500390790488
          ],
          [
           -1.448959655839619,
           -0.3283632711959331,
           -0.6519515222461102,
           0.4385939861910868,
           -0.37083747716708837
          ],
          [
           -1.600138759807489,
           -1.0746581652316656,
           0.8017163027455425,
           1.26113770764503,
           -0.9261469391611503
          ],
          [
           -1.8471966882344497,
           -1.025708372152376,
           -0.16301265800278,
           0.3473114892649088,
           -0.4813575560434056
          ],
          [
           0.4660276938829937,
           0.8203450093588066,
           -0.7676962704673777,
           -1.059883680689229,
           -0.19093435255447624
          ]
         ]
        }
       ],
       "layout": {
        "margin": {
         "b": 50,
         "l": 50,
         "r": 50,
         "t": 60
        },
        "title": "Plot",
        "xaxis": {
         "range": [
          0,
          10
         ],
         "title": "assets"
        },
        "yaxis": {
         "title": "consumption"
        }
       }
      },
      "text/html": [
       "<div class='display:none'></div><unsafe-script style='display:none'>\n",
       "WebIO.mount(this.previousSibling,{&quot;props&quot;:{},&quot;nodeType&quot;:&quot;Scope&quot;,&quot;type&quot;:&quot;node&quot;,&quot;instanceArgs&quot;:{&quot;imports&quot;:{&quot;data&quot;:[{&quot;name&quot;:&quot;Plotly&quot;,&quot;type&quot;:&quot;js&quot;,&quot;url&quot;:&quot;/assetserver/5311f9888b884b50e52f4a90fad64eb841288be8-plotly-latest.min.js&quot;},{&quot;name&quot;:null,&quot;type&quot;:&quot;js&quot;,&quot;url&quot;:&quot;/assetserver/5c351a91169f2a19a186af98699dd36a27fe8939-plotly_webio.bundle.js&quot;}],&quot;type&quot;:&quot;async_block&quot;},&quot;id&quot;:&quot;scope-b898abf5-e605-468e-ae38-ed3fc3a477ba&quot;,&quot;handlers&quot;:{&quot;_toImage&quot;:[(function (options){return this.Plotly.toImage(this.plotElem,options).then((function (data){return WebIO.setval({&quot;name&quot;:&quot;image&quot;,&quot;scope&quot;:&quot;scope-b898abf5-e605-468e-ae38-ed3fc3a477ba&quot;,&quot;id&quot;:&quot;ob_25&quot;,&quot;type&quot;:&quot;observable&quot;},data)}))})],&quot;__get_gd_contents&quot;:[(function (prop){prop==&quot;data&quot; ? (WebIO.setval({&quot;name&quot;:&quot;__gd_contents&quot;,&quot;scope&quot;:&quot;scope-b898abf5-e605-468e-ae38-ed3fc3a477ba&quot;,&quot;id&quot;:&quot;ob_26&quot;,&quot;type&quot;:&quot;observable&quot;},this.plotElem.data)) : undefined; return prop==&quot;layout&quot; ? (WebIO.setval({&quot;name&quot;:&quot;__gd_contents&quot;,&quot;scope&quot;:&quot;scope-b898abf5-e605-468e-ae38-ed3fc3a477ba&quot;,&quot;id&quot;:&quot;ob_26&quot;,&quot;type&quot;:&quot;observable&quot;},this.plotElem.layout)) : undefined})],&quot;_promises&quot;:{&quot;importsLoaded&quot;:[(function (Plotly){var gd=this.dom.querySelector(&quot;#plot-ae3ffc72-1cc7-4dd1-b48f-1fb909c10dbc&quot;); this.plotElem=gd; this.Plotly=Plotly; (window.Blink!==undefined) ? (gd.style.width=&quot;100%&quot;, gd.style.height=&quot;100vh&quot;, gd.style.marginLeft=&quot;0%&quot;, gd.style.marginTop=&quot;0vh&quot;) : undefined; window.onresize=(function (){return Plotly.Plots.resize(gd)}); Plotly.newPlot(gd,[{&quot;y&quot;:[1,2,3,4,5,6,7,8,9,10],&quot;type&quot;:&quot;contour&quot;,&quot;z&quot;:[[-0.03319336253626984,-0.043059534532271675,1.2851404277043967,0.7626244715363725,-0.2292168965902344],[1.7423466995101697,1.622765819066123,0.9641444227046232,0.83164679378708,-0.22743013817840285],[0.4907940909955221,-0.37695862062400254,0.3294574790241463,1.7479360137762041,-0.5014270006002273],[-0.8123052003931883,1.120683896205845,0.28949896606480047,-0.808774095691332,-0.5414210349723494],[0.17012365659180187,1.5384402903524776,-1.6002345249896703,0.2326614779854948,-0.862467756355371],[-1.4274967818736661,0.11320999941167292,1.5319300803464928,-1.102214416757039,-1.1589500390790488],[-1.448959655839619,-0.3283632711959331,-0.6519515222461102,0.4385939861910868,-0.37083747716708837],[-1.600138759807489,-1.0746581652316656,0.8017163027455425,1.26113770764503,-0.9261469391611503],[-1.8471966882344497,-1.025708372152376,-0.16301265800278,0.3473114892649088,-0.4813575560434056],[0.4660276938829937,0.8203450093588066,-0.7676962704673777,-1.059883680689229,-0.19093435255447624]],&quot;x&quot;:[1,2,3,4,5]}],{&quot;xaxis&quot;:{&quot;range&quot;:[0,10],&quot;title&quot;:&quot;assets&quot;},&quot;margin&quot;:{&quot;l&quot;:50,&quot;b&quot;:50,&quot;r&quot;:50,&quot;t&quot;:60},&quot;yaxis&quot;:{&quot;title&quot;:&quot;consumption&quot;},&quot;title&quot;:&quot;Plot&quot;},{}); gd.on(&quot;plotly_hover&quot;,(function (data){var filtered_data=WebIO.PlotlyCommands.filterEventData(gd,data,&quot;hover&quot;); return !(filtered_data.isnil) ? (WebIO.setval({&quot;name&quot;:&quot;hover&quot;,&quot;scope&quot;:&quot;scope-b898abf5-e605-468e-ae38-ed3fc3a477ba&quot;,&quot;id&quot;:&quot;ob_21&quot;,&quot;type&quot;:&quot;observable&quot;},filtered_data.out)) : undefined})); gd.on(&quot;plotly_unhover&quot;,(function (){return WebIO.setval({&quot;name&quot;:&quot;hover&quot;,&quot;scope&quot;:&quot;scope-b898abf5-e605-468e-ae38-ed3fc3a477ba&quot;,&quot;id&quot;:&quot;ob_21&quot;,&quot;type&quot;:&quot;observable&quot;},{})})); gd.on(&quot;plotly_selected&quot;,(function (data){var filtered_data=WebIO.PlotlyCommands.filterEventData(gd,data,&quot;selected&quot;); return !(filtered_data.isnil) ? (WebIO.setval({&quot;name&quot;:&quot;selected&quot;,&quot;scope&quot;:&quot;scope-b898abf5-e605-468e-ae38-ed3fc3a477ba&quot;,&quot;id&quot;:&quot;ob_22&quot;,&quot;type&quot;:&quot;observable&quot;},filtered_data.out)) : undefined})); gd.on(&quot;plotly_deselect&quot;,(function (){return WebIO.setval({&quot;name&quot;:&quot;selected&quot;,&quot;scope&quot;:&quot;scope-b898abf5-e605-468e-ae38-ed3fc3a477ba&quot;,&quot;id&quot;:&quot;ob_22&quot;,&quot;type&quot;:&quot;observable&quot;},{})})); gd.on(&quot;plotly_relayout&quot;,(function (data){var filtered_data=WebIO.PlotlyCommands.filterEventData(gd,data,&quot;relayout&quot;); return !(filtered_data.isnil) ? (WebIO.setval({&quot;name&quot;:&quot;relayout&quot;,&quot;scope&quot;:&quot;scope-b898abf5-e605-468e-ae38-ed3fc3a477ba&quot;,&quot;id&quot;:&quot;ob_24&quot;,&quot;type&quot;:&quot;observable&quot;},filtered_data.out)) : undefined})); return gd.on(&quot;plotly_click&quot;,(function (data){var filtered_data=WebIO.PlotlyCommands.filterEventData(gd,data,&quot;click&quot;); return !(filtered_data.isnil) ? (WebIO.setval({&quot;name&quot;:&quot;click&quot;,&quot;scope&quot;:&quot;scope-b898abf5-e605-468e-ae38-ed3fc3a477ba&quot;,&quot;id&quot;:&quot;ob_23&quot;,&quot;type&quot;:&quot;observable&quot;},filtered_data.out)) : undefined}))})]},&quot;_downloadImage&quot;:[(function (options){return this.Plotly.downloadImage(this.plotElem,options)})],&quot;_commands&quot;:[(function (args){var fn=args.shift(); var elem=this.plotElem; var Plotly=this.Plotly; args.unshift(elem); return Plotly[fn].apply(this,args)})]},&quot;systemjs_options&quot;:null,&quot;observables&quot;:{&quot;_toImage&quot;:{&quot;sync&quot;:false,&quot;id&quot;:&quot;ob_28&quot;,&quot;value&quot;:{}},&quot;hover&quot;:{&quot;sync&quot;:false,&quot;id&quot;:&quot;ob_21&quot;,&quot;value&quot;:{}},&quot;selected&quot;:{&quot;sync&quot;:false,&quot;id&quot;:&quot;ob_22&quot;,&quot;value&quot;:{}},&quot;__gd_contents&quot;:{&quot;sync&quot;:false,&quot;id&quot;:&quot;ob_26&quot;,&quot;value&quot;:{}},&quot;click&quot;:{&quot;sync&quot;:false,&quot;id&quot;:&quot;ob_23&quot;,&quot;value&quot;:{}},&quot;image&quot;:{&quot;sync&quot;:true,&quot;id&quot;:&quot;ob_25&quot;,&quot;value&quot;:&quot;&quot;},&quot;__get_gd_contents&quot;:{&quot;sync&quot;:false,&quot;id&quot;:&quot;ob_30&quot;,&quot;value&quot;:&quot;&quot;},&quot;_downloadImage&quot;:{&quot;sync&quot;:false,&quot;id&quot;:&quot;ob_29&quot;,&quot;value&quot;:{}},&quot;relayout&quot;:{&quot;sync&quot;:false,&quot;id&quot;:&quot;ob_24&quot;,&quot;value&quot;:{}},&quot;_commands&quot;:{&quot;sync&quot;:false,&quot;id&quot;:&quot;ob_27&quot;,&quot;value&quot;:[]}}},&quot;children&quot;:[{&quot;props&quot;:{&quot;id&quot;:&quot;plot-ae3ffc72-1cc7-4dd1-b48f-1fb909c10dbc&quot;},&quot;nodeType&quot;:&quot;DOM&quot;,&quot;type&quot;:&quot;node&quot;,&quot;instanceArgs&quot;:{&quot;namespace&quot;:&quot;html&quot;,&quot;tag&quot;:&quot;div&quot;},&quot;children&quot;:[]}]})</unsafe-script>"
      ],
      "text/plain": [
       "data: [\n",
       "  \"contour with fields type, x, y, and z\"\n",
       "]\n",
       "\n",
       "layout: \"layout with fields margin, title, xaxis, and yaxis\"\n",
       "\n"
      ]
     },
     "execution_count": 12,
     "metadata": {},
     "output_type": "execute_result"
    }
   ],
   "source": [
    "plot(trace2,layout)"
   ]
  },
  {
   "cell_type": "code",
   "execution_count": 13,
   "metadata": {},
   "outputs": [
    {
     "data": {
      "application/vnd.plotly.v1+json": {
       "data": [
        {
         "name": "mybar",
         "type": "bar",
         "x": [
          1,
          2,
          3,
          4,
          5,
          6,
          7,
          8,
          9,
          10
         ],
         "y": [
          7,
          7,
          6,
          9,
          5,
          1,
          10,
          4,
          6,
          3
         ]
        }
       ],
       "layout": {
        "margin": {
         "b": 50,
         "l": 50,
         "r": 50,
         "t": 60
        },
        "title": "Plot",
        "xaxis": {
         "range": [
          0,
          10
         ],
         "title": "assets"
        },
        "yaxis": {
         "title": "consumption"
        }
       }
      },
      "text/html": [
       "<div class='display:none'></div><unsafe-script style='display:none'>\n",
       "WebIO.mount(this.previousSibling,{&quot;props&quot;:{},&quot;nodeType&quot;:&quot;Scope&quot;,&quot;type&quot;:&quot;node&quot;,&quot;instanceArgs&quot;:{&quot;imports&quot;:{&quot;data&quot;:[{&quot;name&quot;:&quot;Plotly&quot;,&quot;type&quot;:&quot;js&quot;,&quot;url&quot;:&quot;/assetserver/5311f9888b884b50e52f4a90fad64eb841288be8-plotly-latest.min.js&quot;},{&quot;name&quot;:null,&quot;type&quot;:&quot;js&quot;,&quot;url&quot;:&quot;/assetserver/5c351a91169f2a19a186af98699dd36a27fe8939-plotly_webio.bundle.js&quot;}],&quot;type&quot;:&quot;async_block&quot;},&quot;id&quot;:&quot;scope-abd83df4-6186-436b-b21f-982b3d552c86&quot;,&quot;handlers&quot;:{&quot;_toImage&quot;:[(function (options){return this.Plotly.toImage(this.plotElem,options).then((function (data){return WebIO.setval({&quot;name&quot;:&quot;image&quot;,&quot;scope&quot;:&quot;scope-abd83df4-6186-436b-b21f-982b3d552c86&quot;,&quot;id&quot;:&quot;ob_35&quot;,&quot;type&quot;:&quot;observable&quot;},data)}))})],&quot;__get_gd_contents&quot;:[(function (prop){prop==&quot;data&quot; ? (WebIO.setval({&quot;name&quot;:&quot;__gd_contents&quot;,&quot;scope&quot;:&quot;scope-abd83df4-6186-436b-b21f-982b3d552c86&quot;,&quot;id&quot;:&quot;ob_36&quot;,&quot;type&quot;:&quot;observable&quot;},this.plotElem.data)) : undefined; return prop==&quot;layout&quot; ? (WebIO.setval({&quot;name&quot;:&quot;__gd_contents&quot;,&quot;scope&quot;:&quot;scope-abd83df4-6186-436b-b21f-982b3d552c86&quot;,&quot;id&quot;:&quot;ob_36&quot;,&quot;type&quot;:&quot;observable&quot;},this.plotElem.layout)) : undefined})],&quot;_promises&quot;:{&quot;importsLoaded&quot;:[(function (Plotly){var gd=this.dom.querySelector(&quot;#plot-d5f32750-bdad-43f0-94cd-76315333d79a&quot;); this.plotElem=gd; this.Plotly=Plotly; (window.Blink!==undefined) ? (gd.style.width=&quot;100%&quot;, gd.style.height=&quot;100vh&quot;, gd.style.marginLeft=&quot;0%&quot;, gd.style.marginTop=&quot;0vh&quot;) : undefined; window.onresize=(function (){return Plotly.Plots.resize(gd)}); Plotly.newPlot(gd,[{&quot;y&quot;:[7,7,6,9,5,1,10,4,6,3],&quot;type&quot;:&quot;bar&quot;,&quot;name&quot;:&quot;mybar&quot;,&quot;x&quot;:[1,2,3,4,5,6,7,8,9,10]}],{&quot;xaxis&quot;:{&quot;range&quot;:[0,10],&quot;title&quot;:&quot;assets&quot;},&quot;margin&quot;:{&quot;l&quot;:50,&quot;b&quot;:50,&quot;r&quot;:50,&quot;t&quot;:60},&quot;yaxis&quot;:{&quot;title&quot;:&quot;consumption&quot;},&quot;title&quot;:&quot;Plot&quot;},{}); gd.on(&quot;plotly_hover&quot;,(function (data){var filtered_data=WebIO.PlotlyCommands.filterEventData(gd,data,&quot;hover&quot;); return !(filtered_data.isnil) ? (WebIO.setval({&quot;name&quot;:&quot;hover&quot;,&quot;scope&quot;:&quot;scope-abd83df4-6186-436b-b21f-982b3d552c86&quot;,&quot;id&quot;:&quot;ob_31&quot;,&quot;type&quot;:&quot;observable&quot;},filtered_data.out)) : undefined})); gd.on(&quot;plotly_unhover&quot;,(function (){return WebIO.setval({&quot;name&quot;:&quot;hover&quot;,&quot;scope&quot;:&quot;scope-abd83df4-6186-436b-b21f-982b3d552c86&quot;,&quot;id&quot;:&quot;ob_31&quot;,&quot;type&quot;:&quot;observable&quot;},{})})); gd.on(&quot;plotly_selected&quot;,(function (data){var filtered_data=WebIO.PlotlyCommands.filterEventData(gd,data,&quot;selected&quot;); return !(filtered_data.isnil) ? (WebIO.setval({&quot;name&quot;:&quot;selected&quot;,&quot;scope&quot;:&quot;scope-abd83df4-6186-436b-b21f-982b3d552c86&quot;,&quot;id&quot;:&quot;ob_32&quot;,&quot;type&quot;:&quot;observable&quot;},filtered_data.out)) : undefined})); gd.on(&quot;plotly_deselect&quot;,(function (){return WebIO.setval({&quot;name&quot;:&quot;selected&quot;,&quot;scope&quot;:&quot;scope-abd83df4-6186-436b-b21f-982b3d552c86&quot;,&quot;id&quot;:&quot;ob_32&quot;,&quot;type&quot;:&quot;observable&quot;},{})})); gd.on(&quot;plotly_relayout&quot;,(function (data){var filtered_data=WebIO.PlotlyCommands.filterEventData(gd,data,&quot;relayout&quot;); return !(filtered_data.isnil) ? (WebIO.setval({&quot;name&quot;:&quot;relayout&quot;,&quot;scope&quot;:&quot;scope-abd83df4-6186-436b-b21f-982b3d552c86&quot;,&quot;id&quot;:&quot;ob_34&quot;,&quot;type&quot;:&quot;observable&quot;},filtered_data.out)) : undefined})); return gd.on(&quot;plotly_click&quot;,(function (data){var filtered_data=WebIO.PlotlyCommands.filterEventData(gd,data,&quot;click&quot;); return !(filtered_data.isnil) ? (WebIO.setval({&quot;name&quot;:&quot;click&quot;,&quot;scope&quot;:&quot;scope-abd83df4-6186-436b-b21f-982b3d552c86&quot;,&quot;id&quot;:&quot;ob_33&quot;,&quot;type&quot;:&quot;observable&quot;},filtered_data.out)) : undefined}))})]},&quot;_downloadImage&quot;:[(function (options){return this.Plotly.downloadImage(this.plotElem,options)})],&quot;_commands&quot;:[(function (args){var fn=args.shift(); var elem=this.plotElem; var Plotly=this.Plotly; args.unshift(elem); return Plotly[fn].apply(this,args)})]},&quot;systemjs_options&quot;:null,&quot;observables&quot;:{&quot;_toImage&quot;:{&quot;sync&quot;:false,&quot;id&quot;:&quot;ob_38&quot;,&quot;value&quot;:{}},&quot;hover&quot;:{&quot;sync&quot;:false,&quot;id&quot;:&quot;ob_31&quot;,&quot;value&quot;:{}},&quot;selected&quot;:{&quot;sync&quot;:false,&quot;id&quot;:&quot;ob_32&quot;,&quot;value&quot;:{}},&quot;__gd_contents&quot;:{&quot;sync&quot;:false,&quot;id&quot;:&quot;ob_36&quot;,&quot;value&quot;:{}},&quot;click&quot;:{&quot;sync&quot;:false,&quot;id&quot;:&quot;ob_33&quot;,&quot;value&quot;:{}},&quot;image&quot;:{&quot;sync&quot;:true,&quot;id&quot;:&quot;ob_35&quot;,&quot;value&quot;:&quot;&quot;},&quot;__get_gd_contents&quot;:{&quot;sync&quot;:false,&quot;id&quot;:&quot;ob_40&quot;,&quot;value&quot;:&quot;&quot;},&quot;_downloadImage&quot;:{&quot;sync&quot;:false,&quot;id&quot;:&quot;ob_39&quot;,&quot;value&quot;:{}},&quot;relayout&quot;:{&quot;sync&quot;:false,&quot;id&quot;:&quot;ob_34&quot;,&quot;value&quot;:{}},&quot;_commands&quot;:{&quot;sync&quot;:false,&quot;id&quot;:&quot;ob_37&quot;,&quot;value&quot;:[]}}},&quot;children&quot;:[{&quot;props&quot;:{&quot;id&quot;:&quot;plot-d5f32750-bdad-43f0-94cd-76315333d79a&quot;},&quot;nodeType&quot;:&quot;DOM&quot;,&quot;type&quot;:&quot;node&quot;,&quot;instanceArgs&quot;:{&quot;namespace&quot;:&quot;html&quot;,&quot;tag&quot;:&quot;div&quot;},&quot;children&quot;:[]}]})</unsafe-script>"
      ],
      "text/plain": [
       "data: [\n",
       "  \"bar with fields name, type, x, and y\"\n",
       "]\n",
       "\n",
       "layout: \"layout with fields margin, title, xaxis, and yaxis\"\n",
       "\n"
      ]
     },
     "execution_count": 13,
     "metadata": {},
     "output_type": "execute_result"
    }
   ],
   "source": [
    "plot(trace3,layout)"
   ]
  },
  {
   "cell_type": "markdown",
   "metadata": {},
   "source": [
    "### Convenience API"
   ]
  },
  {
   "cell_type": "markdown",
   "metadata": {},
   "source": [
    "The plot function has as a number of other mehtods that try to make is a bit easier to construct simple plots\\\n",
    "(remember multiple dispatch?:) )"
   ]
  },
  {
   "cell_type": "code",
   "execution_count": 14,
   "metadata": {},
   "outputs": [
    {
     "data": {
      "text/html": [
       "# 1 method for generic function <b>plot</b>:<ul><li> plot(args...; <i>options, kwargs...</i>) in PlotlyJS at <a href=\"file:///Users/manideepbangaru/.julia/packages/PlotlyJS/CEJyh/src/display.jl\" target=\"_blank\">/Users/manideepbangaru/.julia/packages/PlotlyJS/CEJyh/src/display.jl:140</a></li> </ul>"
      ],
      "text/plain": [
       "# 1 method for generic function \"plot\":\n",
       "[1] plot(args...; options, kwargs...) in PlotlyJS at /Users/manideepbangaru/.julia/packages/PlotlyJS/CEJyh/src/display.jl:140"
      ]
     },
     "execution_count": 14,
     "metadata": {},
     "output_type": "execute_result"
    }
   ],
   "source": [
    "methods(plot)"
   ]
  },
  {
   "cell_type": "markdown",
   "metadata": {},
   "source": [
    "### Let's see a few of them"
   ]
  },
  {
   "cell_type": "code",
   "execution_count": 15,
   "metadata": {},
   "outputs": [],
   "source": [
    "x = LinRange(-5, 5, 50)\n",
    "y1 = sin.(x)\n",
    "y2 = cos.(x);"
   ]
  },
  {
   "cell_type": "code",
   "execution_count": 16,
   "metadata": {},
   "outputs": [
    {
     "data": {
      "application/vnd.plotly.v1+json": {
       "data": [
        {
         "type": "scatter",
         "x": [
          -5,
          -4.795918367346939,
          -4.591836734693878,
          -4.387755102040817,
          -4.183673469387756,
          -3.9795918367346936,
          -3.775510204081632,
          -3.571428571428572,
          -3.36734693877551,
          -3.163265306122449,
          -2.959183673469388,
          -2.7551020408163263,
          -2.551020408163265,
          -2.3469387755102034,
          -2.1428571428571432,
          -1.9387755102040813,
          -1.734693877551021,
          -1.5306122448979593,
          -1.326530612244898,
          -1.122448979591837,
          -0.9183673469387754,
          -0.714285714285714,
          -0.510204081632653,
          -0.3061224489795915,
          -0.1020408163265305,
          0.1020408163265305,
          0.3061224489795924,
          0.5102040816326525,
          0.7142857142857135,
          0.9183673469387754,
          1.122448979591837,
          1.3265306122448983,
          1.5306122448979584,
          1.7346938775510203,
          1.9387755102040813,
          2.1428571428571432,
          2.3469387755102042,
          2.5510204081632644,
          2.7551020408163263,
          2.959183673469388,
          3.163265306122449,
          3.36734693877551,
          3.571428571428571,
          3.775510204081632,
          3.9795918367346936,
          4.183673469387756,
          4.387755102040817,
          4.591836734693878,
          4.795918367346939,
          5
         ],
         "y": [
          0.9589242746631385,
          0.9965134486493629,
          0.9927423739155603,
          0.947767568759746,
          0.8634557105758882,
          0.7433061594872825,
          0.5923057175520053,
          0.4167216517535003,
          0.22384157134836102,
          0.02167095595104761,
          -0.1813991115603852,
          -0.37694021658576476,
          -0.5568364337958327,
          -0.7136211782712538,
          -0.8407871057952501,
          -0.9330561999012777,
          -0.9865988357241925,
          -0.9991927284190055,
          -0.9703151689997849,
          -0.901164719354105,
          -0.7946114659823771,
          -0.6550778971785184,
          -0.488355347839557,
          -0.3013636303546202,
          -0.10186382808314005,
          0.10186382808314005,
          0.30136363035462105,
          0.4883553478395566,
          0.655077897178518,
          0.7946114659823771,
          0.901164719354105,
          0.970315168999785,
          0.9991927284190054,
          0.9865988357241925,
          0.9330561999012777,
          0.8407871057952501,
          0.7136211782712533,
          0.556836433795833,
          0.37694021658576476,
          0.1813991115603852,
          -0.02167095595104761,
          -0.22384157134836102,
          -0.41672165175349946,
          -0.5923057175520053,
          -0.7433061594872825,
          -0.8634557105758882,
          -0.947767568759746,
          -0.9927423739155603,
          -0.9965134486493629,
          -0.9589242746631385
         ]
        }
       ],
       "layout": {
        "margin": {
         "b": 50,
         "l": 50,
         "r": 50,
         "t": 60
        }
       }
      },
      "text/html": [
       "<div class='display:none'></div><unsafe-script style='display:none'>\n",
       "WebIO.mount(this.previousSibling,{&quot;props&quot;:{},&quot;nodeType&quot;:&quot;Scope&quot;,&quot;type&quot;:&quot;node&quot;,&quot;instanceArgs&quot;:{&quot;imports&quot;:{&quot;data&quot;:[{&quot;name&quot;:&quot;Plotly&quot;,&quot;type&quot;:&quot;js&quot;,&quot;url&quot;:&quot;/assetserver/5311f9888b884b50e52f4a90fad64eb841288be8-plotly-latest.min.js&quot;},{&quot;name&quot;:null,&quot;type&quot;:&quot;js&quot;,&quot;url&quot;:&quot;/assetserver/5c351a91169f2a19a186af98699dd36a27fe8939-plotly_webio.bundle.js&quot;}],&quot;type&quot;:&quot;async_block&quot;},&quot;id&quot;:&quot;scope-c1e7589f-0032-474d-ba5d-0a7e7104f0fe&quot;,&quot;handlers&quot;:{&quot;_toImage&quot;:[(function (options){return this.Plotly.toImage(this.plotElem,options).then((function (data){return WebIO.setval({&quot;name&quot;:&quot;image&quot;,&quot;scope&quot;:&quot;scope-c1e7589f-0032-474d-ba5d-0a7e7104f0fe&quot;,&quot;id&quot;:&quot;ob_45&quot;,&quot;type&quot;:&quot;observable&quot;},data)}))})],&quot;__get_gd_contents&quot;:[(function (prop){prop==&quot;data&quot; ? (WebIO.setval({&quot;name&quot;:&quot;__gd_contents&quot;,&quot;scope&quot;:&quot;scope-c1e7589f-0032-474d-ba5d-0a7e7104f0fe&quot;,&quot;id&quot;:&quot;ob_46&quot;,&quot;type&quot;:&quot;observable&quot;},this.plotElem.data)) : undefined; return prop==&quot;layout&quot; ? (WebIO.setval({&quot;name&quot;:&quot;__gd_contents&quot;,&quot;scope&quot;:&quot;scope-c1e7589f-0032-474d-ba5d-0a7e7104f0fe&quot;,&quot;id&quot;:&quot;ob_46&quot;,&quot;type&quot;:&quot;observable&quot;},this.plotElem.layout)) : undefined})],&quot;_promises&quot;:{&quot;importsLoaded&quot;:[(function (Plotly){var gd=this.dom.querySelector(&quot;#plot-33ef4f71-50ab-4bd2-9f15-8078511b0b04&quot;); this.plotElem=gd; this.Plotly=Plotly; (window.Blink!==undefined) ? (gd.style.width=&quot;100%&quot;, gd.style.height=&quot;100vh&quot;, gd.style.marginLeft=&quot;0%&quot;, gd.style.marginTop=&quot;0vh&quot;) : undefined; window.onresize=(function (){return Plotly.Plots.resize(gd)}); Plotly.newPlot(gd,[{&quot;y&quot;:[0.9589242746631385,0.9965134486493629,0.9927423739155603,0.947767568759746,0.8634557105758882,0.7433061594872825,0.5923057175520053,0.4167216517535003,0.22384157134836102,0.02167095595104761,-0.1813991115603852,-0.37694021658576476,-0.5568364337958327,-0.7136211782712538,-0.8407871057952501,-0.9330561999012777,-0.9865988357241925,-0.9991927284190055,-0.9703151689997849,-0.901164719354105,-0.7946114659823771,-0.6550778971785184,-0.488355347839557,-0.3013636303546202,-0.10186382808314005,0.10186382808314005,0.30136363035462105,0.4883553478395566,0.655077897178518,0.7946114659823771,0.901164719354105,0.970315168999785,0.9991927284190054,0.9865988357241925,0.9330561999012777,0.8407871057952501,0.7136211782712533,0.556836433795833,0.37694021658576476,0.1813991115603852,-0.02167095595104761,-0.22384157134836102,-0.41672165175349946,-0.5923057175520053,-0.7433061594872825,-0.8634557105758882,-0.947767568759746,-0.9927423739155603,-0.9965134486493629,-0.9589242746631385],&quot;type&quot;:&quot;scatter&quot;,&quot;x&quot;:[-5.0,-4.795918367346939,-4.591836734693878,-4.387755102040817,-4.183673469387756,-3.9795918367346936,-3.775510204081632,-3.571428571428572,-3.36734693877551,-3.163265306122449,-2.959183673469388,-2.7551020408163263,-2.551020408163265,-2.3469387755102034,-2.1428571428571432,-1.9387755102040813,-1.734693877551021,-1.5306122448979593,-1.326530612244898,-1.122448979591837,-0.9183673469387754,-0.714285714285714,-0.510204081632653,-0.3061224489795915,-0.1020408163265305,0.1020408163265305,0.3061224489795924,0.5102040816326525,0.7142857142857135,0.9183673469387754,1.122448979591837,1.3265306122448983,1.5306122448979584,1.7346938775510203,1.9387755102040813,2.1428571428571432,2.3469387755102042,2.5510204081632644,2.7551020408163263,2.959183673469388,3.163265306122449,3.36734693877551,3.571428571428571,3.775510204081632,3.9795918367346936,4.183673469387756,4.387755102040817,4.591836734693878,4.795918367346939,5.0]}],{&quot;margin&quot;:{&quot;l&quot;:50,&quot;b&quot;:50,&quot;r&quot;:50,&quot;t&quot;:60}},{}); gd.on(&quot;plotly_hover&quot;,(function (data){var filtered_data=WebIO.PlotlyCommands.filterEventData(gd,data,&quot;hover&quot;); return !(filtered_data.isnil) ? (WebIO.setval({&quot;name&quot;:&quot;hover&quot;,&quot;scope&quot;:&quot;scope-c1e7589f-0032-474d-ba5d-0a7e7104f0fe&quot;,&quot;id&quot;:&quot;ob_41&quot;,&quot;type&quot;:&quot;observable&quot;},filtered_data.out)) : undefined})); gd.on(&quot;plotly_unhover&quot;,(function (){return WebIO.setval({&quot;name&quot;:&quot;hover&quot;,&quot;scope&quot;:&quot;scope-c1e7589f-0032-474d-ba5d-0a7e7104f0fe&quot;,&quot;id&quot;:&quot;ob_41&quot;,&quot;type&quot;:&quot;observable&quot;},{})})); gd.on(&quot;plotly_selected&quot;,(function (data){var filtered_data=WebIO.PlotlyCommands.filterEventData(gd,data,&quot;selected&quot;); return !(filtered_data.isnil) ? (WebIO.setval({&quot;name&quot;:&quot;selected&quot;,&quot;scope&quot;:&quot;scope-c1e7589f-0032-474d-ba5d-0a7e7104f0fe&quot;,&quot;id&quot;:&quot;ob_42&quot;,&quot;type&quot;:&quot;observable&quot;},filtered_data.out)) : undefined})); gd.on(&quot;plotly_deselect&quot;,(function (){return WebIO.setval({&quot;name&quot;:&quot;selected&quot;,&quot;scope&quot;:&quot;scope-c1e7589f-0032-474d-ba5d-0a7e7104f0fe&quot;,&quot;id&quot;:&quot;ob_42&quot;,&quot;type&quot;:&quot;observable&quot;},{})})); gd.on(&quot;plotly_relayout&quot;,(function (data){var filtered_data=WebIO.PlotlyCommands.filterEventData(gd,data,&quot;relayout&quot;); return !(filtered_data.isnil) ? (WebIO.setval({&quot;name&quot;:&quot;relayout&quot;,&quot;scope&quot;:&quot;scope-c1e7589f-0032-474d-ba5d-0a7e7104f0fe&quot;,&quot;id&quot;:&quot;ob_44&quot;,&quot;type&quot;:&quot;observable&quot;},filtered_data.out)) : undefined})); return gd.on(&quot;plotly_click&quot;,(function (data){var filtered_data=WebIO.PlotlyCommands.filterEventData(gd,data,&quot;click&quot;); return !(filtered_data.isnil) ? (WebIO.setval({&quot;name&quot;:&quot;click&quot;,&quot;scope&quot;:&quot;scope-c1e7589f-0032-474d-ba5d-0a7e7104f0fe&quot;,&quot;id&quot;:&quot;ob_43&quot;,&quot;type&quot;:&quot;observable&quot;},filtered_data.out)) : undefined}))})]},&quot;_downloadImage&quot;:[(function (options){return this.Plotly.downloadImage(this.plotElem,options)})],&quot;_commands&quot;:[(function (args){var fn=args.shift(); var elem=this.plotElem; var Plotly=this.Plotly; args.unshift(elem); return Plotly[fn].apply(this,args)})]},&quot;systemjs_options&quot;:null,&quot;observables&quot;:{&quot;_toImage&quot;:{&quot;sync&quot;:false,&quot;id&quot;:&quot;ob_48&quot;,&quot;value&quot;:{}},&quot;hover&quot;:{&quot;sync&quot;:false,&quot;id&quot;:&quot;ob_41&quot;,&quot;value&quot;:{}},&quot;selected&quot;:{&quot;sync&quot;:false,&quot;id&quot;:&quot;ob_42&quot;,&quot;value&quot;:{}},&quot;__gd_contents&quot;:{&quot;sync&quot;:false,&quot;id&quot;:&quot;ob_46&quot;,&quot;value&quot;:{}},&quot;click&quot;:{&quot;sync&quot;:false,&quot;id&quot;:&quot;ob_43&quot;,&quot;value&quot;:{}},&quot;image&quot;:{&quot;sync&quot;:true,&quot;id&quot;:&quot;ob_45&quot;,&quot;value&quot;:&quot;&quot;},&quot;__get_gd_contents&quot;:{&quot;sync&quot;:false,&quot;id&quot;:&quot;ob_50&quot;,&quot;value&quot;:&quot;&quot;},&quot;_downloadImage&quot;:{&quot;sync&quot;:false,&quot;id&quot;:&quot;ob_49&quot;,&quot;value&quot;:{}},&quot;relayout&quot;:{&quot;sync&quot;:false,&quot;id&quot;:&quot;ob_44&quot;,&quot;value&quot;:{}},&quot;_commands&quot;:{&quot;sync&quot;:false,&quot;id&quot;:&quot;ob_47&quot;,&quot;value&quot;:[]}}},&quot;children&quot;:[{&quot;props&quot;:{&quot;id&quot;:&quot;plot-33ef4f71-50ab-4bd2-9f15-8078511b0b04&quot;},&quot;nodeType&quot;:&quot;DOM&quot;,&quot;type&quot;:&quot;node&quot;,&quot;instanceArgs&quot;:{&quot;namespace&quot;:&quot;html&quot;,&quot;tag&quot;:&quot;div&quot;},&quot;children&quot;:[]}]})</unsafe-script>"
      ],
      "text/plain": [
       "data: [\n",
       "  \"scatter with fields type, x, and y\"\n",
       "]\n",
       "\n",
       "layout: \"layout with field margin\"\n",
       "\n"
      ]
     },
     "execution_count": 16,
     "metadata": {},
     "output_type": "execute_result"
    }
   ],
   "source": [
    "plot(x,y1)"
   ]
  },
  {
   "cell_type": "code",
   "execution_count": 17,
   "metadata": {},
   "outputs": [
    {
     "data": {
      "application/vnd.plotly.v1+json": {
       "data": [
        {
         "marker": {
          "color": "red"
         },
         "mode": "markers",
         "type": "scatter",
         "x": [
          1,
          2,
          3,
          4,
          5,
          6,
          7,
          8,
          9,
          10,
          11,
          12,
          13,
          14,
          15,
          16,
          17,
          18,
          19,
          20,
          21,
          22,
          23,
          24,
          25,
          26,
          27,
          28,
          29,
          30,
          31,
          32,
          33,
          34,
          35,
          36,
          37,
          38,
          39,
          40,
          41,
          42,
          43,
          44,
          45,
          46,
          47,
          48,
          49,
          50
         ],
         "y": [
          0.9589242746631385,
          0.9965134486493629,
          0.9927423739155603,
          0.947767568759746,
          0.8634557105758882,
          0.7433061594872825,
          0.5923057175520053,
          0.4167216517535003,
          0.22384157134836102,
          0.02167095595104761,
          -0.1813991115603852,
          -0.37694021658576476,
          -0.5568364337958327,
          -0.7136211782712538,
          -0.8407871057952501,
          -0.9330561999012777,
          -0.9865988357241925,
          -0.9991927284190055,
          -0.9703151689997849,
          -0.901164719354105,
          -0.7946114659823771,
          -0.6550778971785184,
          -0.488355347839557,
          -0.3013636303546202,
          -0.10186382808314005,
          0.10186382808314005,
          0.30136363035462105,
          0.4883553478395566,
          0.655077897178518,
          0.7946114659823771,
          0.901164719354105,
          0.970315168999785,
          0.9991927284190054,
          0.9865988357241925,
          0.9330561999012777,
          0.8407871057952501,
          0.7136211782712533,
          0.556836433795833,
          0.37694021658576476,
          0.1813991115603852,
          -0.02167095595104761,
          -0.22384157134836102,
          -0.41672165175349946,
          -0.5923057175520053,
          -0.7433061594872825,
          -0.8634557105758882,
          -0.947767568759746,
          -0.9927423739155603,
          -0.9965134486493629,
          -0.9589242746631385
         ]
        }
       ],
       "layout": {
        "margin": {
         "b": 50,
         "l": 50,
         "r": 50,
         "t": 60
        }
       }
      },
      "text/html": [
       "<div class='display:none'></div><unsafe-script style='display:none'>\n",
       "WebIO.mount(this.previousSibling,{&quot;props&quot;:{},&quot;nodeType&quot;:&quot;Scope&quot;,&quot;type&quot;:&quot;node&quot;,&quot;instanceArgs&quot;:{&quot;imports&quot;:{&quot;data&quot;:[{&quot;name&quot;:&quot;Plotly&quot;,&quot;type&quot;:&quot;js&quot;,&quot;url&quot;:&quot;/assetserver/5311f9888b884b50e52f4a90fad64eb841288be8-plotly-latest.min.js&quot;},{&quot;name&quot;:null,&quot;type&quot;:&quot;js&quot;,&quot;url&quot;:&quot;/assetserver/5c351a91169f2a19a186af98699dd36a27fe8939-plotly_webio.bundle.js&quot;}],&quot;type&quot;:&quot;async_block&quot;},&quot;id&quot;:&quot;scope-8e8fdb93-6560-4d2e-b4eb-68a516d9ee28&quot;,&quot;handlers&quot;:{&quot;_toImage&quot;:[(function (options){return this.Plotly.toImage(this.plotElem,options).then((function (data){return WebIO.setval({&quot;name&quot;:&quot;image&quot;,&quot;scope&quot;:&quot;scope-8e8fdb93-6560-4d2e-b4eb-68a516d9ee28&quot;,&quot;id&quot;:&quot;ob_55&quot;,&quot;type&quot;:&quot;observable&quot;},data)}))})],&quot;__get_gd_contents&quot;:[(function (prop){prop==&quot;data&quot; ? (WebIO.setval({&quot;name&quot;:&quot;__gd_contents&quot;,&quot;scope&quot;:&quot;scope-8e8fdb93-6560-4d2e-b4eb-68a516d9ee28&quot;,&quot;id&quot;:&quot;ob_56&quot;,&quot;type&quot;:&quot;observable&quot;},this.plotElem.data)) : undefined; return prop==&quot;layout&quot; ? (WebIO.setval({&quot;name&quot;:&quot;__gd_contents&quot;,&quot;scope&quot;:&quot;scope-8e8fdb93-6560-4d2e-b4eb-68a516d9ee28&quot;,&quot;id&quot;:&quot;ob_56&quot;,&quot;type&quot;:&quot;observable&quot;},this.plotElem.layout)) : undefined})],&quot;_promises&quot;:{&quot;importsLoaded&quot;:[(function (Plotly){var gd=this.dom.querySelector(&quot;#plot-d5660610-7e0a-4dcd-a0c9-46acbcdb4aa9&quot;); this.plotElem=gd; this.Plotly=Plotly; (window.Blink!==undefined) ? (gd.style.width=&quot;100%&quot;, gd.style.height=&quot;100vh&quot;, gd.style.marginLeft=&quot;0%&quot;, gd.style.marginTop=&quot;0vh&quot;) : undefined; window.onresize=(function (){return Plotly.Plots.resize(gd)}); Plotly.newPlot(gd,[{&quot;marker&quot;:{&quot;color&quot;:&quot;red&quot;},&quot;mode&quot;:&quot;markers&quot;,&quot;y&quot;:[0.9589242746631385,0.9965134486493629,0.9927423739155603,0.947767568759746,0.8634557105758882,0.7433061594872825,0.5923057175520053,0.4167216517535003,0.22384157134836102,0.02167095595104761,-0.1813991115603852,-0.37694021658576476,-0.5568364337958327,-0.7136211782712538,-0.8407871057952501,-0.9330561999012777,-0.9865988357241925,-0.9991927284190055,-0.9703151689997849,-0.901164719354105,-0.7946114659823771,-0.6550778971785184,-0.488355347839557,-0.3013636303546202,-0.10186382808314005,0.10186382808314005,0.30136363035462105,0.4883553478395566,0.655077897178518,0.7946114659823771,0.901164719354105,0.970315168999785,0.9991927284190054,0.9865988357241925,0.9330561999012777,0.8407871057952501,0.7136211782712533,0.556836433795833,0.37694021658576476,0.1813991115603852,-0.02167095595104761,-0.22384157134836102,-0.41672165175349946,-0.5923057175520053,-0.7433061594872825,-0.8634557105758882,-0.947767568759746,-0.9927423739155603,-0.9965134486493629,-0.9589242746631385],&quot;type&quot;:&quot;scatter&quot;,&quot;x&quot;:[1,2,3,4,5,6,7,8,9,10,11,12,13,14,15,16,17,18,19,20,21,22,23,24,25,26,27,28,29,30,31,32,33,34,35,36,37,38,39,40,41,42,43,44,45,46,47,48,49,50]}],{&quot;margin&quot;:{&quot;l&quot;:50,&quot;b&quot;:50,&quot;r&quot;:50,&quot;t&quot;:60}},{}); gd.on(&quot;plotly_hover&quot;,(function (data){var filtered_data=WebIO.PlotlyCommands.filterEventData(gd,data,&quot;hover&quot;); return !(filtered_data.isnil) ? (WebIO.setval({&quot;name&quot;:&quot;hover&quot;,&quot;scope&quot;:&quot;scope-8e8fdb93-6560-4d2e-b4eb-68a516d9ee28&quot;,&quot;id&quot;:&quot;ob_51&quot;,&quot;type&quot;:&quot;observable&quot;},filtered_data.out)) : undefined})); gd.on(&quot;plotly_unhover&quot;,(function (){return WebIO.setval({&quot;name&quot;:&quot;hover&quot;,&quot;scope&quot;:&quot;scope-8e8fdb93-6560-4d2e-b4eb-68a516d9ee28&quot;,&quot;id&quot;:&quot;ob_51&quot;,&quot;type&quot;:&quot;observable&quot;},{})})); gd.on(&quot;plotly_selected&quot;,(function (data){var filtered_data=WebIO.PlotlyCommands.filterEventData(gd,data,&quot;selected&quot;); return !(filtered_data.isnil) ? (WebIO.setval({&quot;name&quot;:&quot;selected&quot;,&quot;scope&quot;:&quot;scope-8e8fdb93-6560-4d2e-b4eb-68a516d9ee28&quot;,&quot;id&quot;:&quot;ob_52&quot;,&quot;type&quot;:&quot;observable&quot;},filtered_data.out)) : undefined})); gd.on(&quot;plotly_deselect&quot;,(function (){return WebIO.setval({&quot;name&quot;:&quot;selected&quot;,&quot;scope&quot;:&quot;scope-8e8fdb93-6560-4d2e-b4eb-68a516d9ee28&quot;,&quot;id&quot;:&quot;ob_52&quot;,&quot;type&quot;:&quot;observable&quot;},{})})); gd.on(&quot;plotly_relayout&quot;,(function (data){var filtered_data=WebIO.PlotlyCommands.filterEventData(gd,data,&quot;relayout&quot;); return !(filtered_data.isnil) ? (WebIO.setval({&quot;name&quot;:&quot;relayout&quot;,&quot;scope&quot;:&quot;scope-8e8fdb93-6560-4d2e-b4eb-68a516d9ee28&quot;,&quot;id&quot;:&quot;ob_54&quot;,&quot;type&quot;:&quot;observable&quot;},filtered_data.out)) : undefined})); return gd.on(&quot;plotly_click&quot;,(function (data){var filtered_data=WebIO.PlotlyCommands.filterEventData(gd,data,&quot;click&quot;); return !(filtered_data.isnil) ? (WebIO.setval({&quot;name&quot;:&quot;click&quot;,&quot;scope&quot;:&quot;scope-8e8fdb93-6560-4d2e-b4eb-68a516d9ee28&quot;,&quot;id&quot;:&quot;ob_53&quot;,&quot;type&quot;:&quot;observable&quot;},filtered_data.out)) : undefined}))})]},&quot;_downloadImage&quot;:[(function (options){return this.Plotly.downloadImage(this.plotElem,options)})],&quot;_commands&quot;:[(function (args){var fn=args.shift(); var elem=this.plotElem; var Plotly=this.Plotly; args.unshift(elem); return Plotly[fn].apply(this,args)})]},&quot;systemjs_options&quot;:null,&quot;observables&quot;:{&quot;_toImage&quot;:{&quot;sync&quot;:false,&quot;id&quot;:&quot;ob_58&quot;,&quot;value&quot;:{}},&quot;hover&quot;:{&quot;sync&quot;:false,&quot;id&quot;:&quot;ob_51&quot;,&quot;value&quot;:{}},&quot;selected&quot;:{&quot;sync&quot;:false,&quot;id&quot;:&quot;ob_52&quot;,&quot;value&quot;:{}},&quot;__gd_contents&quot;:{&quot;sync&quot;:false,&quot;id&quot;:&quot;ob_56&quot;,&quot;value&quot;:{}},&quot;click&quot;:{&quot;sync&quot;:false,&quot;id&quot;:&quot;ob_53&quot;,&quot;value&quot;:{}},&quot;image&quot;:{&quot;sync&quot;:true,&quot;id&quot;:&quot;ob_55&quot;,&quot;value&quot;:&quot;&quot;},&quot;__get_gd_contents&quot;:{&quot;sync&quot;:false,&quot;id&quot;:&quot;ob_60&quot;,&quot;value&quot;:&quot;&quot;},&quot;_downloadImage&quot;:{&quot;sync&quot;:false,&quot;id&quot;:&quot;ob_59&quot;,&quot;value&quot;:{}},&quot;relayout&quot;:{&quot;sync&quot;:false,&quot;id&quot;:&quot;ob_54&quot;,&quot;value&quot;:{}},&quot;_commands&quot;:{&quot;sync&quot;:false,&quot;id&quot;:&quot;ob_57&quot;,&quot;value&quot;:[]}}},&quot;children&quot;:[{&quot;props&quot;:{&quot;id&quot;:&quot;plot-d5660610-7e0a-4dcd-a0c9-46acbcdb4aa9&quot;},&quot;nodeType&quot;:&quot;DOM&quot;,&quot;type&quot;:&quot;node&quot;,&quot;instanceArgs&quot;:{&quot;namespace&quot;:&quot;html&quot;,&quot;tag&quot;:&quot;div&quot;},&quot;children&quot;:[]}]})</unsafe-script>"
      ],
      "text/plain": [
       "data: [\n",
       "  \"scatter with fields marker, mode, type, x, and y\"\n",
       "]\n",
       "\n",
       "layout: \"layout with field margin\"\n",
       "\n"
      ]
     },
     "execution_count": 17,
     "metadata": {},
     "output_type": "execute_result"
    }
   ],
   "source": [
    "# x optional and set attributes with keywords\n",
    "plot(y1, marker_color = \"red\",mode = \"markers\")"
   ]
  },
  {
   "cell_type": "code",
   "execution_count": 18,
   "metadata": {},
   "outputs": [
    {
     "data": {
      "application/vnd.plotly.v1+json": {
       "data": [
        {
         "type": "bar",
         "x": [
          -5,
          -4.795918367346939,
          -4.591836734693878,
          -4.387755102040817,
          -4.183673469387756,
          -3.9795918367346936,
          -3.775510204081632,
          -3.571428571428572,
          -3.36734693877551,
          -3.163265306122449,
          -2.959183673469388,
          -2.7551020408163263,
          -2.551020408163265,
          -2.3469387755102034,
          -2.1428571428571432,
          -1.9387755102040813,
          -1.734693877551021,
          -1.5306122448979593,
          -1.326530612244898,
          -1.122448979591837,
          -0.9183673469387754,
          -0.714285714285714,
          -0.510204081632653,
          -0.3061224489795915,
          -0.1020408163265305,
          0.1020408163265305,
          0.3061224489795924,
          0.5102040816326525,
          0.7142857142857135,
          0.9183673469387754,
          1.122448979591837,
          1.3265306122448983,
          1.5306122448979584,
          1.7346938775510203,
          1.9387755102040813,
          2.1428571428571432,
          2.3469387755102042,
          2.5510204081632644,
          2.7551020408163263,
          2.959183673469388,
          3.163265306122449,
          3.36734693877551,
          3.571428571428571,
          3.775510204081632,
          3.9795918367346936,
          4.183673469387756,
          4.387755102040817,
          4.591836734693878,
          4.795918367346939,
          5
         ],
         "y": [
          0.9589242746631385,
          0.9965134486493629,
          0.9927423739155603,
          0.947767568759746,
          0.8634557105758882,
          0.7433061594872825,
          0.5923057175520053,
          0.4167216517535003,
          0.22384157134836102,
          0.02167095595104761,
          -0.1813991115603852,
          -0.37694021658576476,
          -0.5568364337958327,
          -0.7136211782712538,
          -0.8407871057952501,
          -0.9330561999012777,
          -0.9865988357241925,
          -0.9991927284190055,
          -0.9703151689997849,
          -0.901164719354105,
          -0.7946114659823771,
          -0.6550778971785184,
          -0.488355347839557,
          -0.3013636303546202,
          -0.10186382808314005,
          0.10186382808314005,
          0.30136363035462105,
          0.4883553478395566,
          0.655077897178518,
          0.7946114659823771,
          0.901164719354105,
          0.970315168999785,
          0.9991927284190054,
          0.9865988357241925,
          0.9330561999012777,
          0.8407871057952501,
          0.7136211782712533,
          0.556836433795833,
          0.37694021658576476,
          0.1813991115603852,
          -0.02167095595104761,
          -0.22384157134836102,
          -0.41672165175349946,
          -0.5923057175520053,
          -0.7433061594872825,
          -0.8634557105758882,
          -0.947767568759746,
          -0.9927423739155603,
          -0.9965134486493629,
          -0.9589242746631385
         ]
        },
        {
         "type": "bar",
         "x": [
          -5,
          -4.795918367346939,
          -4.591836734693878,
          -4.387755102040817,
          -4.183673469387756,
          -3.9795918367346936,
          -3.775510204081632,
          -3.571428571428572,
          -3.36734693877551,
          -3.163265306122449,
          -2.959183673469388,
          -2.7551020408163263,
          -2.551020408163265,
          -2.3469387755102034,
          -2.1428571428571432,
          -1.9387755102040813,
          -1.734693877551021,
          -1.5306122448979593,
          -1.326530612244898,
          -1.122448979591837,
          -0.9183673469387754,
          -0.714285714285714,
          -0.510204081632653,
          -0.3061224489795915,
          -0.1020408163265305,
          0.1020408163265305,
          0.3061224489795924,
          0.5102040816326525,
          0.7142857142857135,
          0.9183673469387754,
          1.122448979591837,
          1.3265306122448983,
          1.5306122448979584,
          1.7346938775510203,
          1.9387755102040813,
          2.1428571428571432,
          2.3469387755102042,
          2.5510204081632644,
          2.7551020408163263,
          2.959183673469388,
          3.163265306122449,
          3.36734693877551,
          3.571428571428571,
          3.775510204081632,
          3.9795918367346936,
          4.183673469387756,
          4.387755102040817,
          4.591836734693878,
          4.795918367346939,
          5
         ],
         "y": [
          0.28366218546322625,
          0.08343228788037427,
          -0.12026046329736924,
          -0.3189618090104836,
          -0.5044246582730546,
          -0.6689513833368359,
          -0.8057133094067667,
          -0.9090341385007685,
          -0.9746255439584459,
          -0.9997651572585272,
          -0.9834095598096975,
          -0.9262375899952867,
          -0.8306221680147594,
          -0.7005318079307659,
          -0.5413659046600985,
          -0.3597306323150515,
          -0.1631647552251035,
          0.04017326815910727,
          0.24184390174019046,
          0.4334768143643176,
          0.6071182900632608,
          0.7555613467006967,
          0.8726448614622705,
          0.9535092879985406,
          0.9947983516915619,
          0.9947983516915619,
          0.9535092879985403,
          0.8726448614622707,
          0.7555613467006971,
          0.6071182900632608,
          0.4334768143643176,
          0.24184390174019024,
          0.040173268159108155,
          -0.16316475522510288,
          -0.3597306323150515,
          -0.5413659046600985,
          -0.7005318079307664,
          -0.8306221680147592,
          -0.9262375899952867,
          -0.9834095598096975,
          -0.9997651572585272,
          -0.9746255439584459,
          -0.9090341385007689,
          -0.8057133094067667,
          -0.6689513833368359,
          -0.5044246582730546,
          -0.3189618090104836,
          -0.12026046329736924,
          0.08343228788037427,
          0.28366218546322625
         ]
        }
       ],
       "layout": {
        "margin": {
         "b": 50,
         "l": 50,
         "r": 50,
         "t": 60
        }
       }
      },
      "text/html": [
       "<div class='display:none'></div><unsafe-script style='display:none'>\n",
       "WebIO.mount(this.previousSibling,{&quot;props&quot;:{},&quot;nodeType&quot;:&quot;Scope&quot;,&quot;type&quot;:&quot;node&quot;,&quot;instanceArgs&quot;:{&quot;imports&quot;:{&quot;data&quot;:[{&quot;name&quot;:&quot;Plotly&quot;,&quot;type&quot;:&quot;js&quot;,&quot;url&quot;:&quot;/assetserver/5311f9888b884b50e52f4a90fad64eb841288be8-plotly-latest.min.js&quot;},{&quot;name&quot;:null,&quot;type&quot;:&quot;js&quot;,&quot;url&quot;:&quot;/assetserver/5c351a91169f2a19a186af98699dd36a27fe8939-plotly_webio.bundle.js&quot;}],&quot;type&quot;:&quot;async_block&quot;},&quot;id&quot;:&quot;scope-cbbb5dfe-831d-4dc9-94bb-d4ad337bdfee&quot;,&quot;handlers&quot;:{&quot;_toImage&quot;:[(function (options){return this.Plotly.toImage(this.plotElem,options).then((function (data){return WebIO.setval({&quot;name&quot;:&quot;image&quot;,&quot;scope&quot;:&quot;scope-cbbb5dfe-831d-4dc9-94bb-d4ad337bdfee&quot;,&quot;id&quot;:&quot;ob_65&quot;,&quot;type&quot;:&quot;observable&quot;},data)}))})],&quot;__get_gd_contents&quot;:[(function (prop){prop==&quot;data&quot; ? (WebIO.setval({&quot;name&quot;:&quot;__gd_contents&quot;,&quot;scope&quot;:&quot;scope-cbbb5dfe-831d-4dc9-94bb-d4ad337bdfee&quot;,&quot;id&quot;:&quot;ob_66&quot;,&quot;type&quot;:&quot;observable&quot;},this.plotElem.data)) : undefined; return prop==&quot;layout&quot; ? (WebIO.setval({&quot;name&quot;:&quot;__gd_contents&quot;,&quot;scope&quot;:&quot;scope-cbbb5dfe-831d-4dc9-94bb-d4ad337bdfee&quot;,&quot;id&quot;:&quot;ob_66&quot;,&quot;type&quot;:&quot;observable&quot;},this.plotElem.layout)) : undefined})],&quot;_promises&quot;:{&quot;importsLoaded&quot;:[(function (Plotly){var gd=this.dom.querySelector(&quot;#plot-958d1005-6d8a-4652-858a-f0dadfcec0a8&quot;); this.plotElem=gd; this.Plotly=Plotly; (window.Blink!==undefined) ? (gd.style.width=&quot;100%&quot;, gd.style.height=&quot;100vh&quot;, gd.style.marginLeft=&quot;0%&quot;, gd.style.marginTop=&quot;0vh&quot;) : undefined; window.onresize=(function (){return Plotly.Plots.resize(gd)}); Plotly.newPlot(gd,[{&quot;y&quot;:[0.9589242746631385,0.9965134486493629,0.9927423739155603,0.947767568759746,0.8634557105758882,0.7433061594872825,0.5923057175520053,0.4167216517535003,0.22384157134836102,0.02167095595104761,-0.1813991115603852,-0.37694021658576476,-0.5568364337958327,-0.7136211782712538,-0.8407871057952501,-0.9330561999012777,-0.9865988357241925,-0.9991927284190055,-0.9703151689997849,-0.901164719354105,-0.7946114659823771,-0.6550778971785184,-0.488355347839557,-0.3013636303546202,-0.10186382808314005,0.10186382808314005,0.30136363035462105,0.4883553478395566,0.655077897178518,0.7946114659823771,0.901164719354105,0.970315168999785,0.9991927284190054,0.9865988357241925,0.9330561999012777,0.8407871057952501,0.7136211782712533,0.556836433795833,0.37694021658576476,0.1813991115603852,-0.02167095595104761,-0.22384157134836102,-0.41672165175349946,-0.5923057175520053,-0.7433061594872825,-0.8634557105758882,-0.947767568759746,-0.9927423739155603,-0.9965134486493629,-0.9589242746631385],&quot;type&quot;:&quot;bar&quot;,&quot;x&quot;:[-5.0,-4.795918367346939,-4.591836734693878,-4.387755102040817,-4.183673469387756,-3.9795918367346936,-3.775510204081632,-3.571428571428572,-3.36734693877551,-3.163265306122449,-2.959183673469388,-2.7551020408163263,-2.551020408163265,-2.3469387755102034,-2.1428571428571432,-1.9387755102040813,-1.734693877551021,-1.5306122448979593,-1.326530612244898,-1.122448979591837,-0.9183673469387754,-0.714285714285714,-0.510204081632653,-0.3061224489795915,-0.1020408163265305,0.1020408163265305,0.3061224489795924,0.5102040816326525,0.7142857142857135,0.9183673469387754,1.122448979591837,1.3265306122448983,1.5306122448979584,1.7346938775510203,1.9387755102040813,2.1428571428571432,2.3469387755102042,2.5510204081632644,2.7551020408163263,2.959183673469388,3.163265306122449,3.36734693877551,3.571428571428571,3.775510204081632,3.9795918367346936,4.183673469387756,4.387755102040817,4.591836734693878,4.795918367346939,5.0]},{&quot;y&quot;:[0.28366218546322625,0.08343228788037427,-0.12026046329736924,-0.3189618090104836,-0.5044246582730546,-0.6689513833368359,-0.8057133094067667,-0.9090341385007685,-0.9746255439584459,-0.9997651572585272,-0.9834095598096975,-0.9262375899952867,-0.8306221680147594,-0.7005318079307659,-0.5413659046600985,-0.3597306323150515,-0.1631647552251035,0.04017326815910727,0.24184390174019046,0.4334768143643176,0.6071182900632608,0.7555613467006967,0.8726448614622705,0.9535092879985406,0.9947983516915619,0.9947983516915619,0.9535092879985403,0.8726448614622707,0.7555613467006971,0.6071182900632608,0.4334768143643176,0.24184390174019024,0.040173268159108155,-0.16316475522510288,-0.3597306323150515,-0.5413659046600985,-0.7005318079307664,-0.8306221680147592,-0.9262375899952867,-0.9834095598096975,-0.9997651572585272,-0.9746255439584459,-0.9090341385007689,-0.8057133094067667,-0.6689513833368359,-0.5044246582730546,-0.3189618090104836,-0.12026046329736924,0.08343228788037427,0.28366218546322625],&quot;type&quot;:&quot;bar&quot;,&quot;x&quot;:[-5.0,-4.795918367346939,-4.591836734693878,-4.387755102040817,-4.183673469387756,-3.9795918367346936,-3.775510204081632,-3.571428571428572,-3.36734693877551,-3.163265306122449,-2.959183673469388,-2.7551020408163263,-2.551020408163265,-2.3469387755102034,-2.1428571428571432,-1.9387755102040813,-1.734693877551021,-1.5306122448979593,-1.326530612244898,-1.122448979591837,-0.9183673469387754,-0.714285714285714,-0.510204081632653,-0.3061224489795915,-0.1020408163265305,0.1020408163265305,0.3061224489795924,0.5102040816326525,0.7142857142857135,0.9183673469387754,1.122448979591837,1.3265306122448983,1.5306122448979584,1.7346938775510203,1.9387755102040813,2.1428571428571432,2.3469387755102042,2.5510204081632644,2.7551020408163263,2.959183673469388,3.163265306122449,3.36734693877551,3.571428571428571,3.775510204081632,3.9795918367346936,4.183673469387756,4.387755102040817,4.591836734693878,4.795918367346939,5.0]}],{&quot;margin&quot;:{&quot;l&quot;:50,&quot;b&quot;:50,&quot;r&quot;:50,&quot;t&quot;:60}},{}); gd.on(&quot;plotly_hover&quot;,(function (data){var filtered_data=WebIO.PlotlyCommands.filterEventData(gd,data,&quot;hover&quot;); return !(filtered_data.isnil) ? (WebIO.setval({&quot;name&quot;:&quot;hover&quot;,&quot;scope&quot;:&quot;scope-cbbb5dfe-831d-4dc9-94bb-d4ad337bdfee&quot;,&quot;id&quot;:&quot;ob_61&quot;,&quot;type&quot;:&quot;observable&quot;},filtered_data.out)) : undefined})); gd.on(&quot;plotly_unhover&quot;,(function (){return WebIO.setval({&quot;name&quot;:&quot;hover&quot;,&quot;scope&quot;:&quot;scope-cbbb5dfe-831d-4dc9-94bb-d4ad337bdfee&quot;,&quot;id&quot;:&quot;ob_61&quot;,&quot;type&quot;:&quot;observable&quot;},{})})); gd.on(&quot;plotly_selected&quot;,(function (data){var filtered_data=WebIO.PlotlyCommands.filterEventData(gd,data,&quot;selected&quot;); return !(filtered_data.isnil) ? (WebIO.setval({&quot;name&quot;:&quot;selected&quot;,&quot;scope&quot;:&quot;scope-cbbb5dfe-831d-4dc9-94bb-d4ad337bdfee&quot;,&quot;id&quot;:&quot;ob_62&quot;,&quot;type&quot;:&quot;observable&quot;},filtered_data.out)) : undefined})); gd.on(&quot;plotly_deselect&quot;,(function (){return WebIO.setval({&quot;name&quot;:&quot;selected&quot;,&quot;scope&quot;:&quot;scope-cbbb5dfe-831d-4dc9-94bb-d4ad337bdfee&quot;,&quot;id&quot;:&quot;ob_62&quot;,&quot;type&quot;:&quot;observable&quot;},{})})); gd.on(&quot;plotly_relayout&quot;,(function (data){var filtered_data=WebIO.PlotlyCommands.filterEventData(gd,data,&quot;relayout&quot;); return !(filtered_data.isnil) ? (WebIO.setval({&quot;name&quot;:&quot;relayout&quot;,&quot;scope&quot;:&quot;scope-cbbb5dfe-831d-4dc9-94bb-d4ad337bdfee&quot;,&quot;id&quot;:&quot;ob_64&quot;,&quot;type&quot;:&quot;observable&quot;},filtered_data.out)) : undefined})); return gd.on(&quot;plotly_click&quot;,(function (data){var filtered_data=WebIO.PlotlyCommands.filterEventData(gd,data,&quot;click&quot;); return !(filtered_data.isnil) ? (WebIO.setval({&quot;name&quot;:&quot;click&quot;,&quot;scope&quot;:&quot;scope-cbbb5dfe-831d-4dc9-94bb-d4ad337bdfee&quot;,&quot;id&quot;:&quot;ob_63&quot;,&quot;type&quot;:&quot;observable&quot;},filtered_data.out)) : undefined}))})]},&quot;_downloadImage&quot;:[(function (options){return this.Plotly.downloadImage(this.plotElem,options)})],&quot;_commands&quot;:[(function (args){var fn=args.shift(); var elem=this.plotElem; var Plotly=this.Plotly; args.unshift(elem); return Plotly[fn].apply(this,args)})]},&quot;systemjs_options&quot;:null,&quot;observables&quot;:{&quot;_toImage&quot;:{&quot;sync&quot;:false,&quot;id&quot;:&quot;ob_68&quot;,&quot;value&quot;:{}},&quot;hover&quot;:{&quot;sync&quot;:false,&quot;id&quot;:&quot;ob_61&quot;,&quot;value&quot;:{}},&quot;selected&quot;:{&quot;sync&quot;:false,&quot;id&quot;:&quot;ob_62&quot;,&quot;value&quot;:{}},&quot;__gd_contents&quot;:{&quot;sync&quot;:false,&quot;id&quot;:&quot;ob_66&quot;,&quot;value&quot;:{}},&quot;click&quot;:{&quot;sync&quot;:false,&quot;id&quot;:&quot;ob_63&quot;,&quot;value&quot;:{}},&quot;image&quot;:{&quot;sync&quot;:true,&quot;id&quot;:&quot;ob_65&quot;,&quot;value&quot;:&quot;&quot;},&quot;__get_gd_contents&quot;:{&quot;sync&quot;:false,&quot;id&quot;:&quot;ob_70&quot;,&quot;value&quot;:&quot;&quot;},&quot;_downloadImage&quot;:{&quot;sync&quot;:false,&quot;id&quot;:&quot;ob_69&quot;,&quot;value&quot;:{}},&quot;relayout&quot;:{&quot;sync&quot;:false,&quot;id&quot;:&quot;ob_64&quot;,&quot;value&quot;:{}},&quot;_commands&quot;:{&quot;sync&quot;:false,&quot;id&quot;:&quot;ob_67&quot;,&quot;value&quot;:[]}}},&quot;children&quot;:[{&quot;props&quot;:{&quot;id&quot;:&quot;plot-958d1005-6d8a-4652-858a-f0dadfcec0a8&quot;},&quot;nodeType&quot;:&quot;DOM&quot;,&quot;type&quot;:&quot;node&quot;,&quot;instanceArgs&quot;:{&quot;namespace&quot;:&quot;html&quot;,&quot;tag&quot;:&quot;div&quot;},&quot;children&quot;:[]}]})</unsafe-script>"
      ],
      "text/plain": [
       "data: [\n",
       "  \"bar with fields type, x, and y\",\n",
       "  \"bar with fields type, x, and y\"\n",
       "]\n",
       "\n",
       "layout: \"layout with field margin\"\n",
       "\n"
      ]
     },
     "execution_count": 18,
     "metadata": {},
     "output_type": "execute_result"
    }
   ],
   "source": [
    "# columns become traces\n",
    "plot(x, [y1 y2], kind = \"bar\")"
   ]
  },
  {
   "cell_type": "code",
   "execution_count": 19,
   "metadata": {},
   "outputs": [
    {
     "data": {
      "application/vnd.plotly.v1+json": {
       "data": [
        {
         "type": "bar",
         "x": [
          -5,
          -4.795918367346939,
          -4.591836734693878,
          -4.387755102040817,
          -4.183673469387756,
          -3.9795918367346936,
          -3.775510204081632,
          -3.571428571428572,
          -3.36734693877551,
          -3.163265306122449,
          -2.959183673469388,
          -2.7551020408163263,
          -2.551020408163265,
          -2.3469387755102034,
          -2.1428571428571432,
          -1.9387755102040813,
          -1.734693877551021,
          -1.5306122448979593,
          -1.326530612244898,
          -1.122448979591837,
          -0.9183673469387754,
          -0.714285714285714,
          -0.510204081632653,
          -0.3061224489795915,
          -0.1020408163265305,
          0.1020408163265305,
          0.3061224489795924,
          0.5102040816326525,
          0.7142857142857135,
          0.9183673469387754,
          1.122448979591837,
          1.3265306122448983,
          1.5306122448979584,
          1.7346938775510203,
          1.9387755102040813,
          2.1428571428571432,
          2.3469387755102042,
          2.5510204081632644,
          2.7551020408163263,
          2.959183673469388,
          3.163265306122449,
          3.36734693877551,
          3.571428571428571,
          3.775510204081632,
          3.9795918367346936,
          4.183673469387756,
          4.387755102040817,
          4.591836734693878,
          4.795918367346939,
          5
         ],
         "y": [
          0.9589242746631385,
          0.9965134486493629,
          0.9927423739155603,
          0.947767568759746,
          0.8634557105758882,
          0.7433061594872825,
          0.5923057175520053,
          0.4167216517535003,
          0.22384157134836102,
          0.02167095595104761,
          -0.1813991115603852,
          -0.37694021658576476,
          -0.5568364337958327,
          -0.7136211782712538,
          -0.8407871057952501,
          -0.9330561999012777,
          -0.9865988357241925,
          -0.9991927284190055,
          -0.9703151689997849,
          -0.901164719354105,
          -0.7946114659823771,
          -0.6550778971785184,
          -0.488355347839557,
          -0.3013636303546202,
          -0.10186382808314005,
          0.10186382808314005,
          0.30136363035462105,
          0.4883553478395566,
          0.655077897178518,
          0.7946114659823771,
          0.901164719354105,
          0.970315168999785,
          0.9991927284190054,
          0.9865988357241925,
          0.9330561999012777,
          0.8407871057952501,
          0.7136211782712533,
          0.556836433795833,
          0.37694021658576476,
          0.1813991115603852,
          -0.02167095595104761,
          -0.22384157134836102,
          -0.41672165175349946,
          -0.5923057175520053,
          -0.7433061594872825,
          -0.8634557105758882,
          -0.947767568759746,
          -0.9927423739155603,
          -0.9965134486493629,
          -0.9589242746631385
         ]
        },
        {
         "type": "bar",
         "x": [
          -5,
          -4.795918367346939,
          -4.591836734693878,
          -4.387755102040817,
          -4.183673469387756,
          -3.9795918367346936,
          -3.775510204081632,
          -3.571428571428572,
          -3.36734693877551,
          -3.163265306122449,
          -2.959183673469388,
          -2.7551020408163263,
          -2.551020408163265,
          -2.3469387755102034,
          -2.1428571428571432,
          -1.9387755102040813,
          -1.734693877551021,
          -1.5306122448979593,
          -1.326530612244898,
          -1.122448979591837,
          -0.9183673469387754,
          -0.714285714285714,
          -0.510204081632653,
          -0.3061224489795915,
          -0.1020408163265305,
          0.1020408163265305,
          0.3061224489795924,
          0.5102040816326525,
          0.7142857142857135,
          0.9183673469387754,
          1.122448979591837,
          1.3265306122448983,
          1.5306122448979584,
          1.7346938775510203,
          1.9387755102040813,
          2.1428571428571432,
          2.3469387755102042,
          2.5510204081632644,
          2.7551020408163263,
          2.959183673469388,
          3.163265306122449,
          3.36734693877551,
          3.571428571428571,
          3.775510204081632,
          3.9795918367346936,
          4.183673469387756,
          4.387755102040817,
          4.591836734693878,
          4.795918367346939,
          5
         ],
         "y": [
          0.28366218546322625,
          0.08343228788037427,
          -0.12026046329736924,
          -0.3189618090104836,
          -0.5044246582730546,
          -0.6689513833368359,
          -0.8057133094067667,
          -0.9090341385007685,
          -0.9746255439584459,
          -0.9997651572585272,
          -0.9834095598096975,
          -0.9262375899952867,
          -0.8306221680147594,
          -0.7005318079307659,
          -0.5413659046600985,
          -0.3597306323150515,
          -0.1631647552251035,
          0.04017326815910727,
          0.24184390174019046,
          0.4334768143643176,
          0.6071182900632608,
          0.7555613467006967,
          0.8726448614622705,
          0.9535092879985406,
          0.9947983516915619,
          0.9947983516915619,
          0.9535092879985403,
          0.8726448614622707,
          0.7555613467006971,
          0.6071182900632608,
          0.4334768143643176,
          0.24184390174019024,
          0.040173268159108155,
          -0.16316475522510288,
          -0.3597306323150515,
          -0.5413659046600985,
          -0.7005318079307664,
          -0.8306221680147592,
          -0.9262375899952867,
          -0.9834095598096975,
          -0.9997651572585272,
          -0.9746255439584459,
          -0.9090341385007689,
          -0.8057133094067667,
          -0.6689513833368359,
          -0.5044246582730546,
          -0.3189618090104836,
          -0.12026046329736924,
          0.08343228788037427,
          0.28366218546322625
         ]
        }
       ],
       "layout": {
        "margin": {
         "b": 50,
         "l": 50,
         "r": 50,
         "t": 60
        },
        "title": "My sinusoids"
       }
      },
      "text/html": [
       "<div class='display:none'></div><unsafe-script style='display:none'>\n",
       "WebIO.mount(this.previousSibling,{&quot;props&quot;:{},&quot;nodeType&quot;:&quot;Scope&quot;,&quot;type&quot;:&quot;node&quot;,&quot;instanceArgs&quot;:{&quot;imports&quot;:{&quot;data&quot;:[{&quot;name&quot;:&quot;Plotly&quot;,&quot;type&quot;:&quot;js&quot;,&quot;url&quot;:&quot;/assetserver/5311f9888b884b50e52f4a90fad64eb841288be8-plotly-latest.min.js&quot;},{&quot;name&quot;:null,&quot;type&quot;:&quot;js&quot;,&quot;url&quot;:&quot;/assetserver/5c351a91169f2a19a186af98699dd36a27fe8939-plotly_webio.bundle.js&quot;}],&quot;type&quot;:&quot;async_block&quot;},&quot;id&quot;:&quot;scope-eae14881-1266-471b-8bd5-347023447867&quot;,&quot;handlers&quot;:{&quot;_toImage&quot;:[(function (options){return this.Plotly.toImage(this.plotElem,options).then((function (data){return WebIO.setval({&quot;name&quot;:&quot;image&quot;,&quot;scope&quot;:&quot;scope-eae14881-1266-471b-8bd5-347023447867&quot;,&quot;id&quot;:&quot;ob_75&quot;,&quot;type&quot;:&quot;observable&quot;},data)}))})],&quot;__get_gd_contents&quot;:[(function (prop){prop==&quot;data&quot; ? (WebIO.setval({&quot;name&quot;:&quot;__gd_contents&quot;,&quot;scope&quot;:&quot;scope-eae14881-1266-471b-8bd5-347023447867&quot;,&quot;id&quot;:&quot;ob_76&quot;,&quot;type&quot;:&quot;observable&quot;},this.plotElem.data)) : undefined; return prop==&quot;layout&quot; ? (WebIO.setval({&quot;name&quot;:&quot;__gd_contents&quot;,&quot;scope&quot;:&quot;scope-eae14881-1266-471b-8bd5-347023447867&quot;,&quot;id&quot;:&quot;ob_76&quot;,&quot;type&quot;:&quot;observable&quot;},this.plotElem.layout)) : undefined})],&quot;_promises&quot;:{&quot;importsLoaded&quot;:[(function (Plotly){var gd=this.dom.querySelector(&quot;#plot-6e8767ca-f5ff-46bf-a494-cbe2c28c8285&quot;); this.plotElem=gd; this.Plotly=Plotly; (window.Blink!==undefined) ? (gd.style.width=&quot;100%&quot;, gd.style.height=&quot;100vh&quot;, gd.style.marginLeft=&quot;0%&quot;, gd.style.marginTop=&quot;0vh&quot;) : undefined; window.onresize=(function (){return Plotly.Plots.resize(gd)}); Plotly.newPlot(gd,[{&quot;y&quot;:[0.9589242746631385,0.9965134486493629,0.9927423739155603,0.947767568759746,0.8634557105758882,0.7433061594872825,0.5923057175520053,0.4167216517535003,0.22384157134836102,0.02167095595104761,-0.1813991115603852,-0.37694021658576476,-0.5568364337958327,-0.7136211782712538,-0.8407871057952501,-0.9330561999012777,-0.9865988357241925,-0.9991927284190055,-0.9703151689997849,-0.901164719354105,-0.7946114659823771,-0.6550778971785184,-0.488355347839557,-0.3013636303546202,-0.10186382808314005,0.10186382808314005,0.30136363035462105,0.4883553478395566,0.655077897178518,0.7946114659823771,0.901164719354105,0.970315168999785,0.9991927284190054,0.9865988357241925,0.9330561999012777,0.8407871057952501,0.7136211782712533,0.556836433795833,0.37694021658576476,0.1813991115603852,-0.02167095595104761,-0.22384157134836102,-0.41672165175349946,-0.5923057175520053,-0.7433061594872825,-0.8634557105758882,-0.947767568759746,-0.9927423739155603,-0.9965134486493629,-0.9589242746631385],&quot;type&quot;:&quot;bar&quot;,&quot;x&quot;:[-5.0,-4.795918367346939,-4.591836734693878,-4.387755102040817,-4.183673469387756,-3.9795918367346936,-3.775510204081632,-3.571428571428572,-3.36734693877551,-3.163265306122449,-2.959183673469388,-2.7551020408163263,-2.551020408163265,-2.3469387755102034,-2.1428571428571432,-1.9387755102040813,-1.734693877551021,-1.5306122448979593,-1.326530612244898,-1.122448979591837,-0.9183673469387754,-0.714285714285714,-0.510204081632653,-0.3061224489795915,-0.1020408163265305,0.1020408163265305,0.3061224489795924,0.5102040816326525,0.7142857142857135,0.9183673469387754,1.122448979591837,1.3265306122448983,1.5306122448979584,1.7346938775510203,1.9387755102040813,2.1428571428571432,2.3469387755102042,2.5510204081632644,2.7551020408163263,2.959183673469388,3.163265306122449,3.36734693877551,3.571428571428571,3.775510204081632,3.9795918367346936,4.183673469387756,4.387755102040817,4.591836734693878,4.795918367346939,5.0]},{&quot;y&quot;:[0.28366218546322625,0.08343228788037427,-0.12026046329736924,-0.3189618090104836,-0.5044246582730546,-0.6689513833368359,-0.8057133094067667,-0.9090341385007685,-0.9746255439584459,-0.9997651572585272,-0.9834095598096975,-0.9262375899952867,-0.8306221680147594,-0.7005318079307659,-0.5413659046600985,-0.3597306323150515,-0.1631647552251035,0.04017326815910727,0.24184390174019046,0.4334768143643176,0.6071182900632608,0.7555613467006967,0.8726448614622705,0.9535092879985406,0.9947983516915619,0.9947983516915619,0.9535092879985403,0.8726448614622707,0.7555613467006971,0.6071182900632608,0.4334768143643176,0.24184390174019024,0.040173268159108155,-0.16316475522510288,-0.3597306323150515,-0.5413659046600985,-0.7005318079307664,-0.8306221680147592,-0.9262375899952867,-0.9834095598096975,-0.9997651572585272,-0.9746255439584459,-0.9090341385007689,-0.8057133094067667,-0.6689513833368359,-0.5044246582730546,-0.3189618090104836,-0.12026046329736924,0.08343228788037427,0.28366218546322625],&quot;type&quot;:&quot;bar&quot;,&quot;x&quot;:[-5.0,-4.795918367346939,-4.591836734693878,-4.387755102040817,-4.183673469387756,-3.9795918367346936,-3.775510204081632,-3.571428571428572,-3.36734693877551,-3.163265306122449,-2.959183673469388,-2.7551020408163263,-2.551020408163265,-2.3469387755102034,-2.1428571428571432,-1.9387755102040813,-1.734693877551021,-1.5306122448979593,-1.326530612244898,-1.122448979591837,-0.9183673469387754,-0.714285714285714,-0.510204081632653,-0.3061224489795915,-0.1020408163265305,0.1020408163265305,0.3061224489795924,0.5102040816326525,0.7142857142857135,0.9183673469387754,1.122448979591837,1.3265306122448983,1.5306122448979584,1.7346938775510203,1.9387755102040813,2.1428571428571432,2.3469387755102042,2.5510204081632644,2.7551020408163263,2.959183673469388,3.163265306122449,3.36734693877551,3.571428571428571,3.775510204081632,3.9795918367346936,4.183673469387756,4.387755102040817,4.591836734693878,4.795918367346939,5.0]}],{&quot;margin&quot;:{&quot;l&quot;:50,&quot;b&quot;:50,&quot;r&quot;:50,&quot;t&quot;:60},&quot;title&quot;:&quot;My sinusoids&quot;},{}); gd.on(&quot;plotly_hover&quot;,(function (data){var filtered_data=WebIO.PlotlyCommands.filterEventData(gd,data,&quot;hover&quot;); return !(filtered_data.isnil) ? (WebIO.setval({&quot;name&quot;:&quot;hover&quot;,&quot;scope&quot;:&quot;scope-eae14881-1266-471b-8bd5-347023447867&quot;,&quot;id&quot;:&quot;ob_71&quot;,&quot;type&quot;:&quot;observable&quot;},filtered_data.out)) : undefined})); gd.on(&quot;plotly_unhover&quot;,(function (){return WebIO.setval({&quot;name&quot;:&quot;hover&quot;,&quot;scope&quot;:&quot;scope-eae14881-1266-471b-8bd5-347023447867&quot;,&quot;id&quot;:&quot;ob_71&quot;,&quot;type&quot;:&quot;observable&quot;},{})})); gd.on(&quot;plotly_selected&quot;,(function (data){var filtered_data=WebIO.PlotlyCommands.filterEventData(gd,data,&quot;selected&quot;); return !(filtered_data.isnil) ? (WebIO.setval({&quot;name&quot;:&quot;selected&quot;,&quot;scope&quot;:&quot;scope-eae14881-1266-471b-8bd5-347023447867&quot;,&quot;id&quot;:&quot;ob_72&quot;,&quot;type&quot;:&quot;observable&quot;},filtered_data.out)) : undefined})); gd.on(&quot;plotly_deselect&quot;,(function (){return WebIO.setval({&quot;name&quot;:&quot;selected&quot;,&quot;scope&quot;:&quot;scope-eae14881-1266-471b-8bd5-347023447867&quot;,&quot;id&quot;:&quot;ob_72&quot;,&quot;type&quot;:&quot;observable&quot;},{})})); gd.on(&quot;plotly_relayout&quot;,(function (data){var filtered_data=WebIO.PlotlyCommands.filterEventData(gd,data,&quot;relayout&quot;); return !(filtered_data.isnil) ? (WebIO.setval({&quot;name&quot;:&quot;relayout&quot;,&quot;scope&quot;:&quot;scope-eae14881-1266-471b-8bd5-347023447867&quot;,&quot;id&quot;:&quot;ob_74&quot;,&quot;type&quot;:&quot;observable&quot;},filtered_data.out)) : undefined})); return gd.on(&quot;plotly_click&quot;,(function (data){var filtered_data=WebIO.PlotlyCommands.filterEventData(gd,data,&quot;click&quot;); return !(filtered_data.isnil) ? (WebIO.setval({&quot;name&quot;:&quot;click&quot;,&quot;scope&quot;:&quot;scope-eae14881-1266-471b-8bd5-347023447867&quot;,&quot;id&quot;:&quot;ob_73&quot;,&quot;type&quot;:&quot;observable&quot;},filtered_data.out)) : undefined}))})]},&quot;_downloadImage&quot;:[(function (options){return this.Plotly.downloadImage(this.plotElem,options)})],&quot;_commands&quot;:[(function (args){var fn=args.shift(); var elem=this.plotElem; var Plotly=this.Plotly; args.unshift(elem); return Plotly[fn].apply(this,args)})]},&quot;systemjs_options&quot;:null,&quot;observables&quot;:{&quot;_toImage&quot;:{&quot;sync&quot;:false,&quot;id&quot;:&quot;ob_78&quot;,&quot;value&quot;:{}},&quot;hover&quot;:{&quot;sync&quot;:false,&quot;id&quot;:&quot;ob_71&quot;,&quot;value&quot;:{}},&quot;selected&quot;:{&quot;sync&quot;:false,&quot;id&quot;:&quot;ob_72&quot;,&quot;value&quot;:{}},&quot;__gd_contents&quot;:{&quot;sync&quot;:false,&quot;id&quot;:&quot;ob_76&quot;,&quot;value&quot;:{}},&quot;click&quot;:{&quot;sync&quot;:false,&quot;id&quot;:&quot;ob_73&quot;,&quot;value&quot;:{}},&quot;image&quot;:{&quot;sync&quot;:true,&quot;id&quot;:&quot;ob_75&quot;,&quot;value&quot;:&quot;&quot;},&quot;__get_gd_contents&quot;:{&quot;sync&quot;:false,&quot;id&quot;:&quot;ob_80&quot;,&quot;value&quot;:&quot;&quot;},&quot;_downloadImage&quot;:{&quot;sync&quot;:false,&quot;id&quot;:&quot;ob_79&quot;,&quot;value&quot;:{}},&quot;relayout&quot;:{&quot;sync&quot;:false,&quot;id&quot;:&quot;ob_74&quot;,&quot;value&quot;:{}},&quot;_commands&quot;:{&quot;sync&quot;:false,&quot;id&quot;:&quot;ob_77&quot;,&quot;value&quot;:[]}}},&quot;children&quot;:[{&quot;props&quot;:{&quot;id&quot;:&quot;plot-6e8767ca-f5ff-46bf-a494-cbe2c28c8285&quot;},&quot;nodeType&quot;:&quot;DOM&quot;,&quot;type&quot;:&quot;node&quot;,&quot;instanceArgs&quot;:{&quot;namespace&quot;:&quot;html&quot;,&quot;tag&quot;:&quot;div&quot;},&quot;children&quot;:[]}]})</unsafe-script>"
      ],
      "text/plain": [
       "data: [\n",
       "  \"bar with fields type, x, and y\",\n",
       "  \"bar with fields type, x, and y\"\n",
       "]\n",
       "\n",
       "layout: \"layout with fields margin and title\"\n",
       "\n"
      ]
     },
     "execution_count": 19,
     "metadata": {},
     "output_type": "execute_result"
    }
   ],
   "source": [
    "plot(x, [y1 y2], kind = \"bar\", Layout(title = \"My sinusoids\"))"
   ]
  },
  {
   "cell_type": "markdown",
   "metadata": {},
   "source": [
    "### Sub Plots"
   ]
  },
  {
   "cell_type": "markdown",
   "metadata": {},
   "source": [
    "* Declarative APIs for subplots can be verbose\n",
    "* PlotlyJS.jl tries to make this easier for you\n",
    "* Suppose you have to create 4 plots using plot:\n",
    "    * p1 = plot(...)\n",
    "    * p2 = plot(...)\n",
    "    * p3 = plot(...)\n",
    "    * p4 = plot(...)\n",
    "* You can combine them into subplots using familiar (h | v | hv) cat syntax :\n",
    "\n",
    "* [p1 p2] # 1 row 2 cols\n",
    "* [p1 p2 p3] # 1 row 3 cols\n",
    "* [p1, p2] # 2 rows 1 col\n",
    "* [p1 p2; p3 p4] # 2 rows 2 cols"
   ]
  },
  {
   "cell_type": "markdown",
   "metadata": {},
   "source": [
    "### Example"
   ]
  },
  {
   "cell_type": "code",
   "execution_count": 20,
   "metadata": {},
   "outputs": [],
   "source": [
    "rand_plot(n) = plot(scatter(x = collect(1:n),y=randn(n)))\n",
    "p1, p2, p3, p4 = [rand_plot(i) for i in [10, 20, 30, 40]];"
   ]
  },
  {
   "cell_type": "code",
   "execution_count": 21,
   "metadata": {},
   "outputs": [
    {
     "data": {
      "application/vnd.plotly.v1+json": {
       "data": [
        {
         "type": "scatter",
         "x": [
          1,
          2,
          3,
          4,
          5,
          6,
          7,
          8,
          9,
          10
         ],
         "xaxis": "x1",
         "y": [
          0.47728875298280465,
          -0.522242855420051,
          0.8590272750011863,
          -0.7613842192760777,
          0.11338723919739116,
          -0.20571164781109244,
          -1.8092926981887982,
          0.013898903484607674,
          -0.8230838544406177,
          -0.848291042259586
         ],
         "yaxis": "y1"
        },
        {
         "type": "scatter",
         "x": [
          1,
          2,
          3,
          4,
          5,
          6,
          7,
          8,
          9,
          10,
          11,
          12,
          13,
          14,
          15,
          16,
          17,
          18,
          19,
          20
         ],
         "xaxis": "x2",
         "y": [
          -0.10039598710522671,
          0.034857555042845025,
          1.0009260975565235,
          -0.10458367286529018,
          -0.06157360730441986,
          -0.10603323139611573,
          -0.7143859522621886,
          1.9047671029509847,
          -0.2647689540032453,
          0.03910370909960708,
          -1.225274480112844,
          -0.9996101693846989,
          0.08010069218322051,
          -0.5387134310330811,
          2.3834052048748857,
          0.25508771766116994,
          -0.05347296716567247,
          -0.19536028392197918,
          -0.5783454183645768,
          0.30577699818813564
         ],
         "yaxis": "y2"
        }
       ],
       "layout": {
        "margin": {
         "b": 50,
         "l": 50,
         "r": 50,
         "t": 60
        },
        "xaxis1": {
         "anchor": "y1",
         "domain": [
          0,
          0.45
         ]
        },
        "xaxis2": {
         "anchor": "y2",
         "domain": [
          0.55,
          1
         ]
        },
        "yaxis1": {
         "anchor": "x1",
         "domain": [
          0,
          1
         ]
        },
        "yaxis2": {
         "anchor": "x2",
         "domain": [
          0,
          1
         ]
        }
       }
      },
      "text/html": [
       "<div class='display:none'></div><unsafe-script style='display:none'>\n",
       "WebIO.mount(this.previousSibling,{&quot;props&quot;:{},&quot;nodeType&quot;:&quot;Scope&quot;,&quot;type&quot;:&quot;node&quot;,&quot;instanceArgs&quot;:{&quot;imports&quot;:{&quot;data&quot;:[{&quot;name&quot;:&quot;Plotly&quot;,&quot;type&quot;:&quot;js&quot;,&quot;url&quot;:&quot;/assetserver/5311f9888b884b50e52f4a90fad64eb841288be8-plotly-latest.min.js&quot;},{&quot;name&quot;:null,&quot;type&quot;:&quot;js&quot;,&quot;url&quot;:&quot;/assetserver/5c351a91169f2a19a186af98699dd36a27fe8939-plotly_webio.bundle.js&quot;}],&quot;type&quot;:&quot;async_block&quot;},&quot;id&quot;:&quot;scope-6106f19c-0050-487b-b552-decc8a71500f&quot;,&quot;handlers&quot;:{&quot;_toImage&quot;:[(function (options){return this.Plotly.toImage(this.plotElem,options).then((function (data){return WebIO.setval({&quot;name&quot;:&quot;image&quot;,&quot;scope&quot;:&quot;scope-6106f19c-0050-487b-b552-decc8a71500f&quot;,&quot;id&quot;:&quot;ob_125&quot;,&quot;type&quot;:&quot;observable&quot;},data)}))})],&quot;__get_gd_contents&quot;:[(function (prop){prop==&quot;data&quot; ? (WebIO.setval({&quot;name&quot;:&quot;__gd_contents&quot;,&quot;scope&quot;:&quot;scope-6106f19c-0050-487b-b552-decc8a71500f&quot;,&quot;id&quot;:&quot;ob_126&quot;,&quot;type&quot;:&quot;observable&quot;},this.plotElem.data)) : undefined; return prop==&quot;layout&quot; ? (WebIO.setval({&quot;name&quot;:&quot;__gd_contents&quot;,&quot;scope&quot;:&quot;scope-6106f19c-0050-487b-b552-decc8a71500f&quot;,&quot;id&quot;:&quot;ob_126&quot;,&quot;type&quot;:&quot;observable&quot;},this.plotElem.layout)) : undefined})],&quot;_promises&quot;:{&quot;importsLoaded&quot;:[(function (Plotly){var gd=this.dom.querySelector(&quot;#plot-a42d1d5c-1c38-46ed-9c1f-c3742a115d1d&quot;); this.plotElem=gd; this.Plotly=Plotly; (window.Blink!==undefined) ? (gd.style.width=&quot;100%&quot;, gd.style.height=&quot;100vh&quot;, gd.style.marginLeft=&quot;0%&quot;, gd.style.marginTop=&quot;0vh&quot;) : undefined; window.onresize=(function (){return Plotly.Plots.resize(gd)}); Plotly.newPlot(gd,[{&quot;xaxis&quot;:&quot;x1&quot;,&quot;y&quot;:[0.47728875298280465,-0.522242855420051,0.8590272750011863,-0.7613842192760777,0.11338723919739116,-0.20571164781109244,-1.8092926981887982,0.013898903484607674,-0.8230838544406177,-0.848291042259586],&quot;type&quot;:&quot;scatter&quot;,&quot;yaxis&quot;:&quot;y1&quot;,&quot;x&quot;:[1,2,3,4,5,6,7,8,9,10]},{&quot;xaxis&quot;:&quot;x2&quot;,&quot;y&quot;:[-0.10039598710522671,0.034857555042845025,1.0009260975565235,-0.10458367286529018,-0.06157360730441986,-0.10603323139611573,-0.7143859522621886,1.9047671029509847,-0.2647689540032453,0.03910370909960708,-1.225274480112844,-0.9996101693846989,0.08010069218322051,-0.5387134310330811,2.3834052048748857,0.25508771766116994,-0.05347296716567247,-0.19536028392197918,-0.5783454183645768,0.30577699818813564],&quot;type&quot;:&quot;scatter&quot;,&quot;yaxis&quot;:&quot;y2&quot;,&quot;x&quot;:[1,2,3,4,5,6,7,8,9,10,11,12,13,14,15,16,17,18,19,20]}],{&quot;xaxis1&quot;:{&quot;domain&quot;:[0.0,0.45],&quot;anchor&quot;:&quot;y1&quot;},&quot;yaxis1&quot;:{&quot;domain&quot;:[0.0,1.0],&quot;anchor&quot;:&quot;x1&quot;},&quot;xaxis2&quot;:{&quot;domain&quot;:[0.55,1.0],&quot;anchor&quot;:&quot;y2&quot;},&quot;margin&quot;:{&quot;l&quot;:50,&quot;b&quot;:50,&quot;r&quot;:50,&quot;t&quot;:60},&quot;yaxis2&quot;:{&quot;domain&quot;:[0.0,1.0],&quot;anchor&quot;:&quot;x2&quot;}},{&quot;showLink&quot;:false}); gd.on(&quot;plotly_hover&quot;,(function (data){var filtered_data=WebIO.PlotlyCommands.filterEventData(gd,data,&quot;hover&quot;); return !(filtered_data.isnil) ? (WebIO.setval({&quot;name&quot;:&quot;hover&quot;,&quot;scope&quot;:&quot;scope-6106f19c-0050-487b-b552-decc8a71500f&quot;,&quot;id&quot;:&quot;ob_121&quot;,&quot;type&quot;:&quot;observable&quot;},filtered_data.out)) : undefined})); gd.on(&quot;plotly_unhover&quot;,(function (){return WebIO.setval({&quot;name&quot;:&quot;hover&quot;,&quot;scope&quot;:&quot;scope-6106f19c-0050-487b-b552-decc8a71500f&quot;,&quot;id&quot;:&quot;ob_121&quot;,&quot;type&quot;:&quot;observable&quot;},{})})); gd.on(&quot;plotly_selected&quot;,(function (data){var filtered_data=WebIO.PlotlyCommands.filterEventData(gd,data,&quot;selected&quot;); return !(filtered_data.isnil) ? (WebIO.setval({&quot;name&quot;:&quot;selected&quot;,&quot;scope&quot;:&quot;scope-6106f19c-0050-487b-b552-decc8a71500f&quot;,&quot;id&quot;:&quot;ob_122&quot;,&quot;type&quot;:&quot;observable&quot;},filtered_data.out)) : undefined})); gd.on(&quot;plotly_deselect&quot;,(function (){return WebIO.setval({&quot;name&quot;:&quot;selected&quot;,&quot;scope&quot;:&quot;scope-6106f19c-0050-487b-b552-decc8a71500f&quot;,&quot;id&quot;:&quot;ob_122&quot;,&quot;type&quot;:&quot;observable&quot;},{})})); gd.on(&quot;plotly_relayout&quot;,(function (data){var filtered_data=WebIO.PlotlyCommands.filterEventData(gd,data,&quot;relayout&quot;); return !(filtered_data.isnil) ? (WebIO.setval({&quot;name&quot;:&quot;relayout&quot;,&quot;scope&quot;:&quot;scope-6106f19c-0050-487b-b552-decc8a71500f&quot;,&quot;id&quot;:&quot;ob_124&quot;,&quot;type&quot;:&quot;observable&quot;},filtered_data.out)) : undefined})); return gd.on(&quot;plotly_click&quot;,(function (data){var filtered_data=WebIO.PlotlyCommands.filterEventData(gd,data,&quot;click&quot;); return !(filtered_data.isnil) ? (WebIO.setval({&quot;name&quot;:&quot;click&quot;,&quot;scope&quot;:&quot;scope-6106f19c-0050-487b-b552-decc8a71500f&quot;,&quot;id&quot;:&quot;ob_123&quot;,&quot;type&quot;:&quot;observable&quot;},filtered_data.out)) : undefined}))})]},&quot;_downloadImage&quot;:[(function (options){return this.Plotly.downloadImage(this.plotElem,options)})],&quot;_commands&quot;:[(function (args){var fn=args.shift(); var elem=this.plotElem; var Plotly=this.Plotly; args.unshift(elem); return Plotly[fn].apply(this,args)})]},&quot;systemjs_options&quot;:null,&quot;observables&quot;:{&quot;_toImage&quot;:{&quot;sync&quot;:false,&quot;id&quot;:&quot;ob_128&quot;,&quot;value&quot;:{}},&quot;hover&quot;:{&quot;sync&quot;:false,&quot;id&quot;:&quot;ob_121&quot;,&quot;value&quot;:{}},&quot;selected&quot;:{&quot;sync&quot;:false,&quot;id&quot;:&quot;ob_122&quot;,&quot;value&quot;:{}},&quot;__gd_contents&quot;:{&quot;sync&quot;:false,&quot;id&quot;:&quot;ob_126&quot;,&quot;value&quot;:{}},&quot;click&quot;:{&quot;sync&quot;:false,&quot;id&quot;:&quot;ob_123&quot;,&quot;value&quot;:{}},&quot;image&quot;:{&quot;sync&quot;:true,&quot;id&quot;:&quot;ob_125&quot;,&quot;value&quot;:&quot;&quot;},&quot;__get_gd_contents&quot;:{&quot;sync&quot;:false,&quot;id&quot;:&quot;ob_130&quot;,&quot;value&quot;:&quot;&quot;},&quot;_downloadImage&quot;:{&quot;sync&quot;:false,&quot;id&quot;:&quot;ob_129&quot;,&quot;value&quot;:{}},&quot;relayout&quot;:{&quot;sync&quot;:false,&quot;id&quot;:&quot;ob_124&quot;,&quot;value&quot;:{}},&quot;_commands&quot;:{&quot;sync&quot;:false,&quot;id&quot;:&quot;ob_127&quot;,&quot;value&quot;:[]}}},&quot;children&quot;:[{&quot;props&quot;:{&quot;id&quot;:&quot;plot-a42d1d5c-1c38-46ed-9c1f-c3742a115d1d&quot;},&quot;nodeType&quot;:&quot;DOM&quot;,&quot;type&quot;:&quot;node&quot;,&quot;instanceArgs&quot;:{&quot;namespace&quot;:&quot;html&quot;,&quot;tag&quot;:&quot;div&quot;},&quot;children&quot;:[]}]})</unsafe-script>"
      ],
      "text/plain": [
       "data: [\n",
       "  \"scatter with fields type, x, xaxis, y, and yaxis\",\n",
       "  \"scatter with fields type, x, xaxis, y, and yaxis\"\n",
       "]\n",
       "\n",
       "layout: \"layout with fields margin, xaxis1, xaxis2, yaxis1, and yaxis2\"\n",
       "\n"
      ]
     },
     "execution_count": 21,
     "metadata": {},
     "output_type": "execute_result"
    }
   ],
   "source": [
    "# 2 columns and 1 row\n",
    "[p1 p2]"
   ]
  },
  {
   "cell_type": "code",
   "execution_count": 22,
   "metadata": {},
   "outputs": [
    {
     "data": {
      "application/vnd.plotly.v1+json": {
       "data": [
        {
         "type": "scatter",
         "x": [
          1,
          2,
          3,
          4,
          5,
          6,
          7,
          8,
          9,
          10
         ],
         "xaxis": "x1",
         "y": [
          0.47728875298280465,
          -0.522242855420051,
          0.8590272750011863,
          -0.7613842192760777,
          0.11338723919739116,
          -0.20571164781109244,
          -1.8092926981887982,
          0.013898903484607674,
          -0.8230838544406177,
          -0.848291042259586
         ],
         "yaxis": "y1"
        },
        {
         "type": "scatter",
         "x": [
          1,
          2,
          3,
          4,
          5,
          6,
          7,
          8,
          9,
          10,
          11,
          12,
          13,
          14,
          15,
          16,
          17,
          18,
          19,
          20
         ],
         "xaxis": "x2",
         "y": [
          -0.10039598710522671,
          0.034857555042845025,
          1.0009260975565235,
          -0.10458367286529018,
          -0.06157360730441986,
          -0.10603323139611573,
          -0.7143859522621886,
          1.9047671029509847,
          -0.2647689540032453,
          0.03910370909960708,
          -1.225274480112844,
          -0.9996101693846989,
          0.08010069218322051,
          -0.5387134310330811,
          2.3834052048748857,
          0.25508771766116994,
          -0.05347296716567247,
          -0.19536028392197918,
          -0.5783454183645768,
          0.30577699818813564
         ],
         "yaxis": "y2"
        },
        {
         "type": "scatter",
         "x": [
          1,
          2,
          3,
          4,
          5,
          6,
          7,
          8,
          9,
          10,
          11,
          12,
          13,
          14,
          15,
          16,
          17,
          18,
          19,
          20,
          21,
          22,
          23,
          24,
          25,
          26,
          27,
          28,
          29,
          30
         ],
         "xaxis": "x3",
         "y": [
          1.0037496168806264,
          -0.45964824966867834,
          -0.6053571602671487,
          -0.9038036366904026,
          0.03589881139878636,
          -0.4528054783936706,
          -0.08796145921561582,
          0.6234852527943802,
          1.8937091899127214,
          0.5351648812873416,
          1.0505464882985611,
          1.7412081833551674,
          0.6003261977502891,
          0.4653640186782844,
          0.5819391249877967,
          -0.27152247616975256,
          -1.190490369769188,
          -1.379822230997554,
          -0.34704901215812534,
          -1.0746847931432064,
          -0.8251304585276383,
          0.31917490677661103,
          -0.7611955409685176,
          -0.6952935923115118,
          0.8432809701238753,
          0.9577212839309027,
          -1.4009271090098172,
          -0.1137602752167242,
          -0.4070119769685581,
          0.3382937105259588
         ],
         "yaxis": "y3"
        }
       ],
       "layout": {
        "margin": {
         "b": 50,
         "l": 50,
         "r": 50,
         "t": 60
        },
        "xaxis1": {
         "anchor": "y1",
         "domain": [
          0,
          0.2888888888888889
         ]
        },
        "xaxis2": {
         "anchor": "y2",
         "domain": [
          0.35555555555555557,
          0.6444444444444445
         ]
        },
        "xaxis3": {
         "anchor": "y3",
         "domain": [
          0.7111111111111111,
          1
         ]
        },
        "yaxis1": {
         "anchor": "x1",
         "domain": [
          0,
          1
         ]
        },
        "yaxis2": {
         "anchor": "x2",
         "domain": [
          0,
          1
         ]
        },
        "yaxis3": {
         "anchor": "x3",
         "domain": [
          0,
          1
         ]
        }
       }
      },
      "text/html": [
       "<div class='display:none'></div><unsafe-script style='display:none'>\n",
       "WebIO.mount(this.previousSibling,{&quot;props&quot;:{},&quot;nodeType&quot;:&quot;Scope&quot;,&quot;type&quot;:&quot;node&quot;,&quot;instanceArgs&quot;:{&quot;imports&quot;:{&quot;data&quot;:[{&quot;name&quot;:&quot;Plotly&quot;,&quot;type&quot;:&quot;js&quot;,&quot;url&quot;:&quot;/assetserver/5311f9888b884b50e52f4a90fad64eb841288be8-plotly-latest.min.js&quot;},{&quot;name&quot;:null,&quot;type&quot;:&quot;js&quot;,&quot;url&quot;:&quot;/assetserver/5c351a91169f2a19a186af98699dd36a27fe8939-plotly_webio.bundle.js&quot;}],&quot;type&quot;:&quot;async_block&quot;},&quot;id&quot;:&quot;scope-ba0b5f99-3871-4734-bb7e-7e93ea2da779&quot;,&quot;handlers&quot;:{&quot;_toImage&quot;:[(function (options){return this.Plotly.toImage(this.plotElem,options).then((function (data){return WebIO.setval({&quot;name&quot;:&quot;image&quot;,&quot;scope&quot;:&quot;scope-ba0b5f99-3871-4734-bb7e-7e93ea2da779&quot;,&quot;id&quot;:&quot;ob_135&quot;,&quot;type&quot;:&quot;observable&quot;},data)}))})],&quot;__get_gd_contents&quot;:[(function (prop){prop==&quot;data&quot; ? (WebIO.setval({&quot;name&quot;:&quot;__gd_contents&quot;,&quot;scope&quot;:&quot;scope-ba0b5f99-3871-4734-bb7e-7e93ea2da779&quot;,&quot;id&quot;:&quot;ob_136&quot;,&quot;type&quot;:&quot;observable&quot;},this.plotElem.data)) : undefined; return prop==&quot;layout&quot; ? (WebIO.setval({&quot;name&quot;:&quot;__gd_contents&quot;,&quot;scope&quot;:&quot;scope-ba0b5f99-3871-4734-bb7e-7e93ea2da779&quot;,&quot;id&quot;:&quot;ob_136&quot;,&quot;type&quot;:&quot;observable&quot;},this.plotElem.layout)) : undefined})],&quot;_promises&quot;:{&quot;importsLoaded&quot;:[(function (Plotly){var gd=this.dom.querySelector(&quot;#plot-71dc0e08-0226-40ff-bad2-fdbe9d1fa826&quot;); this.plotElem=gd; this.Plotly=Plotly; (window.Blink!==undefined) ? (gd.style.width=&quot;100%&quot;, gd.style.height=&quot;100vh&quot;, gd.style.marginLeft=&quot;0%&quot;, gd.style.marginTop=&quot;0vh&quot;) : undefined; window.onresize=(function (){return Plotly.Plots.resize(gd)}); Plotly.newPlot(gd,[{&quot;xaxis&quot;:&quot;x1&quot;,&quot;y&quot;:[0.47728875298280465,-0.522242855420051,0.8590272750011863,-0.7613842192760777,0.11338723919739116,-0.20571164781109244,-1.8092926981887982,0.013898903484607674,-0.8230838544406177,-0.848291042259586],&quot;type&quot;:&quot;scatter&quot;,&quot;yaxis&quot;:&quot;y1&quot;,&quot;x&quot;:[1,2,3,4,5,6,7,8,9,10]},{&quot;xaxis&quot;:&quot;x2&quot;,&quot;y&quot;:[-0.10039598710522671,0.034857555042845025,1.0009260975565235,-0.10458367286529018,-0.06157360730441986,-0.10603323139611573,-0.7143859522621886,1.9047671029509847,-0.2647689540032453,0.03910370909960708,-1.225274480112844,-0.9996101693846989,0.08010069218322051,-0.5387134310330811,2.3834052048748857,0.25508771766116994,-0.05347296716567247,-0.19536028392197918,-0.5783454183645768,0.30577699818813564],&quot;type&quot;:&quot;scatter&quot;,&quot;yaxis&quot;:&quot;y2&quot;,&quot;x&quot;:[1,2,3,4,5,6,7,8,9,10,11,12,13,14,15,16,17,18,19,20]},{&quot;xaxis&quot;:&quot;x3&quot;,&quot;y&quot;:[1.0037496168806264,-0.45964824966867834,-0.6053571602671487,-0.9038036366904026,0.03589881139878636,-0.4528054783936706,-0.08796145921561582,0.6234852527943802,1.8937091899127214,0.5351648812873416,1.0505464882985611,1.7412081833551674,0.6003261977502891,0.4653640186782844,0.5819391249877967,-0.27152247616975256,-1.190490369769188,-1.379822230997554,-0.34704901215812534,-1.0746847931432064,-0.8251304585276383,0.31917490677661103,-0.7611955409685176,-0.6952935923115118,0.8432809701238753,0.9577212839309027,-1.4009271090098172,-0.1137602752167242,-0.4070119769685581,0.3382937105259588],&quot;type&quot;:&quot;scatter&quot;,&quot;yaxis&quot;:&quot;y3&quot;,&quot;x&quot;:[1,2,3,4,5,6,7,8,9,10,11,12,13,14,15,16,17,18,19,20,21,22,23,24,25,26,27,28,29,30]}],{&quot;xaxis1&quot;:{&quot;domain&quot;:[0.0,0.2888888888888889],&quot;anchor&quot;:&quot;y1&quot;},&quot;yaxis1&quot;:{&quot;domain&quot;:[0.0,1.0],&quot;anchor&quot;:&quot;x1&quot;},&quot;xaxis2&quot;:{&quot;domain&quot;:[0.35555555555555557,0.6444444444444445],&quot;anchor&quot;:&quot;y2&quot;},&quot;yaxis3&quot;:{&quot;domain&quot;:[0.0,1.0],&quot;anchor&quot;:&quot;x3&quot;},&quot;margin&quot;:{&quot;l&quot;:50,&quot;b&quot;:50,&quot;r&quot;:50,&quot;t&quot;:60},&quot;yaxis2&quot;:{&quot;domain&quot;:[0.0,1.0],&quot;anchor&quot;:&quot;x2&quot;},&quot;xaxis3&quot;:{&quot;domain&quot;:[0.7111111111111111,1.0],&quot;anchor&quot;:&quot;y3&quot;}},{&quot;showLink&quot;:false}); gd.on(&quot;plotly_hover&quot;,(function (data){var filtered_data=WebIO.PlotlyCommands.filterEventData(gd,data,&quot;hover&quot;); return !(filtered_data.isnil) ? (WebIO.setval({&quot;name&quot;:&quot;hover&quot;,&quot;scope&quot;:&quot;scope-ba0b5f99-3871-4734-bb7e-7e93ea2da779&quot;,&quot;id&quot;:&quot;ob_131&quot;,&quot;type&quot;:&quot;observable&quot;},filtered_data.out)) : undefined})); gd.on(&quot;plotly_unhover&quot;,(function (){return WebIO.setval({&quot;name&quot;:&quot;hover&quot;,&quot;scope&quot;:&quot;scope-ba0b5f99-3871-4734-bb7e-7e93ea2da779&quot;,&quot;id&quot;:&quot;ob_131&quot;,&quot;type&quot;:&quot;observable&quot;},{})})); gd.on(&quot;plotly_selected&quot;,(function (data){var filtered_data=WebIO.PlotlyCommands.filterEventData(gd,data,&quot;selected&quot;); return !(filtered_data.isnil) ? (WebIO.setval({&quot;name&quot;:&quot;selected&quot;,&quot;scope&quot;:&quot;scope-ba0b5f99-3871-4734-bb7e-7e93ea2da779&quot;,&quot;id&quot;:&quot;ob_132&quot;,&quot;type&quot;:&quot;observable&quot;},filtered_data.out)) : undefined})); gd.on(&quot;plotly_deselect&quot;,(function (){return WebIO.setval({&quot;name&quot;:&quot;selected&quot;,&quot;scope&quot;:&quot;scope-ba0b5f99-3871-4734-bb7e-7e93ea2da779&quot;,&quot;id&quot;:&quot;ob_132&quot;,&quot;type&quot;:&quot;observable&quot;},{})})); gd.on(&quot;plotly_relayout&quot;,(function (data){var filtered_data=WebIO.PlotlyCommands.filterEventData(gd,data,&quot;relayout&quot;); return !(filtered_data.isnil) ? (WebIO.setval({&quot;name&quot;:&quot;relayout&quot;,&quot;scope&quot;:&quot;scope-ba0b5f99-3871-4734-bb7e-7e93ea2da779&quot;,&quot;id&quot;:&quot;ob_134&quot;,&quot;type&quot;:&quot;observable&quot;},filtered_data.out)) : undefined})); return gd.on(&quot;plotly_click&quot;,(function (data){var filtered_data=WebIO.PlotlyCommands.filterEventData(gd,data,&quot;click&quot;); return !(filtered_data.isnil) ? (WebIO.setval({&quot;name&quot;:&quot;click&quot;,&quot;scope&quot;:&quot;scope-ba0b5f99-3871-4734-bb7e-7e93ea2da779&quot;,&quot;id&quot;:&quot;ob_133&quot;,&quot;type&quot;:&quot;observable&quot;},filtered_data.out)) : undefined}))})]},&quot;_downloadImage&quot;:[(function (options){return this.Plotly.downloadImage(this.plotElem,options)})],&quot;_commands&quot;:[(function (args){var fn=args.shift(); var elem=this.plotElem; var Plotly=this.Plotly; args.unshift(elem); return Plotly[fn].apply(this,args)})]},&quot;systemjs_options&quot;:null,&quot;observables&quot;:{&quot;_toImage&quot;:{&quot;sync&quot;:false,&quot;id&quot;:&quot;ob_138&quot;,&quot;value&quot;:{}},&quot;hover&quot;:{&quot;sync&quot;:false,&quot;id&quot;:&quot;ob_131&quot;,&quot;value&quot;:{}},&quot;selected&quot;:{&quot;sync&quot;:false,&quot;id&quot;:&quot;ob_132&quot;,&quot;value&quot;:{}},&quot;__gd_contents&quot;:{&quot;sync&quot;:false,&quot;id&quot;:&quot;ob_136&quot;,&quot;value&quot;:{}},&quot;click&quot;:{&quot;sync&quot;:false,&quot;id&quot;:&quot;ob_133&quot;,&quot;value&quot;:{}},&quot;image&quot;:{&quot;sync&quot;:true,&quot;id&quot;:&quot;ob_135&quot;,&quot;value&quot;:&quot;&quot;},&quot;__get_gd_contents&quot;:{&quot;sync&quot;:false,&quot;id&quot;:&quot;ob_140&quot;,&quot;value&quot;:&quot;&quot;},&quot;_downloadImage&quot;:{&quot;sync&quot;:false,&quot;id&quot;:&quot;ob_139&quot;,&quot;value&quot;:{}},&quot;relayout&quot;:{&quot;sync&quot;:false,&quot;id&quot;:&quot;ob_134&quot;,&quot;value&quot;:{}},&quot;_commands&quot;:{&quot;sync&quot;:false,&quot;id&quot;:&quot;ob_137&quot;,&quot;value&quot;:[]}}},&quot;children&quot;:[{&quot;props&quot;:{&quot;id&quot;:&quot;plot-71dc0e08-0226-40ff-bad2-fdbe9d1fa826&quot;},&quot;nodeType&quot;:&quot;DOM&quot;,&quot;type&quot;:&quot;node&quot;,&quot;instanceArgs&quot;:{&quot;namespace&quot;:&quot;html&quot;,&quot;tag&quot;:&quot;div&quot;},&quot;children&quot;:[]}]})</unsafe-script>"
      ],
      "text/plain": [
       "data: [\n",
       "  \"scatter with fields type, x, xaxis, y, and yaxis\",\n",
       "  \"scatter with fields type, x, xaxis, y, and yaxis\",\n",
       "  \"scatter with fields type, x, xaxis, y, and yaxis\"\n",
       "]\n",
       "\n",
       "layout: \"layout with fields margin, xaxis1, xaxis2, xaxis3, yaxis1, yaxis2, and yaxis3\"\n",
       "\n"
      ]
     },
     "execution_count": 22,
     "metadata": {},
     "output_type": "execute_result"
    }
   ],
   "source": [
    "# 3 columns and 1 row\n",
    "[p1 p2 p3]"
   ]
  },
  {
   "cell_type": "code",
   "execution_count": 23,
   "metadata": {},
   "outputs": [
    {
     "data": {
      "application/vnd.plotly.v1+json": {
       "data": [
        {
         "type": "scatter",
         "x": [
          1,
          2,
          3,
          4,
          5,
          6,
          7,
          8,
          9,
          10
         ],
         "xaxis": "x1",
         "y": [
          0.47728875298280465,
          -0.522242855420051,
          0.8590272750011863,
          -0.7613842192760777,
          0.11338723919739116,
          -0.20571164781109244,
          -1.8092926981887982,
          0.013898903484607674,
          -0.8230838544406177,
          -0.848291042259586
         ],
         "yaxis": "y1"
        },
        {
         "type": "scatter",
         "x": [
          1,
          2,
          3,
          4,
          5,
          6,
          7,
          8,
          9,
          10,
          11,
          12,
          13,
          14,
          15,
          16,
          17,
          18,
          19,
          20
         ],
         "xaxis": "x2",
         "y": [
          -0.10039598710522671,
          0.034857555042845025,
          1.0009260975565235,
          -0.10458367286529018,
          -0.06157360730441986,
          -0.10603323139611573,
          -0.7143859522621886,
          1.9047671029509847,
          -0.2647689540032453,
          0.03910370909960708,
          -1.225274480112844,
          -0.9996101693846989,
          0.08010069218322051,
          -0.5387134310330811,
          2.3834052048748857,
          0.25508771766116994,
          -0.05347296716567247,
          -0.19536028392197918,
          -0.5783454183645768,
          0.30577699818813564
         ],
         "yaxis": "y2"
        }
       ],
       "layout": {
        "margin": {
         "b": 50,
         "l": 50,
         "r": 50,
         "t": 60
        },
        "xaxis1": {
         "anchor": "y1",
         "domain": [
          0,
          1
         ]
        },
        "xaxis2": {
         "anchor": "y2",
         "domain": [
          0,
          1
         ]
        },
        "yaxis1": {
         "anchor": "x1",
         "domain": [
          0.575,
          1
         ]
        },
        "yaxis2": {
         "anchor": "x2",
         "domain": [
          5.551115123125783e-17,
          0.42500000000000004
         ]
        }
       }
      },
      "text/html": [
       "<div class='display:none'></div><unsafe-script style='display:none'>\n",
       "WebIO.mount(this.previousSibling,{&quot;props&quot;:{},&quot;nodeType&quot;:&quot;Scope&quot;,&quot;type&quot;:&quot;node&quot;,&quot;instanceArgs&quot;:{&quot;imports&quot;:{&quot;data&quot;:[{&quot;name&quot;:&quot;Plotly&quot;,&quot;type&quot;:&quot;js&quot;,&quot;url&quot;:&quot;/assetserver/5311f9888b884b50e52f4a90fad64eb841288be8-plotly-latest.min.js&quot;},{&quot;name&quot;:null,&quot;type&quot;:&quot;js&quot;,&quot;url&quot;:&quot;/assetserver/5c351a91169f2a19a186af98699dd36a27fe8939-plotly_webio.bundle.js&quot;}],&quot;type&quot;:&quot;async_block&quot;},&quot;id&quot;:&quot;scope-8b421282-a7fc-4e67-90b7-d4b8fb15bf5b&quot;,&quot;handlers&quot;:{&quot;_toImage&quot;:[(function (options){return this.Plotly.toImage(this.plotElem,options).then((function (data){return WebIO.setval({&quot;name&quot;:&quot;image&quot;,&quot;scope&quot;:&quot;scope-8b421282-a7fc-4e67-90b7-d4b8fb15bf5b&quot;,&quot;id&quot;:&quot;ob_145&quot;,&quot;type&quot;:&quot;observable&quot;},data)}))})],&quot;__get_gd_contents&quot;:[(function (prop){prop==&quot;data&quot; ? (WebIO.setval({&quot;name&quot;:&quot;__gd_contents&quot;,&quot;scope&quot;:&quot;scope-8b421282-a7fc-4e67-90b7-d4b8fb15bf5b&quot;,&quot;id&quot;:&quot;ob_146&quot;,&quot;type&quot;:&quot;observable&quot;},this.plotElem.data)) : undefined; return prop==&quot;layout&quot; ? (WebIO.setval({&quot;name&quot;:&quot;__gd_contents&quot;,&quot;scope&quot;:&quot;scope-8b421282-a7fc-4e67-90b7-d4b8fb15bf5b&quot;,&quot;id&quot;:&quot;ob_146&quot;,&quot;type&quot;:&quot;observable&quot;},this.plotElem.layout)) : undefined})],&quot;_promises&quot;:{&quot;importsLoaded&quot;:[(function (Plotly){var gd=this.dom.querySelector(&quot;#plot-fe7dc15a-a6a3-47d1-9b69-97ea24908fe1&quot;); this.plotElem=gd; this.Plotly=Plotly; (window.Blink!==undefined) ? (gd.style.width=&quot;100%&quot;, gd.style.height=&quot;100vh&quot;, gd.style.marginLeft=&quot;0%&quot;, gd.style.marginTop=&quot;0vh&quot;) : undefined; window.onresize=(function (){return Plotly.Plots.resize(gd)}); Plotly.newPlot(gd,[{&quot;xaxis&quot;:&quot;x1&quot;,&quot;y&quot;:[0.47728875298280465,-0.522242855420051,0.8590272750011863,-0.7613842192760777,0.11338723919739116,-0.20571164781109244,-1.8092926981887982,0.013898903484607674,-0.8230838544406177,-0.848291042259586],&quot;type&quot;:&quot;scatter&quot;,&quot;yaxis&quot;:&quot;y1&quot;,&quot;x&quot;:[1,2,3,4,5,6,7,8,9,10]},{&quot;xaxis&quot;:&quot;x2&quot;,&quot;y&quot;:[-0.10039598710522671,0.034857555042845025,1.0009260975565235,-0.10458367286529018,-0.06157360730441986,-0.10603323139611573,-0.7143859522621886,1.9047671029509847,-0.2647689540032453,0.03910370909960708,-1.225274480112844,-0.9996101693846989,0.08010069218322051,-0.5387134310330811,2.3834052048748857,0.25508771766116994,-0.05347296716567247,-0.19536028392197918,-0.5783454183645768,0.30577699818813564],&quot;type&quot;:&quot;scatter&quot;,&quot;yaxis&quot;:&quot;y2&quot;,&quot;x&quot;:[1,2,3,4,5,6,7,8,9,10,11,12,13,14,15,16,17,18,19,20]}],{&quot;xaxis1&quot;:{&quot;domain&quot;:[0.0,1.0],&quot;anchor&quot;:&quot;y1&quot;},&quot;yaxis1&quot;:{&quot;domain&quot;:[0.575,1.0],&quot;anchor&quot;:&quot;x1&quot;},&quot;xaxis2&quot;:{&quot;domain&quot;:[0.0,1.0],&quot;anchor&quot;:&quot;y2&quot;},&quot;margin&quot;:{&quot;l&quot;:50,&quot;b&quot;:50,&quot;r&quot;:50,&quot;t&quot;:60},&quot;yaxis2&quot;:{&quot;domain&quot;:[5.551115123125783e-17,0.42500000000000004],&quot;anchor&quot;:&quot;x2&quot;}},{&quot;showLink&quot;:false}); gd.on(&quot;plotly_hover&quot;,(function (data){var filtered_data=WebIO.PlotlyCommands.filterEventData(gd,data,&quot;hover&quot;); return !(filtered_data.isnil) ? (WebIO.setval({&quot;name&quot;:&quot;hover&quot;,&quot;scope&quot;:&quot;scope-8b421282-a7fc-4e67-90b7-d4b8fb15bf5b&quot;,&quot;id&quot;:&quot;ob_141&quot;,&quot;type&quot;:&quot;observable&quot;},filtered_data.out)) : undefined})); gd.on(&quot;plotly_unhover&quot;,(function (){return WebIO.setval({&quot;name&quot;:&quot;hover&quot;,&quot;scope&quot;:&quot;scope-8b421282-a7fc-4e67-90b7-d4b8fb15bf5b&quot;,&quot;id&quot;:&quot;ob_141&quot;,&quot;type&quot;:&quot;observable&quot;},{})})); gd.on(&quot;plotly_selected&quot;,(function (data){var filtered_data=WebIO.PlotlyCommands.filterEventData(gd,data,&quot;selected&quot;); return !(filtered_data.isnil) ? (WebIO.setval({&quot;name&quot;:&quot;selected&quot;,&quot;scope&quot;:&quot;scope-8b421282-a7fc-4e67-90b7-d4b8fb15bf5b&quot;,&quot;id&quot;:&quot;ob_142&quot;,&quot;type&quot;:&quot;observable&quot;},filtered_data.out)) : undefined})); gd.on(&quot;plotly_deselect&quot;,(function (){return WebIO.setval({&quot;name&quot;:&quot;selected&quot;,&quot;scope&quot;:&quot;scope-8b421282-a7fc-4e67-90b7-d4b8fb15bf5b&quot;,&quot;id&quot;:&quot;ob_142&quot;,&quot;type&quot;:&quot;observable&quot;},{})})); gd.on(&quot;plotly_relayout&quot;,(function (data){var filtered_data=WebIO.PlotlyCommands.filterEventData(gd,data,&quot;relayout&quot;); return !(filtered_data.isnil) ? (WebIO.setval({&quot;name&quot;:&quot;relayout&quot;,&quot;scope&quot;:&quot;scope-8b421282-a7fc-4e67-90b7-d4b8fb15bf5b&quot;,&quot;id&quot;:&quot;ob_144&quot;,&quot;type&quot;:&quot;observable&quot;},filtered_data.out)) : undefined})); return gd.on(&quot;plotly_click&quot;,(function (data){var filtered_data=WebIO.PlotlyCommands.filterEventData(gd,data,&quot;click&quot;); return !(filtered_data.isnil) ? (WebIO.setval({&quot;name&quot;:&quot;click&quot;,&quot;scope&quot;:&quot;scope-8b421282-a7fc-4e67-90b7-d4b8fb15bf5b&quot;,&quot;id&quot;:&quot;ob_143&quot;,&quot;type&quot;:&quot;observable&quot;},filtered_data.out)) : undefined}))})]},&quot;_downloadImage&quot;:[(function (options){return this.Plotly.downloadImage(this.plotElem,options)})],&quot;_commands&quot;:[(function (args){var fn=args.shift(); var elem=this.plotElem; var Plotly=this.Plotly; args.unshift(elem); return Plotly[fn].apply(this,args)})]},&quot;systemjs_options&quot;:null,&quot;observables&quot;:{&quot;_toImage&quot;:{&quot;sync&quot;:false,&quot;id&quot;:&quot;ob_148&quot;,&quot;value&quot;:{}},&quot;hover&quot;:{&quot;sync&quot;:false,&quot;id&quot;:&quot;ob_141&quot;,&quot;value&quot;:{}},&quot;selected&quot;:{&quot;sync&quot;:false,&quot;id&quot;:&quot;ob_142&quot;,&quot;value&quot;:{}},&quot;__gd_contents&quot;:{&quot;sync&quot;:false,&quot;id&quot;:&quot;ob_146&quot;,&quot;value&quot;:{}},&quot;click&quot;:{&quot;sync&quot;:false,&quot;id&quot;:&quot;ob_143&quot;,&quot;value&quot;:{}},&quot;image&quot;:{&quot;sync&quot;:true,&quot;id&quot;:&quot;ob_145&quot;,&quot;value&quot;:&quot;&quot;},&quot;__get_gd_contents&quot;:{&quot;sync&quot;:false,&quot;id&quot;:&quot;ob_150&quot;,&quot;value&quot;:&quot;&quot;},&quot;_downloadImage&quot;:{&quot;sync&quot;:false,&quot;id&quot;:&quot;ob_149&quot;,&quot;value&quot;:{}},&quot;relayout&quot;:{&quot;sync&quot;:false,&quot;id&quot;:&quot;ob_144&quot;,&quot;value&quot;:{}},&quot;_commands&quot;:{&quot;sync&quot;:false,&quot;id&quot;:&quot;ob_147&quot;,&quot;value&quot;:[]}}},&quot;children&quot;:[{&quot;props&quot;:{&quot;id&quot;:&quot;plot-fe7dc15a-a6a3-47d1-9b69-97ea24908fe1&quot;},&quot;nodeType&quot;:&quot;DOM&quot;,&quot;type&quot;:&quot;node&quot;,&quot;instanceArgs&quot;:{&quot;namespace&quot;:&quot;html&quot;,&quot;tag&quot;:&quot;div&quot;},&quot;children&quot;:[]}]})</unsafe-script>"
      ],
      "text/plain": [
       "data: [\n",
       "  \"scatter with fields type, x, xaxis, y, and yaxis\",\n",
       "  \"scatter with fields type, x, xaxis, y, and yaxis\"\n",
       "]\n",
       "\n",
       "layout: \"layout with fields margin, xaxis1, xaxis2, yaxis1, and yaxis2\"\n",
       "\n"
      ]
     },
     "execution_count": 23,
     "metadata": {},
     "output_type": "execute_result"
    }
   ],
   "source": [
    "# 2 rows and 1 column\n",
    "[p1 , p2]"
   ]
  },
  {
   "cell_type": "code",
   "execution_count": 24,
   "metadata": {},
   "outputs": [
    {
     "data": {
      "application/vnd.plotly.v1+json": {
       "data": [
        {
         "type": "scatter",
         "x": [
          1,
          2,
          3,
          4,
          5,
          6,
          7,
          8,
          9,
          10
         ],
         "xaxis": "x1",
         "y": [
          0.47728875298280465,
          -0.522242855420051,
          0.8590272750011863,
          -0.7613842192760777,
          0.11338723919739116,
          -0.20571164781109244,
          -1.8092926981887982,
          0.013898903484607674,
          -0.8230838544406177,
          -0.848291042259586
         ],
         "yaxis": "y1"
        },
        {
         "type": "scatter",
         "x": [
          1,
          2,
          3,
          4,
          5,
          6,
          7,
          8,
          9,
          10,
          11,
          12,
          13,
          14,
          15,
          16,
          17,
          18,
          19,
          20
         ],
         "xaxis": "x2",
         "y": [
          -0.10039598710522671,
          0.034857555042845025,
          1.0009260975565235,
          -0.10458367286529018,
          -0.06157360730441986,
          -0.10603323139611573,
          -0.7143859522621886,
          1.9047671029509847,
          -0.2647689540032453,
          0.03910370909960708,
          -1.225274480112844,
          -0.9996101693846989,
          0.08010069218322051,
          -0.5387134310330811,
          2.3834052048748857,
          0.25508771766116994,
          -0.05347296716567247,
          -0.19536028392197918,
          -0.5783454183645768,
          0.30577699818813564
         ],
         "yaxis": "y2"
        },
        {
         "type": "scatter",
         "x": [
          1,
          2,
          3,
          4,
          5,
          6,
          7,
          8,
          9,
          10,
          11,
          12,
          13,
          14,
          15,
          16,
          17,
          18,
          19,
          20,
          21,
          22,
          23,
          24,
          25,
          26,
          27,
          28,
          29,
          30
         ],
         "xaxis": "x3",
         "y": [
          1.0037496168806264,
          -0.45964824966867834,
          -0.6053571602671487,
          -0.9038036366904026,
          0.03589881139878636,
          -0.4528054783936706,
          -0.08796145921561582,
          0.6234852527943802,
          1.8937091899127214,
          0.5351648812873416,
          1.0505464882985611,
          1.7412081833551674,
          0.6003261977502891,
          0.4653640186782844,
          0.5819391249877967,
          -0.27152247616975256,
          -1.190490369769188,
          -1.379822230997554,
          -0.34704901215812534,
          -1.0746847931432064,
          -0.8251304585276383,
          0.31917490677661103,
          -0.7611955409685176,
          -0.6952935923115118,
          0.8432809701238753,
          0.9577212839309027,
          -1.4009271090098172,
          -0.1137602752167242,
          -0.4070119769685581,
          0.3382937105259588
         ],
         "yaxis": "y3"
        },
        {
         "type": "scatter",
         "x": [
          1,
          2,
          3,
          4,
          5,
          6,
          7,
          8,
          9,
          10,
          11,
          12,
          13,
          14,
          15,
          16,
          17,
          18,
          19,
          20,
          21,
          22,
          23,
          24,
          25,
          26,
          27,
          28,
          29,
          30,
          31,
          32,
          33,
          34,
          35,
          36,
          37,
          38,
          39,
          40
         ],
         "xaxis": "x4",
         "y": [
          -0.45913698151688825,
          0.399867064130739,
          -0.9265996192968572,
          -0.8836591332179241,
          -0.31864869888446207,
          0.7990215592201931,
          0.17545109719529106,
          2.6395621639930082,
          -0.40507671211099394,
          1.0897568469655634,
          0.8535198050933046,
          2.5488904322822092,
          -0.45689402086329006,
          1.2471170569351,
          -1.0941844275879355,
          -0.21574544914480273,
          0.43810243075961025,
          0.7909198816944919,
          -0.3950708092682051,
          1.1241709725725477,
          -1.0681171020119193,
          0.39537646314788766,
          -0.6748381489890143,
          0.5445328146204219,
          -0.9630060606076105,
          1.0307159240847306,
          -0.16006774595097592,
          0.03639772552702553,
          0.4502747758561422,
          -0.9202144844173241,
          -0.7464356074886025,
          -0.10600721356096976,
          2.7203494795314285,
          -1.1938469514288466,
          0.4986647226445126,
          0.7157797436137744,
          0.17975916172917578,
          -0.35925644506906446,
          0.7325357266909576,
          -0.554135311719122
         ],
         "yaxis": "y4"
        }
       ],
       "layout": {
        "margin": {
         "b": 50,
         "l": 50,
         "r": 50,
         "t": 60
        },
        "xaxis1": {
         "anchor": "y1",
         "domain": [
          0,
          0.45
         ]
        },
        "xaxis2": {
         "anchor": "y2",
         "domain": [
          0.55,
          1
         ]
        },
        "xaxis3": {
         "anchor": "y3",
         "domain": [
          0,
          0.45
         ]
        },
        "xaxis4": {
         "anchor": "y4",
         "domain": [
          0.55,
          1
         ]
        },
        "yaxis1": {
         "anchor": "x1",
         "domain": [
          0.575,
          1
         ]
        },
        "yaxis2": {
         "anchor": "x2",
         "domain": [
          0.575,
          1
         ]
        },
        "yaxis3": {
         "anchor": "x3",
         "domain": [
          5.551115123125783e-17,
          0.42500000000000004
         ]
        },
        "yaxis4": {
         "anchor": "x4",
         "domain": [
          5.551115123125783e-17,
          0.42500000000000004
         ]
        }
       }
      },
      "text/html": [
       "<div class='display:none'></div><unsafe-script style='display:none'>\n",
       "WebIO.mount(this.previousSibling,{&quot;props&quot;:{},&quot;nodeType&quot;:&quot;Scope&quot;,&quot;type&quot;:&quot;node&quot;,&quot;instanceArgs&quot;:{&quot;imports&quot;:{&quot;data&quot;:[{&quot;name&quot;:&quot;Plotly&quot;,&quot;type&quot;:&quot;js&quot;,&quot;url&quot;:&quot;/assetserver/5311f9888b884b50e52f4a90fad64eb841288be8-plotly-latest.min.js&quot;},{&quot;name&quot;:null,&quot;type&quot;:&quot;js&quot;,&quot;url&quot;:&quot;/assetserver/5c351a91169f2a19a186af98699dd36a27fe8939-plotly_webio.bundle.js&quot;}],&quot;type&quot;:&quot;async_block&quot;},&quot;id&quot;:&quot;scope-8b03c0f1-f42c-4d14-b991-76e5569ca793&quot;,&quot;handlers&quot;:{&quot;_toImage&quot;:[(function (options){return this.Plotly.toImage(this.plotElem,options).then((function (data){return WebIO.setval({&quot;name&quot;:&quot;image&quot;,&quot;scope&quot;:&quot;scope-8b03c0f1-f42c-4d14-b991-76e5569ca793&quot;,&quot;id&quot;:&quot;ob_155&quot;,&quot;type&quot;:&quot;observable&quot;},data)}))})],&quot;__get_gd_contents&quot;:[(function (prop){prop==&quot;data&quot; ? (WebIO.setval({&quot;name&quot;:&quot;__gd_contents&quot;,&quot;scope&quot;:&quot;scope-8b03c0f1-f42c-4d14-b991-76e5569ca793&quot;,&quot;id&quot;:&quot;ob_156&quot;,&quot;type&quot;:&quot;observable&quot;},this.plotElem.data)) : undefined; return prop==&quot;layout&quot; ? (WebIO.setval({&quot;name&quot;:&quot;__gd_contents&quot;,&quot;scope&quot;:&quot;scope-8b03c0f1-f42c-4d14-b991-76e5569ca793&quot;,&quot;id&quot;:&quot;ob_156&quot;,&quot;type&quot;:&quot;observable&quot;},this.plotElem.layout)) : undefined})],&quot;_promises&quot;:{&quot;importsLoaded&quot;:[(function (Plotly){var gd=this.dom.querySelector(&quot;#plot-93e8e78d-3360-4c09-a208-f0a8c9f37904&quot;); this.plotElem=gd; this.Plotly=Plotly; (window.Blink!==undefined) ? (gd.style.width=&quot;100%&quot;, gd.style.height=&quot;100vh&quot;, gd.style.marginLeft=&quot;0%&quot;, gd.style.marginTop=&quot;0vh&quot;) : undefined; window.onresize=(function (){return Plotly.Plots.resize(gd)}); Plotly.newPlot(gd,[{&quot;xaxis&quot;:&quot;x1&quot;,&quot;y&quot;:[0.47728875298280465,-0.522242855420051,0.8590272750011863,-0.7613842192760777,0.11338723919739116,-0.20571164781109244,-1.8092926981887982,0.013898903484607674,-0.8230838544406177,-0.848291042259586],&quot;type&quot;:&quot;scatter&quot;,&quot;yaxis&quot;:&quot;y1&quot;,&quot;x&quot;:[1,2,3,4,5,6,7,8,9,10]},{&quot;xaxis&quot;:&quot;x2&quot;,&quot;y&quot;:[-0.10039598710522671,0.034857555042845025,1.0009260975565235,-0.10458367286529018,-0.06157360730441986,-0.10603323139611573,-0.7143859522621886,1.9047671029509847,-0.2647689540032453,0.03910370909960708,-1.225274480112844,-0.9996101693846989,0.08010069218322051,-0.5387134310330811,2.3834052048748857,0.25508771766116994,-0.05347296716567247,-0.19536028392197918,-0.5783454183645768,0.30577699818813564],&quot;type&quot;:&quot;scatter&quot;,&quot;yaxis&quot;:&quot;y2&quot;,&quot;x&quot;:[1,2,3,4,5,6,7,8,9,10,11,12,13,14,15,16,17,18,19,20]},{&quot;xaxis&quot;:&quot;x3&quot;,&quot;y&quot;:[1.0037496168806264,-0.45964824966867834,-0.6053571602671487,-0.9038036366904026,0.03589881139878636,-0.4528054783936706,-0.08796145921561582,0.6234852527943802,1.8937091899127214,0.5351648812873416,1.0505464882985611,1.7412081833551674,0.6003261977502891,0.4653640186782844,0.5819391249877967,-0.27152247616975256,-1.190490369769188,-1.379822230997554,-0.34704901215812534,-1.0746847931432064,-0.8251304585276383,0.31917490677661103,-0.7611955409685176,-0.6952935923115118,0.8432809701238753,0.9577212839309027,-1.4009271090098172,-0.1137602752167242,-0.4070119769685581,0.3382937105259588],&quot;type&quot;:&quot;scatter&quot;,&quot;yaxis&quot;:&quot;y3&quot;,&quot;x&quot;:[1,2,3,4,5,6,7,8,9,10,11,12,13,14,15,16,17,18,19,20,21,22,23,24,25,26,27,28,29,30]},{&quot;xaxis&quot;:&quot;x4&quot;,&quot;y&quot;:[-0.45913698151688825,0.399867064130739,-0.9265996192968572,-0.8836591332179241,-0.31864869888446207,0.7990215592201931,0.17545109719529106,2.6395621639930082,-0.40507671211099394,1.0897568469655634,0.8535198050933046,2.5488904322822092,-0.45689402086329006,1.2471170569351,-1.0941844275879355,-0.21574544914480273,0.43810243075961025,0.7909198816944919,-0.3950708092682051,1.1241709725725477,-1.0681171020119193,0.39537646314788766,-0.6748381489890143,0.5445328146204219,-0.9630060606076105,1.0307159240847306,-0.16006774595097592,0.03639772552702553,0.4502747758561422,-0.9202144844173241,-0.7464356074886025,-0.10600721356096976,2.7203494795314285,-1.1938469514288466,0.4986647226445126,0.7157797436137744,0.17975916172917578,-0.35925644506906446,0.7325357266909576,-0.554135311719122],&quot;type&quot;:&quot;scatter&quot;,&quot;yaxis&quot;:&quot;y4&quot;,&quot;x&quot;:[1,2,3,4,5,6,7,8,9,10,11,12,13,14,15,16,17,18,19,20,21,22,23,24,25,26,27,28,29,30,31,32,33,34,35,36,37,38,39,40]}],{&quot;xaxis1&quot;:{&quot;domain&quot;:[0.0,0.45],&quot;anchor&quot;:&quot;y1&quot;},&quot;yaxis1&quot;:{&quot;domain&quot;:[0.575,1.0],&quot;anchor&quot;:&quot;x1&quot;},&quot;yaxis3&quot;:{&quot;domain&quot;:[5.551115123125783e-17,0.42500000000000004],&quot;anchor&quot;:&quot;x3&quot;},&quot;xaxis2&quot;:{&quot;domain&quot;:[0.55,1.0],&quot;anchor&quot;:&quot;y2&quot;},&quot;margin&quot;:{&quot;l&quot;:50,&quot;b&quot;:50,&quot;r&quot;:50,&quot;t&quot;:60},&quot;xaxis3&quot;:{&quot;domain&quot;:[0.0,0.45],&quot;anchor&quot;:&quot;y3&quot;},&quot;yaxis2&quot;:{&quot;domain&quot;:[0.575,1.0],&quot;anchor&quot;:&quot;x2&quot;},&quot;xaxis4&quot;:{&quot;domain&quot;:[0.55,1.0],&quot;anchor&quot;:&quot;y4&quot;},&quot;yaxis4&quot;:{&quot;domain&quot;:[5.551115123125783e-17,0.42500000000000004],&quot;anchor&quot;:&quot;x4&quot;}},{&quot;showLink&quot;:false}); gd.on(&quot;plotly_hover&quot;,(function (data){var filtered_data=WebIO.PlotlyCommands.filterEventData(gd,data,&quot;hover&quot;); return !(filtered_data.isnil) ? (WebIO.setval({&quot;name&quot;:&quot;hover&quot;,&quot;scope&quot;:&quot;scope-8b03c0f1-f42c-4d14-b991-76e5569ca793&quot;,&quot;id&quot;:&quot;ob_151&quot;,&quot;type&quot;:&quot;observable&quot;},filtered_data.out)) : undefined})); gd.on(&quot;plotly_unhover&quot;,(function (){return WebIO.setval({&quot;name&quot;:&quot;hover&quot;,&quot;scope&quot;:&quot;scope-8b03c0f1-f42c-4d14-b991-76e5569ca793&quot;,&quot;id&quot;:&quot;ob_151&quot;,&quot;type&quot;:&quot;observable&quot;},{})})); gd.on(&quot;plotly_selected&quot;,(function (data){var filtered_data=WebIO.PlotlyCommands.filterEventData(gd,data,&quot;selected&quot;); return !(filtered_data.isnil) ? (WebIO.setval({&quot;name&quot;:&quot;selected&quot;,&quot;scope&quot;:&quot;scope-8b03c0f1-f42c-4d14-b991-76e5569ca793&quot;,&quot;id&quot;:&quot;ob_152&quot;,&quot;type&quot;:&quot;observable&quot;},filtered_data.out)) : undefined})); gd.on(&quot;plotly_deselect&quot;,(function (){return WebIO.setval({&quot;name&quot;:&quot;selected&quot;,&quot;scope&quot;:&quot;scope-8b03c0f1-f42c-4d14-b991-76e5569ca793&quot;,&quot;id&quot;:&quot;ob_152&quot;,&quot;type&quot;:&quot;observable&quot;},{})})); gd.on(&quot;plotly_relayout&quot;,(function (data){var filtered_data=WebIO.PlotlyCommands.filterEventData(gd,data,&quot;relayout&quot;); return !(filtered_data.isnil) ? (WebIO.setval({&quot;name&quot;:&quot;relayout&quot;,&quot;scope&quot;:&quot;scope-8b03c0f1-f42c-4d14-b991-76e5569ca793&quot;,&quot;id&quot;:&quot;ob_154&quot;,&quot;type&quot;:&quot;observable&quot;},filtered_data.out)) : undefined})); return gd.on(&quot;plotly_click&quot;,(function (data){var filtered_data=WebIO.PlotlyCommands.filterEventData(gd,data,&quot;click&quot;); return !(filtered_data.isnil) ? (WebIO.setval({&quot;name&quot;:&quot;click&quot;,&quot;scope&quot;:&quot;scope-8b03c0f1-f42c-4d14-b991-76e5569ca793&quot;,&quot;id&quot;:&quot;ob_153&quot;,&quot;type&quot;:&quot;observable&quot;},filtered_data.out)) : undefined}))})]},&quot;_downloadImage&quot;:[(function (options){return this.Plotly.downloadImage(this.plotElem,options)})],&quot;_commands&quot;:[(function (args){var fn=args.shift(); var elem=this.plotElem; var Plotly=this.Plotly; args.unshift(elem); return Plotly[fn].apply(this,args)})]},&quot;systemjs_options&quot;:null,&quot;observables&quot;:{&quot;_toImage&quot;:{&quot;sync&quot;:false,&quot;id&quot;:&quot;ob_158&quot;,&quot;value&quot;:{}},&quot;hover&quot;:{&quot;sync&quot;:false,&quot;id&quot;:&quot;ob_151&quot;,&quot;value&quot;:{}},&quot;selected&quot;:{&quot;sync&quot;:false,&quot;id&quot;:&quot;ob_152&quot;,&quot;value&quot;:{}},&quot;__gd_contents&quot;:{&quot;sync&quot;:false,&quot;id&quot;:&quot;ob_156&quot;,&quot;value&quot;:{}},&quot;click&quot;:{&quot;sync&quot;:false,&quot;id&quot;:&quot;ob_153&quot;,&quot;value&quot;:{}},&quot;image&quot;:{&quot;sync&quot;:true,&quot;id&quot;:&quot;ob_155&quot;,&quot;value&quot;:&quot;&quot;},&quot;__get_gd_contents&quot;:{&quot;sync&quot;:false,&quot;id&quot;:&quot;ob_160&quot;,&quot;value&quot;:&quot;&quot;},&quot;_downloadImage&quot;:{&quot;sync&quot;:false,&quot;id&quot;:&quot;ob_159&quot;,&quot;value&quot;:{}},&quot;relayout&quot;:{&quot;sync&quot;:false,&quot;id&quot;:&quot;ob_154&quot;,&quot;value&quot;:{}},&quot;_commands&quot;:{&quot;sync&quot;:false,&quot;id&quot;:&quot;ob_157&quot;,&quot;value&quot;:[]}}},&quot;children&quot;:[{&quot;props&quot;:{&quot;id&quot;:&quot;plot-93e8e78d-3360-4c09-a208-f0a8c9f37904&quot;},&quot;nodeType&quot;:&quot;DOM&quot;,&quot;type&quot;:&quot;node&quot;,&quot;instanceArgs&quot;:{&quot;namespace&quot;:&quot;html&quot;,&quot;tag&quot;:&quot;div&quot;},&quot;children&quot;:[]}]})</unsafe-script>"
      ],
      "text/plain": [
       "data: [\n",
       "  \"scatter with fields type, x, xaxis, y, and yaxis\",\n",
       "  \"scatter with fields type, x, xaxis, y, and yaxis\",\n",
       "  \"scatter with fields type, x, xaxis, y, and yaxis\",\n",
       "  \"scatter with fields type, x, xaxis, y, and yaxis\"\n",
       "]\n",
       "\n",
       "layout: \"layout with fields margin, xaxis1, xaxis2, xaxis3, xaxis4, yaxis1, yaxis2, yaxis3, and yaxis4\"\n",
       "\n"
      ]
     },
     "execution_count": 24,
     "metadata": {},
     "output_type": "execute_result"
    }
   ],
   "source": [
    "# 2 rows and 2 columns\n",
    "[p1 p2 ; p3 p4]"
   ]
  },
  {
   "cell_type": "markdown",
   "metadata": {},
   "source": [
    "### We can inspect the json to see what we've been saved from"
   ]
  },
  {
   "cell_type": "code",
   "execution_count": 25,
   "metadata": {},
   "outputs": [
    {
     "name": "stdout",
     "output_type": "stream",
     "text": [
      "{\n",
      "  \"layout\": {\n",
      "    \"xaxis1\": {\n",
      "      \"domain\": [\n",
      "        0.0,\n",
      "        0.45\n",
      "      ],\n",
      "      \"anchor\": \"y1\"\n",
      "    },\n",
      "    \"yaxis1\": {\n",
      "      \"domain\": [\n",
      "        0.575,\n",
      "        1.0\n",
      "      ],\n",
      "      \"anchor\": \"x1\"\n",
      "    },\n",
      "    \"yaxis3\": {\n",
      "      \"domain\": [\n",
      "        5.551115123125783e-17,\n",
      "        0.42500000000000004\n",
      "      ],\n",
      "      \"anchor\": \"x3\"\n",
      "    },\n",
      "    \"xaxis2\": {\n",
      "      \"domain\": [\n",
      "        0.55,\n",
      "        1.0\n",
      "      ],\n",
      "      \"anchor\": \"y2\"\n",
      "    },\n",
      "    \"margin\": {\n",
      "      \"l\": 50,\n",
      "      \"b\": 50,\n",
      "      \"r\": 50,\n",
      "      \"t\": 60\n",
      "    },\n",
      "    \"xaxis3\": {\n",
      "      \"domain\": [\n",
      "        0.0,\n",
      "        0.45\n",
      "      ],\n",
      "      \"anchor\": \"y3\"\n",
      "    },\n",
      "    \"yaxis2\": {\n",
      "      \"domain\": [\n",
      "        0.575,\n",
      "        1.0\n",
      "      ],\n",
      "      \"anchor\": \"x2\"\n",
      "    },\n",
      "    \"xaxis4\": {\n",
      "      \"domain\": [\n",
      "        0.55,\n",
      "        1.0\n",
      "      ],\n",
      "      \"anchor\": \"y4\"\n",
      "    },\n",
      "    \"yaxis4\": {\n",
      "      \"domain\": [\n",
      "        5.551115123125783e-17,\n",
      "        0.42500000000000004\n",
      "      ],\n",
      "      \"anchor\": \"x4\"\n",
      "    }\n",
      "  },\n",
      "  \"data\": [\n",
      "    {\n",
      "      \"xaxis\": \"x1\",\n",
      "      \"y\": [\n",
      "        0.47728875298280465,\n",
      "        -0.522242855420051,\n",
      "        0.8590272750011863,\n",
      "        -0.7613842192760777,\n",
      "        0.11338723919739116,\n",
      "        -0.20571164781109244,\n",
      "        -1.8092926981887982,\n",
      "        0.013898903484607674,\n",
      "        -0.8230838544406177,\n",
      "        -0.848291042259586\n",
      "      ],\n",
      "      \"type\": \"scatter\",\n",
      "      \"yaxis\": \"y1\",\n",
      "      \"x\": [\n",
      "        1,\n",
      "        2,\n",
      "        3,\n",
      "        4,\n",
      "        5,\n",
      "        6,\n",
      "        7,\n",
      "        8,\n",
      "        9,\n",
      "        10\n",
      "      ]\n",
      "    },\n",
      "    {\n",
      "      \"xaxis\": \"x2\",\n",
      "      \"y\": [\n",
      "        -0.10039598710522671,\n",
      "        0.034857555042845025,\n",
      "        1.0009260975565235,\n",
      "        -0.10458367286529018,\n",
      "        -0.06157360730441986,\n",
      "        -0.10603323139611573,\n",
      "        -0.7143859522621886,\n",
      "        1.9047671029509847,\n",
      "        -0.2647689540032453,\n",
      "        0.03910370909960708,\n",
      "        -1.225274480112844,\n",
      "        -0.9996101693846989,\n",
      "        0.08010069218322051,\n",
      "        -0.5387134310330811,\n",
      "        2.3834052048748857,\n",
      "        0.25508771766116994,\n",
      "        -0.05347296716567247,\n",
      "        -0.19536028392197918,\n",
      "        -0.5783454183645768,\n",
      "        0.30577699818813564\n",
      "      ],\n",
      "      \"type\": \"scatter\",\n",
      "      \"yaxis\": \"y2\",\n",
      "      \"x\": [\n",
      "        1,\n",
      "        2,\n",
      "        3,\n",
      "        4,\n",
      "        5,\n",
      "        6,\n",
      "        7,\n",
      "        8,\n",
      "        9,\n",
      "        10,\n",
      "        11,\n",
      "        12,\n",
      "        13,\n",
      "        14,\n",
      "        15,\n",
      "        16,\n",
      "        17,\n",
      "        18,\n",
      "        19,\n",
      "        20\n",
      "      ]\n",
      "    },\n",
      "    {\n",
      "      \"xaxis\": \"x3\",\n",
      "      \"y\": [\n",
      "        1.0037496168806264,\n",
      "        -0.45964824966867834,\n",
      "        -0.6053571602671487,\n",
      "        -0.9038036366904026,\n",
      "        0.03589881139878636,\n",
      "        -0.4528054783936706,\n",
      "        -0.08796145921561582,\n",
      "        0.6234852527943802,\n",
      "        1.8937091899127214,\n",
      "        0.5351648812873416,\n",
      "        1.0505464882985611,\n",
      "        1.7412081833551674,\n",
      "        0.6003261977502891,\n",
      "        0.4653640186782844,\n",
      "        0.5819391249877967,\n",
      "        -0.27152247616975256,\n",
      "        -1.190490369769188,\n",
      "        -1.379822230997554,\n",
      "        -0.34704901215812534,\n",
      "        -1.0746847931432064,\n",
      "        -0.8251304585276383,\n",
      "        0.31917490677661103,\n",
      "        -0.7611955409685176,\n",
      "        -0.6952935923115118,\n",
      "        0.8432809701238753,\n",
      "        0.9577212839309027,\n",
      "        -1.4009271090098172,\n",
      "        -0.1137602752167242,\n",
      "        -0.4070119769685581,\n",
      "        0.3382937105259588\n",
      "      ],\n",
      "      \"type\": \"scatter\",\n",
      "      \"yaxis\": \"y3\",\n",
      "      \"x\": [\n",
      "        1,\n",
      "        2,\n",
      "        3,\n",
      "        4,\n",
      "        5,\n",
      "        6,\n",
      "        7,\n",
      "        8,\n",
      "        9,\n",
      "        10,\n",
      "        11,\n",
      "        12,\n",
      "        13,\n",
      "        14,\n",
      "        15,\n",
      "        16,\n",
      "        17,\n",
      "        18,\n",
      "        19,\n",
      "        20,\n",
      "        21,\n",
      "        22,\n",
      "        23,\n",
      "        24,\n",
      "        25,\n",
      "        26,\n",
      "        27,\n",
      "        28,\n",
      "        29,\n",
      "        30\n",
      "      ]\n",
      "    },\n",
      "    {\n",
      "      \"xaxis\": \"x4\",\n",
      "      \"y\": [\n",
      "        -0.45913698151688825,\n",
      "        0.399867064130739,\n",
      "        -0.9265996192968572,\n",
      "        -0.8836591332179241,\n",
      "        -0.31864869888446207,\n",
      "        0.7990215592201931,\n",
      "        0.17545109719529106,\n",
      "        2.6395621639930082,\n",
      "        -0.40507671211099394,\n",
      "        1.0897568469655634,\n",
      "        0.8535198050933046,\n",
      "        2.5488904322822092,\n",
      "        -0.45689402086329006,\n",
      "        1.2471170569351,\n",
      "        -1.0941844275879355,\n",
      "        -0.21574544914480273,\n",
      "        0.43810243075961025,\n",
      "        0.7909198816944919,\n",
      "        -0.3950708092682051,\n",
      "        1.1241709725725477,\n",
      "        -1.0681171020119193,\n",
      "        0.39537646314788766,\n",
      "        -0.6748381489890143,\n",
      "        0.5445328146204219,\n",
      "        -0.9630060606076105,\n",
      "        1.0307159240847306,\n",
      "        -0.16006774595097592,\n",
      "        0.03639772552702553,\n",
      "        0.4502747758561422,\n",
      "        -0.9202144844173241,\n",
      "        -0.7464356074886025,\n",
      "        -0.10600721356096976,\n",
      "        2.7203494795314285,\n",
      "        -1.1938469514288466,\n",
      "        0.4986647226445126,\n",
      "        0.7157797436137744,\n",
      "        0.17975916172917578,\n",
      "        -0.35925644506906446,\n",
      "        0.7325357266909576,\n",
      "        -0.554135311719122\n",
      "      ],\n",
      "      \"type\": \"scatter\",\n",
      "      \"yaxis\": \"y4\",\n",
      "      \"x\": [\n",
      "        1,\n",
      "        2,\n",
      "        3,\n",
      "        4,\n",
      "        5,\n",
      "        6,\n",
      "        7,\n",
      "        8,\n",
      "        9,\n",
      "        10,\n",
      "        11,\n",
      "        12,\n",
      "        13,\n",
      "        14,\n",
      "        15,\n",
      "        16,\n",
      "        17,\n",
      "        18,\n",
      "        19,\n",
      "        20,\n",
      "        21,\n",
      "        22,\n",
      "        23,\n",
      "        24,\n",
      "        25,\n",
      "        26,\n",
      "        27,\n",
      "        28,\n",
      "        29,\n",
      "        30,\n",
      "        31,\n",
      "        32,\n",
      "        33,\n",
      "        34,\n",
      "        35,\n",
      "        36,\n",
      "        37,\n",
      "        38,\n",
      "        39,\n",
      "        40\n",
      "      ]\n",
      "    }\n",
      "  ]\n",
      "}\n"
     ]
    }
   ],
   "source": [
    "p = [p1 p2; p3 p4]\n",
    "print(json(p,2))"
   ]
  },
  {
   "cell_type": "markdown",
   "metadata": {},
   "source": [
    "### plotly.js api function\n",
    "* plotlyjs.jl also exposes all plotly.js API functions to pure julia\n",
    "* Let us see some examples"
   ]
  },
  {
   "cell_type": "code",
   "execution_count": 26,
   "metadata": {},
   "outputs": [
    {
     "data": {
      "application/vnd.plotly.v1+json": {
       "data": [
        {
         "type": "scatter",
         "x": [
          1,
          2,
          3,
          4,
          5,
          6,
          7,
          8,
          9,
          10
         ],
         "y": [
          1.2160356799551177,
          -1.0961112407145948,
          -0.04668422247517677,
          1.136494841023401,
          -0.3768485312746488,
          0.26393066316861197,
          0.2796851298651995,
          -1.0956230775630853,
          -0.6097916357149451,
          1.080600523914656
         ]
        }
       ],
       "layout": {
        "margin": {
         "b": 50,
         "l": 50,
         "r": 50,
         "t": 60
        }
       }
      },
      "text/html": [
       "<div class='display:none'></div><unsafe-script style='display:none'>\n",
       "WebIO.mount(this.previousSibling,{&quot;props&quot;:{},&quot;nodeType&quot;:&quot;Scope&quot;,&quot;type&quot;:&quot;node&quot;,&quot;instanceArgs&quot;:{&quot;imports&quot;:{&quot;data&quot;:[{&quot;name&quot;:&quot;Plotly&quot;,&quot;type&quot;:&quot;js&quot;,&quot;url&quot;:&quot;/assetserver/5311f9888b884b50e52f4a90fad64eb841288be8-plotly-latest.min.js&quot;},{&quot;name&quot;:null,&quot;type&quot;:&quot;js&quot;,&quot;url&quot;:&quot;/assetserver/5c351a91169f2a19a186af98699dd36a27fe8939-plotly_webio.bundle.js&quot;}],&quot;type&quot;:&quot;async_block&quot;},&quot;id&quot;:&quot;scope-ac91f5c9-9506-491b-9bf7-88096305d988&quot;,&quot;handlers&quot;:{&quot;_toImage&quot;:[(function (options){return this.Plotly.toImage(this.plotElem,options).then((function (data){return WebIO.setval({&quot;name&quot;:&quot;image&quot;,&quot;scope&quot;:&quot;scope-ac91f5c9-9506-491b-9bf7-88096305d988&quot;,&quot;id&quot;:&quot;ob_175&quot;,&quot;type&quot;:&quot;observable&quot;},data)}))})],&quot;__get_gd_contents&quot;:[(function (prop){prop==&quot;data&quot; ? (WebIO.setval({&quot;name&quot;:&quot;__gd_contents&quot;,&quot;scope&quot;:&quot;scope-ac91f5c9-9506-491b-9bf7-88096305d988&quot;,&quot;id&quot;:&quot;ob_176&quot;,&quot;type&quot;:&quot;observable&quot;},this.plotElem.data)) : undefined; return prop==&quot;layout&quot; ? (WebIO.setval({&quot;name&quot;:&quot;__gd_contents&quot;,&quot;scope&quot;:&quot;scope-ac91f5c9-9506-491b-9bf7-88096305d988&quot;,&quot;id&quot;:&quot;ob_176&quot;,&quot;type&quot;:&quot;observable&quot;},this.plotElem.layout)) : undefined})],&quot;_promises&quot;:{&quot;importsLoaded&quot;:[(function (Plotly){var gd=this.dom.querySelector(&quot;#plot-f6dfdae1-3402-4317-a266-a792f7a2825b&quot;); this.plotElem=gd; this.Plotly=Plotly; (window.Blink!==undefined) ? (gd.style.width=&quot;100%&quot;, gd.style.height=&quot;100vh&quot;, gd.style.marginLeft=&quot;0%&quot;, gd.style.marginTop=&quot;0vh&quot;) : undefined; window.onresize=(function (){return Plotly.Plots.resize(gd)}); Plotly.newPlot(gd,[{&quot;y&quot;:[1.2160356799551177,-1.0961112407145948,-0.04668422247517677,1.136494841023401,-0.3768485312746488,0.26393066316861197,0.2796851298651995,-1.0956230775630853,-0.6097916357149451,1.080600523914656],&quot;type&quot;:&quot;scatter&quot;,&quot;x&quot;:[1,2,3,4,5,6,7,8,9,10]}],{&quot;margin&quot;:{&quot;l&quot;:50,&quot;b&quot;:50,&quot;r&quot;:50,&quot;t&quot;:60}},{}); gd.on(&quot;plotly_hover&quot;,(function (data){var filtered_data=WebIO.PlotlyCommands.filterEventData(gd,data,&quot;hover&quot;); return !(filtered_data.isnil) ? (WebIO.setval({&quot;name&quot;:&quot;hover&quot;,&quot;scope&quot;:&quot;scope-ac91f5c9-9506-491b-9bf7-88096305d988&quot;,&quot;id&quot;:&quot;ob_171&quot;,&quot;type&quot;:&quot;observable&quot;},filtered_data.out)) : undefined})); gd.on(&quot;plotly_unhover&quot;,(function (){return WebIO.setval({&quot;name&quot;:&quot;hover&quot;,&quot;scope&quot;:&quot;scope-ac91f5c9-9506-491b-9bf7-88096305d988&quot;,&quot;id&quot;:&quot;ob_171&quot;,&quot;type&quot;:&quot;observable&quot;},{})})); gd.on(&quot;plotly_selected&quot;,(function (data){var filtered_data=WebIO.PlotlyCommands.filterEventData(gd,data,&quot;selected&quot;); return !(filtered_data.isnil) ? (WebIO.setval({&quot;name&quot;:&quot;selected&quot;,&quot;scope&quot;:&quot;scope-ac91f5c9-9506-491b-9bf7-88096305d988&quot;,&quot;id&quot;:&quot;ob_172&quot;,&quot;type&quot;:&quot;observable&quot;},filtered_data.out)) : undefined})); gd.on(&quot;plotly_deselect&quot;,(function (){return WebIO.setval({&quot;name&quot;:&quot;selected&quot;,&quot;scope&quot;:&quot;scope-ac91f5c9-9506-491b-9bf7-88096305d988&quot;,&quot;id&quot;:&quot;ob_172&quot;,&quot;type&quot;:&quot;observable&quot;},{})})); gd.on(&quot;plotly_relayout&quot;,(function (data){var filtered_data=WebIO.PlotlyCommands.filterEventData(gd,data,&quot;relayout&quot;); return !(filtered_data.isnil) ? (WebIO.setval({&quot;name&quot;:&quot;relayout&quot;,&quot;scope&quot;:&quot;scope-ac91f5c9-9506-491b-9bf7-88096305d988&quot;,&quot;id&quot;:&quot;ob_174&quot;,&quot;type&quot;:&quot;observable&quot;},filtered_data.out)) : undefined})); return gd.on(&quot;plotly_click&quot;,(function (data){var filtered_data=WebIO.PlotlyCommands.filterEventData(gd,data,&quot;click&quot;); return !(filtered_data.isnil) ? (WebIO.setval({&quot;name&quot;:&quot;click&quot;,&quot;scope&quot;:&quot;scope-ac91f5c9-9506-491b-9bf7-88096305d988&quot;,&quot;id&quot;:&quot;ob_173&quot;,&quot;type&quot;:&quot;observable&quot;},filtered_data.out)) : undefined}))})]},&quot;_downloadImage&quot;:[(function (options){return this.Plotly.downloadImage(this.plotElem,options)})],&quot;_commands&quot;:[(function (args){var fn=args.shift(); var elem=this.plotElem; var Plotly=this.Plotly; args.unshift(elem); return Plotly[fn].apply(this,args)})]},&quot;systemjs_options&quot;:null,&quot;observables&quot;:{&quot;_toImage&quot;:{&quot;sync&quot;:false,&quot;id&quot;:&quot;ob_178&quot;,&quot;value&quot;:{}},&quot;hover&quot;:{&quot;sync&quot;:false,&quot;id&quot;:&quot;ob_171&quot;,&quot;value&quot;:{}},&quot;selected&quot;:{&quot;sync&quot;:false,&quot;id&quot;:&quot;ob_172&quot;,&quot;value&quot;:{}},&quot;__gd_contents&quot;:{&quot;sync&quot;:false,&quot;id&quot;:&quot;ob_176&quot;,&quot;value&quot;:{}},&quot;click&quot;:{&quot;sync&quot;:false,&quot;id&quot;:&quot;ob_173&quot;,&quot;value&quot;:{}},&quot;image&quot;:{&quot;sync&quot;:true,&quot;id&quot;:&quot;ob_175&quot;,&quot;value&quot;:&quot;&quot;},&quot;__get_gd_contents&quot;:{&quot;sync&quot;:false,&quot;id&quot;:&quot;ob_180&quot;,&quot;value&quot;:&quot;&quot;},&quot;_downloadImage&quot;:{&quot;sync&quot;:false,&quot;id&quot;:&quot;ob_179&quot;,&quot;value&quot;:{}},&quot;relayout&quot;:{&quot;sync&quot;:false,&quot;id&quot;:&quot;ob_174&quot;,&quot;value&quot;:{}},&quot;_commands&quot;:{&quot;sync&quot;:false,&quot;id&quot;:&quot;ob_177&quot;,&quot;value&quot;:[]}}},&quot;children&quot;:[{&quot;props&quot;:{&quot;id&quot;:&quot;plot-f6dfdae1-3402-4317-a266-a792f7a2825b&quot;},&quot;nodeType&quot;:&quot;DOM&quot;,&quot;type&quot;:&quot;node&quot;,&quot;instanceArgs&quot;:{&quot;namespace&quot;:&quot;html&quot;,&quot;tag&quot;:&quot;div&quot;},&quot;children&quot;:[]}]})</unsafe-script>"
      ],
      "text/plain": [
       "data: [\n",
       "  \"scatter with fields type, x, and y\"\n",
       "]\n",
       "\n",
       "layout: \"layout with field margin\"\n",
       "\n"
      ]
     },
     "execution_count": 26,
     "metadata": {},
     "output_type": "execute_result"
    }
   ],
   "source": [
    "myplot = rand_plot(10)"
   ]
  },
  {
   "cell_type": "code",
   "execution_count": 27,
   "metadata": {},
   "outputs": [],
   "source": [
    "restyle!(myplot, marker_color=\"ForestGreen\")"
   ]
  },
  {
   "cell_type": "code",
   "execution_count": 28,
   "metadata": {},
   "outputs": [],
   "source": [
    "relayout!(myplot,title = \"This is my title\")"
   ]
  },
  {
   "cell_type": "code",
   "execution_count": 29,
   "metadata": {},
   "outputs": [],
   "source": [
    "addtraces!(myplot,trace1)"
   ]
  },
  {
   "cell_type": "code",
   "execution_count": 30,
   "metadata": {},
   "outputs": [],
   "source": [
    "prependtraces!(myplot, 1, x=[[0.1, 0.2, 0.3, 1]], y=[rand(4)])"
   ]
  },
  {
   "cell_type": "code",
   "execution_count": 31,
   "metadata": {},
   "outputs": [],
   "source": [
    "deletetraces!(myplot, 2)"
   ]
  },
  {
   "cell_type": "markdown",
   "metadata": {},
   "source": [
    "### More Examples"
   ]
  },
  {
   "cell_type": "code",
   "execution_count": 32,
   "metadata": {},
   "outputs": [
    {
     "data": {
      "application/vnd.plotly.v1+json": {
       "data": [
        {
         "marker": {
          "color": "red",
          "size": 18,
          "symbol": "square"
         },
         "type": "scatter",
         "x": [
          1,
          2,
          3,
          4
         ],
         "y": [
          10,
          15,
          13,
          17
         ]
        }
       ],
       "layout": {
        "margin": {
         "b": 50,
         "l": 50,
         "r": 50,
         "t": 60
        }
       }
      },
      "text/html": [
       "<div class='display:none'></div><unsafe-script style='display:none'>\n",
       "WebIO.mount(this.previousSibling,{&quot;props&quot;:{},&quot;nodeType&quot;:&quot;Scope&quot;,&quot;type&quot;:&quot;node&quot;,&quot;instanceArgs&quot;:{&quot;imports&quot;:{&quot;data&quot;:[{&quot;name&quot;:&quot;Plotly&quot;,&quot;type&quot;:&quot;js&quot;,&quot;url&quot;:&quot;/assetserver/5311f9888b884b50e52f4a90fad64eb841288be8-plotly-latest.min.js&quot;},{&quot;name&quot;:null,&quot;type&quot;:&quot;js&quot;,&quot;url&quot;:&quot;/assetserver/5c351a91169f2a19a186af98699dd36a27fe8939-plotly_webio.bundle.js&quot;}],&quot;type&quot;:&quot;async_block&quot;},&quot;id&quot;:&quot;scope-3883a347-bfbf-4677-b3f9-075b074cf294&quot;,&quot;handlers&quot;:{&quot;_toImage&quot;:[(function (options){return this.Plotly.toImage(this.plotElem,options).then((function (data){return WebIO.setval({&quot;name&quot;:&quot;image&quot;,&quot;scope&quot;:&quot;scope-3883a347-bfbf-4677-b3f9-075b074cf294&quot;,&quot;id&quot;:&quot;ob_185&quot;,&quot;type&quot;:&quot;observable&quot;},data)}))})],&quot;__get_gd_contents&quot;:[(function (prop){prop==&quot;data&quot; ? (WebIO.setval({&quot;name&quot;:&quot;__gd_contents&quot;,&quot;scope&quot;:&quot;scope-3883a347-bfbf-4677-b3f9-075b074cf294&quot;,&quot;id&quot;:&quot;ob_186&quot;,&quot;type&quot;:&quot;observable&quot;},this.plotElem.data)) : undefined; return prop==&quot;layout&quot; ? (WebIO.setval({&quot;name&quot;:&quot;__gd_contents&quot;,&quot;scope&quot;:&quot;scope-3883a347-bfbf-4677-b3f9-075b074cf294&quot;,&quot;id&quot;:&quot;ob_186&quot;,&quot;type&quot;:&quot;observable&quot;},this.plotElem.layout)) : undefined})],&quot;_promises&quot;:{&quot;importsLoaded&quot;:[(function (Plotly){var gd=this.dom.querySelector(&quot;#plot-4ae520a6-08ac-4e9b-b99c-1ab4c39725c3&quot;); this.plotElem=gd; this.Plotly=Plotly; (window.Blink!==undefined) ? (gd.style.width=&quot;100%&quot;, gd.style.height=&quot;100vh&quot;, gd.style.marginLeft=&quot;0%&quot;, gd.style.marginTop=&quot;0vh&quot;) : undefined; window.onresize=(function (){return Plotly.Plots.resize(gd)}); Plotly.newPlot(gd,[{&quot;marker&quot;:{&quot;symbol&quot;:&quot;square&quot;,&quot;color&quot;:&quot;red&quot;,&quot;size&quot;:18},&quot;y&quot;:[10,15,13,17],&quot;type&quot;:&quot;scatter&quot;,&quot;x&quot;:[1,2,3,4]}],{&quot;margin&quot;:{&quot;l&quot;:50,&quot;b&quot;:50,&quot;r&quot;:50,&quot;t&quot;:60}},{}); gd.on(&quot;plotly_hover&quot;,(function (data){var filtered_data=WebIO.PlotlyCommands.filterEventData(gd,data,&quot;hover&quot;); return !(filtered_data.isnil) ? (WebIO.setval({&quot;name&quot;:&quot;hover&quot;,&quot;scope&quot;:&quot;scope-3883a347-bfbf-4677-b3f9-075b074cf294&quot;,&quot;id&quot;:&quot;ob_181&quot;,&quot;type&quot;:&quot;observable&quot;},filtered_data.out)) : undefined})); gd.on(&quot;plotly_unhover&quot;,(function (){return WebIO.setval({&quot;name&quot;:&quot;hover&quot;,&quot;scope&quot;:&quot;scope-3883a347-bfbf-4677-b3f9-075b074cf294&quot;,&quot;id&quot;:&quot;ob_181&quot;,&quot;type&quot;:&quot;observable&quot;},{})})); gd.on(&quot;plotly_selected&quot;,(function (data){var filtered_data=WebIO.PlotlyCommands.filterEventData(gd,data,&quot;selected&quot;); return !(filtered_data.isnil) ? (WebIO.setval({&quot;name&quot;:&quot;selected&quot;,&quot;scope&quot;:&quot;scope-3883a347-bfbf-4677-b3f9-075b074cf294&quot;,&quot;id&quot;:&quot;ob_182&quot;,&quot;type&quot;:&quot;observable&quot;},filtered_data.out)) : undefined})); gd.on(&quot;plotly_deselect&quot;,(function (){return WebIO.setval({&quot;name&quot;:&quot;selected&quot;,&quot;scope&quot;:&quot;scope-3883a347-bfbf-4677-b3f9-075b074cf294&quot;,&quot;id&quot;:&quot;ob_182&quot;,&quot;type&quot;:&quot;observable&quot;},{})})); gd.on(&quot;plotly_relayout&quot;,(function (data){var filtered_data=WebIO.PlotlyCommands.filterEventData(gd,data,&quot;relayout&quot;); return !(filtered_data.isnil) ? (WebIO.setval({&quot;name&quot;:&quot;relayout&quot;,&quot;scope&quot;:&quot;scope-3883a347-bfbf-4677-b3f9-075b074cf294&quot;,&quot;id&quot;:&quot;ob_184&quot;,&quot;type&quot;:&quot;observable&quot;},filtered_data.out)) : undefined})); return gd.on(&quot;plotly_click&quot;,(function (data){var filtered_data=WebIO.PlotlyCommands.filterEventData(gd,data,&quot;click&quot;); return !(filtered_data.isnil) ? (WebIO.setval({&quot;name&quot;:&quot;click&quot;,&quot;scope&quot;:&quot;scope-3883a347-bfbf-4677-b3f9-075b074cf294&quot;,&quot;id&quot;:&quot;ob_183&quot;,&quot;type&quot;:&quot;observable&quot;},filtered_data.out)) : undefined}))})]},&quot;_downloadImage&quot;:[(function (options){return this.Plotly.downloadImage(this.plotElem,options)})],&quot;_commands&quot;:[(function (args){var fn=args.shift(); var elem=this.plotElem; var Plotly=this.Plotly; args.unshift(elem); return Plotly[fn].apply(this,args)})]},&quot;systemjs_options&quot;:null,&quot;observables&quot;:{&quot;_toImage&quot;:{&quot;sync&quot;:false,&quot;id&quot;:&quot;ob_188&quot;,&quot;value&quot;:{}},&quot;hover&quot;:{&quot;sync&quot;:false,&quot;id&quot;:&quot;ob_181&quot;,&quot;value&quot;:{}},&quot;selected&quot;:{&quot;sync&quot;:false,&quot;id&quot;:&quot;ob_182&quot;,&quot;value&quot;:{}},&quot;__gd_contents&quot;:{&quot;sync&quot;:false,&quot;id&quot;:&quot;ob_186&quot;,&quot;value&quot;:{}},&quot;click&quot;:{&quot;sync&quot;:false,&quot;id&quot;:&quot;ob_183&quot;,&quot;value&quot;:{}},&quot;image&quot;:{&quot;sync&quot;:true,&quot;id&quot;:&quot;ob_185&quot;,&quot;value&quot;:&quot;&quot;},&quot;__get_gd_contents&quot;:{&quot;sync&quot;:false,&quot;id&quot;:&quot;ob_190&quot;,&quot;value&quot;:&quot;&quot;},&quot;_downloadImage&quot;:{&quot;sync&quot;:false,&quot;id&quot;:&quot;ob_189&quot;,&quot;value&quot;:{}},&quot;relayout&quot;:{&quot;sync&quot;:false,&quot;id&quot;:&quot;ob_184&quot;,&quot;value&quot;:{}},&quot;_commands&quot;:{&quot;sync&quot;:false,&quot;id&quot;:&quot;ob_187&quot;,&quot;value&quot;:[]}}},&quot;children&quot;:[{&quot;props&quot;:{&quot;id&quot;:&quot;plot-4ae520a6-08ac-4e9b-b99c-1ab4c39725c3&quot;},&quot;nodeType&quot;:&quot;DOM&quot;,&quot;type&quot;:&quot;node&quot;,&quot;instanceArgs&quot;:{&quot;namespace&quot;:&quot;html&quot;,&quot;tag&quot;:&quot;div&quot;},&quot;children&quot;:[]}]})</unsafe-script>"
      ],
      "text/plain": [
       "data: [\n",
       "  \"scatter with fields marker, type, x, and y\"\n",
       "]\n",
       "\n",
       "layout: \"layout with field margin\"\n",
       "\n"
      ]
     },
     "execution_count": 32,
     "metadata": {},
     "output_type": "execute_result"
    }
   ],
   "source": [
    "plot(scatter(x = [1,2,3,4],y = [10,15,13,17],marker_symbol=\"square\",marker_color=\"red\",marker_size=18))"
   ]
  },
  {
   "cell_type": "code",
   "execution_count": 33,
   "metadata": {},
   "outputs": [
    {
     "data": {
      "application/vnd.plotly.v1+json": {
       "data": [
        {
         "type": "box",
         "x": [
          0.7827870526693048,
          0.3323066826078922,
          0.8294744948790413,
          0.16810939918660073,
          0.40889159137417175,
          0.386369669950001,
          0.873064242633337,
          0.7852783541127528,
          0.5527942030544672,
          0.2933489766756714,
          0.9353339538047725,
          0.8181191165367441,
          0.3168227923179221,
          0.010108342739610032,
          0.06814517040762391,
          0.34079910666834223,
          0.5007656798926956,
          0.6835222210115481,
          0.5309548122699721,
          0.6142030794261861,
          0.6748789088735707,
          0.2008708445889622,
          0.05499716853762715,
          0.8529940580026614,
          0.7492836123328683,
          0.29198310651147197,
          0.3069346882310471,
          0.1318475293845145,
          0.8433599935416014,
          0.4767360644535288,
          0.3884675782507945,
          0.05849731338235986,
          0.6147499257699274,
          0.47173319916667134,
          0.6915732106177439,
          0.9710091423181726,
          0.3092651896070331,
          0.15059385794177516,
          0.2461845191241505,
          0.007219429263103594,
          0.8961578254414817,
          0.19555590125884525,
          0.4387591373804558,
          0.42298650668364335,
          0.7881968939635846,
          0.5323338335422323,
          0.9302092935676898,
          0.0829001099861657,
          0.8266489991830896,
          0.7783581298596784
         ]
        }
       ],
       "layout": {
        "margin": {
         "b": 50,
         "l": 50,
         "r": 50,
         "t": 60
        }
       }
      },
      "text/html": [
       "<div class='display:none'></div><unsafe-script style='display:none'>\n",
       "WebIO.mount(this.previousSibling,{&quot;props&quot;:{},&quot;nodeType&quot;:&quot;Scope&quot;,&quot;type&quot;:&quot;node&quot;,&quot;instanceArgs&quot;:{&quot;imports&quot;:{&quot;data&quot;:[{&quot;name&quot;:&quot;Plotly&quot;,&quot;type&quot;:&quot;js&quot;,&quot;url&quot;:&quot;/assetserver/5311f9888b884b50e52f4a90fad64eb841288be8-plotly-latest.min.js&quot;},{&quot;name&quot;:null,&quot;type&quot;:&quot;js&quot;,&quot;url&quot;:&quot;/assetserver/5c351a91169f2a19a186af98699dd36a27fe8939-plotly_webio.bundle.js&quot;}],&quot;type&quot;:&quot;async_block&quot;},&quot;id&quot;:&quot;scope-09e92ebc-a912-45ec-ab77-992bcb62cda8&quot;,&quot;handlers&quot;:{&quot;_toImage&quot;:[(function (options){return this.Plotly.toImage(this.plotElem,options).then((function (data){return WebIO.setval({&quot;name&quot;:&quot;image&quot;,&quot;scope&quot;:&quot;scope-09e92ebc-a912-45ec-ab77-992bcb62cda8&quot;,&quot;id&quot;:&quot;ob_195&quot;,&quot;type&quot;:&quot;observable&quot;},data)}))})],&quot;__get_gd_contents&quot;:[(function (prop){prop==&quot;data&quot; ? (WebIO.setval({&quot;name&quot;:&quot;__gd_contents&quot;,&quot;scope&quot;:&quot;scope-09e92ebc-a912-45ec-ab77-992bcb62cda8&quot;,&quot;id&quot;:&quot;ob_196&quot;,&quot;type&quot;:&quot;observable&quot;},this.plotElem.data)) : undefined; return prop==&quot;layout&quot; ? (WebIO.setval({&quot;name&quot;:&quot;__gd_contents&quot;,&quot;scope&quot;:&quot;scope-09e92ebc-a912-45ec-ab77-992bcb62cda8&quot;,&quot;id&quot;:&quot;ob_196&quot;,&quot;type&quot;:&quot;observable&quot;},this.plotElem.layout)) : undefined})],&quot;_promises&quot;:{&quot;importsLoaded&quot;:[(function (Plotly){var gd=this.dom.querySelector(&quot;#plot-b7f0c560-cf19-4e4d-8c45-8e7c9857d24a&quot;); this.plotElem=gd; this.Plotly=Plotly; (window.Blink!==undefined) ? (gd.style.width=&quot;100%&quot;, gd.style.height=&quot;100vh&quot;, gd.style.marginLeft=&quot;0%&quot;, gd.style.marginTop=&quot;0vh&quot;) : undefined; window.onresize=(function (){return Plotly.Plots.resize(gd)}); Plotly.newPlot(gd,[{&quot;type&quot;:&quot;box&quot;,&quot;x&quot;:[0.7827870526693048,0.3323066826078922,0.8294744948790413,0.16810939918660073,0.40889159137417175,0.386369669950001,0.873064242633337,0.7852783541127528,0.5527942030544672,0.2933489766756714,0.9353339538047725,0.8181191165367441,0.3168227923179221,0.010108342739610032,0.06814517040762391,0.34079910666834223,0.5007656798926956,0.6835222210115481,0.5309548122699721,0.6142030794261861,0.6748789088735707,0.2008708445889622,0.05499716853762715,0.8529940580026614,0.7492836123328683,0.29198310651147197,0.3069346882310471,0.1318475293845145,0.8433599935416014,0.4767360644535288,0.3884675782507945,0.05849731338235986,0.6147499257699274,0.47173319916667134,0.6915732106177439,0.9710091423181726,0.3092651896070331,0.15059385794177516,0.2461845191241505,0.007219429263103594,0.8961578254414817,0.19555590125884525,0.4387591373804558,0.42298650668364335,0.7881968939635846,0.5323338335422323,0.9302092935676898,0.0829001099861657,0.8266489991830896,0.7783581298596784]}],{&quot;margin&quot;:{&quot;l&quot;:50,&quot;b&quot;:50,&quot;r&quot;:50,&quot;t&quot;:60}},{}); gd.on(&quot;plotly_hover&quot;,(function (data){var filtered_data=WebIO.PlotlyCommands.filterEventData(gd,data,&quot;hover&quot;); return !(filtered_data.isnil) ? (WebIO.setval({&quot;name&quot;:&quot;hover&quot;,&quot;scope&quot;:&quot;scope-09e92ebc-a912-45ec-ab77-992bcb62cda8&quot;,&quot;id&quot;:&quot;ob_191&quot;,&quot;type&quot;:&quot;observable&quot;},filtered_data.out)) : undefined})); gd.on(&quot;plotly_unhover&quot;,(function (){return WebIO.setval({&quot;name&quot;:&quot;hover&quot;,&quot;scope&quot;:&quot;scope-09e92ebc-a912-45ec-ab77-992bcb62cda8&quot;,&quot;id&quot;:&quot;ob_191&quot;,&quot;type&quot;:&quot;observable&quot;},{})})); gd.on(&quot;plotly_selected&quot;,(function (data){var filtered_data=WebIO.PlotlyCommands.filterEventData(gd,data,&quot;selected&quot;); return !(filtered_data.isnil) ? (WebIO.setval({&quot;name&quot;:&quot;selected&quot;,&quot;scope&quot;:&quot;scope-09e92ebc-a912-45ec-ab77-992bcb62cda8&quot;,&quot;id&quot;:&quot;ob_192&quot;,&quot;type&quot;:&quot;observable&quot;},filtered_data.out)) : undefined})); gd.on(&quot;plotly_deselect&quot;,(function (){return WebIO.setval({&quot;name&quot;:&quot;selected&quot;,&quot;scope&quot;:&quot;scope-09e92ebc-a912-45ec-ab77-992bcb62cda8&quot;,&quot;id&quot;:&quot;ob_192&quot;,&quot;type&quot;:&quot;observable&quot;},{})})); gd.on(&quot;plotly_relayout&quot;,(function (data){var filtered_data=WebIO.PlotlyCommands.filterEventData(gd,data,&quot;relayout&quot;); return !(filtered_data.isnil) ? (WebIO.setval({&quot;name&quot;:&quot;relayout&quot;,&quot;scope&quot;:&quot;scope-09e92ebc-a912-45ec-ab77-992bcb62cda8&quot;,&quot;id&quot;:&quot;ob_194&quot;,&quot;type&quot;:&quot;observable&quot;},filtered_data.out)) : undefined})); return gd.on(&quot;plotly_click&quot;,(function (data){var filtered_data=WebIO.PlotlyCommands.filterEventData(gd,data,&quot;click&quot;); return !(filtered_data.isnil) ? (WebIO.setval({&quot;name&quot;:&quot;click&quot;,&quot;scope&quot;:&quot;scope-09e92ebc-a912-45ec-ab77-992bcb62cda8&quot;,&quot;id&quot;:&quot;ob_193&quot;,&quot;type&quot;:&quot;observable&quot;},filtered_data.out)) : undefined}))})]},&quot;_downloadImage&quot;:[(function (options){return this.Plotly.downloadImage(this.plotElem,options)})],&quot;_commands&quot;:[(function (args){var fn=args.shift(); var elem=this.plotElem; var Plotly=this.Plotly; args.unshift(elem); return Plotly[fn].apply(this,args)})]},&quot;systemjs_options&quot;:null,&quot;observables&quot;:{&quot;_toImage&quot;:{&quot;sync&quot;:false,&quot;id&quot;:&quot;ob_198&quot;,&quot;value&quot;:{}},&quot;hover&quot;:{&quot;sync&quot;:false,&quot;id&quot;:&quot;ob_191&quot;,&quot;value&quot;:{}},&quot;selected&quot;:{&quot;sync&quot;:false,&quot;id&quot;:&quot;ob_192&quot;,&quot;value&quot;:{}},&quot;__gd_contents&quot;:{&quot;sync&quot;:false,&quot;id&quot;:&quot;ob_196&quot;,&quot;value&quot;:{}},&quot;click&quot;:{&quot;sync&quot;:false,&quot;id&quot;:&quot;ob_193&quot;,&quot;value&quot;:{}},&quot;image&quot;:{&quot;sync&quot;:true,&quot;id&quot;:&quot;ob_195&quot;,&quot;value&quot;:&quot;&quot;},&quot;__get_gd_contents&quot;:{&quot;sync&quot;:false,&quot;id&quot;:&quot;ob_200&quot;,&quot;value&quot;:&quot;&quot;},&quot;_downloadImage&quot;:{&quot;sync&quot;:false,&quot;id&quot;:&quot;ob_199&quot;,&quot;value&quot;:{}},&quot;relayout&quot;:{&quot;sync&quot;:false,&quot;id&quot;:&quot;ob_194&quot;,&quot;value&quot;:{}},&quot;_commands&quot;:{&quot;sync&quot;:false,&quot;id&quot;:&quot;ob_197&quot;,&quot;value&quot;:[]}}},&quot;children&quot;:[{&quot;props&quot;:{&quot;id&quot;:&quot;plot-b7f0c560-cf19-4e4d-8c45-8e7c9857d24a&quot;},&quot;nodeType&quot;:&quot;DOM&quot;,&quot;type&quot;:&quot;node&quot;,&quot;instanceArgs&quot;:{&quot;namespace&quot;:&quot;html&quot;,&quot;tag&quot;:&quot;div&quot;},&quot;children&quot;:[]}]})</unsafe-script>"
      ],
      "text/plain": [
       "data: [\n",
       "  \"box with fields type and x\"\n",
       "]\n",
       "\n",
       "layout: \"layout with field margin\"\n",
       "\n"
      ]
     },
     "execution_count": 33,
     "metadata": {},
     "output_type": "execute_result"
    }
   ],
   "source": [
    "# box plot\n",
    "plot(box(x = rand(50)))"
   ]
  },
  {
   "cell_type": "code",
   "execution_count": 34,
   "metadata": {},
   "outputs": [
    {
     "data": {
      "application/vnd.plotly.v1+json": {
       "data": [
        {
         "notched": true,
         "type": "box",
         "x": [
          0.4950326207539548,
          0.4297818525449393,
          0.628615456223554,
          0.11638982776751683,
          0.6560593604007183,
          0.14098991967569408,
          0.515725738376932,
          0.7815094257371595,
          0.002639392607240776,
          0.9204927039921063,
          0.17703883966161515,
          0.6044117867578211,
          0.5205921669121221,
          0.977279746486855,
          0.9933830146403451,
          0.6614500974186381,
          0.48030953467182735,
          0.3283192017783605,
          0.7811683927402675,
          0.7769183889912843,
          0.7105575481856043,
          0.48993782305417644,
          0.3173880742834305,
          0.475911564159317,
          0.4425013051371163,
          0.42196306947632967,
          0.6320484776284048,
          0.07059333104645349,
          0.14635657635219124,
          0.39117243340560415,
          0.9049699605554493,
          0.0688601467518617,
          0.5207702913354548,
          0.8970941051390624,
          0.29293261795158965,
          0.2646823715472413,
          0.6680320278800593,
          0.035227723127206456,
          0.8498605016870051,
          0.2135035128835776,
          0.4579071724214525,
          0.7172649265135045,
          0.6185748743738453,
          0.846585526515703,
          0.8835452943126367,
          0.199287635790101,
          0.49036355933259257,
          0.9721743113690979,
          0.3444541498062208,
          0.8655225777753823
         ]
        }
       ],
       "layout": {
        "margin": {
         "b": 50,
         "l": 50,
         "r": 50,
         "t": 60
        }
       }
      },
      "text/html": [
       "<div class='display:none'></div><unsafe-script style='display:none'>\n",
       "WebIO.mount(this.previousSibling,{&quot;props&quot;:{},&quot;nodeType&quot;:&quot;Scope&quot;,&quot;type&quot;:&quot;node&quot;,&quot;instanceArgs&quot;:{&quot;imports&quot;:{&quot;data&quot;:[{&quot;name&quot;:&quot;Plotly&quot;,&quot;type&quot;:&quot;js&quot;,&quot;url&quot;:&quot;/assetserver/5311f9888b884b50e52f4a90fad64eb841288be8-plotly-latest.min.js&quot;},{&quot;name&quot;:null,&quot;type&quot;:&quot;js&quot;,&quot;url&quot;:&quot;/assetserver/5c351a91169f2a19a186af98699dd36a27fe8939-plotly_webio.bundle.js&quot;}],&quot;type&quot;:&quot;async_block&quot;},&quot;id&quot;:&quot;scope-55257fa0-2a0a-4d10-a7b6-2e934f83ee4a&quot;,&quot;handlers&quot;:{&quot;_toImage&quot;:[(function (options){return this.Plotly.toImage(this.plotElem,options).then((function (data){return WebIO.setval({&quot;name&quot;:&quot;image&quot;,&quot;scope&quot;:&quot;scope-55257fa0-2a0a-4d10-a7b6-2e934f83ee4a&quot;,&quot;id&quot;:&quot;ob_205&quot;,&quot;type&quot;:&quot;observable&quot;},data)}))})],&quot;__get_gd_contents&quot;:[(function (prop){prop==&quot;data&quot; ? (WebIO.setval({&quot;name&quot;:&quot;__gd_contents&quot;,&quot;scope&quot;:&quot;scope-55257fa0-2a0a-4d10-a7b6-2e934f83ee4a&quot;,&quot;id&quot;:&quot;ob_206&quot;,&quot;type&quot;:&quot;observable&quot;},this.plotElem.data)) : undefined; return prop==&quot;layout&quot; ? (WebIO.setval({&quot;name&quot;:&quot;__gd_contents&quot;,&quot;scope&quot;:&quot;scope-55257fa0-2a0a-4d10-a7b6-2e934f83ee4a&quot;,&quot;id&quot;:&quot;ob_206&quot;,&quot;type&quot;:&quot;observable&quot;},this.plotElem.layout)) : undefined})],&quot;_promises&quot;:{&quot;importsLoaded&quot;:[(function (Plotly){var gd=this.dom.querySelector(&quot;#plot-876f45b2-77dc-48fa-a904-2f20a73b7305&quot;); this.plotElem=gd; this.Plotly=Plotly; (window.Blink!==undefined) ? (gd.style.width=&quot;100%&quot;, gd.style.height=&quot;100vh&quot;, gd.style.marginLeft=&quot;0%&quot;, gd.style.marginTop=&quot;0vh&quot;) : undefined; window.onresize=(function (){return Plotly.Plots.resize(gd)}); Plotly.newPlot(gd,[{&quot;type&quot;:&quot;box&quot;,&quot;notched&quot;:true,&quot;x&quot;:[0.4950326207539548,0.4297818525449393,0.628615456223554,0.11638982776751683,0.6560593604007183,0.14098991967569408,0.515725738376932,0.7815094257371595,0.002639392607240776,0.9204927039921063,0.17703883966161515,0.6044117867578211,0.5205921669121221,0.977279746486855,0.9933830146403451,0.6614500974186381,0.48030953467182735,0.3283192017783605,0.7811683927402675,0.7769183889912843,0.7105575481856043,0.48993782305417644,0.3173880742834305,0.475911564159317,0.4425013051371163,0.42196306947632967,0.6320484776284048,0.07059333104645349,0.14635657635219124,0.39117243340560415,0.9049699605554493,0.0688601467518617,0.5207702913354548,0.8970941051390624,0.29293261795158965,0.2646823715472413,0.6680320278800593,0.035227723127206456,0.8498605016870051,0.2135035128835776,0.4579071724214525,0.7172649265135045,0.6185748743738453,0.846585526515703,0.8835452943126367,0.199287635790101,0.49036355933259257,0.9721743113690979,0.3444541498062208,0.8655225777753823]}],{&quot;margin&quot;:{&quot;l&quot;:50,&quot;b&quot;:50,&quot;r&quot;:50,&quot;t&quot;:60}},{}); gd.on(&quot;plotly_hover&quot;,(function (data){var filtered_data=WebIO.PlotlyCommands.filterEventData(gd,data,&quot;hover&quot;); return !(filtered_data.isnil) ? (WebIO.setval({&quot;name&quot;:&quot;hover&quot;,&quot;scope&quot;:&quot;scope-55257fa0-2a0a-4d10-a7b6-2e934f83ee4a&quot;,&quot;id&quot;:&quot;ob_201&quot;,&quot;type&quot;:&quot;observable&quot;},filtered_data.out)) : undefined})); gd.on(&quot;plotly_unhover&quot;,(function (){return WebIO.setval({&quot;name&quot;:&quot;hover&quot;,&quot;scope&quot;:&quot;scope-55257fa0-2a0a-4d10-a7b6-2e934f83ee4a&quot;,&quot;id&quot;:&quot;ob_201&quot;,&quot;type&quot;:&quot;observable&quot;},{})})); gd.on(&quot;plotly_selected&quot;,(function (data){var filtered_data=WebIO.PlotlyCommands.filterEventData(gd,data,&quot;selected&quot;); return !(filtered_data.isnil) ? (WebIO.setval({&quot;name&quot;:&quot;selected&quot;,&quot;scope&quot;:&quot;scope-55257fa0-2a0a-4d10-a7b6-2e934f83ee4a&quot;,&quot;id&quot;:&quot;ob_202&quot;,&quot;type&quot;:&quot;observable&quot;},filtered_data.out)) : undefined})); gd.on(&quot;plotly_deselect&quot;,(function (){return WebIO.setval({&quot;name&quot;:&quot;selected&quot;,&quot;scope&quot;:&quot;scope-55257fa0-2a0a-4d10-a7b6-2e934f83ee4a&quot;,&quot;id&quot;:&quot;ob_202&quot;,&quot;type&quot;:&quot;observable&quot;},{})})); gd.on(&quot;plotly_relayout&quot;,(function (data){var filtered_data=WebIO.PlotlyCommands.filterEventData(gd,data,&quot;relayout&quot;); return !(filtered_data.isnil) ? (WebIO.setval({&quot;name&quot;:&quot;relayout&quot;,&quot;scope&quot;:&quot;scope-55257fa0-2a0a-4d10-a7b6-2e934f83ee4a&quot;,&quot;id&quot;:&quot;ob_204&quot;,&quot;type&quot;:&quot;observable&quot;},filtered_data.out)) : undefined})); return gd.on(&quot;plotly_click&quot;,(function (data){var filtered_data=WebIO.PlotlyCommands.filterEventData(gd,data,&quot;click&quot;); return !(filtered_data.isnil) ? (WebIO.setval({&quot;name&quot;:&quot;click&quot;,&quot;scope&quot;:&quot;scope-55257fa0-2a0a-4d10-a7b6-2e934f83ee4a&quot;,&quot;id&quot;:&quot;ob_203&quot;,&quot;type&quot;:&quot;observable&quot;},filtered_data.out)) : undefined}))})]},&quot;_downloadImage&quot;:[(function (options){return this.Plotly.downloadImage(this.plotElem,options)})],&quot;_commands&quot;:[(function (args){var fn=args.shift(); var elem=this.plotElem; var Plotly=this.Plotly; args.unshift(elem); return Plotly[fn].apply(this,args)})]},&quot;systemjs_options&quot;:null,&quot;observables&quot;:{&quot;_toImage&quot;:{&quot;sync&quot;:false,&quot;id&quot;:&quot;ob_208&quot;,&quot;value&quot;:{}},&quot;hover&quot;:{&quot;sync&quot;:false,&quot;id&quot;:&quot;ob_201&quot;,&quot;value&quot;:{}},&quot;selected&quot;:{&quot;sync&quot;:false,&quot;id&quot;:&quot;ob_202&quot;,&quot;value&quot;:{}},&quot;__gd_contents&quot;:{&quot;sync&quot;:false,&quot;id&quot;:&quot;ob_206&quot;,&quot;value&quot;:{}},&quot;click&quot;:{&quot;sync&quot;:false,&quot;id&quot;:&quot;ob_203&quot;,&quot;value&quot;:{}},&quot;image&quot;:{&quot;sync&quot;:true,&quot;id&quot;:&quot;ob_205&quot;,&quot;value&quot;:&quot;&quot;},&quot;__get_gd_contents&quot;:{&quot;sync&quot;:false,&quot;id&quot;:&quot;ob_210&quot;,&quot;value&quot;:&quot;&quot;},&quot;_downloadImage&quot;:{&quot;sync&quot;:false,&quot;id&quot;:&quot;ob_209&quot;,&quot;value&quot;:{}},&quot;relayout&quot;:{&quot;sync&quot;:false,&quot;id&quot;:&quot;ob_204&quot;,&quot;value&quot;:{}},&quot;_commands&quot;:{&quot;sync&quot;:false,&quot;id&quot;:&quot;ob_207&quot;,&quot;value&quot;:[]}}},&quot;children&quot;:[{&quot;props&quot;:{&quot;id&quot;:&quot;plot-876f45b2-77dc-48fa-a904-2f20a73b7305&quot;},&quot;nodeType&quot;:&quot;DOM&quot;,&quot;type&quot;:&quot;node&quot;,&quot;instanceArgs&quot;:{&quot;namespace&quot;:&quot;html&quot;,&quot;tag&quot;:&quot;div&quot;},&quot;children&quot;:[]}]})</unsafe-script>"
      ],
      "text/plain": [
       "data: [\n",
       "  \"box with fields notched, type, and x\"\n",
       "]\n",
       "\n",
       "layout: \"layout with field margin\"\n",
       "\n"
      ]
     },
     "execution_count": 34,
     "metadata": {},
     "output_type": "execute_result"
    }
   ],
   "source": [
    "# notched box plot\n",
    "plot(box(x = rand(50),notched=true))"
   ]
  }
 ],
 "metadata": {
  "kernelspec": {
   "display_name": "Julia 1.5.2",
   "language": "julia",
   "name": "julia-1.5"
  },
  "language_info": {
   "file_extension": ".jl",
   "mimetype": "application/julia",
   "name": "julia",
   "version": "1.5.2"
  }
 },
 "nbformat": 4,
 "nbformat_minor": 4
}
