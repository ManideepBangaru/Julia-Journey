{
 "cells": [
  {
   "cell_type": "markdown",
   "metadata": {},
   "source": [
    "## Setup the environment"
   ]
  },
  {
   "cell_type": "code",
   "execution_count": 1,
   "metadata": {},
   "outputs": [
    {
     "data": {
      "text/plain": [
       "v\"1.5.2\""
      ]
     },
     "execution_count": 1,
     "metadata": {},
     "output_type": "execute_result"
    }
   ],
   "source": [
    "VERSION"
   ]
  },
  {
   "cell_type": "code",
   "execution_count": 2,
   "metadata": {},
   "outputs": [
    {
     "data": {
      "text/plain": [
       "\"/Users/manideepbangaru/Documents/Julia-Journey\""
      ]
     },
     "execution_count": 2,
     "metadata": {},
     "output_type": "execute_result"
    }
   ],
   "source": [
    "pwd()"
   ]
  },
  {
   "cell_type": "code",
   "execution_count": 3,
   "metadata": {},
   "outputs": [],
   "source": [
    "cd(\"/Users/manideepbangaru/Documents/Julia-Journey/Datasets\")"
   ]
  },
  {
   "cell_type": "code",
   "execution_count": 4,
   "metadata": {},
   "outputs": [
    {
     "data": {
      "text/plain": [
       "\"/Users/manideepbangaru/Documents/Julia-Journey/Datasets\""
      ]
     },
     "execution_count": 4,
     "metadata": {},
     "output_type": "execute_result"
    }
   ],
   "source": [
    "pwd()"
   ]
  },
  {
   "cell_type": "markdown",
   "metadata": {},
   "source": [
    "To check whether we have files in the directory or not"
   ]
  },
  {
   "cell_type": "code",
   "execution_count": 5,
   "metadata": {},
   "outputs": [
    {
     "data": {
      "text/plain": [
       "2-element BitArray{1}:\n",
       " 1\n",
       " 1"
      ]
     },
     "execution_count": 5,
     "metadata": {},
     "output_type": "execute_result"
    }
   ],
   "source": [
    "isfile.([\"Project.toml\",\"Manifest.toml\"])"
   ]
  },
  {
   "cell_type": "markdown",
   "metadata": {},
   "source": [
    "To check the versions of the packages"
   ]
  },
  {
   "cell_type": "code",
   "execution_count": 6,
   "metadata": {},
   "outputs": [
    {
     "name": "stdout",
     "output_type": "stream",
     "text": [
      "\u001b[32m\u001b[1mStatus\u001b[22m\u001b[39m `~/.julia/environments/v1.5/Project.toml`\n",
      " \u001b[90m [6e4b80f9] \u001b[39m\u001b[37mBenchmarkTools v0.5.0\u001b[39m\n",
      " \u001b[90m [5ae59095] \u001b[39m\u001b[37mColors v0.12.4\u001b[39m\n",
      " \u001b[90m [a93c6f00] \u001b[39m\u001b[37mDataFrames v0.20.2\u001b[39m\n",
      " \u001b[90m [31c24e10] \u001b[39m\u001b[37mDistributions v0.24.3\u001b[39m\n",
      " \u001b[90m [7876af07] \u001b[39m\u001b[37mExample v0.5.3\u001b[39m\n",
      " \u001b[90m [38e38edf] \u001b[39m\u001b[37mGLM v1.3.11\u001b[39m\n",
      " \u001b[90m [7073ff75] \u001b[39m\u001b[37mIJulia v1.23.0\u001b[39m\n",
      " \u001b[90m [47be7bcc] \u001b[39m\u001b[37mORCA v0.5.0\u001b[39m\n",
      " \u001b[90m [58dd65bb] \u001b[39m\u001b[37mPlotly v0.3.0\u001b[39m\n",
      " \u001b[90m [f0f68f2c] \u001b[39m\u001b[37mPlotlyJS v0.12.3\u001b[39m\n",
      " \u001b[90m [91a5bcdd] \u001b[39m\u001b[37mPlots v1.3.3\u001b[39m\n",
      " \u001b[90m [d330b81b] \u001b[39m\u001b[37mPyPlot v2.9.0\u001b[39m\n",
      " \u001b[90m [ce6b1742] \u001b[39m\u001b[37mRDatasets v0.7.1\u001b[39m\n",
      " \u001b[90m [0f1e0344] \u001b[39m\u001b[37mWebIO v0.4.2\u001b[39m\n",
      " \u001b[90m [37e2e46d] \u001b[39m\u001b[37mLinearAlgebra\u001b[39m\n"
     ]
    }
   ],
   "source": [
    "] status"
   ]
  },
  {
   "cell_type": "markdown",
   "metadata": {},
   "source": [
    "If above command gives any warning as package not found, then execute the below command"
   ]
  },
  {
   "cell_type": "code",
   "execution_count": 7,
   "metadata": {},
   "outputs": [],
   "source": [
    "] instantiate"
   ]
  },
  {
   "cell_type": "markdown",
   "metadata": {},
   "source": [
    "## First steps with dataframes"
   ]
  },
  {
   "cell_type": "markdown",
   "metadata": {},
   "source": [
    "### We start with loading the required packages"
   ]
  },
  {
   "cell_type": "code",
   "execution_count": 6,
   "metadata": {},
   "outputs": [],
   "source": [
    "using DataFrames"
   ]
  },
  {
   "cell_type": "code",
   "execution_count": 7,
   "metadata": {},
   "outputs": [],
   "source": [
    "using Statistics"
   ]
  },
  {
   "cell_type": "code",
   "execution_count": 23,
   "metadata": {},
   "outputs": [],
   "source": [
    "#import Pkg\n",
    "#Pkg.add(\"PyPlot\")"
   ]
  },
  {
   "cell_type": "code",
   "execution_count": 8,
   "metadata": {},
   "outputs": [],
   "source": [
    "using PyPlot"
   ]
  },
  {
   "cell_type": "code",
   "execution_count": 9,
   "metadata": {},
   "outputs": [],
   "source": [
    "# Pkg.add(\"GLM\")"
   ]
  },
  {
   "cell_type": "code",
   "execution_count": 10,
   "metadata": {},
   "outputs": [],
   "source": [
    "using GLM"
   ]
  },
  {
   "cell_type": "markdown",
   "metadata": {},
   "source": [
    "### This is a matrix in which we store 8 columns representing Anscombe's quartet data"
   ]
  },
  {
   "cell_type": "code",
   "execution_count": 15,
   "metadata": {},
   "outputs": [
    {
     "data": {
      "text/plain": [
       "11×8 Array{Float64,2}:\n",
       " 10.0   8.04  10.0  9.14  10.0   7.46   8.0   6.58\n",
       "  8.0   6.95   8.0  8.14   8.0   6.77   8.0   5.76\n",
       " 13.0   7.58  13.0  8.74  13.0  12.74   8.0   7.71\n",
       "  9.0   8.81   9.0  8.77   9.0   7.11   8.0   8.84\n",
       " 11.0   8.33  11.0  9.26  11.0   7.81   8.0   8.47\n",
       " 14.0   9.96  14.0  8.1   14.0   8.84   8.0   7.04\n",
       "  6.0   7.24   6.0  6.13   6.0   6.08   8.0   5.25\n",
       "  4.0   4.26   4.0  3.1    4.0   5.39  19.0  12.5\n",
       " 12.0  10.84  12.0  9.13  12.0   8.15   8.0   5.56\n",
       "  7.0   4.82   7.0  7.26   7.0   6.42   8.0   7.91\n",
       "  5.0   5.68   5.0  4.74   5.0   5.73   8.0   6.89"
      ]
     },
     "execution_count": 15,
     "metadata": {},
     "output_type": "execute_result"
    }
   ],
   "source": [
    "aq = [10.0   8.04  10.0  9.14  10.0   7.46   8.0   6.58\n",
    "       8.0   6.95   8.0  8.14   8.0   6.77   8.0   5.76\n",
    "      13.0   7.58  13.0  8.74  13.0  12.74   8.0   7.71\n",
    "       9.0   8.81   9.0  8.77   9.0   7.11   8.0   8.84\n",
    "      11.0   8.33  11.0  9.26  11.0   7.81   8.0   8.47\n",
    "      14.0   9.96  14.0  8.1   14.0   8.84   8.0   7.04\n",
    "       6.0   7.24   6.0  6.13   6.0   6.08   8.0   5.25\n",
    "       4.0   4.26   4.0  3.1    4.0   5.39  19.0  12.50 \n",
    "      12.0  10.84  12.0  9.13  12.0   8.15   8.0   5.56\n",
    "       7.0   4.82   7.0  7.26   7.0   6.42   8.0   7.91\n",
    "       5.0   5.68   5.0  4.74   5.0   5.73   8.0   6.89]"
   ]
  },
  {
   "cell_type": "markdown",
   "metadata": {},
   "source": [
    "### We can simply construct a dataframe as follows"
   ]
  },
  {
   "cell_type": "code",
   "execution_count": 16,
   "metadata": {},
   "outputs": [
    {
     "data": {
      "text/html": [
       "<table class=\"data-frame\"><thead><tr><th></th><th>x1</th><th>x2</th><th>x3</th><th>x4</th><th>x5</th><th>x6</th><th>x7</th><th>x8</th></tr><tr><th></th><th>Float64</th><th>Float64</th><th>Float64</th><th>Float64</th><th>Float64</th><th>Float64</th><th>Float64</th><th>Float64</th></tr></thead><tbody><p>11 rows × 8 columns</p><tr><th>1</th><td>10.0</td><td>8.04</td><td>10.0</td><td>9.14</td><td>10.0</td><td>7.46</td><td>8.0</td><td>6.58</td></tr><tr><th>2</th><td>8.0</td><td>6.95</td><td>8.0</td><td>8.14</td><td>8.0</td><td>6.77</td><td>8.0</td><td>5.76</td></tr><tr><th>3</th><td>13.0</td><td>7.58</td><td>13.0</td><td>8.74</td><td>13.0</td><td>12.74</td><td>8.0</td><td>7.71</td></tr><tr><th>4</th><td>9.0</td><td>8.81</td><td>9.0</td><td>8.77</td><td>9.0</td><td>7.11</td><td>8.0</td><td>8.84</td></tr><tr><th>5</th><td>11.0</td><td>8.33</td><td>11.0</td><td>9.26</td><td>11.0</td><td>7.81</td><td>8.0</td><td>8.47</td></tr><tr><th>6</th><td>14.0</td><td>9.96</td><td>14.0</td><td>8.1</td><td>14.0</td><td>8.84</td><td>8.0</td><td>7.04</td></tr><tr><th>7</th><td>6.0</td><td>7.24</td><td>6.0</td><td>6.13</td><td>6.0</td><td>6.08</td><td>8.0</td><td>5.25</td></tr><tr><th>8</th><td>4.0</td><td>4.26</td><td>4.0</td><td>3.1</td><td>4.0</td><td>5.39</td><td>19.0</td><td>12.5</td></tr><tr><th>9</th><td>12.0</td><td>10.84</td><td>12.0</td><td>9.13</td><td>12.0</td><td>8.15</td><td>8.0</td><td>5.56</td></tr><tr><th>10</th><td>7.0</td><td>4.82</td><td>7.0</td><td>7.26</td><td>7.0</td><td>6.42</td><td>8.0</td><td>7.91</td></tr><tr><th>11</th><td>5.0</td><td>5.68</td><td>5.0</td><td>4.74</td><td>5.0</td><td>5.73</td><td>8.0</td><td>6.89</td></tr></tbody></table>"
      ],
      "text/latex": [
       "\\begin{tabular}{r|cccccccc}\n",
       "\t& x1 & x2 & x3 & x4 & x5 & x6 & x7 & x8\\\\\n",
       "\t\\hline\n",
       "\t& Float64 & Float64 & Float64 & Float64 & Float64 & Float64 & Float64 & Float64\\\\\n",
       "\t\\hline\n",
       "\t1 & 10.0 & 8.04 & 10.0 & 9.14 & 10.0 & 7.46 & 8.0 & 6.58 \\\\\n",
       "\t2 & 8.0 & 6.95 & 8.0 & 8.14 & 8.0 & 6.77 & 8.0 & 5.76 \\\\\n",
       "\t3 & 13.0 & 7.58 & 13.0 & 8.74 & 13.0 & 12.74 & 8.0 & 7.71 \\\\\n",
       "\t4 & 9.0 & 8.81 & 9.0 & 8.77 & 9.0 & 7.11 & 8.0 & 8.84 \\\\\n",
       "\t5 & 11.0 & 8.33 & 11.0 & 9.26 & 11.0 & 7.81 & 8.0 & 8.47 \\\\\n",
       "\t6 & 14.0 & 9.96 & 14.0 & 8.1 & 14.0 & 8.84 & 8.0 & 7.04 \\\\\n",
       "\t7 & 6.0 & 7.24 & 6.0 & 6.13 & 6.0 & 6.08 & 8.0 & 5.25 \\\\\n",
       "\t8 & 4.0 & 4.26 & 4.0 & 3.1 & 4.0 & 5.39 & 19.0 & 12.5 \\\\\n",
       "\t9 & 12.0 & 10.84 & 12.0 & 9.13 & 12.0 & 8.15 & 8.0 & 5.56 \\\\\n",
       "\t10 & 7.0 & 4.82 & 7.0 & 7.26 & 7.0 & 6.42 & 8.0 & 7.91 \\\\\n",
       "\t11 & 5.0 & 5.68 & 5.0 & 4.74 & 5.0 & 5.73 & 8.0 & 6.89 \\\\\n",
       "\\end{tabular}\n"
      ],
      "text/plain": [
       "11×8 DataFrame. Omitted printing of 1 columns\n",
       "│ Row │ x1      │ x2      │ x3      │ x4      │ x5      │ x6      │ x7      │\n",
       "│     │ \u001b[90mFloat64\u001b[39m │ \u001b[90mFloat64\u001b[39m │ \u001b[90mFloat64\u001b[39m │ \u001b[90mFloat64\u001b[39m │ \u001b[90mFloat64\u001b[39m │ \u001b[90mFloat64\u001b[39m │ \u001b[90mFloat64\u001b[39m │\n",
       "├─────┼─────────┼─────────┼─────────┼─────────┼─────────┼─────────┼─────────┤\n",
       "│ 1   │ 10.0    │ 8.04    │ 10.0    │ 9.14    │ 10.0    │ 7.46    │ 8.0     │\n",
       "│ 2   │ 8.0     │ 6.95    │ 8.0     │ 8.14    │ 8.0     │ 6.77    │ 8.0     │\n",
       "│ 3   │ 13.0    │ 7.58    │ 13.0    │ 8.74    │ 13.0    │ 12.74   │ 8.0     │\n",
       "│ 4   │ 9.0     │ 8.81    │ 9.0     │ 8.77    │ 9.0     │ 7.11    │ 8.0     │\n",
       "│ 5   │ 11.0    │ 8.33    │ 11.0    │ 9.26    │ 11.0    │ 7.81    │ 8.0     │\n",
       "│ 6   │ 14.0    │ 9.96    │ 14.0    │ 8.1     │ 14.0    │ 8.84    │ 8.0     │\n",
       "│ 7   │ 6.0     │ 7.24    │ 6.0     │ 6.13    │ 6.0     │ 6.08    │ 8.0     │\n",
       "│ 8   │ 4.0     │ 4.26    │ 4.0     │ 3.1     │ 4.0     │ 5.39    │ 19.0    │\n",
       "│ 9   │ 12.0    │ 10.84   │ 12.0    │ 9.13    │ 12.0    │ 8.15    │ 8.0     │\n",
       "│ 10  │ 7.0     │ 4.82    │ 7.0     │ 7.26    │ 7.0     │ 6.42    │ 8.0     │\n",
       "│ 11  │ 5.0     │ 5.68    │ 5.0     │ 4.74    │ 5.0     │ 5.73    │ 8.0     │"
      ]
     },
     "execution_count": 16,
     "metadata": {},
     "output_type": "execute_result"
    }
   ],
   "source": [
    "df = DataFrame(aq)"
   ]
  },
  {
   "cell_type": "markdown",
   "metadata": {},
   "source": [
    "### Changing the column names of dataframe"
   ]
  },
  {
   "cell_type": "code",
   "execution_count": 20,
   "metadata": {},
   "outputs": [
    {
     "data": {
      "text/plain": [
       "8-element Array{String,1}:\n",
       " \"x1\"\n",
       " \"y1\"\n",
       " \"x2\"\n",
       " \"y2\"\n",
       " \"x3\"\n",
       " \"y3\"\n",
       " \"x4\"\n",
       " \"y4\""
      ]
     },
     "execution_count": 20,
     "metadata": {},
     "output_type": "execute_result"
    }
   ],
   "source": [
    "newnames = vec(string.([\"x\",\"y\"],[1 2 3 4]))\n",
    "#newnames = [\"x1\",\"y1\",\"x2\",\"y2\",\"x3\",\"y3\",\"x4\",\"y4\"]"
   ]
  },
  {
   "cell_type": "code",
   "execution_count": 21,
   "metadata": {},
   "outputs": [
    {
     "data": {
      "text/html": [
       "<table class=\"data-frame\"><thead><tr><th></th><th>x1</th><th>y1</th><th>x2</th><th>y2</th><th>x3</th><th>y3</th><th>x4</th><th>y4</th></tr><tr><th></th><th>Float64</th><th>Float64</th><th>Float64</th><th>Float64</th><th>Float64</th><th>Float64</th><th>Float64</th><th>Float64</th></tr></thead><tbody><p>11 rows × 8 columns</p><tr><th>1</th><td>10.0</td><td>8.04</td><td>10.0</td><td>9.14</td><td>10.0</td><td>7.46</td><td>8.0</td><td>6.58</td></tr><tr><th>2</th><td>8.0</td><td>6.95</td><td>8.0</td><td>8.14</td><td>8.0</td><td>6.77</td><td>8.0</td><td>5.76</td></tr><tr><th>3</th><td>13.0</td><td>7.58</td><td>13.0</td><td>8.74</td><td>13.0</td><td>12.74</td><td>8.0</td><td>7.71</td></tr><tr><th>4</th><td>9.0</td><td>8.81</td><td>9.0</td><td>8.77</td><td>9.0</td><td>7.11</td><td>8.0</td><td>8.84</td></tr><tr><th>5</th><td>11.0</td><td>8.33</td><td>11.0</td><td>9.26</td><td>11.0</td><td>7.81</td><td>8.0</td><td>8.47</td></tr><tr><th>6</th><td>14.0</td><td>9.96</td><td>14.0</td><td>8.1</td><td>14.0</td><td>8.84</td><td>8.0</td><td>7.04</td></tr><tr><th>7</th><td>6.0</td><td>7.24</td><td>6.0</td><td>6.13</td><td>6.0</td><td>6.08</td><td>8.0</td><td>5.25</td></tr><tr><th>8</th><td>4.0</td><td>4.26</td><td>4.0</td><td>3.1</td><td>4.0</td><td>5.39</td><td>19.0</td><td>12.5</td></tr><tr><th>9</th><td>12.0</td><td>10.84</td><td>12.0</td><td>9.13</td><td>12.0</td><td>8.15</td><td>8.0</td><td>5.56</td></tr><tr><th>10</th><td>7.0</td><td>4.82</td><td>7.0</td><td>7.26</td><td>7.0</td><td>6.42</td><td>8.0</td><td>7.91</td></tr><tr><th>11</th><td>5.0</td><td>5.68</td><td>5.0</td><td>4.74</td><td>5.0</td><td>5.73</td><td>8.0</td><td>6.89</td></tr></tbody></table>"
      ],
      "text/latex": [
       "\\begin{tabular}{r|cccccccc}\n",
       "\t& x1 & y1 & x2 & y2 & x3 & y3 & x4 & y4\\\\\n",
       "\t\\hline\n",
       "\t& Float64 & Float64 & Float64 & Float64 & Float64 & Float64 & Float64 & Float64\\\\\n",
       "\t\\hline\n",
       "\t1 & 10.0 & 8.04 & 10.0 & 9.14 & 10.0 & 7.46 & 8.0 & 6.58 \\\\\n",
       "\t2 & 8.0 & 6.95 & 8.0 & 8.14 & 8.0 & 6.77 & 8.0 & 5.76 \\\\\n",
       "\t3 & 13.0 & 7.58 & 13.0 & 8.74 & 13.0 & 12.74 & 8.0 & 7.71 \\\\\n",
       "\t4 & 9.0 & 8.81 & 9.0 & 8.77 & 9.0 & 7.11 & 8.0 & 8.84 \\\\\n",
       "\t5 & 11.0 & 8.33 & 11.0 & 9.26 & 11.0 & 7.81 & 8.0 & 8.47 \\\\\n",
       "\t6 & 14.0 & 9.96 & 14.0 & 8.1 & 14.0 & 8.84 & 8.0 & 7.04 \\\\\n",
       "\t7 & 6.0 & 7.24 & 6.0 & 6.13 & 6.0 & 6.08 & 8.0 & 5.25 \\\\\n",
       "\t8 & 4.0 & 4.26 & 4.0 & 3.1 & 4.0 & 5.39 & 19.0 & 12.5 \\\\\n",
       "\t9 & 12.0 & 10.84 & 12.0 & 9.13 & 12.0 & 8.15 & 8.0 & 5.56 \\\\\n",
       "\t10 & 7.0 & 4.82 & 7.0 & 7.26 & 7.0 & 6.42 & 8.0 & 7.91 \\\\\n",
       "\t11 & 5.0 & 5.68 & 5.0 & 4.74 & 5.0 & 5.73 & 8.0 & 6.89 \\\\\n",
       "\\end{tabular}\n"
      ],
      "text/plain": [
       "11×8 DataFrame. Omitted printing of 1 columns\n",
       "│ Row │ x1      │ y1      │ x2      │ y2      │ x3      │ y3      │ x4      │\n",
       "│     │ \u001b[90mFloat64\u001b[39m │ \u001b[90mFloat64\u001b[39m │ \u001b[90mFloat64\u001b[39m │ \u001b[90mFloat64\u001b[39m │ \u001b[90mFloat64\u001b[39m │ \u001b[90mFloat64\u001b[39m │ \u001b[90mFloat64\u001b[39m │\n",
       "├─────┼─────────┼─────────┼─────────┼─────────┼─────────┼─────────┼─────────┤\n",
       "│ 1   │ 10.0    │ 8.04    │ 10.0    │ 9.14    │ 10.0    │ 7.46    │ 8.0     │\n",
       "│ 2   │ 8.0     │ 6.95    │ 8.0     │ 8.14    │ 8.0     │ 6.77    │ 8.0     │\n",
       "│ 3   │ 13.0    │ 7.58    │ 13.0    │ 8.74    │ 13.0    │ 12.74   │ 8.0     │\n",
       "│ 4   │ 9.0     │ 8.81    │ 9.0     │ 8.77    │ 9.0     │ 7.11    │ 8.0     │\n",
       "│ 5   │ 11.0    │ 8.33    │ 11.0    │ 9.26    │ 11.0    │ 7.81    │ 8.0     │\n",
       "│ 6   │ 14.0    │ 9.96    │ 14.0    │ 8.1     │ 14.0    │ 8.84    │ 8.0     │\n",
       "│ 7   │ 6.0     │ 7.24    │ 6.0     │ 6.13    │ 6.0     │ 6.08    │ 8.0     │\n",
       "│ 8   │ 4.0     │ 4.26    │ 4.0     │ 3.1     │ 4.0     │ 5.39    │ 19.0    │\n",
       "│ 9   │ 12.0    │ 10.84   │ 12.0    │ 9.13    │ 12.0    │ 8.15    │ 8.0     │\n",
       "│ 10  │ 7.0     │ 4.82    │ 7.0     │ 7.26    │ 7.0     │ 6.42    │ 8.0     │\n",
       "│ 11  │ 5.0     │ 5.68    │ 5.0     │ 4.74    │ 5.0     │ 5.73    │ 8.0     │"
      ]
     },
     "execution_count": 21,
     "metadata": {},
     "output_type": "execute_result"
    }
   ],
   "source": [
    "rename!(df,newnames)"
   ]
  },
  {
   "cell_type": "markdown",
   "metadata": {},
   "source": [
    "### We could have also assigned the names to columns at the moment of data frame creation like this"
   ]
  },
  {
   "cell_type": "code",
   "execution_count": 22,
   "metadata": {},
   "outputs": [
    {
     "data": {
      "text/html": [
       "<table class=\"data-frame\"><thead><tr><th></th><th>x1</th><th>y1</th><th>x2</th><th>y2</th><th>x3</th><th>y3</th><th>x4</th><th>y4</th></tr><tr><th></th><th>Float64</th><th>Float64</th><th>Float64</th><th>Float64</th><th>Float64</th><th>Float64</th><th>Float64</th><th>Float64</th></tr></thead><tbody><p>11 rows × 8 columns</p><tr><th>1</th><td>10.0</td><td>8.04</td><td>10.0</td><td>9.14</td><td>10.0</td><td>7.46</td><td>8.0</td><td>6.58</td></tr><tr><th>2</th><td>8.0</td><td>6.95</td><td>8.0</td><td>8.14</td><td>8.0</td><td>6.77</td><td>8.0</td><td>5.76</td></tr><tr><th>3</th><td>13.0</td><td>7.58</td><td>13.0</td><td>8.74</td><td>13.0</td><td>12.74</td><td>8.0</td><td>7.71</td></tr><tr><th>4</th><td>9.0</td><td>8.81</td><td>9.0</td><td>8.77</td><td>9.0</td><td>7.11</td><td>8.0</td><td>8.84</td></tr><tr><th>5</th><td>11.0</td><td>8.33</td><td>11.0</td><td>9.26</td><td>11.0</td><td>7.81</td><td>8.0</td><td>8.47</td></tr><tr><th>6</th><td>14.0</td><td>9.96</td><td>14.0</td><td>8.1</td><td>14.0</td><td>8.84</td><td>8.0</td><td>7.04</td></tr><tr><th>7</th><td>6.0</td><td>7.24</td><td>6.0</td><td>6.13</td><td>6.0</td><td>6.08</td><td>8.0</td><td>5.25</td></tr><tr><th>8</th><td>4.0</td><td>4.26</td><td>4.0</td><td>3.1</td><td>4.0</td><td>5.39</td><td>19.0</td><td>12.5</td></tr><tr><th>9</th><td>12.0</td><td>10.84</td><td>12.0</td><td>9.13</td><td>12.0</td><td>8.15</td><td>8.0</td><td>5.56</td></tr><tr><th>10</th><td>7.0</td><td>4.82</td><td>7.0</td><td>7.26</td><td>7.0</td><td>6.42</td><td>8.0</td><td>7.91</td></tr><tr><th>11</th><td>5.0</td><td>5.68</td><td>5.0</td><td>4.74</td><td>5.0</td><td>5.73</td><td>8.0</td><td>6.89</td></tr></tbody></table>"
      ],
      "text/latex": [
       "\\begin{tabular}{r|cccccccc}\n",
       "\t& x1 & y1 & x2 & y2 & x3 & y3 & x4 & y4\\\\\n",
       "\t\\hline\n",
       "\t& Float64 & Float64 & Float64 & Float64 & Float64 & Float64 & Float64 & Float64\\\\\n",
       "\t\\hline\n",
       "\t1 & 10.0 & 8.04 & 10.0 & 9.14 & 10.0 & 7.46 & 8.0 & 6.58 \\\\\n",
       "\t2 & 8.0 & 6.95 & 8.0 & 8.14 & 8.0 & 6.77 & 8.0 & 5.76 \\\\\n",
       "\t3 & 13.0 & 7.58 & 13.0 & 8.74 & 13.0 & 12.74 & 8.0 & 7.71 \\\\\n",
       "\t4 & 9.0 & 8.81 & 9.0 & 8.77 & 9.0 & 7.11 & 8.0 & 8.84 \\\\\n",
       "\t5 & 11.0 & 8.33 & 11.0 & 9.26 & 11.0 & 7.81 & 8.0 & 8.47 \\\\\n",
       "\t6 & 14.0 & 9.96 & 14.0 & 8.1 & 14.0 & 8.84 & 8.0 & 7.04 \\\\\n",
       "\t7 & 6.0 & 7.24 & 6.0 & 6.13 & 6.0 & 6.08 & 8.0 & 5.25 \\\\\n",
       "\t8 & 4.0 & 4.26 & 4.0 & 3.1 & 4.0 & 5.39 & 19.0 & 12.5 \\\\\n",
       "\t9 & 12.0 & 10.84 & 12.0 & 9.13 & 12.0 & 8.15 & 8.0 & 5.56 \\\\\n",
       "\t10 & 7.0 & 4.82 & 7.0 & 7.26 & 7.0 & 6.42 & 8.0 & 7.91 \\\\\n",
       "\t11 & 5.0 & 5.68 & 5.0 & 4.74 & 5.0 & 5.73 & 8.0 & 6.89 \\\\\n",
       "\\end{tabular}\n"
      ],
      "text/plain": [
       "11×8 DataFrame. Omitted printing of 1 columns\n",
       "│ Row │ x1      │ y1      │ x2      │ y2      │ x3      │ y3      │ x4      │\n",
       "│     │ \u001b[90mFloat64\u001b[39m │ \u001b[90mFloat64\u001b[39m │ \u001b[90mFloat64\u001b[39m │ \u001b[90mFloat64\u001b[39m │ \u001b[90mFloat64\u001b[39m │ \u001b[90mFloat64\u001b[39m │ \u001b[90mFloat64\u001b[39m │\n",
       "├─────┼─────────┼─────────┼─────────┼─────────┼─────────┼─────────┼─────────┤\n",
       "│ 1   │ 10.0    │ 8.04    │ 10.0    │ 9.14    │ 10.0    │ 7.46    │ 8.0     │\n",
       "│ 2   │ 8.0     │ 6.95    │ 8.0     │ 8.14    │ 8.0     │ 6.77    │ 8.0     │\n",
       "│ 3   │ 13.0    │ 7.58    │ 13.0    │ 8.74    │ 13.0    │ 12.74   │ 8.0     │\n",
       "│ 4   │ 9.0     │ 8.81    │ 9.0     │ 8.77    │ 9.0     │ 7.11    │ 8.0     │\n",
       "│ 5   │ 11.0    │ 8.33    │ 11.0    │ 9.26    │ 11.0    │ 7.81    │ 8.0     │\n",
       "│ 6   │ 14.0    │ 9.96    │ 14.0    │ 8.1     │ 14.0    │ 8.84    │ 8.0     │\n",
       "│ 7   │ 6.0     │ 7.24    │ 6.0     │ 6.13    │ 6.0     │ 6.08    │ 8.0     │\n",
       "│ 8   │ 4.0     │ 4.26    │ 4.0     │ 3.1     │ 4.0     │ 5.39    │ 19.0    │\n",
       "│ 9   │ 12.0    │ 10.84   │ 12.0    │ 9.13    │ 12.0    │ 8.15    │ 8.0     │\n",
       "│ 10  │ 7.0     │ 4.82    │ 7.0     │ 7.26    │ 7.0     │ 6.42    │ 8.0     │\n",
       "│ 11  │ 5.0     │ 5.68    │ 5.0     │ 4.74    │ 5.0     │ 5.73    │ 8.0     │"
      ]
     },
     "execution_count": 22,
     "metadata": {},
     "output_type": "execute_result"
    }
   ],
   "source": [
    "DataFrame(aq, [:x1, :y1, :x2, :y2, :x3, :y3, :x4, :y4])"
   ]
  },
  {
   "cell_type": "markdown",
   "metadata": {},
   "source": [
    "### Extract a column from the dataset"
   ]
  },
  {
   "cell_type": "code",
   "execution_count": 23,
   "metadata": {},
   "outputs": [
    {
     "data": {
      "text/plain": [
       "11-element Array{Float64,1}:\n",
       "  8.04\n",
       "  6.95\n",
       "  7.58\n",
       "  8.81\n",
       "  8.33\n",
       "  9.96\n",
       "  7.24\n",
       "  4.26\n",
       " 10.84\n",
       "  4.82\n",
       "  5.68"
      ]
     },
     "execution_count": 23,
     "metadata": {},
     "output_type": "execute_result"
    }
   ],
   "source": [
    "df.y1"
   ]
  },
  {
   "cell_type": "code",
   "execution_count": 29,
   "metadata": {},
   "outputs": [
    {
     "data": {
      "text/plain": [
       "11-element Array{Float64,1}:\n",
       "  8.04\n",
       "  6.95\n",
       "  7.58\n",
       "  8.81\n",
       "  8.33\n",
       "  9.96\n",
       "  7.24\n",
       "  4.26\n",
       " 10.84\n",
       "  4.82\n",
       "  5.68"
      ]
     },
     "execution_count": 29,
     "metadata": {},
     "output_type": "execute_result"
    }
   ],
   "source": [
    "df[:,:y1]"
   ]
  },
  {
   "cell_type": "code",
   "execution_count": 31,
   "metadata": {},
   "outputs": [
    {
     "data": {
      "text/html": [
       "<table class=\"data-frame\"><thead><tr><th></th><th>y1</th><th>y2</th></tr><tr><th></th><th>Float64</th><th>Float64</th></tr></thead><tbody><p>11 rows × 2 columns</p><tr><th>1</th><td>8.04</td><td>9.14</td></tr><tr><th>2</th><td>6.95</td><td>8.14</td></tr><tr><th>3</th><td>7.58</td><td>8.74</td></tr><tr><th>4</th><td>8.81</td><td>8.77</td></tr><tr><th>5</th><td>8.33</td><td>9.26</td></tr><tr><th>6</th><td>9.96</td><td>8.1</td></tr><tr><th>7</th><td>7.24</td><td>6.13</td></tr><tr><th>8</th><td>4.26</td><td>3.1</td></tr><tr><th>9</th><td>10.84</td><td>9.13</td></tr><tr><th>10</th><td>4.82</td><td>7.26</td></tr><tr><th>11</th><td>5.68</td><td>4.74</td></tr></tbody></table>"
      ],
      "text/latex": [
       "\\begin{tabular}{r|cc}\n",
       "\t& y1 & y2\\\\\n",
       "\t\\hline\n",
       "\t& Float64 & Float64\\\\\n",
       "\t\\hline\n",
       "\t1 & 8.04 & 9.14 \\\\\n",
       "\t2 & 6.95 & 8.14 \\\\\n",
       "\t3 & 7.58 & 8.74 \\\\\n",
       "\t4 & 8.81 & 8.77 \\\\\n",
       "\t5 & 8.33 & 9.26 \\\\\n",
       "\t6 & 9.96 & 8.1 \\\\\n",
       "\t7 & 7.24 & 6.13 \\\\\n",
       "\t8 & 4.26 & 3.1 \\\\\n",
       "\t9 & 10.84 & 9.13 \\\\\n",
       "\t10 & 4.82 & 7.26 \\\\\n",
       "\t11 & 5.68 & 4.74 \\\\\n",
       "\\end{tabular}\n"
      ],
      "text/plain": [
       "11×2 DataFrame\n",
       "│ Row │ y1      │ y2      │\n",
       "│     │ \u001b[90mFloat64\u001b[39m │ \u001b[90mFloat64\u001b[39m │\n",
       "├─────┼─────────┼─────────┤\n",
       "│ 1   │ 8.04    │ 9.14    │\n",
       "│ 2   │ 6.95    │ 8.14    │\n",
       "│ 3   │ 7.58    │ 8.74    │\n",
       "│ 4   │ 8.81    │ 8.77    │\n",
       "│ 5   │ 8.33    │ 9.26    │\n",
       "│ 6   │ 9.96    │ 8.1     │\n",
       "│ 7   │ 7.24    │ 6.13    │\n",
       "│ 8   │ 4.26    │ 3.1     │\n",
       "│ 9   │ 10.84   │ 9.13    │\n",
       "│ 10  │ 4.82    │ 7.26    │\n",
       "│ 11  │ 5.68    │ 4.74    │"
      ]
     },
     "execution_count": 31,
     "metadata": {},
     "output_type": "execute_result"
    }
   ],
   "source": [
    "df[:,[:y1,:y2]]"
   ]
  },
  {
   "cell_type": "markdown",
   "metadata": {},
   "source": [
    "### We can use `select!` to regroup the columns by names by using regular expressions\n",
    "suppose if we want to reorder in such a way that all Xs should come first"
   ]
  },
  {
   "cell_type": "code",
   "execution_count": 33,
   "metadata": {},
   "outputs": [
    {
     "data": {
      "text/html": [
       "<table class=\"data-frame\"><thead><tr><th></th><th>x1</th><th>x2</th><th>x3</th><th>x4</th><th>y1</th><th>y2</th><th>y3</th><th>y4</th></tr><tr><th></th><th>Float64</th><th>Float64</th><th>Float64</th><th>Float64</th><th>Float64</th><th>Float64</th><th>Float64</th><th>Float64</th></tr></thead><tbody><p>11 rows × 8 columns</p><tr><th>1</th><td>10.0</td><td>10.0</td><td>10.0</td><td>8.0</td><td>8.04</td><td>9.14</td><td>7.46</td><td>6.58</td></tr><tr><th>2</th><td>8.0</td><td>8.0</td><td>8.0</td><td>8.0</td><td>6.95</td><td>8.14</td><td>6.77</td><td>5.76</td></tr><tr><th>3</th><td>13.0</td><td>13.0</td><td>13.0</td><td>8.0</td><td>7.58</td><td>8.74</td><td>12.74</td><td>7.71</td></tr><tr><th>4</th><td>9.0</td><td>9.0</td><td>9.0</td><td>8.0</td><td>8.81</td><td>8.77</td><td>7.11</td><td>8.84</td></tr><tr><th>5</th><td>11.0</td><td>11.0</td><td>11.0</td><td>8.0</td><td>8.33</td><td>9.26</td><td>7.81</td><td>8.47</td></tr><tr><th>6</th><td>14.0</td><td>14.0</td><td>14.0</td><td>8.0</td><td>9.96</td><td>8.1</td><td>8.84</td><td>7.04</td></tr><tr><th>7</th><td>6.0</td><td>6.0</td><td>6.0</td><td>8.0</td><td>7.24</td><td>6.13</td><td>6.08</td><td>5.25</td></tr><tr><th>8</th><td>4.0</td><td>4.0</td><td>4.0</td><td>19.0</td><td>4.26</td><td>3.1</td><td>5.39</td><td>12.5</td></tr><tr><th>9</th><td>12.0</td><td>12.0</td><td>12.0</td><td>8.0</td><td>10.84</td><td>9.13</td><td>8.15</td><td>5.56</td></tr><tr><th>10</th><td>7.0</td><td>7.0</td><td>7.0</td><td>8.0</td><td>4.82</td><td>7.26</td><td>6.42</td><td>7.91</td></tr><tr><th>11</th><td>5.0</td><td>5.0</td><td>5.0</td><td>8.0</td><td>5.68</td><td>4.74</td><td>5.73</td><td>6.89</td></tr></tbody></table>"
      ],
      "text/latex": [
       "\\begin{tabular}{r|cccccccc}\n",
       "\t& x1 & x2 & x3 & x4 & y1 & y2 & y3 & y4\\\\\n",
       "\t\\hline\n",
       "\t& Float64 & Float64 & Float64 & Float64 & Float64 & Float64 & Float64 & Float64\\\\\n",
       "\t\\hline\n",
       "\t1 & 10.0 & 10.0 & 10.0 & 8.0 & 8.04 & 9.14 & 7.46 & 6.58 \\\\\n",
       "\t2 & 8.0 & 8.0 & 8.0 & 8.0 & 6.95 & 8.14 & 6.77 & 5.76 \\\\\n",
       "\t3 & 13.0 & 13.0 & 13.0 & 8.0 & 7.58 & 8.74 & 12.74 & 7.71 \\\\\n",
       "\t4 & 9.0 & 9.0 & 9.0 & 8.0 & 8.81 & 8.77 & 7.11 & 8.84 \\\\\n",
       "\t5 & 11.0 & 11.0 & 11.0 & 8.0 & 8.33 & 9.26 & 7.81 & 8.47 \\\\\n",
       "\t6 & 14.0 & 14.0 & 14.0 & 8.0 & 9.96 & 8.1 & 8.84 & 7.04 \\\\\n",
       "\t7 & 6.0 & 6.0 & 6.0 & 8.0 & 7.24 & 6.13 & 6.08 & 5.25 \\\\\n",
       "\t8 & 4.0 & 4.0 & 4.0 & 19.0 & 4.26 & 3.1 & 5.39 & 12.5 \\\\\n",
       "\t9 & 12.0 & 12.0 & 12.0 & 8.0 & 10.84 & 9.13 & 8.15 & 5.56 \\\\\n",
       "\t10 & 7.0 & 7.0 & 7.0 & 8.0 & 4.82 & 7.26 & 6.42 & 7.91 \\\\\n",
       "\t11 & 5.0 & 5.0 & 5.0 & 8.0 & 5.68 & 4.74 & 5.73 & 6.89 \\\\\n",
       "\\end{tabular}\n"
      ],
      "text/plain": [
       "11×8 DataFrame. Omitted printing of 1 columns\n",
       "│ Row │ x1      │ x2      │ x3      │ x4      │ y1      │ y2      │ y3      │\n",
       "│     │ \u001b[90mFloat64\u001b[39m │ \u001b[90mFloat64\u001b[39m │ \u001b[90mFloat64\u001b[39m │ \u001b[90mFloat64\u001b[39m │ \u001b[90mFloat64\u001b[39m │ \u001b[90mFloat64\u001b[39m │ \u001b[90mFloat64\u001b[39m │\n",
       "├─────┼─────────┼─────────┼─────────┼─────────┼─────────┼─────────┼─────────┤\n",
       "│ 1   │ 10.0    │ 10.0    │ 10.0    │ 8.0     │ 8.04    │ 9.14    │ 7.46    │\n",
       "│ 2   │ 8.0     │ 8.0     │ 8.0     │ 8.0     │ 6.95    │ 8.14    │ 6.77    │\n",
       "│ 3   │ 13.0    │ 13.0    │ 13.0    │ 8.0     │ 7.58    │ 8.74    │ 12.74   │\n",
       "│ 4   │ 9.0     │ 9.0     │ 9.0     │ 8.0     │ 8.81    │ 8.77    │ 7.11    │\n",
       "│ 5   │ 11.0    │ 11.0    │ 11.0    │ 8.0     │ 8.33    │ 9.26    │ 7.81    │\n",
       "│ 6   │ 14.0    │ 14.0    │ 14.0    │ 8.0     │ 9.96    │ 8.1     │ 8.84    │\n",
       "│ 7   │ 6.0     │ 6.0     │ 6.0     │ 8.0     │ 7.24    │ 6.13    │ 6.08    │\n",
       "│ 8   │ 4.0     │ 4.0     │ 4.0     │ 19.0    │ 4.26    │ 3.1     │ 5.39    │\n",
       "│ 9   │ 12.0    │ 12.0    │ 12.0    │ 8.0     │ 10.84   │ 9.13    │ 8.15    │\n",
       "│ 10  │ 7.0     │ 7.0     │ 7.0     │ 8.0     │ 4.82    │ 7.26    │ 6.42    │\n",
       "│ 11  │ 5.0     │ 5.0     │ 5.0     │ 8.0     │ 5.68    │ 4.74    │ 5.73    │"
      ]
     },
     "execution_count": 33,
     "metadata": {},
     "output_type": "execute_result"
    }
   ],
   "source": [
    "select!(df,r\"x\",:)"
   ]
  },
  {
   "cell_type": "markdown",
   "metadata": {},
   "source": [
    "Note that we could have used `select` instead of `select!` function to create a new copy of dataset rather than mutating "
   ]
  },
  {
   "cell_type": "markdown",
   "metadata": {},
   "source": [
    "An interesting feature of Anscombe's quartet is that its variables have the same mean and variance.\n",
    "We can easily check this using the `describe` function"
   ]
  },
  {
   "cell_type": "code",
   "execution_count": 34,
   "metadata": {},
   "outputs": [
    {
     "data": {
      "text/html": [
       "<table class=\"data-frame\"><thead><tr><th></th><th>x1</th><th>x2</th><th>x3</th><th>x4</th><th>y1</th><th>y2</th><th>y3</th><th>y4</th></tr><tr><th></th><th>Float64</th><th>Float64</th><th>Float64</th><th>Float64</th><th>Float64</th><th>Float64</th><th>Float64</th><th>Float64</th></tr></thead><tbody><p>11 rows × 8 columns</p><tr><th>1</th><td>10.0</td><td>10.0</td><td>10.0</td><td>8.0</td><td>8.04</td><td>9.14</td><td>7.46</td><td>6.58</td></tr><tr><th>2</th><td>8.0</td><td>8.0</td><td>8.0</td><td>8.0</td><td>6.95</td><td>8.14</td><td>6.77</td><td>5.76</td></tr><tr><th>3</th><td>13.0</td><td>13.0</td><td>13.0</td><td>8.0</td><td>7.58</td><td>8.74</td><td>12.74</td><td>7.71</td></tr><tr><th>4</th><td>9.0</td><td>9.0</td><td>9.0</td><td>8.0</td><td>8.81</td><td>8.77</td><td>7.11</td><td>8.84</td></tr><tr><th>5</th><td>11.0</td><td>11.0</td><td>11.0</td><td>8.0</td><td>8.33</td><td>9.26</td><td>7.81</td><td>8.47</td></tr><tr><th>6</th><td>14.0</td><td>14.0</td><td>14.0</td><td>8.0</td><td>9.96</td><td>8.1</td><td>8.84</td><td>7.04</td></tr><tr><th>7</th><td>6.0</td><td>6.0</td><td>6.0</td><td>8.0</td><td>7.24</td><td>6.13</td><td>6.08</td><td>5.25</td></tr><tr><th>8</th><td>4.0</td><td>4.0</td><td>4.0</td><td>19.0</td><td>4.26</td><td>3.1</td><td>5.39</td><td>12.5</td></tr><tr><th>9</th><td>12.0</td><td>12.0</td><td>12.0</td><td>8.0</td><td>10.84</td><td>9.13</td><td>8.15</td><td>5.56</td></tr><tr><th>10</th><td>7.0</td><td>7.0</td><td>7.0</td><td>8.0</td><td>4.82</td><td>7.26</td><td>6.42</td><td>7.91</td></tr><tr><th>11</th><td>5.0</td><td>5.0</td><td>5.0</td><td>8.0</td><td>5.68</td><td>4.74</td><td>5.73</td><td>6.89</td></tr></tbody></table>"
      ],
      "text/latex": [
       "\\begin{tabular}{r|cccccccc}\n",
       "\t& x1 & x2 & x3 & x4 & y1 & y2 & y3 & y4\\\\\n",
       "\t\\hline\n",
       "\t& Float64 & Float64 & Float64 & Float64 & Float64 & Float64 & Float64 & Float64\\\\\n",
       "\t\\hline\n",
       "\t1 & 10.0 & 10.0 & 10.0 & 8.0 & 8.04 & 9.14 & 7.46 & 6.58 \\\\\n",
       "\t2 & 8.0 & 8.0 & 8.0 & 8.0 & 6.95 & 8.14 & 6.77 & 5.76 \\\\\n",
       "\t3 & 13.0 & 13.0 & 13.0 & 8.0 & 7.58 & 8.74 & 12.74 & 7.71 \\\\\n",
       "\t4 & 9.0 & 9.0 & 9.0 & 8.0 & 8.81 & 8.77 & 7.11 & 8.84 \\\\\n",
       "\t5 & 11.0 & 11.0 & 11.0 & 8.0 & 8.33 & 9.26 & 7.81 & 8.47 \\\\\n",
       "\t6 & 14.0 & 14.0 & 14.0 & 8.0 & 9.96 & 8.1 & 8.84 & 7.04 \\\\\n",
       "\t7 & 6.0 & 6.0 & 6.0 & 8.0 & 7.24 & 6.13 & 6.08 & 5.25 \\\\\n",
       "\t8 & 4.0 & 4.0 & 4.0 & 19.0 & 4.26 & 3.1 & 5.39 & 12.5 \\\\\n",
       "\t9 & 12.0 & 12.0 & 12.0 & 8.0 & 10.84 & 9.13 & 8.15 & 5.56 \\\\\n",
       "\t10 & 7.0 & 7.0 & 7.0 & 8.0 & 4.82 & 7.26 & 6.42 & 7.91 \\\\\n",
       "\t11 & 5.0 & 5.0 & 5.0 & 8.0 & 5.68 & 4.74 & 5.73 & 6.89 \\\\\n",
       "\\end{tabular}\n"
      ],
      "text/plain": [
       "11×8 DataFrame. Omitted printing of 1 columns\n",
       "│ Row │ x1      │ x2      │ x3      │ x4      │ y1      │ y2      │ y3      │\n",
       "│     │ \u001b[90mFloat64\u001b[39m │ \u001b[90mFloat64\u001b[39m │ \u001b[90mFloat64\u001b[39m │ \u001b[90mFloat64\u001b[39m │ \u001b[90mFloat64\u001b[39m │ \u001b[90mFloat64\u001b[39m │ \u001b[90mFloat64\u001b[39m │\n",
       "├─────┼─────────┼─────────┼─────────┼─────────┼─────────┼─────────┼─────────┤\n",
       "│ 1   │ 10.0    │ 10.0    │ 10.0    │ 8.0     │ 8.04    │ 9.14    │ 7.46    │\n",
       "│ 2   │ 8.0     │ 8.0     │ 8.0     │ 8.0     │ 6.95    │ 8.14    │ 6.77    │\n",
       "│ 3   │ 13.0    │ 13.0    │ 13.0    │ 8.0     │ 7.58    │ 8.74    │ 12.74   │\n",
       "│ 4   │ 9.0     │ 9.0     │ 9.0     │ 8.0     │ 8.81    │ 8.77    │ 7.11    │\n",
       "│ 5   │ 11.0    │ 11.0    │ 11.0    │ 8.0     │ 8.33    │ 9.26    │ 7.81    │\n",
       "│ 6   │ 14.0    │ 14.0    │ 14.0    │ 8.0     │ 9.96    │ 8.1     │ 8.84    │\n",
       "│ 7   │ 6.0     │ 6.0     │ 6.0     │ 8.0     │ 7.24    │ 6.13    │ 6.08    │\n",
       "│ 8   │ 4.0     │ 4.0     │ 4.0     │ 19.0    │ 4.26    │ 3.1     │ 5.39    │\n",
       "│ 9   │ 12.0    │ 12.0    │ 12.0    │ 8.0     │ 10.84   │ 9.13    │ 8.15    │\n",
       "│ 10  │ 7.0     │ 7.0     │ 7.0     │ 8.0     │ 4.82    │ 7.26    │ 6.42    │\n",
       "│ 11  │ 5.0     │ 5.0     │ 5.0     │ 8.0     │ 5.68    │ 4.74    │ 5.73    │"
      ]
     },
     "execution_count": 34,
     "metadata": {},
     "output_type": "execute_result"
    }
   ],
   "source": [
    "df"
   ]
  },
  {
   "cell_type": "code",
   "execution_count": 35,
   "metadata": {},
   "outputs": [
    {
     "data": {
      "text/html": [
       "<table class=\"data-frame\"><thead><tr><th></th><th>variable</th><th>mean</th><th>min</th><th>median</th><th>max</th><th>nunique</th><th>nmissing</th><th>eltype</th></tr><tr><th></th><th>Symbol</th><th>Float64</th><th>Float64</th><th>Float64</th><th>Float64</th><th>Nothing</th><th>Nothing</th><th>DataType</th></tr></thead><tbody><p>8 rows × 8 columns</p><tr><th>1</th><td>x1</td><td>9.0</td><td>4.0</td><td>9.0</td><td>14.0</td><td></td><td></td><td>Float64</td></tr><tr><th>2</th><td>x2</td><td>9.0</td><td>4.0</td><td>9.0</td><td>14.0</td><td></td><td></td><td>Float64</td></tr><tr><th>3</th><td>x3</td><td>9.0</td><td>4.0</td><td>9.0</td><td>14.0</td><td></td><td></td><td>Float64</td></tr><tr><th>4</th><td>x4</td><td>9.0</td><td>8.0</td><td>8.0</td><td>19.0</td><td></td><td></td><td>Float64</td></tr><tr><th>5</th><td>y1</td><td>7.50091</td><td>4.26</td><td>7.58</td><td>10.84</td><td></td><td></td><td>Float64</td></tr><tr><th>6</th><td>y2</td><td>7.50091</td><td>3.1</td><td>8.14</td><td>9.26</td><td></td><td></td><td>Float64</td></tr><tr><th>7</th><td>y3</td><td>7.5</td><td>5.39</td><td>7.11</td><td>12.74</td><td></td><td></td><td>Float64</td></tr><tr><th>8</th><td>y4</td><td>7.50091</td><td>5.25</td><td>7.04</td><td>12.5</td><td></td><td></td><td>Float64</td></tr></tbody></table>"
      ],
      "text/latex": [
       "\\begin{tabular}{r|cccccccc}\n",
       "\t& variable & mean & min & median & max & nunique & nmissing & eltype\\\\\n",
       "\t\\hline\n",
       "\t& Symbol & Float64 & Float64 & Float64 & Float64 & Nothing & Nothing & DataType\\\\\n",
       "\t\\hline\n",
       "\t1 & x1 & 9.0 & 4.0 & 9.0 & 14.0 &  &  & Float64 \\\\\n",
       "\t2 & x2 & 9.0 & 4.0 & 9.0 & 14.0 &  &  & Float64 \\\\\n",
       "\t3 & x3 & 9.0 & 4.0 & 9.0 & 14.0 &  &  & Float64 \\\\\n",
       "\t4 & x4 & 9.0 & 8.0 & 8.0 & 19.0 &  &  & Float64 \\\\\n",
       "\t5 & y1 & 7.50091 & 4.26 & 7.58 & 10.84 &  &  & Float64 \\\\\n",
       "\t6 & y2 & 7.50091 & 3.1 & 8.14 & 9.26 &  &  & Float64 \\\\\n",
       "\t7 & y3 & 7.5 & 5.39 & 7.11 & 12.74 &  &  & Float64 \\\\\n",
       "\t8 & y4 & 7.50091 & 5.25 & 7.04 & 12.5 &  &  & Float64 \\\\\n",
       "\\end{tabular}\n"
      ],
      "text/plain": [
       "8×8 DataFrame. Omitted printing of 1 columns\n",
       "│ Row │ variable │ mean    │ min     │ median  │ max     │ nunique │ nmissing │\n",
       "│     │ \u001b[90mSymbol\u001b[39m   │ \u001b[90mFloat64\u001b[39m │ \u001b[90mFloat64\u001b[39m │ \u001b[90mFloat64\u001b[39m │ \u001b[90mFloat64\u001b[39m │ \u001b[90mNothing\u001b[39m │ \u001b[90mNothing\u001b[39m  │\n",
       "├─────┼──────────┼─────────┼─────────┼─────────┼─────────┼─────────┼──────────┤\n",
       "│ 1   │ x1       │ 9.0     │ 4.0     │ 9.0     │ 14.0    │         │          │\n",
       "│ 2   │ x2       │ 9.0     │ 4.0     │ 9.0     │ 14.0    │         │          │\n",
       "│ 3   │ x3       │ 9.0     │ 4.0     │ 9.0     │ 14.0    │         │          │\n",
       "│ 4   │ x4       │ 9.0     │ 8.0     │ 8.0     │ 19.0    │         │          │\n",
       "│ 5   │ y1       │ 7.50091 │ 4.26    │ 7.58    │ 10.84   │         │          │\n",
       "│ 6   │ y2       │ 7.50091 │ 3.1     │ 8.14    │ 9.26    │         │          │\n",
       "│ 7   │ y3       │ 7.5     │ 5.39    │ 7.11    │ 12.74   │         │          │\n",
       "│ 8   │ y4       │ 7.50091 │ 5.25    │ 7.04    │ 12.5    │         │          │"
      ]
     },
     "execution_count": 35,
     "metadata": {},
     "output_type": "execute_result"
    }
   ],
   "source": [
    "describe(df)"
   ]
  },
  {
   "cell_type": "code",
   "execution_count": 43,
   "metadata": {},
   "outputs": [
    {
     "data": {
      "text/html": [
       "<table class=\"data-frame\"><thead><tr><th></th><th>variable</th><th>mean123</th><th>std123</th></tr><tr><th></th><th>Symbol</th><th>Float64</th><th>Float64</th></tr></thead><tbody><p>8 rows × 3 columns</p><tr><th>1</th><td>x1</td><td>9.0</td><td>3.31662</td></tr><tr><th>2</th><td>x2</td><td>9.0</td><td>3.31662</td></tr><tr><th>3</th><td>x3</td><td>9.0</td><td>3.31662</td></tr><tr><th>4</th><td>x4</td><td>9.0</td><td>3.31662</td></tr><tr><th>5</th><td>y1</td><td>7.50091</td><td>2.03157</td></tr><tr><th>6</th><td>y2</td><td>7.50091</td><td>2.03166</td></tr><tr><th>7</th><td>y3</td><td>7.5</td><td>2.03042</td></tr><tr><th>8</th><td>y4</td><td>7.50091</td><td>2.03058</td></tr></tbody></table>"
      ],
      "text/latex": [
       "\\begin{tabular}{r|ccc}\n",
       "\t& variable & mean123 & std123\\\\\n",
       "\t\\hline\n",
       "\t& Symbol & Float64 & Float64\\\\\n",
       "\t\\hline\n",
       "\t1 & x1 & 9.0 & 3.31662 \\\\\n",
       "\t2 & x2 & 9.0 & 3.31662 \\\\\n",
       "\t3 & x3 & 9.0 & 3.31662 \\\\\n",
       "\t4 & x4 & 9.0 & 3.31662 \\\\\n",
       "\t5 & y1 & 7.50091 & 2.03157 \\\\\n",
       "\t6 & y2 & 7.50091 & 2.03166 \\\\\n",
       "\t7 & y3 & 7.5 & 2.03042 \\\\\n",
       "\t8 & y4 & 7.50091 & 2.03058 \\\\\n",
       "\\end{tabular}\n"
      ],
      "text/plain": [
       "8×3 DataFrame\n",
       "│ Row │ variable │ mean123 │ std123  │\n",
       "│     │ \u001b[90mSymbol\u001b[39m   │ \u001b[90mFloat64\u001b[39m │ \u001b[90mFloat64\u001b[39m │\n",
       "├─────┼──────────┼─────────┼─────────┤\n",
       "│ 1   │ x1       │ 9.0     │ 3.31662 │\n",
       "│ 2   │ x2       │ 9.0     │ 3.31662 │\n",
       "│ 3   │ x3       │ 9.0     │ 3.31662 │\n",
       "│ 4   │ x4       │ 9.0     │ 3.31662 │\n",
       "│ 5   │ y1       │ 7.50091 │ 2.03157 │\n",
       "│ 6   │ y2       │ 7.50091 │ 2.03166 │\n",
       "│ 7   │ y3       │ 7.5     │ 2.03042 │\n",
       "│ 8   │ y4       │ 7.50091 │ 2.03058 │"
      ]
     },
     "execution_count": 43,
     "metadata": {},
     "output_type": "execute_result"
    }
   ],
   "source": [
    "describe(df, :mean123 => mean, :std123 => std)"
   ]
  },
  {
   "cell_type": "markdown",
   "metadata": {},
   "source": [
    "Let us add a column to the dataframe which gives the id"
   ]
  },
  {
   "cell_type": "code",
   "execution_count": 44,
   "metadata": {},
   "outputs": [
    {
     "data": {
      "text/html": [
       "<table class=\"data-frame\"><thead><tr><th></th><th>x1</th><th>x2</th><th>x3</th><th>x4</th><th>y1</th><th>y2</th><th>y3</th><th>y4</th><th>id</th></tr><tr><th></th><th>Float64</th><th>Float64</th><th>Float64</th><th>Float64</th><th>Float64</th><th>Float64</th><th>Float64</th><th>Float64</th><th>Int64</th></tr></thead><tbody><p>11 rows × 9 columns</p><tr><th>1</th><td>10.0</td><td>10.0</td><td>10.0</td><td>8.0</td><td>8.04</td><td>9.14</td><td>7.46</td><td>6.58</td><td>1</td></tr><tr><th>2</th><td>8.0</td><td>8.0</td><td>8.0</td><td>8.0</td><td>6.95</td><td>8.14</td><td>6.77</td><td>5.76</td><td>2</td></tr><tr><th>3</th><td>13.0</td><td>13.0</td><td>13.0</td><td>8.0</td><td>7.58</td><td>8.74</td><td>12.74</td><td>7.71</td><td>3</td></tr><tr><th>4</th><td>9.0</td><td>9.0</td><td>9.0</td><td>8.0</td><td>8.81</td><td>8.77</td><td>7.11</td><td>8.84</td><td>4</td></tr><tr><th>5</th><td>11.0</td><td>11.0</td><td>11.0</td><td>8.0</td><td>8.33</td><td>9.26</td><td>7.81</td><td>8.47</td><td>5</td></tr><tr><th>6</th><td>14.0</td><td>14.0</td><td>14.0</td><td>8.0</td><td>9.96</td><td>8.1</td><td>8.84</td><td>7.04</td><td>6</td></tr><tr><th>7</th><td>6.0</td><td>6.0</td><td>6.0</td><td>8.0</td><td>7.24</td><td>6.13</td><td>6.08</td><td>5.25</td><td>7</td></tr><tr><th>8</th><td>4.0</td><td>4.0</td><td>4.0</td><td>19.0</td><td>4.26</td><td>3.1</td><td>5.39</td><td>12.5</td><td>8</td></tr><tr><th>9</th><td>12.0</td><td>12.0</td><td>12.0</td><td>8.0</td><td>10.84</td><td>9.13</td><td>8.15</td><td>5.56</td><td>9</td></tr><tr><th>10</th><td>7.0</td><td>7.0</td><td>7.0</td><td>8.0</td><td>4.82</td><td>7.26</td><td>6.42</td><td>7.91</td><td>10</td></tr><tr><th>11</th><td>5.0</td><td>5.0</td><td>5.0</td><td>8.0</td><td>5.68</td><td>4.74</td><td>5.73</td><td>6.89</td><td>11</td></tr></tbody></table>"
      ],
      "text/latex": [
       "\\begin{tabular}{r|ccccccccc}\n",
       "\t& x1 & x2 & x3 & x4 & y1 & y2 & y3 & y4 & id\\\\\n",
       "\t\\hline\n",
       "\t& Float64 & Float64 & Float64 & Float64 & Float64 & Float64 & Float64 & Float64 & Int64\\\\\n",
       "\t\\hline\n",
       "\t1 & 10.0 & 10.0 & 10.0 & 8.0 & 8.04 & 9.14 & 7.46 & 6.58 & 1 \\\\\n",
       "\t2 & 8.0 & 8.0 & 8.0 & 8.0 & 6.95 & 8.14 & 6.77 & 5.76 & 2 \\\\\n",
       "\t3 & 13.0 & 13.0 & 13.0 & 8.0 & 7.58 & 8.74 & 12.74 & 7.71 & 3 \\\\\n",
       "\t4 & 9.0 & 9.0 & 9.0 & 8.0 & 8.81 & 8.77 & 7.11 & 8.84 & 4 \\\\\n",
       "\t5 & 11.0 & 11.0 & 11.0 & 8.0 & 8.33 & 9.26 & 7.81 & 8.47 & 5 \\\\\n",
       "\t6 & 14.0 & 14.0 & 14.0 & 8.0 & 9.96 & 8.1 & 8.84 & 7.04 & 6 \\\\\n",
       "\t7 & 6.0 & 6.0 & 6.0 & 8.0 & 7.24 & 6.13 & 6.08 & 5.25 & 7 \\\\\n",
       "\t8 & 4.0 & 4.0 & 4.0 & 19.0 & 4.26 & 3.1 & 5.39 & 12.5 & 8 \\\\\n",
       "\t9 & 12.0 & 12.0 & 12.0 & 8.0 & 10.84 & 9.13 & 8.15 & 5.56 & 9 \\\\\n",
       "\t10 & 7.0 & 7.0 & 7.0 & 8.0 & 4.82 & 7.26 & 6.42 & 7.91 & 10 \\\\\n",
       "\t11 & 5.0 & 5.0 & 5.0 & 8.0 & 5.68 & 4.74 & 5.73 & 6.89 & 11 \\\\\n",
       "\\end{tabular}\n"
      ],
      "text/plain": [
       "11×9 DataFrame. Omitted printing of 2 columns\n",
       "│ Row │ x1      │ x2      │ x3      │ x4      │ y1      │ y2      │ y3      │\n",
       "│     │ \u001b[90mFloat64\u001b[39m │ \u001b[90mFloat64\u001b[39m │ \u001b[90mFloat64\u001b[39m │ \u001b[90mFloat64\u001b[39m │ \u001b[90mFloat64\u001b[39m │ \u001b[90mFloat64\u001b[39m │ \u001b[90mFloat64\u001b[39m │\n",
       "├─────┼─────────┼─────────┼─────────┼─────────┼─────────┼─────────┼─────────┤\n",
       "│ 1   │ 10.0    │ 10.0    │ 10.0    │ 8.0     │ 8.04    │ 9.14    │ 7.46    │\n",
       "│ 2   │ 8.0     │ 8.0     │ 8.0     │ 8.0     │ 6.95    │ 8.14    │ 6.77    │\n",
       "│ 3   │ 13.0    │ 13.0    │ 13.0    │ 8.0     │ 7.58    │ 8.74    │ 12.74   │\n",
       "│ 4   │ 9.0     │ 9.0     │ 9.0     │ 8.0     │ 8.81    │ 8.77    │ 7.11    │\n",
       "│ 5   │ 11.0    │ 11.0    │ 11.0    │ 8.0     │ 8.33    │ 9.26    │ 7.81    │\n",
       "│ 6   │ 14.0    │ 14.0    │ 14.0    │ 8.0     │ 9.96    │ 8.1     │ 8.84    │\n",
       "│ 7   │ 6.0     │ 6.0     │ 6.0     │ 8.0     │ 7.24    │ 6.13    │ 6.08    │\n",
       "│ 8   │ 4.0     │ 4.0     │ 4.0     │ 19.0    │ 4.26    │ 3.1     │ 5.39    │\n",
       "│ 9   │ 12.0    │ 12.0    │ 12.0    │ 8.0     │ 10.84   │ 9.13    │ 8.15    │\n",
       "│ 10  │ 7.0     │ 7.0     │ 7.0     │ 8.0     │ 4.82    │ 7.26    │ 6.42    │\n",
       "│ 11  │ 5.0     │ 5.0     │ 5.0     │ 8.0     │ 5.68    │ 4.74    │ 5.73    │"
      ]
     },
     "execution_count": 44,
     "metadata": {},
     "output_type": "execute_result"
    }
   ],
   "source": [
    "df.id = 1:nrow(df)\n",
    "df"
   ]
  },
  {
   "cell_type": "code",
   "execution_count": 45,
   "metadata": {},
   "outputs": [
    {
     "data": {
      "text/plain": [
       "9"
      ]
     },
     "execution_count": 45,
     "metadata": {},
     "output_type": "execute_result"
    }
   ],
   "source": [
    "ncol(df)"
   ]
  },
  {
   "cell_type": "code",
   "execution_count": 47,
   "metadata": {},
   "outputs": [
    {
     "data": {
      "text/html": [
       "<table class=\"data-frame\"><thead><tr><th></th><th>id</th><th>y4</th><th>x1</th><th>x2</th><th>x3</th><th>x4</th><th>y1</th><th>y2</th><th>y3</th></tr><tr><th></th><th>Int64</th><th>Float64</th><th>Float64</th><th>Float64</th><th>Float64</th><th>Float64</th><th>Float64</th><th>Float64</th><th>Float64</th></tr></thead><tbody><p>11 rows × 9 columns</p><tr><th>1</th><td>1</td><td>6.58</td><td>10.0</td><td>10.0</td><td>10.0</td><td>8.0</td><td>8.04</td><td>9.14</td><td>7.46</td></tr><tr><th>2</th><td>2</td><td>5.76</td><td>8.0</td><td>8.0</td><td>8.0</td><td>8.0</td><td>6.95</td><td>8.14</td><td>6.77</td></tr><tr><th>3</th><td>3</td><td>7.71</td><td>13.0</td><td>13.0</td><td>13.0</td><td>8.0</td><td>7.58</td><td>8.74</td><td>12.74</td></tr><tr><th>4</th><td>4</td><td>8.84</td><td>9.0</td><td>9.0</td><td>9.0</td><td>8.0</td><td>8.81</td><td>8.77</td><td>7.11</td></tr><tr><th>5</th><td>5</td><td>8.47</td><td>11.0</td><td>11.0</td><td>11.0</td><td>8.0</td><td>8.33</td><td>9.26</td><td>7.81</td></tr><tr><th>6</th><td>6</td><td>7.04</td><td>14.0</td><td>14.0</td><td>14.0</td><td>8.0</td><td>9.96</td><td>8.1</td><td>8.84</td></tr><tr><th>7</th><td>7</td><td>5.25</td><td>6.0</td><td>6.0</td><td>6.0</td><td>8.0</td><td>7.24</td><td>6.13</td><td>6.08</td></tr><tr><th>8</th><td>8</td><td>12.5</td><td>4.0</td><td>4.0</td><td>4.0</td><td>19.0</td><td>4.26</td><td>3.1</td><td>5.39</td></tr><tr><th>9</th><td>9</td><td>5.56</td><td>12.0</td><td>12.0</td><td>12.0</td><td>8.0</td><td>10.84</td><td>9.13</td><td>8.15</td></tr><tr><th>10</th><td>10</td><td>7.91</td><td>7.0</td><td>7.0</td><td>7.0</td><td>8.0</td><td>4.82</td><td>7.26</td><td>6.42</td></tr><tr><th>11</th><td>11</td><td>6.89</td><td>5.0</td><td>5.0</td><td>5.0</td><td>8.0</td><td>5.68</td><td>4.74</td><td>5.73</td></tr></tbody></table>"
      ],
      "text/latex": [
       "\\begin{tabular}{r|ccccccccc}\n",
       "\t& id & y4 & x1 & x2 & x3 & x4 & y1 & y2 & y3\\\\\n",
       "\t\\hline\n",
       "\t& Int64 & Float64 & Float64 & Float64 & Float64 & Float64 & Float64 & Float64 & Float64\\\\\n",
       "\t\\hline\n",
       "\t1 & 1 & 6.58 & 10.0 & 10.0 & 10.0 & 8.0 & 8.04 & 9.14 & 7.46 \\\\\n",
       "\t2 & 2 & 5.76 & 8.0 & 8.0 & 8.0 & 8.0 & 6.95 & 8.14 & 6.77 \\\\\n",
       "\t3 & 3 & 7.71 & 13.0 & 13.0 & 13.0 & 8.0 & 7.58 & 8.74 & 12.74 \\\\\n",
       "\t4 & 4 & 8.84 & 9.0 & 9.0 & 9.0 & 8.0 & 8.81 & 8.77 & 7.11 \\\\\n",
       "\t5 & 5 & 8.47 & 11.0 & 11.0 & 11.0 & 8.0 & 8.33 & 9.26 & 7.81 \\\\\n",
       "\t6 & 6 & 7.04 & 14.0 & 14.0 & 14.0 & 8.0 & 9.96 & 8.1 & 8.84 \\\\\n",
       "\t7 & 7 & 5.25 & 6.0 & 6.0 & 6.0 & 8.0 & 7.24 & 6.13 & 6.08 \\\\\n",
       "\t8 & 8 & 12.5 & 4.0 & 4.0 & 4.0 & 19.0 & 4.26 & 3.1 & 5.39 \\\\\n",
       "\t9 & 9 & 5.56 & 12.0 & 12.0 & 12.0 & 8.0 & 10.84 & 9.13 & 8.15 \\\\\n",
       "\t10 & 10 & 7.91 & 7.0 & 7.0 & 7.0 & 8.0 & 4.82 & 7.26 & 6.42 \\\\\n",
       "\t11 & 11 & 6.89 & 5.0 & 5.0 & 5.0 & 8.0 & 5.68 & 4.74 & 5.73 \\\\\n",
       "\\end{tabular}\n"
      ],
      "text/plain": [
       "11×9 DataFrame. Omitted printing of 2 columns\n",
       "│ Row │ id    │ y4      │ x1      │ x2      │ x3      │ x4      │ y1      │\n",
       "│     │ \u001b[90mInt64\u001b[39m │ \u001b[90mFloat64\u001b[39m │ \u001b[90mFloat64\u001b[39m │ \u001b[90mFloat64\u001b[39m │ \u001b[90mFloat64\u001b[39m │ \u001b[90mFloat64\u001b[39m │ \u001b[90mFloat64\u001b[39m │\n",
       "├─────┼───────┼─────────┼─────────┼─────────┼─────────┼─────────┼─────────┤\n",
       "│ 1   │ 1     │ 6.58    │ 10.0    │ 10.0    │ 10.0    │ 8.0     │ 8.04    │\n",
       "│ 2   │ 2     │ 5.76    │ 8.0     │ 8.0     │ 8.0     │ 8.0     │ 6.95    │\n",
       "│ 3   │ 3     │ 7.71    │ 13.0    │ 13.0    │ 13.0    │ 8.0     │ 7.58    │\n",
       "│ 4   │ 4     │ 8.84    │ 9.0     │ 9.0     │ 9.0     │ 8.0     │ 8.81    │\n",
       "│ 5   │ 5     │ 8.47    │ 11.0    │ 11.0    │ 11.0    │ 8.0     │ 8.33    │\n",
       "│ 6   │ 6     │ 7.04    │ 14.0    │ 14.0    │ 14.0    │ 8.0     │ 9.96    │\n",
       "│ 7   │ 7     │ 5.25    │ 6.0     │ 6.0     │ 6.0     │ 8.0     │ 7.24    │\n",
       "│ 8   │ 8     │ 12.5    │ 4.0     │ 4.0     │ 4.0     │ 19.0    │ 4.26    │\n",
       "│ 9   │ 9     │ 5.56    │ 12.0    │ 12.0    │ 12.0    │ 8.0     │ 10.84   │\n",
       "│ 10  │ 10    │ 7.91    │ 7.0     │ 7.0     │ 7.0     │ 8.0     │ 4.82    │\n",
       "│ 11  │ 11    │ 6.89    │ 5.0     │ 5.0     │ 5.0     │ 8.0     │ 5.68    │"
      ]
     },
     "execution_count": 47,
     "metadata": {},
     "output_type": "execute_result"
    }
   ],
   "source": [
    "select!(df,:id,:y4,:)"
   ]
  },
  {
   "cell_type": "code",
   "execution_count": 48,
   "metadata": {},
   "outputs": [
    {
     "data": {
      "text/html": [
       "<table class=\"data-frame\"><thead><tr><th></th><th>id</th><th>y4</th><th>x1</th><th>x2</th><th>x3</th><th>x4</th><th>y1</th><th>y2</th><th>y3</th></tr><tr><th></th><th>Int64</th><th>Float64</th><th>Float64</th><th>Float64</th><th>Float64</th><th>Float64</th><th>Float64</th><th>Float64</th><th>Float64</th></tr></thead><tbody><p>11 rows × 9 columns</p><tr><th>1</th><td>1</td><td>6.58</td><td>10.0</td><td>10.0</td><td>10.0</td><td>8.0</td><td>8.04</td><td>9.14</td><td>7.46</td></tr><tr><th>2</th><td>2</td><td>5.76</td><td>8.0</td><td>8.0</td><td>8.0</td><td>8.0</td><td>6.95</td><td>8.14</td><td>6.77</td></tr><tr><th>3</th><td>3</td><td>7.71</td><td>13.0</td><td>13.0</td><td>13.0</td><td>8.0</td><td>7.58</td><td>8.74</td><td>12.74</td></tr><tr><th>4</th><td>4</td><td>8.84</td><td>9.0</td><td>9.0</td><td>9.0</td><td>8.0</td><td>8.81</td><td>8.77</td><td>7.11</td></tr><tr><th>5</th><td>5</td><td>8.47</td><td>11.0</td><td>11.0</td><td>11.0</td><td>8.0</td><td>8.33</td><td>9.26</td><td>7.81</td></tr><tr><th>6</th><td>6</td><td>7.04</td><td>14.0</td><td>14.0</td><td>14.0</td><td>8.0</td><td>9.96</td><td>8.1</td><td>8.84</td></tr><tr><th>7</th><td>7</td><td>5.25</td><td>6.0</td><td>6.0</td><td>6.0</td><td>8.0</td><td>7.24</td><td>6.13</td><td>6.08</td></tr><tr><th>8</th><td>8</td><td>12.5</td><td>4.0</td><td>4.0</td><td>4.0</td><td>19.0</td><td>4.26</td><td>3.1</td><td>5.39</td></tr><tr><th>9</th><td>9</td><td>5.56</td><td>12.0</td><td>12.0</td><td>12.0</td><td>8.0</td><td>10.84</td><td>9.13</td><td>8.15</td></tr><tr><th>10</th><td>10</td><td>7.91</td><td>7.0</td><td>7.0</td><td>7.0</td><td>8.0</td><td>4.82</td><td>7.26</td><td>6.42</td></tr><tr><th>11</th><td>11</td><td>6.89</td><td>5.0</td><td>5.0</td><td>5.0</td><td>8.0</td><td>5.68</td><td>4.74</td><td>5.73</td></tr></tbody></table>"
      ],
      "text/latex": [
       "\\begin{tabular}{r|ccccccccc}\n",
       "\t& id & y4 & x1 & x2 & x3 & x4 & y1 & y2 & y3\\\\\n",
       "\t\\hline\n",
       "\t& Int64 & Float64 & Float64 & Float64 & Float64 & Float64 & Float64 & Float64 & Float64\\\\\n",
       "\t\\hline\n",
       "\t1 & 1 & 6.58 & 10.0 & 10.0 & 10.0 & 8.0 & 8.04 & 9.14 & 7.46 \\\\\n",
       "\t2 & 2 & 5.76 & 8.0 & 8.0 & 8.0 & 8.0 & 6.95 & 8.14 & 6.77 \\\\\n",
       "\t3 & 3 & 7.71 & 13.0 & 13.0 & 13.0 & 8.0 & 7.58 & 8.74 & 12.74 \\\\\n",
       "\t4 & 4 & 8.84 & 9.0 & 9.0 & 9.0 & 8.0 & 8.81 & 8.77 & 7.11 \\\\\n",
       "\t5 & 5 & 8.47 & 11.0 & 11.0 & 11.0 & 8.0 & 8.33 & 9.26 & 7.81 \\\\\n",
       "\t6 & 6 & 7.04 & 14.0 & 14.0 & 14.0 & 8.0 & 9.96 & 8.1 & 8.84 \\\\\n",
       "\t7 & 7 & 5.25 & 6.0 & 6.0 & 6.0 & 8.0 & 7.24 & 6.13 & 6.08 \\\\\n",
       "\t8 & 8 & 12.5 & 4.0 & 4.0 & 4.0 & 19.0 & 4.26 & 3.1 & 5.39 \\\\\n",
       "\t9 & 9 & 5.56 & 12.0 & 12.0 & 12.0 & 8.0 & 10.84 & 9.13 & 8.15 \\\\\n",
       "\t10 & 10 & 7.91 & 7.0 & 7.0 & 7.0 & 8.0 & 4.82 & 7.26 & 6.42 \\\\\n",
       "\t11 & 11 & 6.89 & 5.0 & 5.0 & 5.0 & 8.0 & 5.68 & 4.74 & 5.73 \\\\\n",
       "\\end{tabular}\n"
      ],
      "text/plain": [
       "11×9 DataFrame. Omitted printing of 2 columns\n",
       "│ Row │ id    │ y4      │ x1      │ x2      │ x3      │ x4      │ y1      │\n",
       "│     │ \u001b[90mInt64\u001b[39m │ \u001b[90mFloat64\u001b[39m │ \u001b[90mFloat64\u001b[39m │ \u001b[90mFloat64\u001b[39m │ \u001b[90mFloat64\u001b[39m │ \u001b[90mFloat64\u001b[39m │ \u001b[90mFloat64\u001b[39m │\n",
       "├─────┼───────┼─────────┼─────────┼─────────┼─────────┼─────────┼─────────┤\n",
       "│ 1   │ 1     │ 6.58    │ 10.0    │ 10.0    │ 10.0    │ 8.0     │ 8.04    │\n",
       "│ 2   │ 2     │ 5.76    │ 8.0     │ 8.0     │ 8.0     │ 8.0     │ 6.95    │\n",
       "│ 3   │ 3     │ 7.71    │ 13.0    │ 13.0    │ 13.0    │ 8.0     │ 7.58    │\n",
       "│ 4   │ 4     │ 8.84    │ 9.0     │ 9.0     │ 9.0     │ 8.0     │ 8.81    │\n",
       "│ 5   │ 5     │ 8.47    │ 11.0    │ 11.0    │ 11.0    │ 8.0     │ 8.33    │\n",
       "│ 6   │ 6     │ 7.04    │ 14.0    │ 14.0    │ 14.0    │ 8.0     │ 9.96    │\n",
       "│ 7   │ 7     │ 5.25    │ 6.0     │ 6.0     │ 6.0     │ 8.0     │ 7.24    │\n",
       "│ 8   │ 8     │ 12.5    │ 4.0     │ 4.0     │ 4.0     │ 19.0    │ 4.26    │\n",
       "│ 9   │ 9     │ 5.56    │ 12.0    │ 12.0    │ 12.0    │ 8.0     │ 10.84   │\n",
       "│ 10  │ 10    │ 7.91    │ 7.0     │ 7.0     │ 7.0     │ 8.0     │ 4.82    │\n",
       "│ 11  │ 11    │ 6.89    │ 5.0     │ 5.0     │ 5.0     │ 8.0     │ 5.68    │"
      ]
     },
     "execution_count": 48,
     "metadata": {},
     "output_type": "execute_result"
    }
   ],
   "source": [
    "df"
   ]
  },
  {
   "cell_type": "code",
   "execution_count": 49,
   "metadata": {},
   "outputs": [
    {
     "data": {
      "text/plain": [
       "11×9 Array{Float64,2}:\n",
       "  1.0   6.58  10.0  10.0  10.0   8.0   8.04  9.14   7.46\n",
       "  2.0   5.76   8.0   8.0   8.0   8.0   6.95  8.14   6.77\n",
       "  3.0   7.71  13.0  13.0  13.0   8.0   7.58  8.74  12.74\n",
       "  4.0   8.84   9.0   9.0   9.0   8.0   8.81  8.77   7.11\n",
       "  5.0   8.47  11.0  11.0  11.0   8.0   8.33  9.26   7.81\n",
       "  6.0   7.04  14.0  14.0  14.0   8.0   9.96  8.1    8.84\n",
       "  7.0   5.25   6.0   6.0   6.0   8.0   7.24  6.13   6.08\n",
       "  8.0  12.5    4.0   4.0   4.0  19.0   4.26  3.1    5.39\n",
       "  9.0   5.56  12.0  12.0  12.0   8.0  10.84  9.13   8.15\n",
       " 10.0   7.91   7.0   7.0   7.0   8.0   4.82  7.26   6.42\n",
       " 11.0   6.89   5.0   5.0   5.0   8.0   5.68  4.74   5.73"
      ]
     },
     "execution_count": 49,
     "metadata": {},
     "output_type": "execute_result"
    }
   ],
   "source": [
    "Matrix(df)"
   ]
  },
  {
   "cell_type": "code",
   "execution_count": 50,
   "metadata": {},
   "outputs": [
    {
     "data": {
      "text/plain": [
       "8.33"
      ]
     },
     "execution_count": 50,
     "metadata": {},
     "output_type": "execute_result"
    }
   ],
   "source": [
    "Matrix(df)[5,7]"
   ]
  },
  {
   "cell_type": "code",
   "execution_count": 61,
   "metadata": {},
   "outputs": [
    {
     "data": {
      "text/plain": [
       "2-element Array{Float64,1}:\n",
       "  3.0\n",
       " 20.0"
      ]
     },
     "execution_count": 61,
     "metadata": {},
     "output_type": "execute_result"
    }
   ],
   "source": [
    "xlim = collect(extrema(Matrix(select(df, r\"x\"))) .+ (-1, 1))"
   ]
  },
  {
   "cell_type": "code",
   "execution_count": 62,
   "metadata": {},
   "outputs": [
    {
     "data": {
      "text/plain": [
       "2-element Array{Float64,1}:\n",
       "  2.1\n",
       " 13.74"
      ]
     },
     "execution_count": 62,
     "metadata": {},
     "output_type": "execute_result"
    }
   ],
   "source": [
    "ylim = collect(extrema(Matrix(select(df,r\"y\"))) .+ (-1,1))"
   ]
  },
  {
   "cell_type": "code",
   "execution_count": 53,
   "metadata": {},
   "outputs": [],
   "source": [
    "### To find out the minima and maxima of a column"
   ]
  },
  {
   "cell_type": "code",
   "execution_count": 67,
   "metadata": {},
   "outputs": [
    {
     "data": {
      "text/plain": [
       "2-element Array{Float64,1}:\n",
       "  4.0\n",
       " 14.0"
      ]
     },
     "execution_count": 67,
     "metadata": {},
     "output_type": "execute_result"
    }
   ],
   "source": [
    "collect(extrema(df.x1))"
   ]
  },
  {
   "cell_type": "markdown",
   "metadata": {},
   "source": [
    "### It is easy to create Dataframes"
   ]
  },
  {
   "cell_type": "code",
   "execution_count": 72,
   "metadata": {},
   "outputs": [
    {
     "data": {
      "text/html": [
       "<table class=\"data-frame\"><thead><tr><th></th><th>var1</th><th>var2</th></tr><tr><th></th><th>Int64</th><th>Int64</th></tr></thead><tbody><p>4 rows × 2 columns</p><tr><th>1</th><td>1</td><td>5</td></tr><tr><th>2</th><td>2</td><td>6</td></tr><tr><th>3</th><td>3</td><td>7</td></tr><tr><th>4</th><td>4</td><td>8</td></tr></tbody></table>"
      ],
      "text/latex": [
       "\\begin{tabular}{r|cc}\n",
       "\t& var1 & var2\\\\\n",
       "\t\\hline\n",
       "\t& Int64 & Int64\\\\\n",
       "\t\\hline\n",
       "\t1 & 1 & 5 \\\\\n",
       "\t2 & 2 & 6 \\\\\n",
       "\t3 & 3 & 7 \\\\\n",
       "\t4 & 4 & 8 \\\\\n",
       "\\end{tabular}\n"
      ],
      "text/plain": [
       "4×2 DataFrame\n",
       "│ Row │ var1  │ var2  │\n",
       "│     │ \u001b[90mInt64\u001b[39m │ \u001b[90mInt64\u001b[39m │\n",
       "├─────┼───────┼───────┤\n",
       "│ 1   │ 1     │ 5     │\n",
       "│ 2   │ 2     │ 6     │\n",
       "│ 3   │ 3     │ 7     │\n",
       "│ 4   │ 4     │ 8     │"
      ]
     },
     "execution_count": 72,
     "metadata": {},
     "output_type": "execute_result"
    }
   ],
   "source": [
    "x = :var1\n",
    "y = :var2\n",
    "xc = 1:4\n",
    "yc = 5:8\n",
    "DataFrame(x=>xc,y=>yc)"
   ]
  },
  {
   "cell_type": "markdown",
   "metadata": {},
   "source": [
    "Note that the same effect can be achieved with passing keyword arguments directly to `DataFrame` constructor:"
   ]
  },
  {
   "cell_type": "code",
   "execution_count": 74,
   "metadata": {},
   "outputs": [
    {
     "data": {
      "text/html": [
       "<table class=\"data-frame\"><thead><tr><th></th><th>var1</th><th>var2</th></tr><tr><th></th><th>Int64</th><th>Int64</th></tr></thead><tbody><p>4 rows × 2 columns</p><tr><th>1</th><td>1</td><td>5</td></tr><tr><th>2</th><td>2</td><td>6</td></tr><tr><th>3</th><td>3</td><td>7</td></tr><tr><th>4</th><td>4</td><td>8</td></tr></tbody></table>"
      ],
      "text/latex": [
       "\\begin{tabular}{r|cc}\n",
       "\t& var1 & var2\\\\\n",
       "\t\\hline\n",
       "\t& Int64 & Int64\\\\\n",
       "\t\\hline\n",
       "\t1 & 1 & 5 \\\\\n",
       "\t2 & 2 & 6 \\\\\n",
       "\t3 & 3 & 7 \\\\\n",
       "\t4 & 4 & 8 \\\\\n",
       "\\end{tabular}\n"
      ],
      "text/plain": [
       "4×2 DataFrame\n",
       "│ Row │ var1  │ var2  │\n",
       "│     │ \u001b[90mInt64\u001b[39m │ \u001b[90mInt64\u001b[39m │\n",
       "├─────┼───────┼───────┤\n",
       "│ 1   │ 1     │ 5     │\n",
       "│ 2   │ 2     │ 6     │\n",
       "│ 3   │ 3     │ 7     │\n",
       "│ 4   │ 4     │ 8     │"
      ]
     },
     "execution_count": 74,
     "metadata": {},
     "output_type": "execute_result"
    }
   ],
   "source": [
    "DataFrame(var1 = xc,var2 = yc)"
   ]
  },
  {
   "cell_type": "markdown",
   "metadata": {},
   "source": [
    "Difference between `df.col` and `df[:,col]`"
   ]
  },
  {
   "cell_type": "code",
   "execution_count": 76,
   "metadata": {},
   "outputs": [
    {
     "data": {
      "text/plain": [
       "11-element Array{Float64,1}:\n",
       " 10.0\n",
       "  8.0\n",
       " 13.0\n",
       "  9.0\n",
       " 11.0\n",
       " 14.0\n",
       "  6.0\n",
       "  4.0\n",
       " 12.0\n",
       "  7.0\n",
       "  5.0"
      ]
     },
     "execution_count": 76,
     "metadata": {},
     "output_type": "execute_result"
    }
   ],
   "source": [
    "# gives you a direct access to the column stored in df but x1 is a literal\n",
    "df.x1"
   ]
  },
  {
   "cell_type": "code",
   "execution_count": 78,
   "metadata": {},
   "outputs": [
    {
     "data": {
      "text/plain": [
       "11-element Array{Float64,1}:\n",
       " 10.0\n",
       "  8.0\n",
       " 13.0\n",
       "  9.0\n",
       " 11.0\n",
       " 14.0\n",
       "  6.0\n",
       "  4.0\n",
       " 12.0\n",
       "  7.0\n",
       "  5.0"
      ]
     },
     "execution_count": 78,
     "metadata": {},
     "output_type": "execute_result"
    }
   ],
   "source": [
    "# now the column is copied, so this is the same as copy(df.x1)\n",
    "# in this case we could have used a variable instead of a literal for indexing\n",
    "df[:,:x1]"
   ]
  },
  {
   "cell_type": "markdown",
   "metadata": {},
   "source": [
    "So what if you want to select a column without copying it but want to use a variable holding its name. There is a special `!` row selector for this:"
   ]
  },
  {
   "cell_type": "code",
   "execution_count": 79,
   "metadata": {},
   "outputs": [
    {
     "data": {
      "text/plain": [
       ":x1"
      ]
     },
     "execution_count": 79,
     "metadata": {},
     "output_type": "execute_result"
    }
   ],
   "source": [
    "n = :x1"
   ]
  },
  {
   "cell_type": "code",
   "execution_count": 80,
   "metadata": {},
   "outputs": [
    {
     "data": {
      "text/plain": [
       "11-element Array{Float64,1}:\n",
       " 10.0\n",
       "  8.0\n",
       " 13.0\n",
       "  9.0\n",
       " 11.0\n",
       " 14.0\n",
       "  6.0\n",
       "  4.0\n",
       " 12.0\n",
       "  7.0\n",
       "  5.0"
      ]
     },
     "execution_count": 80,
     "metadata": {},
     "output_type": "execute_result"
    }
   ],
   "source": [
    "v = df[!,n]"
   ]
  },
  {
   "cell_type": "markdown",
   "metadata": {},
   "source": [
    "Let us check that `!` does not copy:"
   ]
  },
  {
   "cell_type": "code",
   "execution_count": 81,
   "metadata": {},
   "outputs": [
    {
     "data": {
      "text/plain": [
       "true"
      ]
     },
     "execution_count": 81,
     "metadata": {},
     "output_type": "execute_result"
    }
   ],
   "source": [
    "v === df.x1"
   ]
  },
  {
   "cell_type": "markdown",
   "metadata": {},
   "source": [
    "Therefore, it is not copied"
   ]
  }
 ],
 "metadata": {
  "kernelspec": {
   "display_name": "Julia 1.5.2",
   "language": "julia",
   "name": "julia-1.5"
  },
  "language_info": {
   "file_extension": ".jl",
   "mimetype": "application/julia",
   "name": "julia",
   "version": "1.5.2"
  }
 },
 "nbformat": 4,
 "nbformat_minor": 4
}
