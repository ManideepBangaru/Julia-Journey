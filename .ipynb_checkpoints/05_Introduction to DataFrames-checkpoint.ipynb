{
 "cells": [
  {
   "cell_type": "markdown",
   "metadata": {},
   "source": [
    "## Setup the environment"
   ]
  },
  {
   "cell_type": "code",
   "execution_count": 1,
   "metadata": {},
   "outputs": [
    {
     "data": {
      "text/plain": [
       "v\"1.5.2\""
      ]
     },
     "execution_count": 1,
     "metadata": {},
     "output_type": "execute_result"
    }
   ],
   "source": [
    "VERSION"
   ]
  },
  {
   "cell_type": "code",
   "execution_count": 2,
   "metadata": {},
   "outputs": [
    {
     "data": {
      "text/plain": [
       "\"/Users/manideepbangaru/Documents/Julia-Journey\""
      ]
     },
     "execution_count": 2,
     "metadata": {},
     "output_type": "execute_result"
    }
   ],
   "source": [
    "pwd()"
   ]
  },
  {
   "cell_type": "code",
   "execution_count": 10,
   "metadata": {},
   "outputs": [],
   "source": [
    "cd(\"/Users/manideepbangaru/Documents/Julia-Journey/Datasets\")"
   ]
  },
  {
   "cell_type": "code",
   "execution_count": 11,
   "metadata": {},
   "outputs": [
    {
     "data": {
      "text/plain": [
       "\"/Users/manideepbangaru/Documents/Julia-Journey/Datasets\""
      ]
     },
     "execution_count": 11,
     "metadata": {},
     "output_type": "execute_result"
    }
   ],
   "source": [
    "pwd()"
   ]
  },
  {
   "cell_type": "markdown",
   "metadata": {},
   "source": [
    "To check whether we have files in the directory or not"
   ]
  },
  {
   "cell_type": "code",
   "execution_count": 12,
   "metadata": {},
   "outputs": [
    {
     "data": {
      "text/plain": [
       "2-element BitArray{1}:\n",
       " 1\n",
       " 1"
      ]
     },
     "execution_count": 12,
     "metadata": {},
     "output_type": "execute_result"
    }
   ],
   "source": [
    "isfile.([\"Project.toml\",\"Manifest.toml\"])"
   ]
  },
  {
   "cell_type": "markdown",
   "metadata": {},
   "source": [
    "To check the versions of the packages"
   ]
  },
  {
   "cell_type": "code",
   "execution_count": 4,
   "metadata": {},
   "outputs": [
    {
     "name": "stdout",
     "output_type": "stream",
     "text": [
      "\u001b[32m\u001b[1mStatus\u001b[22m\u001b[39m `~/.julia/environments/v1.5/Project.toml`\n",
      " \u001b[90m [6e4b80f9] \u001b[39m\u001b[37mBenchmarkTools v0.5.0\u001b[39m\n",
      " \u001b[90m [5ae59095] \u001b[39m\u001b[37mColors v0.12.4\u001b[39m\n",
      " \u001b[90m [a93c6f00] \u001b[39m\u001b[37mDataFrames v0.20.2\u001b[39m\n",
      " \u001b[90m [31c24e10] \u001b[39m\u001b[37mDistributions v0.24.3\u001b[39m\n",
      " \u001b[90m [7876af07] \u001b[39m\u001b[37mExample v0.5.3\u001b[39m\n",
      " \u001b[90m [7073ff75] \u001b[39m\u001b[37mIJulia v1.23.0\u001b[39m\n",
      " \u001b[90m [47be7bcc] \u001b[39m\u001b[37mORCA v0.5.0\u001b[39m\n",
      " \u001b[90m [58dd65bb] \u001b[39m\u001b[37mPlotly v0.3.0\u001b[39m\n",
      " \u001b[90m [f0f68f2c] \u001b[39m\u001b[37mPlotlyJS v0.12.3\u001b[39m\n",
      " \u001b[90m [91a5bcdd] \u001b[39m\u001b[37mPlots v1.3.3\u001b[39m\n",
      " \u001b[90m [ce6b1742] \u001b[39m\u001b[37mRDatasets v0.7.1\u001b[39m\n",
      " \u001b[90m [0f1e0344] \u001b[39m\u001b[37mWebIO v0.4.2\u001b[39m\n",
      " \u001b[90m [37e2e46d] \u001b[39m\u001b[37mLinearAlgebra\u001b[39m\n"
     ]
    }
   ],
   "source": [
    "] status"
   ]
  },
  {
   "cell_type": "markdown",
   "metadata": {},
   "source": [
    "If above command gives any warning as package not found, then execute the below command"
   ]
  },
  {
   "cell_type": "code",
   "execution_count": 14,
   "metadata": {},
   "outputs": [],
   "source": [
    "] instantiate"
   ]
  },
  {
   "cell_type": "markdown",
   "metadata": {},
   "source": [
    "## First steps with dataframes"
   ]
  },
  {
   "cell_type": "markdown",
   "metadata": {},
   "source": [
    "#### We start with loading the required packages"
   ]
  },
  {
   "cell_type": "code",
   "execution_count": 15,
   "metadata": {},
   "outputs": [
    {
     "name": "stderr",
     "output_type": "stream",
     "text": [
      "┌ Info: Precompiling DataFrames [a93c6f00-e57d-5684-b7b6-d8193f3e46c0]\n",
      "└ @ Base loading.jl:1278\n"
     ]
    }
   ],
   "source": [
    "using DataFrames"
   ]
  },
  {
   "cell_type": "code",
   "execution_count": 18,
   "metadata": {},
   "outputs": [],
   "source": [
    "using Statistics"
   ]
  },
  {
   "cell_type": "code",
   "execution_count": 23,
   "metadata": {},
   "outputs": [],
   "source": [
    "#import Pkg\n",
    "#Pkg.add(\"PyPlot\")"
   ]
  },
  {
   "cell_type": "code",
   "execution_count": null,
   "metadata": {},
   "outputs": [
    {
     "name": "stderr",
     "output_type": "stream",
     "text": [
      "┌ Info: Precompiling PyPlot [d330b81b-6aea-500a-939a-2ce795aea3ee]\n",
      "└ @ Base loading.jl:1278\n",
      "┌ Info: Installing matplotlib via the Conda matplotlib package...\n",
      "└ @ PyCall /Users/manideepbangaru/.julia/packages/PyCall/BcTLp/src/PyCall.jl:708\n",
      "┌ Info: Running `conda install -y matplotlib` in root environment\n",
      "└ @ Conda /Users/manideepbangaru/.julia/packages/Conda/x5ml4/src/Conda.jl:115\n"
     ]
    },
    {
     "name": "stdout",
     "output_type": "stream",
     "text": [
      "Collecting package metadata (current_repodata.json): ...working... done\n",
      "Solving environment: ...working... done\n",
      "\n",
      "## Package Plan ##\n",
      "\n",
      "  environment location: /Users/manideepbangaru/.julia/conda/3\n",
      "\n",
      "  added / updated specs:\n",
      "    - matplotlib\n",
      "\n",
      "\n",
      "The following packages will be downloaded:\n",
      "\n",
      "    package                    |            build\n",
      "    ---------------------------|-----------------\n",
      "    cycler-0.10.0              |           py38_0          14 KB\n",
      "    freetype-2.10.4            |       ha233b18_0         564 KB\n",
      "    jpeg-9b                    |       he5867d9_2         201 KB\n",
      "    kiwisolver-1.3.0           |   py38h23ab428_0          51 KB\n",
      "    lcms2-2.11                 |       h92f6f08_0         278 KB\n",
      "    libpng-1.6.37              |       ha441bb4_0         262 KB\n",
      "    libtiff-4.1.0              |       hcb84e12_1         405 KB\n",
      "    lz4-c-1.9.2                |       h79c402e_3         130 KB\n",
      "    matplotlib-3.3.2           |                0          24 KB\n",
      "    matplotlib-base-3.3.2      |   py38h181983e_0         5.1 MB\n",
      "    olefile-0.46               |             py_0          33 KB\n",
      "    pillow-8.0.1               |   py38h5270095_0         584 KB\n",
      "    pyparsing-2.4.7            |             py_0          65 KB\n",
      "    python-dateutil-2.8.1      |             py_0         215 KB\n",
      "    tornado-6.0.4              |   py38h1de35cc_1         602 KB\n",
      "    zstd-1.4.5                 |       h41d2c2f_0         442 KB\n",
      "    ------------------------------------------------------------\n",
      "                                           Total:         8.9 MB\n",
      "\n",
      "The following NEW packages will be INSTALLED:\n",
      "\n",
      "  cycler             pkgs/main/osx-64::cycler-0.10.0-py38_0\n",
      "  freetype           pkgs/main/osx-64::freetype-2.10.4-ha233b18_0\n",
      "  jpeg               pkgs/main/osx-64::jpeg-9b-he5867d9_2\n",
      "  kiwisolver         pkgs/main/osx-64::kiwisolver-1.3.0-py38h23ab428_0\n",
      "  lcms2              pkgs/main/osx-64::lcms2-2.11-h92f6f08_0\n",
      "  libpng             pkgs/main/osx-64::libpng-1.6.37-ha441bb4_0\n",
      "  libtiff            pkgs/main/osx-64::libtiff-4.1.0-hcb84e12_1\n",
      "  lz4-c              pkgs/main/osx-64::lz4-c-1.9.2-h79c402e_3\n",
      "  matplotlib         pkgs/main/osx-64::matplotlib-3.3.2-0\n",
      "  matplotlib-base    pkgs/main/osx-64::matplotlib-base-3.3.2-py38h181983e_0\n",
      "  olefile            pkgs/main/noarch::olefile-0.46-py_0\n",
      "  pillow             pkgs/main/osx-64::pillow-8.0.1-py38h5270095_0\n",
      "  pyparsing          pkgs/main/noarch::pyparsing-2.4.7-py_0\n",
      "  python-dateutil    pkgs/main/noarch::python-dateutil-2.8.1-py_0\n",
      "  tornado            pkgs/main/osx-64::tornado-6.0.4-py38h1de35cc_1\n",
      "  zstd               pkgs/main/osx-64::zstd-1.4.5-h41d2c2f_0\n",
      "\n",
      "\n",
      "\n",
      "Downloading and Extracting Packages\n",
      "zstd-1.4.5           | 442 KB    | #################################### | 100% \n",
      "kiwisolver-1.3.0     | 51 KB     | #################################### | 100% \n",
      "cycler-0.10.0        | 14 KB     | #################################### | 100% \n",
      "matplotlib-3.3.2     | 24 KB     | #################################### | 100% \n",
      "olefile-0.46         | 33 KB     | #################################### | 100% \n",
      "libpng-1.6.37        | 262 KB    | #################################### | 100% \n",
      "pyparsing-2.4.7      | 65 KB     | #################################### | 100% \n",
      "pillow-8.0.1         | 584 KB    | #################################### | 100% \n",
      "matplotlib-base-3.3. | 5.1 MB    | #################################### | 100% \n",
      "freetype-2.10.4      | 564 KB    | #################################### | 100% \n",
      "jpeg-9b              | 201 KB    | #################################### | 100% \n",
      "lcms2-2.11           | 278 KB    | #################################### | 100% \n",
      "libtiff-4.1.0        | 405 KB    | #################################### | 100% \n",
      "python-dateutil-2.8. | 215 KB    | #################################### | 100% \n",
      "tornado-6.0.4        | 602 KB    | #################################### | 100% \n",
      "lz4-c-1.9.2          | 130 KB    | #################################### | 100% \n",
      "Preparing transaction: ...working... done\n",
      "Verifying transaction: ...working... done\n",
      "Executing transaction: ...working... done\n"
     ]
    },
    {
     "name": "stderr",
     "output_type": "stream",
     "text": [
      "┌ Info: Installing pyqt package to avoid buggy tkagg backend.\n",
      "└ @ PyPlot /Users/manideepbangaru/.julia/packages/PyPlot/XHEG0/src/init.jl:118\n",
      "┌ Info: Installing PyQt5 via the Conda pyqt package...\n",
      "└ @ PyCall /Users/manideepbangaru/.julia/packages/PyCall/BcTLp/src/PyCall.jl:708\n",
      "┌ Info: Running `conda install -y pyqt` in root environment\n",
      "└ @ Conda /Users/manideepbangaru/.julia/packages/Conda/x5ml4/src/Conda.jl:115\n"
     ]
    },
    {
     "name": "stdout",
     "output_type": "stream",
     "text": [
      "Collecting package metadata (current_repodata.json): ...working... done\n",
      "Solving environment: ...working... done\n",
      "\n",
      "## Package Plan ##\n",
      "\n",
      "  environment location: /Users/manideepbangaru/.julia/conda/3\n",
      "\n",
      "  added / updated specs:\n",
      "    - pyqt\n",
      "\n",
      "\n",
      "The following packages will be downloaded:\n",
      "\n",
      "    package                    |            build\n",
      "    ---------------------------|-----------------\n",
      "    dbus-1.13.18               |       h18a8e69_0         445 KB\n",
      "    expat-2.2.10               |       hb1e8313_2         110 KB\n",
      "    gettext-0.19.8.1           |       hb0f4f8b_2         2.7 MB\n",
      "    glib-2.66.1                |       h9bbe63b_0         2.7 MB\n",
      "    icu-58.2                   |       h0a44026_3        10.1 MB\n",
      "    libiconv-1.16              |       h1de35cc_0         693 KB\n",
      "    pcre-8.44                  |       hb1e8313_0         185 KB\n",
      "    pyqt-5.9.2                 |   py38h655552a_2         3.6 MB\n",
      "    qt-5.9.7                   |       h468cd18_1        62.0 MB\n",
      "    sip-4.19.8                 |   py38h0a44026_0         239 KB\n",
      "    ------------------------------------------------------------\n",
      "                                           Total:        82.7 MB\n",
      "\n",
      "The following NEW packages will be INSTALLED:\n",
      "\n",
      "  dbus               pkgs/main/osx-64::dbus-1.13.18-h18a8e69_0\n",
      "  expat              pkgs/main/osx-64::expat-2.2.10-hb1e8313_2\n",
      "  gettext            pkgs/main/osx-64::gettext-0.19.8.1-hb0f4f8b_2\n",
      "  glib               pkgs/main/osx-64::glib-2.66.1-h9bbe63b_0\n",
      "  icu                pkgs/main/osx-64::icu-58.2-h0a44026_3\n",
      "  libiconv           pkgs/main/osx-64::libiconv-1.16-h1de35cc_0\n",
      "  pcre               pkgs/main/osx-64::pcre-8.44-hb1e8313_0\n",
      "  pyqt               pkgs/main/osx-64::pyqt-5.9.2-py38h655552a_2\n",
      "  qt                 pkgs/main/osx-64::qt-5.9.7-h468cd18_1\n",
      "  sip                pkgs/main/osx-64::sip-4.19.8-py38h0a44026_0\n",
      "\n",
      "\n",
      "\n",
      "Downloading and Extracting Packages\n",
      "expat-2.2.10         | 110 KB    | #################################### | 100% \n",
      "glib-2.66.1          | 2.7 MB    | #################################### | 100% \n",
      "sip-4.19.8           | 239 KB    | #################################### | 100% \n",
      "pyqt-5.9.2           | 3.6 MB    | #################################### | 100% \n",
      "libiconv-1.16        | 693 KB    | #################################### | 100% \n",
      "dbus-1.13.18         | 445 KB    | #################################### | 100% \n",
      "qt-5.9.7             | 62.0 MB   | ##################9                  |  53% "
     ]
    }
   ],
   "source": [
    "using PyPlot"
   ]
  },
  {
   "cell_type": "code",
   "execution_count": null,
   "metadata": {},
   "outputs": [],
   "source": [
    "using GLM"
   ]
  },
  {
   "cell_type": "code",
   "execution_count": null,
   "metadata": {},
   "outputs": [],
   "source": []
  }
 ],
 "metadata": {
  "kernelspec": {
   "display_name": "Julia 1.5.2",
   "language": "julia",
   "name": "julia-1.5"
  },
  "language_info": {
   "file_extension": ".jl",
   "mimetype": "application/julia",
   "name": "julia",
   "version": "1.5.2"
  }
 },
 "nbformat": 4,
 "nbformat_minor": 4
}
