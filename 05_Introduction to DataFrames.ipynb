{
 "cells": [
  {
   "cell_type": "markdown",
   "metadata": {},
   "source": [
    "## Setup the environment"
   ]
  },
  {
   "cell_type": "code",
   "execution_count": 13,
   "metadata": {},
   "outputs": [
    {
     "data": {
      "text/plain": [
       "v\"1.5.2\""
      ]
     },
     "execution_count": 13,
     "metadata": {},
     "output_type": "execute_result"
    }
   ],
   "source": [
    "VERSION"
   ]
  },
  {
   "cell_type": "code",
   "execution_count": 14,
   "metadata": {},
   "outputs": [
    {
     "data": {
      "text/plain": [
       "\"/Users/manideepbangaru/Documents/Julia-Journey\""
      ]
     },
     "execution_count": 14,
     "metadata": {},
     "output_type": "execute_result"
    }
   ],
   "source": [
    "pwd()"
   ]
  },
  {
   "cell_type": "code",
   "execution_count": 15,
   "metadata": {},
   "outputs": [
    {
     "data": {
      "text/plain": [
       "2-element BitArray{1}:\n",
       " 1\n",
       " 1"
      ]
     },
     "execution_count": 15,
     "metadata": {},
     "output_type": "execute_result"
    }
   ],
   "source": [
    "isfile.([\"Project.toml\",\"Manifest.toml\"])"
   ]
  },
  {
   "cell_type": "code",
   "execution_count": 16,
   "metadata": {},
   "outputs": [
    {
     "name": "stdout",
     "output_type": "stream",
     "text": [
      "\u001b[32m\u001b[1mStatus\u001b[22m\u001b[39m `~/Documents/Julia-Journey/Project.toml`\n",
      " \u001b[90m [336ed68f] \u001b[39m\u001b[37mCSV v0.6.2\u001b[39m\n",
      " \u001b[90m [a93c6f00] \u001b[39m\u001b[37mDataFrames v0.21.0\u001b[39m\n",
      " \u001b[90m [da1fdf0e] \u001b[39m\u001b[37mFreqTables v0.3.3\u001b[39m\n",
      " \u001b[90m [38e38edf] \u001b[39m\u001b[37mGLM v1.3.9\u001b[39m\n",
      " \u001b[90m [b98c9c47] \u001b[39m\u001b[37mPipe v1.2.0\u001b[39m\n",
      " \u001b[90m [d330b81b] \u001b[39m\u001b[37mPyPlot v2.9.0\u001b[39m\n"
     ]
    }
   ],
   "source": [
    "] status"
   ]
  },
  {
   "cell_type": "code",
   "execution_count": 12,
   "metadata": {},
   "outputs": [
    {
     "name": "stderr",
     "output_type": "stream",
     "text": [
      "\u001b[32m\u001b[1m  Installed\u001b[22m\u001b[39m Missings ───────────────────── v0.4.3\n",
      "\u001b[32m\u001b[1m  Installed\u001b[22m\u001b[39m WeakRefStrings ─────────────── v0.6.2\n",
      "\u001b[32m\u001b[1m  Installed\u001b[22m\u001b[39m Rmath ──────────────────────── v0.6.1\n",
      "\u001b[32m\u001b[1m  Installed\u001b[22m\u001b[39m Conda ──────────────────────── v1.4.1\n",
      "\u001b[32m\u001b[1m  Installed\u001b[22m\u001b[39m StatsModels ────────────────── v0.6.11\n",
      "\u001b[32m\u001b[1m  Installed\u001b[22m\u001b[39m GLM ────────────────────────── v1.3.9\n",
      "\u001b[32m\u001b[1m  Installed\u001b[22m\u001b[39m OpenBLAS_jll ───────────────── v0.3.9+4\n",
      "\u001b[32m\u001b[1m  Installed\u001b[22m\u001b[39m Distributions ──────────────── v0.23.2\n",
      "\u001b[32m\u001b[1m  Installed\u001b[22m\u001b[39m ExprTools ──────────────────── v0.1.1\n",
      "\u001b[32m\u001b[1m  Installed\u001b[22m\u001b[39m Combinatorics ──────────────── v1.0.1\n",
      "\u001b[32m\u001b[1m  Installed\u001b[22m\u001b[39m StatsFuns ──────────────────── v0.9.4\n",
      "\u001b[32m\u001b[1m  Installed\u001b[22m\u001b[39m MacroTools ─────────────────── v0.5.5\n",
      "\u001b[32m\u001b[1m  Installed\u001b[22m\u001b[39m StatsBase ──────────────────── v0.33.0\n",
      "\u001b[32m\u001b[1m  Installed\u001b[22m\u001b[39m DataAPI ────────────────────── v1.3.0\n",
      "\u001b[32m\u001b[1m  Installed\u001b[22m\u001b[39m XML2_jll ───────────────────── v2.9.9+4\n",
      "\u001b[32m\u001b[1m  Installed\u001b[22m\u001b[39m Colors ─────────────────────── v0.12.0\n",
      "\u001b[32m\u001b[1m  Installed\u001b[22m\u001b[39m FillArrays ─────────────────── v0.8.8\n",
      "\u001b[32m\u001b[1m  Installed\u001b[22m\u001b[39m Arpack ─────────────────────── v0.4.0\n",
      "\u001b[32m\u001b[1m  Installed\u001b[22m\u001b[39m Libiconv_jll ───────────────── v1.16.0+2\n",
      "\u001b[32m\u001b[1m  Installed\u001b[22m\u001b[39m ShiftedArrays ──────────────── v1.0.0\n",
      "\u001b[32m\u001b[1m  Installed\u001b[22m\u001b[39m PDMats ─────────────────────── v0.9.12\n",
      "\u001b[32m\u001b[1m  Installed\u001b[22m\u001b[39m FilePathsBase ──────────────── v0.8.0\n",
      "\u001b[32m\u001b[1m  Installed\u001b[22m\u001b[39m OpenSpecFun_jll ────────────── v0.5.3+3\n",
      "\u001b[32m\u001b[1m  Installed\u001b[22m\u001b[39m RecipesBase ────────────────── v1.0.1\n",
      "\u001b[32m\u001b[1m  Installed\u001b[22m\u001b[39m PyPlot ─────────────────────── v2.9.0\n",
      "\u001b[32m\u001b[1m  Installed\u001b[22m\u001b[39m Parsers ────────────────────── v1.0.3\n",
      "\u001b[32m\u001b[1m  Installed\u001b[22m\u001b[39m DataFrames ─────────────────── v0.21.0\n",
      "\u001b[32m\u001b[1m  Installed\u001b[22m\u001b[39m Requires ───────────────────── v1.0.1\n",
      "\u001b[32m\u001b[1m  Installed\u001b[22m\u001b[39m PooledArrays ───────────────── v0.5.3\n",
      "\u001b[32m\u001b[1m  Installed\u001b[22m\u001b[39m CompilerSupportLibraries_jll ─ v0.3.3+0\n",
      "\u001b[32m\u001b[1m  Installed\u001b[22m\u001b[39m NamedArrays ────────────────── v0.9.4\n",
      "\u001b[32m\u001b[1m  Installed\u001b[22m\u001b[39m Arpack_jll ─────────────────── v3.5.0+3\n",
      "\u001b[32m\u001b[1m  Installed\u001b[22m\u001b[39m Intervals ──────────────────── v1.1.0\n",
      "\u001b[32m\u001b[1m  Installed\u001b[22m\u001b[39m InvertedIndices ────────────── v1.0.0\n",
      "\u001b[32m\u001b[1m  Installed\u001b[22m\u001b[39m DataStructures ─────────────── v0.17.15\n",
      "\u001b[32m\u001b[1m  Installed\u001b[22m\u001b[39m Compat ─────────────────────── v3.9.0\n",
      "\u001b[32m\u001b[1m  Installed\u001b[22m\u001b[39m FreqTables ─────────────────── v0.3.3\n",
      "\u001b[32m\u001b[1m  Installed\u001b[22m\u001b[39m Zlib_jll ───────────────────── v1.2.11+9\n",
      "\u001b[32m\u001b[1m  Installed\u001b[22m\u001b[39m PyCall ─────────────────────── v1.91.4\n",
      "\u001b[32m\u001b[1m  Installed\u001b[22m\u001b[39m Pipe ───────────────────────── v1.2.0\n",
      "\u001b[32m\u001b[1m  Installed\u001b[22m\u001b[39m Rmath_jll ──────────────────── v0.2.2+0\n",
      "\u001b[32m\u001b[1m  Installed\u001b[22m\u001b[39m OrderedCollections ─────────── v1.2.0\n",
      "\u001b[32m\u001b[1m  Installed\u001b[22m\u001b[39m JSON ───────────────────────── v0.21.0\n",
      "\u001b[32m\u001b[1m  Installed\u001b[22m\u001b[39m QuadGK ─────────────────────── v2.3.1\n",
      "\u001b[32m\u001b[1m  Installed\u001b[22m\u001b[39m LaTeXStrings ───────────────── v1.1.0\n",
      "\u001b[32m\u001b[1m  Installed\u001b[22m\u001b[39m Polynomials ────────────────── v0.8.0\n",
      "\u001b[32m\u001b[1m  Installed\u001b[22m\u001b[39m FixedPointNumbers ──────────── v0.8.0\n",
      "\u001b[32m\u001b[1m  Installed\u001b[22m\u001b[39m Mocking ────────────────────── v0.7.1\n",
      "\u001b[32m\u001b[1m  Installed\u001b[22m\u001b[39m Tables ─────────────────────── v1.0.4\n",
      "\u001b[32m\u001b[1m  Installed\u001b[22m\u001b[39m EzXML ──────────────────────── v1.1.0\n",
      "\u001b[32m\u001b[1m  Installed\u001b[22m\u001b[39m CategoricalArrays ──────────── v0.8.0\n",
      "\u001b[32m\u001b[1m  Installed\u001b[22m\u001b[39m SpecialFunctions ───────────── v0.10.0\n",
      "\u001b[32m\u001b[1m  Installed\u001b[22m\u001b[39m TimeZones ──────────────────── v1.1.1\n",
      "\u001b[32m\u001b[1m  Installed\u001b[22m\u001b[39m ColorTypes ─────────────────── v0.10.3\n",
      "\u001b[32m\u001b[1m  Installed\u001b[22m\u001b[39m CSV ────────────────────────── v0.6.2\n",
      "\u001b[32m\u001b[1m   Building\u001b[22m\u001b[39m Conda ────→ `~/.julia/packages/Conda/3rPhK/deps/build.log`\n",
      "\u001b[32m\u001b[1m   Building\u001b[22m\u001b[39m PyCall ───→ `~/.julia/packages/PyCall/zqDXB/deps/build.log`\n",
      "\u001b[32m\u001b[1m   Building\u001b[22m\u001b[39m TimeZones → `~/.julia/packages/TimeZones/X323b/deps/build.log`\n"
     ]
    }
   ],
   "source": [
    "] instantiate"
   ]
  },
  {
   "cell_type": "markdown",
   "metadata": {},
   "source": [
    "## First steps with dataframes"
   ]
  },
  {
   "cell_type": "code",
   "execution_count": null,
   "metadata": {},
   "outputs": [],
   "source": []
  }
 ],
 "metadata": {
  "kernelspec": {
   "display_name": "Julia 1.5.2",
   "language": "julia",
   "name": "julia-1.5"
  },
  "language_info": {
   "file_extension": ".jl",
   "mimetype": "application/julia",
   "name": "julia",
   "version": "1.5.2"
  }
 },
 "nbformat": 4,
 "nbformat_minor": 4
}
